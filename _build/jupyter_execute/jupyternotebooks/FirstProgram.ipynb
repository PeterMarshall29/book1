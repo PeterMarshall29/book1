{
 "cells": [
  {
   "cell_type": "markdown",
   "id": "b57c6a6c",
   "metadata": {},
   "source": [
    "# First C++ Program\n",
    "\n",
    "Type the following code into the empty code window below.\n",
    "Please type the code exactly as shown. \n",
    "TIP computers cannot correct your mistakes for you!! \n",
    "\n",
    "\n",
    "```{code-block} cpp\n",
    ":linenos: \n",
    ":emphasize-lines: 4\n",
    ":name: codea1\n",
    ":caption: Hello World program\n",
    "\n",
    "#include <iostream>\n",
    "int main()\n",
    "{\n",
    "\tstd :: cout << \"Hello, World!\\n\";\n",
    "\treturn 0;\n",
    "}\n",
    "```\n",
    "\n",
    "In {ref}`Code 1<codea1>` the highlighted statement is the code that the programmer actually wants implemented - everything else is ..."
   ]
  },
  {
   "cell_type": "code",
   "execution_count": null,
   "id": "5893afa1",
   "metadata": {
    "caption": "Hello World program",
    "emphasize-lines": 4,
    "linenos": null,
    "name": "codea2",
    "tags": [
     "skip-execution"
    ]
   },
   "outputs": [],
   "source": [
    "#include <iostream>\n",
    "int main()\n",
    "{\n",
    "\tstd :: cout << \"Hello, World!\\n\";\n",
    "\treturn 0;\n",
    "}"
   ]
  },
  {
   "cell_type": "markdown",
   "id": "bd3fc0b9",
   "metadata": {},
   "source": [
    "In {ref}`Code 2<codea2>` the highlighted statement is the code that the programmer actually wants implemented - everything else is ...\n",
    "\n",
    "\n",
    "```{tip}\n",
    ":class: margin\n",
    "To run a code block that has been edited, select the block (mouse click inside it), then simulaneously press {kbd}`Shift` + {kbd}`Enter`. \n",
    "```"
   ]
  },
  {
   "cell_type": "code",
   "execution_count": 1,
   "id": "4aa2e273",
   "metadata": {},
   "outputs": [
    {
     "data": {
      "text/markdown": [
       "Hello, World!\r\n",
       "\r\n"
      ]
     },
     "metadata": {},
     "output_type": "display_data"
    }
   ],
   "source": [
    "#include <iostream>\n",
    "int main()\n",
    "{\n",
    "\tstd :: cout << \"Hello, World!\\n\";\n",
    "\treturn 0;\n",
    "}"
   ]
  },
  {
   "cell_type": "markdown",
   "id": "1044c8e7",
   "metadata": {},
   "source": [
    "````{exercise} \n",
    ":class: dropdown\n",
    ":label: exercisea1\n",
    "Try making the following changes to the above code - note what happens.\n",
    "\n",
    "1. Remove `std::` from line 3.\n",
    "2. Replace the angle brackets `<>` in the first line with speechmarks `\"\"`.\n",
    "2. Change the returned value from 0 to 1.\n",
    "3. Remove the return line.\n",
    "\n",
    "Add or remove spaces anywhere in your code and run the code again. \\\n",
    "Or try somthing else\\\n",
    "or something other\n",
    "\n",
    "```{solution} exercisea1 \n",
    ":class: hint dropdown\n",
    ":label: solutiona1\n",
    "\n",
    "1. `cout` is not part of the c++ core language and comes instead from the **Standard Library**. `std::` denotes the namespace that `cout` belongs to (similar to a folder designation, provided you have included it). \n",
    "2. To include components of the standard library angle brackets `<>` are used, but we can also include additional code written by the programmer in header files, which are named in speechmarks `\"\"`.\n",
    "3. \n",
    "4. \n",
    "```\n",
    "````\n",
    "\n",
    "```{seealso}\n",
    ":class: margin\n",
    "More on the structure of the C++ language can be found {doc}`here <../jupyternotebooks/codingtheory1>`\n",
    "```\n",
    "\n",
    "\n",
    "\n",
    "\n",
    "`````{exercise-start}\n",
    ":label: exercisea2\n",
    "`````\n",
    "This code is incorrect. Alter the code so that it runs without error and prints your name."
   ]
  },
  {
   "cell_type": "code",
   "execution_count": 2,
   "id": "9ef69b3c",
   "metadata": {
    "tags": [
     "remove-output"
    ]
   },
   "outputs": [
    {
     "name": "stderr",
     "output_type": "stream",
     "text": [
      "C:\\Users\\Peter\\AppData\\Local\\Temp\\tmpzk3j4jg8.cpp:3:1: error: 'include' does not name a type\n",
      "    3 | include \"iostreams\"\n",
      "      | ^~~~~~~\n"
     ]
    },
    {
     "name": "stderr",
     "output_type": "stream",
     "text": [
      "\n",
      "[C++ kernel] Error: Unable to compile the source code. Return error: 0x1."
     ]
    }
   ],
   "source": [
    "include \"iostreams\"\n",
    "main(){\n",
    "cout << \"my name is, \\n\"\n",
    "return \"Peter\";\n",
    "}"
   ]
  },
  {
   "cell_type": "markdown",
   "id": "741160e2",
   "metadata": {},
   "source": [
    "````{solution} exercisea2\n",
    ":class: hint dropdown\n",
    ":label: solutiona2\n",
    "```{code} cpp\n",
    "#include <iostream>\n",
    "int main()\n",
    "{\n",
    "\tstd :: cout << \"Hello, World!\\n\";\n",
    "\treturn 0;\n",
    "}\n",
    "```\n",
    "````\n",
    "`````{exercise-end}\n",
    "`````\n",
    "\n",
    "\n",
    "\n",
    "\n",
    "\n",
    "````{admonition} Exercise\n",
    ":class: dropdown tip\n",
    "Add or remove spaces anywhere in your code and run the code again. \\\n",
    "Or try somthing else\\\n",
    "or something other\n",
    "\n",
    "```{admonition} Solutions \n",
    ":class: dropdown hint\n",
    "1. answer 1\n",
    "2. answer 2\n",
    "- list q\n",
    "- list b\n",
    "```\n",
    "````"
   ]
  }
 ],
 "metadata": {
  "jupytext": {
   "formats": "md:myst",
   "text_representation": {
    "extension": ".md",
    "format_name": "myst"
   }
  },
  "kernelspec": {
   "display_name": "C++ 20",
   "language": "c++",
   "name": "cpp20"
  },
  "language_info": {
   "file_extension": ".cpp",
   "mimetype": "text/x-c++src",
   "name": "C++",
   "version": "1.0.0a9"
  },
  "source_map": [
   11,
   36,
   48,
   58,
   65,
   104,
   111
  ]
 },
 "nbformat": 4,
 "nbformat_minor": 5
}