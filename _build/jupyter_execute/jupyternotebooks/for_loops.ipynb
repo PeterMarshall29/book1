{
 "cells": [
  {
   "cell_type": "markdown",
   "id": "521d3f91",
   "metadata": {},
   "source": [
    "(for)=\n",
    "# For loops\n",
    "```{note}\n",
    ":class: margin\n",
    "{attribution=\"Zeno of Elea\" }\n",
    "> What has been said once can always be repeated.\n",
    "```\n",
    "The {term}`for-statement` conditionally executes a statement, or code block, repeatedly; also known as the {term}`for-loop`, and is the most frequently used and important iteration control structure in C++.\n",
    "````{admonition} The Syntax of the For-Statement\n",
    "```{code-block} c++\n",
    "for ( loop_variable_declaration_and_initialisation    ; \n",
    "      condition_to_continue_the_loop                  ; \n",
    "      end_of_iteration_expression ) { code_to_be_executed_every_loop }\n",
    "```\n",
    "````\n",
    "The three statements in parentheses are the arguments of the for-statement and collectively manage its behaviour.  \n",
    "\n",
    "```{list-table}\n",
    ":header-rows: 1\n",
    ":name: example_table_3\n",
    "* - Generic Flowchart\n",
    "  - Example Flowchart\n",
    "* - ```{mermaid}\n",
    "    :align: center\n",
    "    :zoom:\n",
    "    flowchart TB\n",
    "      A([\"Start\"]) --> B[/\"Input/output\"/]\n",
    "      B --> C[\"Process\"]\n",
    "      C --> D{\"Decision\"}\n",
    "      D -- Condition 1 --> E[\"Process\"]\n",
    "      D -- Condition 2 --> F[/\"Input/output\"/]\n",
    "      F --> G[\"Process\"]\n",
    "      G --> D\n",
    "      E --> H[/\"output\"/]\n",
    "      H --> I([\"End\"])\n",
    "      A:::Rose\n",
    "      B:::Rose\n",
    "      C:::Rose\n",
    "      D:::Rose\n",
    "      E:::Rose\n",
    "      F:::Rose\n",
    "      G:::Rose\n",
    "      H:::Rose\n",
    "      I:::Rose\n",
    "      classDef Rose stroke-width:1px, stroke-dasharray:none, stroke:#FF5978, fill:#FFDFE5, color:#8E2236\n",
    "      linkStyle 0 stroke:#AA00FF,fill:none\n",
    "      linkStyle 1 stroke:#AA00FF,fill:none\n",
    "      linkStyle 2 stroke:#AA00FF,fill:none\n",
    "      linkStyle 3 stroke:#AA00FF,fill:none\n",
    "      linkStyle 4 stroke:#AA00FF,fill:none\n",
    "      linkStyle 5 stroke:#AA00FF,fill:none\n",
    "      linkStyle 6 stroke:#AA00FF,fill:none\n",
    "      linkStyle 7 stroke:#AA00FF,fill:none\n",
    "      linkStyle 8 stroke:#AA00FF\n",
    "    ```\n",
    "  - ```{mermaid}\n",
    "    :align: center\n",
    "    :zoom:\n",
    "    flowchart TB\n",
    "      A([\"Start\"]) --> B[/\"`Output: \n",
    "        Request for Input\n",
    "          Input from User`\"/]\n",
    "      B --> C[\"Format Input\"]\n",
    "      C --> D{\"'Check Input:\n",
    "          1. Exist\n",
    "          2. Correct Format`\"}\n",
    "      D -- Both True --> E[\"Process Input\"]\n",
    "      D -- Either/both False --> F[/\"`Output: \n",
    "          1. Inform User of Problem\n",
    "          2. Request Correct Input\n",
    "          3. Input from User`\"/]\n",
    "      F --> G[\"Format Input\"]\n",
    "      G --> D\n",
    "      E --> H[/\"Output Result\"/]\n",
    "      H --> I([\"End\"])\n",
    "      A:::Class_01\n",
    "      B:::Class_01\n",
    "      C:::Class_01\n",
    "      D:::Class_01\n",
    "      E:::Class_01\n",
    "      F:::Class_01\n",
    "      G:::Class_01\n",
    "      H:::Class_01\n",
    "      I:::Class_01\n",
    "      classDef Class_01 fill:#AA00FF, stroke:#2962FF, color:#000000\n",
    "      linkStyle 0 stroke:#AA00FF,fill:none\n",
    "      linkStyle 1 stroke:#AA00FF,fill:none\n",
    "      linkStyle 2 stroke:#AA00FF,fill:none\n",
    "      linkStyle 3 stroke:#AA00FF,fill:none\n",
    "      linkStyle 4 stroke:#AA00FF,fill:none\n",
    "      linkStyle 5 stroke:#AA00FF,fill:none\n",
    "      linkStyle 6 stroke:#AA00FF,fill:none\n",
    "      linkStyle 7 stroke:#AA00FF,fill:none\n",
    "      linkStyle 8 stroke:#AA00FF\n",
    "    ```\n",
    "```\n",
    "\n",
    "``````{code_example-start} \n",
    ":label: examples1\n",
    ":class: dropdown\n",
    "``````\n",
    "Start the live code editor, complete the program, and run this code.\n",
    "`````{code-block} c++\n",
    ":linenos: \n",
    ":emphasize-lines: 2\n",
    ":name: codes1\n",
    ":caption: For Loop Template\n",
    "for (int i = 0; i < 10; ++i) {\n",
    "std::cout << i << \"\\t\" << i * i << \"\\n\";\n",
    "}\n",
    "`````\n",
    "The highlighted code statements are repeated as many times as required by the `for-statement`."
   ]
  },
  {
   "cell_type": "code",
   "execution_count": null,
   "id": "60fe04b3",
   "metadata": {
    "tags": [
     "remove-output",
     "skip-execution"
    ]
   },
   "outputs": [],
   "source": [
    "Type code here..."
   ]
  },
  {
   "cell_type": "markdown",
   "id": "baf7dcce",
   "metadata": {},
   "source": [
    "Because the for-statement {term}`loop-variable` has been included in this statement, the value printed to the output stream will be different in every iteration.\n",
    "`````{code_explanation} examples1\n",
    ":label: explanations1\n",
    ":class: dropdown note\n",
    "````{card}\n",
    "The syntax for this example shows the most common pattern for a for-statement loop:\n",
    "```{code-block} c++\n",
    "for (int i = 0; i < 100; ++i) {\n",
    "**Code statements to be executed each time the loop runs go here** \n",
    "}\n",
    "```\n",
    "The 3 semicolon delimited terms in parentheses control the operation of the for-loop.\n",
    "````\n",
    "````{card}\n",
    "```{code-block} c++ \n",
    "int i = 0;\n",
    "```\n",
    "The first argument is the for-statement initialiser. \n",
    "\n",
    "This statement names a loop-variable `i` and initialises it with a value of `0`.\n",
    "\n",
    "The loop variable is local to the for-statement and can be used in the code-block. No other variable called `i` may be used inside the for-statement code block.\n",
    "````\n",
    "````{card}\n",
    "```{code-block} c++\n",
    " i < 100;\n",
    "```\n",
    "The second argument is the for-statement condition. \n",
    "\n",
    "The for-loop runs until this condition becomes false, repeating the code-block each time.\n",
    "\n",
    "The condition must be an expression that returns a Boolean, and it must be true on the first loop - or the program exits the loop.\n",
    "\n",
    "If the condition is empty, it evaluates to `true`, so the loop runs. \n",
    "````\n",
    "````{card}\n",
    "```{code-block} c++\n",
    "++i;\n",
    "```\n",
    "The third and final argument is the for-statement increment. \n",
    "\n",
    "***After*** executing the for-statement's code block, the loop-variable is increased or decreased according to this instruction. The increment/decrement can be by any constant amount. \n",
    "````\n",
    "`````\n",
    "``````{code_example-end}\n",
    "``````\n",
    "`````{code_example-start} \n",
    ":label: examples2\n",
    ":class: dropdown\n",
    "`````\n",
    "It is bad practice, and a common mistake, to increment the loop-variable within the execution block; this should only be done for a good reason.\n",
    "\n",
    "In programming it is always better to separate concerns. In this case it is better to leave control to the loop arguments.\n",
    "\n",
    "When the loop variable increment instruction appears in both the code-block and the for-statement argument - both increment instructions are implemented in each loop.\n",
    "\n",
    "The instructions are also implemented in sequence and can result in two different values being used for the loop-variable in a single iteration."
   ]
  },
  {
   "cell_type": "code",
   "execution_count": null,
   "id": "87e904ae",
   "metadata": {
    "tags": [
     "remove-output",
     "skip-execution"
    ]
   },
   "outputs": [],
   "source": [
    "int main() {\n",
    "  for (int x = 0; x<50; ++x) {  // for i in the half-open range 0 to less than 50 `[0:50)` \n",
    "    cout << x << '\\t';\n",
    "    ++x;                     // Forces loop variable to be incremented twice on each iteration!!\n",
    "    }\n",
    "  return 0;\n",
    "}"
   ]
  },
  {
   "cell_type": "markdown",
   "id": "ece6951b",
   "metadata": {},
   "source": [
    "`````{code_example-end}\n",
    "`````\n",
    "\n",
    "\n",
    "(forever)=\n",
    "## Forever\n",
    "The for-statement parentheses may not be empty - the compiler will not permit it. \n",
    "\n",
    "The minimum argument to a for-statement is `(;;)`.\n",
    "\n",
    "`for(;;){}` is a way to specify an infinite loop; sometimes called a ‘for-ever statement’..\n",
    "\n",
    "````{code_example-start} \n",
    ":label: examples3\n",
    ":class: dropdown\n",
    "````"
   ]
  },
  {
   "cell_type": "code",
   "execution_count": 1,
   "id": "bc06f23d",
   "metadata": {},
   "outputs": [
    {
     "data": {
      "text/markdown": [
       "Loop ran once because 'break' was included! \r\n",
       "\r\n"
      ]
     },
     "metadata": {},
     "output_type": "display_data"
    }
   ],
   "source": [
    "int main()\n",
    "{\n",
    "    for (;;) {\n",
    "        std::cout << \"Loop ran once because 'break' was included! \\n\";\n",
    "        break;\n",
    "    }\n",
    "    return 0;\n",
    "}"
   ]
  },
  {
   "cell_type": "markdown",
   "id": "8d554a43",
   "metadata": {},
   "source": [
    "````{code_example-end}\n",
    "````\n",
    "This code behaves identically to `while(true){}`.\n",
    "## Single Commands\n",
    "If there is only a single statement i.e. not a whole code block of statements, then the statement can simply be placed after for-statement, and closed with `;`.\n",
    "````{code_example-start} \n",
    ":label: examples4\n",
    ":class: dropdown\n",
    "````"
   ]
  },
  {
   "cell_type": "code",
   "execution_count": 2,
   "id": "b0cc6f9c",
   "metadata": {},
   "outputs": [
    {
     "data": {
      "text/markdown": [
       "0"
      ]
     },
     "metadata": {},
     "output_type": "display_data"
    },
    {
     "data": {
      "text/markdown": [
       "\t1\t2\t3\t4\t5\t6\t7\t8\t9\t"
      ]
     },
     "metadata": {},
     "output_type": "display_data"
    }
   ],
   "source": [
    "#include <iostream>\n",
    "int main() {\n",
    "  for (int i = 0; i < 10; ++i) std::cout << i << '\\t';\n",
    "  return 0;\n",
    "}"
   ]
  },
  {
   "cell_type": "markdown",
   "id": "c67e73bf",
   "metadata": {},
   "source": [
    "````{code_example-end}\n",
    "````\n",
    "## For-statement - Multiple Loop-Variables\n",
    "The for-statement can only initialise more than one loop-variable, the final expression can affect both, and the condition can take account of both values. For example: \n",
    "````{code_example-start} \n",
    ":label: examples5\n",
    ":class: dropdown \n",
    "````"
   ]
  },
  {
   "cell_type": "code",
   "execution_count": 3,
   "id": "3897b842",
   "metadata": {},
   "outputs": [
    {
     "data": {
      "text/markdown": [
       "0\t10\r\n",
       "\r\n",
       "1\t9\r\n",
       "\r\n",
       "2\t8\r\n",
       "\r\n",
       "3\t7\r\n",
       "\r\n",
       "4\t6\r\n",
       "\r\n"
      ]
     },
     "metadata": {},
     "output_type": "display_data"
    }
   ],
   "source": [
    "int main()\n",
    "{\n",
    "    for (int x = 0, y = 10; x < 5 && y > 5; ++x, --y) std::cout << x << '\\t' << y << '\\n';\n",
    "    return 0;\n",
    "}"
   ]
  },
  {
   "cell_type": "markdown",
   "id": "b5d67c77",
   "metadata": {},
   "source": [
    "After each iteration, x is incremented and y decremented by one each. The condition uses the logical `AND` operator `&&` to required two conditions to be true at the same time.\n",
    "````{code_example-end}\n",
    "````\n",
    "\n",
    "## Comparison to While Loops and Functions\n",
    "\n",
    "`````{code_example-start} \n",
    ":label: examples6\n",
    ":class: dropdown\n",
    "`````\n",
    "Run the following code - showing a for-statement, a while-statement, and a recursive function doing the same thing."
   ]
  },
  {
   "cell_type": "code",
   "execution_count": 4,
   "id": "5dfb63b2",
   "metadata": {
    "tags": [
     "remove-output"
    ]
   },
   "outputs": [
    {
     "data": {
      "text/markdown": [
       "0\t1\t2\t3\t4\t5\t6\t7\t8\t9\t10\t\r\n",
       "\r\n",
       "0\t1\t2\t3\t4\t5\t6\t7\t8\t9\t10\t\r\n",
       "\r\n",
       "0\t1\t2\t3\t4\t5\t6\t7\t8\t9\t10\t"
      ]
     },
     "metadata": {},
     "output_type": "display_data"
    }
   ],
   "source": [
    "#include <iostream>\n",
    "\n",
    "void loopFunction(int loopVariable, int exitValue) {\n",
    "    if (loopVariable <= exitValue) {    //checks loop condition\n",
    "        std::cout << loopVariable << '\\t';\n",
    "        loopFunction(++loopVariable, exitValue); //function calls itself\n",
    "    }\n",
    "}\n",
    "int main() {\n",
    "    for (int loopVariable = 0; loopVariable <= 10; ++loopVariable) std::cout << loopVariable << '\\t';\n",
    "    std::cout << '\\n';\n",
    "    int loopVariable = 0;\n",
    "    int exitValue = 10;\n",
    "    while (loopVariable <= exitValue) { // Check the termination condition\n",
    "        std::cout << loopVariable << '\\t'; //execute code block\n",
    "        ++loopVariable; // Increment the loop-variable\n",
    "    }\n",
    "    std::cout << '\\n';\n",
    "    loopFunction(0, 10); //Call function - recursion\n",
    "    return 0;\n",
    "}"
   ]
  },
  {
   "cell_type": "markdown",
   "id": "96540657",
   "metadata": {},
   "source": [
    "`````{code_example-end}\n",
    "`````\n",
    "## For-Statements - More on the Syntax\n",
    "``````{syntax-start}  For-Statements\n",
    ":label: examples11\n",
    ":class: dropdown \n",
    ":nonumber: \n",
    "``````\n",
    "Extending the syntax rules for the `for-statement`.\n",
    "****\n",
    "````{card} Initialisation Statement\n",
    "The initialisation statement creates a new variable and initialises its value – this variable is used to control the loop and later the execution of the code in the code block, and is called the `loop-variable`, or loop-counter, and similar terms.\n",
    "The initialisation statement is only executed once, before the iterations, if any, begin.\n",
    "More than one loop-variable can be initialised in the initialisation statement, and if no initialisation is required it may be left as a null statement, i.e. just the `;`. \n",
    "````\n",
    "````{card} The Loop-Variable\n",
    "The loop variable is local to the for-statement, can be used in the code-block, but cannot be shadowed (you may not declare another variable called `i` inside the code-block).\n",
    "The loop variable cannot be shadowed - another variable with the same name cannot be declared inside the for-statement’s code block. For example:\n",
    "```{code-block} c++\n",
    "int main() {\n",
    "    for (int i = 0 ; ; ) {\n",
    "        double i = 1;   //  invalid in C++\n",
    "    }\n",
    "    return 0; \n",
    "}\n",
    "```\n",
    "If the final value of the loop-variable is needed by the program, then the loop-variable must be\n",
    "declared before the for-statement.  \n",
    "````\n",
    "````{card} Condition\n",
    "The condition is an expression which is evaluated at the start of each iteration – the code block is only executed if the condition evaluates to true. \n",
    "The condition must therefore always yield a `Bool`. \n",
    "The condition is not optional but may be empty, i.e. just the second `;`. \n",
    "An `empty condition` evaluates to `true`; causing the code- block to repeat forever, unless there is a `break` statement.\n",
    "````\n",
    "````{card} Increment Expression\n",
    "The third argument is usually an expression that increment/decrements the loop-variable; however it can be any statement that is required to run once after the code block in each iteration. \n",
    "The increment statement controls change to the loop-variable that is implemented following each execution of the code-block.\n",
    "Without the increment, the loop could run forever; however, the condition can also be changed from within the code-block.\n",
    "````\n",
    "````{Card}  Code-Block\n",
    "The code-block usually has no effect on the loop condition (best practice) but it does often utilise the loop variable to change what happens on each iteration.\n",
    "The code-block could of course be a single statement.\n",
    "````\n",
    "````{card} Break out of Loop, or out of Current Increment\n",
    "Inside the code-block: \n",
    "•\t`break` causes the programme to exit the for-statement and continue with the next statement following it.\n",
    "•\t`continue` causes the loop to skip to the next iteration\n",
    "Both would normally be placed inside a selection statement nested inside the loop.\n",
    "An empty statement evaluates to true. Therefore, the code block repeats forever, unless there is a `break` statement.\n",
    "````\n",
    "````{card} Additional Options\n",
    "The initialisation statement can also be any other statement that will only be executed once.\n",
    "Instead of a conditional expression, the condition may be a simple declaration if it yields a `bool`. For example:\n",
    "```{code-block} c++\n",
    "int main() {\n",
    "int n = 0;\n",
    "for (std::cout << \"Begin Loop \\n\";  std::cout << \"Iteration\";  std::cout << ++n << '\\n') {\n",
    "    if (n > 3) { \n",
    "        std::cout << \"... Ended by Break! \\n\";\n",
    "        break;\n",
    "    }\n",
    "}\n",
    "return 0;\n",
    "}\n",
    "```\n",
    "In the above code, the initialisation statement only outputs \"begin loop\".\n",
    "The condition is a declaration, if `std::cout << \"Iteration\"` succeeds, it returns `true`, and the loop continues.\n",
    "The final statement includes an increment expression inside an output steam statement.\n",
    "\n",
    "The third statement can be any statement that is required to run once after the code block in each iteration. For example:\n",
    "```{code-block} c++\n",
    "int main()\n",
    "{\n",
    "    for (int i = 0; i < 1; std::cout << \"Loop goes back to check condition\") {\n",
    "        std::cout << \"Loop ran once \\n\";\n",
    "        ++i;\n",
    "    }\n",
    "    return 0;\n",
    "}\n",
    "```\n",
    "````\n",
    "Full information on [For-statements](https://en.cppreference.com/w/cpp/language/for.html) ca be found in the C++ reference.\n",
    "``````{syntax-end}\n",
    "``````\n",
    "## Using `auto`\n",
    "\n",
    "It is not always obvious what is the right type to use for a controlled variable in a for-statement, so `auto` often comes in handy:\n",
    "\n",
    "````{code_example} \n",
    ":label: examples7\n",
    ":class: dropdown\n",
    "\n",
    "for (auto p = begin(c); c!=end(c); ++p) {\n",
    "// ... use iterator p for elements in container c ...\n",
    "}\n",
    "````\n",
    "## Iteration with `vector`\n",
    "```{warning}\n",
    "The next sections require you to have read the chapter on [vectors](vectors).\n",
    "```\n",
    "````{code_example-start} \n",
    ":label: examples8\n",
    ":class: dropdown\n",
    "````\n",
    "TRY to create and change a vector of zeros."
   ]
  },
  {
   "cell_type": "code",
   "execution_count": 5,
   "id": "65216b21",
   "metadata": {},
   "outputs": [
    {
     "data": {
      "text/markdown": [
       "0"
      ]
     },
     "metadata": {},
     "output_type": "display_data"
    },
    {
     "data": {
      "text/markdown": [
       "0\t01\t52\t03\t04\t05\t"
      ]
     },
     "metadata": {},
     "output_type": "display_data"
    }
   ],
   "source": [
    "#include <iostream>\n",
    "#include <vector>\n",
    "int main() {\n",
    "  std::vector<int> vzeros(6) ;\n",
    "  std::vector<int> v = { 1,2,3,4,5 };\n",
    "  vzeros[2] = 5;\n",
    "    for (int i = 0; i < vzeros.size(); ++i) std::cout << vzeros[i] << i <<\"\\t\";\n",
    "\n",
    "}"
   ]
  },
  {
   "cell_type": "markdown",
   "id": "a475d0eb",
   "metadata": {},
   "source": [
    "````{code_example-end}\n",
    "````\n",
    "````{code_example-start} \n",
    ":label: examples9\n",
    ":class: dropdown\n",
    "````"
   ]
  },
  {
   "cell_type": "code",
   "execution_count": 6,
   "id": "cc5b42de",
   "metadata": {},
   "outputs": [
    {
     "data": {
      "text/markdown": [
       ", 0\t, 1\t, 2\t, 3\t, 4\t, 5\t"
      ]
     },
     "metadata": {},
     "output_type": "display_data"
    }
   ],
   "source": [
    "#include <iostream>\n",
    "#include <vector>\n",
    "\n",
    "int main() {\n",
    "  std::vector<std::string> vEmptyStrings(6);\n",
    "    for (int i = 0; i < vEmptyStrings.capacity(); ++i) std::cout << vEmptyStrings[i]<<\", \" << i << \"\\t\";\n",
    "}"
   ]
  },
  {
   "cell_type": "markdown",
   "id": "4be0a5eb",
   "metadata": {},
   "source": [
    "````{code_example-end}\n",
    "````\n",
    "(range-for)=\n",
    "## Range-For: Traversing a Vector\n",
    "\n",
    "The range for any vector is the half-open sequence [0 : vectorName.size() ) meaning 0 is included, but the last element is `vectorName.size()-1` .\n",
    "\n",
    "A `range-for` loop uses this half-open sequence.\n",
    "````{code_example-start} \n",
    ":label: examples10\n",
    ":class: dropdown\n",
    "````"
   ]
  },
  {
   "cell_type": "code",
   "execution_count": null,
   "id": "ac6fc7d9",
   "metadata": {
    "tags": [
     "remove-output",
     "skip-execution"
    ]
   },
   "outputs": [],
   "source": [
    "std::vector<int> myVector = { 1, 2, 3, 4, 5 };\n",
    "myVector[2] = 5;\n",
    "for (int i : myVector) std::cout << i << \"\\n\";"
   ]
  },
  {
   "cell_type": "markdown",
   "id": "5130debb",
   "metadata": {},
   "source": [
    "The number of iterations equals the number of elements in the vector. \n",
    "The loop-variable takes the value of the nth element during the nth iteration.\n",
    "````{code_example-end}\n",
    "````"
   ]
  }
 ],
 "metadata": {
  "jupytext": {
   "formats": "md:myst",
   "text_representation": {
    "extension": ".md",
    "format_name": "myst"
   }
  },
  "kernelspec": {
   "display_name": "C++ 20",
   "language": "c++",
   "name": "cpp20"
  },
  "language_info": {
   "file_extension": ".cpp",
   "mimetype": "text/markdown",
   "name": "C++",
   "version": "1.0.0a9"
  },
  "source_map": [
   11,
   124,
   127,
   186,
   195,
   212,
   221,
   231,
   237,
   246,
   253,
   266,
   289,
   396,
   406,
   413,
   421,
   434,
   439
  ]
 },
 "nbformat": 4,
 "nbformat_minor": 5
}