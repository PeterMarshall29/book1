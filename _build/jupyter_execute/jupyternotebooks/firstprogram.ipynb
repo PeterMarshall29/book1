{
 "cells": [
  {
   "cell_type": "markdown",
   "id": "6c6d569f",
   "metadata": {},
   "source": [
    "# First C++ Program\n",
    "\n",
    "The first program that most people ever write prints \"Hello, World!\" the first program that most people ever write, because it is traditionally the first one taught - printing words to screen is as simple as it gets, but proves the software is correctly installed.\n",
    "\n",
    "```{Admonition} History of the Hello World Program\n",
    ":class: seealso margin\n",
    "See the [Wiki](https://en.wikipedia.org/wiki/%22Hello,_World!%22_program) page for the history of the \"Hello, world!\" program.\n",
    "```\n",
    "\n",
    "\n",
    "```{tip}\n",
    ":class: margin\n",
    "To run a code block that has been edited, select the block (mouse click inside it), then simulaneously press {kbd}`Shift` + {kbd}`Enter`. \n",
    "```\n",
    "```{code-block} cpp\n",
    ":linenos: \n",
    ":emphasize-lines: 3\n",
    ":name: codea1\n",
    ":caption: Hello World program\n",
    "\n",
    "#include <iostream>\n",
    "int main() {\n",
    "\tstd :: cout << \"Hello, World!\\n\";\n",
    "\treturn 0;\n",
    "}\n",
    "```\n",
    "Type the following code into the empty code window below.\n",
    "\n",
    "Please type the code exactly as shown - the code will fail if you have any mistakes in the syntax. \n",
    "\n",
    "In {ref}`Code 1<codea1>` the highlighted statement is the code that the programmer actually wanted implemented - everything else is require for all C++ programmes just to work."
   ]
  },
  {
   "cell_type": "code",
   "execution_count": 1,
   "id": "eea194a0",
   "metadata": {
    "tags": [
     "remove-output"
    ]
   },
   "outputs": [
    {
     "name": "stderr",
     "output_type": "stream",
     "text": [
      "C:\\Users\\Peter\\AppData\\Local\\Temp\\tmpz2tdn17_.cpp: In function 'int main()':\n",
      "C:\\Users\\Peter\\AppData\\Local\\Temp\\tmpz2tdn17_.cpp:4:1: error: 'Type' was not declared in this scope; did you mean 'wctype'?\n",
      "    4 | Type code here!\n",
      "      | ^~~~\n",
      "      | wctype\n"
     ]
    },
    {
     "name": "stderr",
     "output_type": "stream",
     "text": [
      "\n",
      "[C++ kernel] Error: Unable to compile the source code. Return error: 0x1."
     ]
    }
   ],
   "source": [
    "Type code here!"
   ]
  },
  {
   "cell_type": "markdown",
   "id": "2a39d4c1",
   "metadata": {},
   "source": [
    "````{admonition} Code Explanation\n",
    ":class: dropdown\n",
    "```{code-block} c++\n",
    "#include <iostream>\n",
    "```\n",
    "C++ programs rely upon libraries - you will not get far without at least one of these, because they include basic 'facilities' needed such as the code required to allow you to print out a value to the computer.\n",
    "\n",
    "`#include` provide access to the libraries required by your code. It is an instruction that the contents of a header file are copied into the `.cpp` file when the code is compiled.\n",
    "\n",
    "```{tip}\n",
    ":class: dropdown\n",
    "Use `#include <..faciltiy_name_here..>` to include {term}`standard library facilities` and `#include \"<header_file_name.h\"` for user defined {term}`header files`\n",
    "```\n",
    "`<iostream>` is the {term}`standard library facility` containing the functions needed for input and output (writing to the computer screen and accepting input from the keyboard etc..)\n",
    "\n",
    "```{code-block} cpp\n",
    "int main() {\n",
    "**code statements go here**\n",
    "}\n",
    "```\n",
    "`main()` is a {term}`function`.\n",
    "All c++ programs require a `main()` function (or an equivalent).\n",
    "\n",
    "For longer programs that have many functions - the `main()` function is the starting point for the logical implementation of the code.\n",
    "\n",
    "Functions are explained {doc}`here <../jupyternotebooks/introduction_to_functions>`, but you can safely leave this topic until week 2. we will cover functions properly next week. \n",
    "\n",
    "Briefly:\n",
    "- \"main\" is the name of the function.\n",
    "- The empty parentheses (parens) `main()' indicates that the main function takes no inputs.\n",
    "- `main()` returns an integer value `int`, and (usually) the code must make that true.\n",
    "\n",
    "```{code-block} cpp\n",
    "std :: cout << \"Hello, World!\\n\";\n",
    "```\n",
    "`cout` is the code used for writing to screen; pronounced '\" - out\", and called the character output stream.\n",
    "\n",
    "`std` identifes that `cout` is found in the standard library facilities.\n",
    "\n",
    "`::` is the \n",
    "\n",
    "`<<` is the \"write to\" operator (or the \"gets from\" operator, which makes a little more sense when your are typing left to right!).\n",
    "\n",
    "`\"Hello, World!\\n\"` is a `string`. String literals are delimited (bracketed) by `\"\"`; explained {doc}`here <../jupyternotebooks/types>`.\n",
    "\n",
    "`\\n` is an escape character - this escape character tells the computer to print anything after it on a newline. \n",
    "```{code-block} cpp\n",
    "return 0;\n",
    "```\n",
    "The `return` {term}`keyword` specifies what the function produces (returns).\n",
    "\n",
    "If a function definition has declared that a particular type of data (an integer value in this case) will be returned, then whatever comes after the reurn keyword must equate to that type. In this case we just type a value, but a variable or code that yields the required value is more common.\n",
    "\n",
    "````\n",
    "\n",
    "`````{exercise} \n",
    ":class: dropdown\n",
    ":label: exercisea1\n",
    "Try making the following changes to the above code - note what happens.\n",
    "\n",
    "- Remove the semicolon in line 3 or 4. \n",
    "- Remove `std::` from line 3.\n",
    "- Replace the angle brackets `<>` in the first line with speechmarks `\"\"`.\n",
    "- Change the returned value from 0 to 1, and then to a letter.\n",
    "- Remove the return line.\n",
    "- Add some whitespace (spaces) to the code.\n",
    "\n",
    "\n",
    "\n",
    "````{solution} exercisea1 \n",
    ":class: hint dropdown\n",
    ":label: solutiona1\n",
    "\n",
    "- A semicolon is required need at the end of each statement – exceptions `include`, `includes` and after `{` or `}`. \n",
    "- `cout` is not part of the **c++ core language** and comes instead from the **Standard Library**. \n",
    "\n",
    "`std::` denotes the namespace that `cout` belongs to (similar to a folder designation, provided you have included it). \n",
    "- To include components of the standard library angle brackets `<>` are used, but we can also include additional code written by the programmer in {doc}`**header files** <../jupyternotebooks/header_files>`, which are included using speechmarks `\"\"`, i.e. `#include \"myheaderfile.h\"`.\n",
    "```{seealso}\n",
    ":class: dropdown\n",
    "More on the structure of the C++ language can be found {doc}`here <../jupyternotebooks/the_cpp_language>`\n",
    "```\n",
    "- Any number you return is converted to an integer, so a float is fine, but a string literal will cause failure. \n",
    "The returned value is reported to whoever called the function, in the case of main() the system is the caller. In linux the returned value is used to confirm successful termination, 0 indicated success – anything else failure.\n",
    "- This is usually only possible in the main function, but not on every platform.\n",
    "- Whitespace is ignored in C++ - not true in other languages!\n",
    "````\n",
    "`````\n",
    "\n",
    "```{seealso}\n",
    ":class: margin\n",
    "More information about the structure of the [C++ language](#the_cpp_language).\n",
    "```\n",
    "\n",
    "\n",
    "\n",
    "\n",
    "`````{exercise-start}\n",
    ":label: exercisea2\n",
    ":class: dropdown\n",
    "`````\n",
    "This code is incorrect. Correct the mistakes in the syntax so that the code will run and print your name."
   ]
  },
  {
   "cell_type": "code",
   "execution_count": 2,
   "id": "17191754",
   "metadata": {
    "tags": [
     "remove-output"
    ]
   },
   "outputs": [
    {
     "name": "stderr",
     "output_type": "stream",
     "text": [
      "C:\\Users\\Peter\\AppData\\Local\\Temp\\tmpt6ieknde.cpp:3:1: error: 'include' does not name a type\n",
      "    3 | include \"iostreams\"\n",
      "      | ^~~~~~~\n"
     ]
    },
    {
     "name": "stderr",
     "output_type": "stream",
     "text": [
      "\n",
      "[C++ kernel] Error: Unable to compile the source code. Return error: 0x1."
     ]
    }
   ],
   "source": [
    "include \"iostreams\"\n",
    "main(){\n",
    "cout << \"my name is, \\n\"\n",
    "return \"Peter\";\n",
    "}"
   ]
  },
  {
   "cell_type": "markdown",
   "id": "98124213",
   "metadata": {},
   "source": [
    "````{solution} exercisea2\n",
    ":class: note dropdown\n",
    ":label: solutiona2\n",
    "```{code} cpp\n",
    "#include <iostream>\n",
    "int main()\n",
    "{\n",
    "\tstd :: cout << \"Put your name here!\\n\";\n",
    "\treturn 0;\n",
    "}\n",
    "```\n",
    "````\n",
    "`````{exercise-end}\n",
    "`````\n",
    "\n",
    "<!-- :::{admonition} Code Explanation\n",
    ":class: exercise2\n",
    ":icon: false\n",
    "Some Content\n",
    "::: -->\n",
    "\n",
    "\n",
    "\n",
    "\n",
    "## Adding Comments\n",
    "\n",
    "{term}`Comments` are text added to a C++ source or header file that will be ignored by the compiler.\n",
    "\n",
    "Comments are used are notes and reminders for people who are trying to understand and use the code.\n",
    "\n",
    "When developing a program it is useful to be able to termporarily hide sections of the code from the compiler by 'commenting them out`.\n",
    "\n",
    "Some suggest that good code does not require comments, but this is unlikely to be true. Remember that programs can be very long, and you may want to return to a program that you wrote years ago; a small investment in comments usually makes the code more maintainable and definitely easier for others to use.\n",
    "\n",
    "Comments may be added to code in two ways:\n",
    "\n",
    "C++ style comments have `//` at the start of the comment.\n",
    "\n",
    "Multiline comments can be created by surround any text with `/*` and `*/`. These may not be nested!\n",
    "\n",
    "Most editors will create a multiline comment if you highlight the code by dragging clicking and dragging the mouse accross it and then simulaneously pressing {kbd}`Ctrl` + {kbd}`/`.\n",
    "\n",
    "```{code-block} c++\n",
    "\n",
    "// A C++ style single line comment\n",
    "// Another one\n",
    "#include <iostream> // This comments does not affect anything before it on the same line\n",
    "\n",
    "/* C-style codes are also used */\n",
    "/* Best \n",
    "when \n",
    "a \n",
    "multi-line comment is needed\n",
    "*/\n",
    "\n",
    "```"
   ]
  }
 ],
 "metadata": {
  "jupytext": {
   "formats": "md:myst",
   "text_representation": {
    "extension": ".md",
    "format_name": "myst"
   }
  },
  "kernelspec": {
   "display_name": "C++ 20",
   "language": "c++",
   "name": "cpp20"
  },
  "language_info": {
   "file_extension": ".cpp",
   "mimetype": "text/markdown",
   "name": "C++",
   "version": "1.0.0a9"
  },
  "source_map": [
   11,
   45,
   48,
   152,
   159
  ]
 },
 "nbformat": 4,
 "nbformat_minor": 5
}