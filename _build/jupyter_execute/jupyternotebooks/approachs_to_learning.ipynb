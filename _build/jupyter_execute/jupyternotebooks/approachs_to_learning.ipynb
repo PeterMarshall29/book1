{
 "cells": [
  {
   "cell_type": "markdown",
   "id": "e320c671",
   "metadata": {},
   "source": [
    "# How to Learn C++\n",
    "\n",
    "\n",
    "Growth mind set bit"
   ]
  }
 ],
 "metadata": {
  "jupytext": {
   "formats": "md:myst",
   "text_representation": {
    "extension": ".md",
    "format_name": "myst"
   }
  },
  "kernelspec": {
   "display_name": "C++ 20",
   "language": "c++",
   "name": "cpp20"
  },
  "language_info": {
   "file_extension": ".cpp",
   "mimetype": "text/markdown",
   "name": "C++",
   "version": "1.0.0a9"
  },
  "source_map": [
   11
  ]
 },
 "nbformat": 4,
 "nbformat_minor": 5
}