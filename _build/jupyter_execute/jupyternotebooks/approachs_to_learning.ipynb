{
 "cells": [
  {
   "cell_type": "markdown",
   "id": "73865d5b",
   "metadata": {},
   "source": [
    "# How to Learn C++\n",
    "\n",
    "There is no big secret to learning C++.\n",
    "\n",
    "Computer languages are just complicated sets of instructions. It can be difficult at first to work out what the references and textbooks are telling you because of new vocabulary and lack of experience - but with a little time and effort eventually it all becomes clear, and actually a lot simpler than it seemed at first glance!\n",
    "\n",
    "\n",
    "## The Secret to Becoming Really Good at C++ Programming\n",
    "\n",
    "````{admonition} TOP SECRET INFORMATION\n",
    ":class: dropdown warning\n",
    "```{admonition} DONT LOOK AT THIS!\n",
    ":class: dropdown danger\n",
    "The 2 secrets to becoming a skilled programmer............... \n",
    "\n",
    "Practice, practice, and yep....., more PRACTICE!\n",
    "\n",
    "And learning how to follow the instructions! \n",
    "```\n",
    "````\n",
    "```{note}\n",
    ":class: margin\n",
    "{attribution=\"Bjarne Stroustrup - Inventor of C++\" }\n",
    "> \"If you never fail, your aren't trying hard enough\"\n",
    "```\n",
    "\n",
    "## Growth Mindset\n",
    "\n",
    "Pschologist Carol Dweck developed the theory of the growth and fixed mindsets. People with a growth mindset believe that their abilities, intelligence, and talents can be developed through effort, learning, and persistence. They understand that their brain is akin to a muscled that is strengthened by practice and struggling with new ideas and acivities.\n",
    "\n",
    "A fixed mindset believes that you are either good at something or not - this is usually wrong and always self defeating. \n",
    "\n",
    "Most students will not just know more when they leave university - they will be smarter - as a result of the work they have done. WORK is the key."
   ]
  }
 ],
 "metadata": {
  "jupytext": {
   "formats": "md:myst",
   "text_representation": {
    "extension": ".md",
    "format_name": "myst"
   }
  },
  "kernelspec": {
   "display_name": "C++ 20",
   "language": "c++",
   "name": "cpp20"
  },
  "language_info": {
   "file_extension": ".cpp",
   "mimetype": "text/markdown",
   "name": "C++",
   "version": "1.0.0a9"
  },
  "source_map": [
   11
  ]
 },
 "nbformat": 4,
 "nbformat_minor": 5
}