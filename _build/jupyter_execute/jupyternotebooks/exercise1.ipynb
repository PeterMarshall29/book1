{
 "cells": [
  {
   "cell_type": "markdown",
   "id": "a4965ac7",
   "metadata": {},
   "source": [
    "# Exercise 1\n",
    "\n",
    "Add practice using comments\n",
    "\n",
    "\n",
    "`````{exercise-start}\n",
    ":label: exercisex1_1\n",
    "`````\n",
    "This code is incorrect. Alter the code so that it runs without error and prints your name."
   ]
  },
  {
   "cell_type": "code",
   "execution_count": 1,
   "id": "e8de36ab",
   "metadata": {
    "tags": [
     "remove-output"
    ]
   },
   "outputs": [
    {
     "name": "stderr",
     "output_type": "stream",
     "text": [
      "C:\\Users\\Peter\\AppData\\Local\\Temp\\tmpe6emt2j3.cpp:3:1: error: 'include' does not name a type\n",
      "    3 | include \"iostreams\"\n",
      "      | ^~~~~~~\n"
     ]
    },
    {
     "name": "stderr",
     "output_type": "stream",
     "text": [
      "\n",
      "[C++ kernel] Error: Unable to compile the source code. Return error: 0x1."
     ]
    }
   ],
   "source": [
    "include \"iostreams\"\n",
    "main(){\n",
    "cout << \"my name is, \\n\"\n",
    "return \"Peter\";\n",
    "}"
   ]
  },
  {
   "cell_type": "markdown",
   "id": "e7b6395f",
   "metadata": {},
   "source": [
    "`````{exercise-end}\n",
    "`````\n",
    "\n",
    "\n",
    "`````{exercise-start}\n",
    ":label: exercisex1_2\n",
    "`````\n",
    "Write a program to calculate and print to screen the binomial coefficients\n",
    "By definition, the binomial coefficients are calculated as\n",
    "$$\n",
    "C(k,n)= \\frac{n!}{k!(n-k)!} \n",
    "$$\n",
    "You should know that \n",
    "$$\n",
    "C(k,n)=C(n-k,n)\\\\\n",
    "C(0,n)=1\\\\\n",
    "C(1,n)=n\\\\\n",
    "C(2,n)=\\frac{n(n-1)}{2}\n",
    "C(k+1,n)=C(k,n)\\cdot\\frac{n-k}{k+1}\n",
    "$$\n",
    "\n",
    "`````{exercise-end}\n",
    "`````\n",
    "\n",
    "\n",
    "`````{solution-start} exercisex1_2\n",
    ":label: solutionx1_2\n",
    "`````\n",
    "int main() {\n",
    "    const int n = 10;   // constant array size \n",
    "    int bnm[n + 1];     // array of integers \n",
    "    int k = 0;          //  loop control variable: \n",
    "    bnm[0] = 1;         // The first element of array\n",
    "    std::cout << bnm[0]; \n",
    "                        // While loop to fill array\n",
    "while(k<n){ \n",
    "    bnm[k+1]=bnm[k]*(n-k)/(k+1); \n",
    "    std::cout<<\" \"<<bnm[k+1]; \n",
    "    k++; } \n",
    "    std::cout << '\\n'; \n",
    "    return 0; \n",
    "}\n",
    "\n",
    "\n",
    "`````{solution-end}\n",
    "`````\n",
    "\n",
    "\n",
    "`````{exercise-start} \n",
    ":label: exercisex1_3\n",
    "`````\n",
    "Write a program to calculate and print the sum of the squares of the postive integrers from one to a user inputted value.\n",
    "\n",
    "`````{exercise-end} \n",
    "`````\n",
    "\n",
    "\n",
    "`````{solution-start} exercisex1_3\n",
    ":label: solutionx1_3\n",
    "`````\n",
    "#include <iostream>\n",
    "int main() {\n",
    "    int number, sum = 0;\n",
    "    std::cout << \"Give me a positive integer: \";\n",
    "    std::cin >> number;\n",
    "    for (int i = 1; i <= number; ++i) sum += i * i;\n",
    "    std::cout << \"The sum of the squared numbers from 1 to \" << number << \" is \" << sum << '\\n';\n",
    "    return 0;\n",
    "}\n",
    "\n",
    "`````{solution-end}\n",
    "`````\n",
    "\n",
    "\n",
    "`````{exercise-start} \n",
    ":label: exercisex1_4\n",
    "`````\n",
    "Rewrite the program to calculate and print the sum of the squares of the postive integrers from one to a user inputted value.\n",
    "But now use the for-statement arguments to make the code block unnecessary.\n",
    "\n",
    "`````{exercise-end} \n",
    "`````\n",
    "\n",
    "\n",
    "`````{solution-start} exercisex1_4\n",
    ":label: solutionx1_4\n",
    "`````\n",
    "#include <iostream>\n",
    "int main() { \n",
    "    int number, sum; \n",
    "    std::cout << \"Give me a positve integer: \";\n",
    "    std::cin >> number; \n",
    "    for (int i = 1, sum = 0; i <= number ; sum += i * i,  ++i); \n",
    "    std::cout << \"The sum of the squares of the numbers from 1 to \" << number << \" is \" << sum << `\\n`; \n",
    "    return 0; \n",
    "}\n",
    "\n",
    "`````{solution-end}\n",
    "`````"
   ]
  }
 ],
 "metadata": {
  "jupytext": {
   "formats": "md:myst",
   "text_representation": {
    "extension": ".md",
    "format_name": "myst"
   }
  },
  "kernelspec": {
   "display_name": "C++ 20",
   "language": "c++",
   "name": "cpp20"
  },
  "language_info": {
   "file_extension": ".cpp",
   "mimetype": "text/markdown",
   "name": "C++",
   "version": "1.0.0a9"
  },
  "source_map": [
   11,
   22,
   29
  ]
 },
 "nbformat": 4,
 "nbformat_minor": 5
}