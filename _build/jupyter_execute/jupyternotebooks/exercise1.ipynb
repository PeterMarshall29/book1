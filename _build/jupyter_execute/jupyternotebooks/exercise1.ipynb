{
 "cells": [
  {
   "cell_type": "markdown",
   "id": "aa6be2dc",
   "metadata": {},
   "source": [
    "# Exercises 1\n",
    "\n",
    "Add practice using comments\n",
    "\n",
    "\n",
    "`````{exercise-start}\n",
    ":label: exercisex1_1\n",
    "`````\n",
    "This code is incorrect. Alter the code so that it runs without error and prints your name."
   ]
  },
  {
   "cell_type": "code",
   "execution_count": 1,
   "id": "2a3e1dce",
   "metadata": {
    "tags": [
     "remove-output"
    ]
   },
   "outputs": [
    {
     "name": "stderr",
     "output_type": "stream",
     "text": [
      "C:\\Users\\Peter\\AppData\\Local\\Temp\\tmpg7lxj4px.cpp:3:1: error: 'include' does not name a type\n",
      "    3 | include \"iostreams\"\n",
      "      | ^~~~~~~\n"
     ]
    },
    {
     "name": "stderr",
     "output_type": "stream",
     "text": [
      "\n",
      "[C++ kernel] Error: Unable to compile the source code. Return error: 0x1."
     ]
    }
   ],
   "source": [
    "include \"iostreams\"\n",
    "main(){\n",
    "cout << \"my name is, \\n\"\n",
    "return \"Peter\";\n",
    "}"
   ]
  },
  {
   "cell_type": "markdown",
   "id": "1053ad17",
   "metadata": {},
   "source": [
    "`````{exercise-end}\n",
    "`````\n",
    "\n",
    "\n",
    "`````{exercise-start}\n",
    ":label: exercisex1_2\n",
    "`````\n",
    "Write a program to calculate and print to screen the binomial coefficients\n",
    "By definition, the binomial coefficients are calculated as\n",
    "$$\n",
    "C(k,n)= \\frac{n!}{k!(n-k)!} \n",
    "$$\n",
    "You should know that \n",
    "$$\n",
    "C(k,n)=C(n-k,n)\\\\\n",
    "C(0,n)=1\\\\\n",
    "C(1,n)=n\\\\\n",
    "C(2,n)=\\frac{n(n-1)}{2}\n",
    "C(k+1,n)=C(k,n)\\cdot\\frac{n-k}{k+1}\n",
    "$$\n",
    "\n",
    "`````{exercise-end}\n",
    "`````\n",
    "\n",
    "\n",
    "`````{solution-start} exercisex1_2\n",
    ":label: solutionx1_2\n",
    "`````\n",
    "int main() {\n",
    "    const int n = 10;   // constant array size \n",
    "    int bnm[n + 1];     // array of integers \n",
    "    int k = 0;          //  loop control variable: \n",
    "    bnm[0] = 1;         // The first element of array\n",
    "    std::cout << bnm[0]; \n",
    "                        // While loop to fill array\n",
    "while(k<n){ \n",
    "    bnm[k+1]=bnm[k]*(n-k)/(k+1); \n",
    "    std::cout<<\" \"<<bnm[k+1]; \n",
    "    k++; } \n",
    "    std::cout << '\\n'; \n",
    "    return 0; \n",
    "}\n",
    "\n",
    "\n",
    "`````{solution-end}\n",
    "`````\n",
    "\n",
    "\n",
    "`````{exercise-start} \n",
    ":label: exercisex1_3\n",
    "`````\n",
    "Write a program to calculate and print the sum of the squares of the postive integrers from one to a user inputted value.\n",
    "\n",
    "`````{exercise-end} \n",
    "`````\n",
    "\n",
    "\n",
    "`````{solution-start} exercisex1_3\n",
    ":label: solutionx1_3\n",
    "`````\n",
    "#include <iostream>\n",
    "int main() {\n",
    "    int number, sum = 0;\n",
    "    std::cout << \"Give me a positive integer: \";\n",
    "    std::cin >> number;\n",
    "    for (int i = 1; i <= number; ++i) sum += i * i;\n",
    "    std::cout << \"The sum of the squared numbers from 1 to \" << number << \" is \" << sum << '\\n';\n",
    "    return 0;\n",
    "}\n",
    "\n",
    "`````{solution-end}\n",
    "`````\n",
    "\n",
    "\n",
    "`````{exercise-start} \n",
    ":label: exercisex1_4\n",
    "`````\n",
    "Rewrite the program to calculate and print the sum of the squares of the postive integrers from one to a user inputted value.\n",
    "But now use the for-statement arguments to make the code block unnecessary.\n",
    "\n",
    "`````{exercise-end} \n",
    "`````\n",
    "\n",
    "\n",
    "`````{solution-start} exercisex1_4\n",
    ":label: solutionx1_4\n",
    "`````\n",
    "#include <iostream>\n",
    "int main() { \n",
    "    int number, sum; \n",
    "    std::cout << \"Give me a positve integer: \";\n",
    "    std::cin >> number; \n",
    "    for (int i = 1, sum = 0; i <= number ; sum += i * i,  ++i); \n",
    "    std::cout << \"The sum of the squares of the numbers from 1 to \" << number << \" is \" << sum << `\\n`; \n",
    "    return 0; \n",
    "}\n",
    "\n",
    "`````{solution-end}\n",
    "`````\n",
    "\n",
    "````{exercise-start} \n",
    ":label: exerciseex11\n",
    ":class: dropdown\n",
    "````"
   ]
  },
  {
   "cell_type": "code",
   "execution_count": null,
   "id": "29182051",
   "metadata": {
    "tags": [
     "remove-output",
     "skip-execution"
    ]
   },
   "outputs": [],
   "source": [
    "Code goes here...."
   ]
  },
  {
   "cell_type": "markdown",
   "id": "ad8d4b4f",
   "metadata": {},
   "source": [
    "````{exercise-end}\n",
    "````\n",
    "\n",
    "````{solution-start} exerciseex11\n",
    ":label: solutionex11\n",
    ":class: dropdown\n",
    "````\n",
    "```{code-block} c++\n",
    "\n",
    "```\n",
    "````{solution-end}\n",
    "````\n",
    "\n",
    "````{exercise-start} \n",
    ":label: exerciseex12\n",
    ":class: dropdown\n",
    "````"
   ]
  },
  {
   "cell_type": "code",
   "execution_count": null,
   "id": "c0831293",
   "metadata": {
    "tags": [
     "remove-output",
     "skip-execution"
    ]
   },
   "outputs": [],
   "source": [
    "Code goes here...."
   ]
  },
  {
   "cell_type": "markdown",
   "id": "9b5f4c0f",
   "metadata": {},
   "source": [
    "````{exercise-end}\n",
    "````\n",
    "\n",
    "````{solution-start} exerciseex12\n",
    ":label: solutionex12\n",
    ":class: dropdown\n",
    "````\n",
    "```{code-block} c++\n",
    "\n",
    "```\n",
    "````{solution-end}\n",
    "````\n",
    "\n",
    "````{exercise-start} \n",
    ":label: exerciseex13\n",
    ":class: dropdown\n",
    "````"
   ]
  },
  {
   "cell_type": "code",
   "execution_count": null,
   "id": "e04224a7",
   "metadata": {
    "tags": [
     "remove-output",
     "skip-execution"
    ]
   },
   "outputs": [],
   "source": [
    "Code goes here...."
   ]
  },
  {
   "cell_type": "markdown",
   "id": "3165650c",
   "metadata": {},
   "source": [
    "````{exercise-end}\n",
    "````\n",
    "\n",
    "````{solution-start} exerciseex13\n",
    ":label: solutionex13\n",
    ":class: dropdown\n",
    "````\n",
    "```{code-block} c++\n",
    "\n",
    "```\n",
    "````{solution-end}\n",
    "````\n",
    "\n",
    "\n",
    "````{exercise-start} \n",
    ":label: exerciseex14\n",
    ":class: dropdown\n",
    "````"
   ]
  },
  {
   "cell_type": "code",
   "execution_count": null,
   "id": "e2511b5f",
   "metadata": {
    "tags": [
     "remove-output",
     "skip-execution"
    ]
   },
   "outputs": [],
   "source": [
    "Code goes here...."
   ]
  },
  {
   "cell_type": "markdown",
   "id": "991a8f2c",
   "metadata": {},
   "source": [
    "````{exercise-end}\n",
    "````\n",
    "\n",
    "````{solution-start} exerciseex14\n",
    ":label: solutionex14\n",
    ":class: dropdown\n",
    "````\n",
    "```{code-block} c++\n",
    "#include <iostream>\n",
    "\n",
    "```\n",
    "````{solution-end}\n",
    "````\n",
    "\n",
    "\n",
    "````{exercise-start} \n",
    ":label: exerciseex15\n",
    ":class: dropdown\n",
    "````"
   ]
  },
  {
   "cell_type": "code",
   "execution_count": null,
   "id": "3237fd63",
   "metadata": {
    "tags": [
     "remove-output",
     "skip-execution"
    ]
   },
   "outputs": [],
   "source": [
    "Code goes here...."
   ]
  },
  {
   "cell_type": "markdown",
   "id": "6f7c4d96",
   "metadata": {},
   "source": [
    "````{exercise-end}\n",
    "````\n",
    "\n",
    "````{solution-start} exerciseex15\n",
    ":label: solutionex15\n",
    ":class: dropdown\n",
    "````\n",
    "```{code-block} c++\n",
    "\n",
    "```\n",
    "````{solution-end}\n",
    "````\n",
    "\n",
    "\n",
    "````{exercise-start} \n",
    ":label: exerciseex16\n",
    ":class: dropdown\n",
    "````"
   ]
  },
  {
   "cell_type": "code",
   "execution_count": null,
   "id": "67856152",
   "metadata": {
    "tags": [
     "remove-output",
     "skip-execution"
    ]
   },
   "outputs": [],
   "source": [
    "Code goes here...."
   ]
  },
  {
   "cell_type": "markdown",
   "id": "2a673007",
   "metadata": {},
   "source": [
    "````{exercise-end}\n",
    "````\n",
    "\n",
    "````{solution-start} exerciseex16\n",
    ":label: solutionex16\n",
    ":class: dropdown\n",
    "````\n",
    "```{code-block} c++\n",
    "\n",
    "```\n",
    "````{solution-end}\n",
    "````\n",
    "\n",
    "\n",
    "````{exercise-start} \n",
    ":label: exerciseex17\n",
    ":class: dropdown\n",
    "````"
   ]
  },
  {
   "cell_type": "code",
   "execution_count": null,
   "id": "d82f0804",
   "metadata": {
    "tags": [
     "remove-output",
     "skip-execution"
    ]
   },
   "outputs": [],
   "source": [
    "Code goes here...."
   ]
  },
  {
   "cell_type": "markdown",
   "id": "4e68116a",
   "metadata": {},
   "source": [
    "````{exercise-end}\n",
    "````\n",
    "\n",
    "````{solution-start} exerciseex17\n",
    ":label: solutionex17\n",
    ":class: dropdown\n",
    "````\n",
    "```{code-block} c++\n",
    "\n",
    "```\n",
    "````{solution-end}\n",
    "````\n",
    "\n",
    "````{exercise-start} \n",
    ":label: exerciseex18\n",
    ":class: dropdown\n",
    "````"
   ]
  },
  {
   "cell_type": "code",
   "execution_count": null,
   "id": "835072c4",
   "metadata": {
    "tags": [
     "remove-output",
     "skip-execution"
    ]
   },
   "outputs": [],
   "source": [
    "Code goes here...."
   ]
  },
  {
   "cell_type": "markdown",
   "id": "3af0a341",
   "metadata": {},
   "source": [
    "````{exercise-end}\n",
    "````\n",
    "\n",
    "````{solution-start} exerciseex18\n",
    ":label: solutionex18\n",
    ":class: dropdown\n",
    "````\n",
    "```{code-block} c++\n",
    "\n",
    "```\n",
    "````{solution-end}\n",
    "````\n",
    "\n",
    "````{exercise-start} \n",
    ":label: exerciseex19\n",
    ":class: dropdown\n",
    "````"
   ]
  },
  {
   "cell_type": "code",
   "execution_count": null,
   "id": "c252e8dc",
   "metadata": {
    "tags": [
     "remove-output",
     "skip-execution"
    ]
   },
   "outputs": [],
   "source": [
    "Code goes here...."
   ]
  },
  {
   "cell_type": "markdown",
   "id": "2bcb452b",
   "metadata": {},
   "source": [
    "````{exercise-end}\n",
    "````\n",
    "\n",
    "````{solution-start} exerciseex19\n",
    ":label: solutionex19\n",
    ":class: dropdown\n",
    "````\n",
    "```{code-block} c++\n",
    "\n",
    "```\n",
    "````{solution-end}\n",
    "````\n",
    "\n",
    "````{exercise-start} \n",
    ":label: exerciseex110\n",
    ":class: dropdown\n",
    "````"
   ]
  },
  {
   "cell_type": "code",
   "execution_count": null,
   "id": "8ce1ee93",
   "metadata": {
    "tags": [
     "remove-output",
     "skip-execution"
    ]
   },
   "outputs": [],
   "source": [
    "Code goes here...."
   ]
  },
  {
   "cell_type": "markdown",
   "id": "b58c58e6",
   "metadata": {},
   "source": [
    "````{exercise-end}\n",
    "````\n",
    "\n",
    "````{solution-start} exerciseex110\n",
    ":label: solutionex110\n",
    ":class: dropdown\n",
    "````\n",
    "```{code-block} c++\n",
    "\n",
    "```\n",
    "````{solution-end}\n",
    "````"
   ]
  }
 ],
 "metadata": {
  "jupytext": {
   "formats": "md:myst",
   "text_representation": {
    "extension": ".md",
    "format_name": "myst"
   }
  },
  "kernelspec": {
   "display_name": "C++ 20",
   "language": "c++",
   "name": "cpp20"
  },
  "language_info": {
   "file_extension": ".cpp",
   "mimetype": "text/markdown",
   "name": "C++",
   "version": "1.0.0a9"
  },
  "source_map": [
   11,
   22,
   29,
   136,
   139,
   158,
   161,
   180,
   183,
   203,
   206,
   227,
   230,
   250,
   253,
   273,
   276,
   295,
   298,
   317,
   320,
   339,
   342
  ]
 },
 "nbformat": 4,
 "nbformat_minor": 5
}