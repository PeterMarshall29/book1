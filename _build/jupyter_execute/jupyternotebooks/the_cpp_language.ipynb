{
 "cells": [
  {
   "cell_type": "markdown",
   "id": "1beaacf8",
   "metadata": {},
   "source": [
    "(cpplanguage)=\n",
    "#  The C++ Language\n",
    "\n",
    "Start with ideas like syntax...\n",
    "\n",
    "\n",
    "\n",
    "\n",
    "All the `C++ language syntax is detailed here: [cppreference.com](https://en.cppreference.com/w/)\n",
    "```{admonition} Note\n",
    ":class: note margin\n",
    "Computational A will be using `C++20`  .\n",
    "```\n",
    "This will only be useful after you have learned the basics – please ignore until then.\n",
    "\n",
    "\n",
    "The development of the C++ language is detailed [here](https://en.cppreference.com/w/cpp/language/history.html)\n",
    "\n",
    "***\n",
    "\n",
    "This section provides definitions for the specific terminology and the concepts used when describing the C++ programming language.\n",
    "\n",
    "A C++ program is a sequence of text files (typically header and source files) that contain {term}`declaration`s. They undergo translation to become an executable program, which is executed when the C++ implementation calls its main function.\n",
    "\n",
    "Certain words in a C++ program have special meaning, and these are known as keywords. Others can be used as identifiers. Comments are ignored during translation. C++ programs also contain literals, the values of characters inside them are determined by character sets and encodings. Certain characters in the program have to be represented with escape sequences.\n",
    "\n",
    "The entities of a C++ program are values, objects, references, structured bindings(since C++17), result bindings(since C++26), functions, enumerators, types, class members, templates, template specializations, packs(since C++11), and namespaces. Preprocessor macros are not C++ entities.\n",
    "\n",
    "Declarations may introduce entities, associate them with names and define their properties. The declarations that define all properties required to use an entity are definitions. A program must contain only one definition of any non-inline function or variable that is odr-used.\n",
    "\n",
    "Definitions of functions usually include sequences of statements, some of which include expressions, which specify the computations to be performed by the program.\n",
    "\n",
    "Names encountered in a program are associated with the declarations that introduced them using name lookup. Each name is only valid within a part of the program called its scope. Some names have linkage which makes them refer to the same entities when they appear in different scopes or translation units.\n",
    "\n",
    "Each object, reference, function, expression in C++ is associated with a type, which may be fundamental, compound, or user-defined, complete or incomplete, etc.\n",
    "\n",
    "Declared objects and declared references that are not non-static data members are variables ﻿.\n",
    "\n",
    "\n",
    "***\n",
    "\n",
    "\n",
    "In the `C++` programming language, consist of two parts: the **core language** and the **standard library**.\n",
    "\n",
    "The **C++ Standard Library** is a collection of classes and functions, which are written in the **core language**.\n",
    "The entire `Cc++` language is defined by the **C++ ISO Standard**. \n",
    "The standard is regularly updated and improved, so you must check which version of the language your code is written in - there may be compatibility issues between versions.\n",
    "A large part of the **C++ Standard Library** is based on the **Standard Template Library (STL)**. Useful tools provided by the STL include containers as the collections of objects (such as vectors and lists), iterators that provide array-like access to containers, and algorithms that perform operations such as searching and sorting.\n",
    "\n",
    "***\n",
    "\n",
    "`C++` is a compiled language. \n",
    "The code in each of the `.cpp` (and `.h`) pages in your project is first converted to an object file, a file with a `.obj` ending (`.o`) if you are linux, by the compiler, which convers the basically readable `C++` code into machine language – in an object file.\n",
    "The `cpp` source code is platform agnostic – but the object and executable files are not portable amongst platforms – not even amongst generations.\n",
    "The collection of object files are then linked together by the linker into an executable file;  `.exe` in windows or `.app` etc.. \n",
    "Other useful extensions: .lib for library files,  `.a` for archive file (similar to library), `.so` for shared object files (like libraries), `.c` for `c` source code,  `.cc` for `c` with classes,  `.hpp` for header for cpp not also c.\n",
    "\n",
    "Header files with a .h, .hpp or .hxx extension,  are sources files that containing entity declarations and/or definitions that need to be visible to multiple translation units (see below). \n",
    "Each file with the extension .c, .cpp or .cxx defines a translation unit. \n",
    "The C and C++ compilers only compile a single file at a time. \n",
    "Source files may include header files, which are substituted in place for the #include statement and other directives by the preprocessor, resulting in a single \"file\" which is then fed to the compiler. \n",
    "The source file must contain all type and all object declarations that are referenced, which is the meaning of the undeclared reference compiler error. \n",
    "Note that it only requires complete declarations to succeed; definitions are handled at a later stage in the build process.\n",
    "Resource files are things like pictures, bitmaps, mp\n",
    "\n",
    "***\n",
    "C++ implementations are either “hosted” or “free-standing”.\n",
    "A hosted implementation includes all the standard-library facilities.\n",
    "Freestanding implementations are used when your code require the most minimal operating system support. Some implementations provide a non-standard option that does not use exceptions for really minimal, bare metal programming (directly implemented on hardware). \n",
    "A freestanding implementations generally provide fewer standard-library facilities, but must include certain basic requirements, provided by this minimal list of headers from the standard library. .\n",
    "#include <cstddef> <cfloat> <limits> <climits> <cstdint> <cstdlib> <new> <typeinfo> <exception <initializer_list> <cstdalign> <cstdarg> <cstdbool> <type_traits> <atomic>"
   ]
  }
 ],
 "metadata": {
  "jupytext": {
   "formats": "md:myst",
   "text_representation": {
    "extension": ".md",
    "format_name": "myst"
   }
  },
  "kernelspec": {
   "display_name": "C++ 20",
   "language": "c++",
   "name": "cpp20"
  },
  "language_info": {
   "file_extension": ".cpp",
   "mimetype": "text/x-c++src",
   "name": "C++",
   "version": "1.0.0a9"
  },
  "source_map": [
   11
  ]
 },
 "nbformat": 4,
 "nbformat_minor": 5
}