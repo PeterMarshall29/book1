{
 "cells": [
  {
   "cell_type": "markdown",
   "id": "ce4aae04",
   "metadata": {},
   "source": [
    "# Arithmetic Data Types\n",
    "\n",
    "There are a lot of numeric data types but to start learning C++ we really only need two of them.\n",
    "\n",
    "The default integer type use for integers and the double type for numbers with decimal points including those in scientific notation.\n",
    "\n",
    "## Integer Types\n",
    "\n",
    "`int` is the keyword for the default {term}`integer type`. \n",
    "\n",
    "There are a set of other integer types: `int` may be preceded by one or two modifiers - `signed`, `unsigned`, `short`, `long`, `long long`. \n",
    "\n",
    "The modifiers may also be used on their own, and `int` is implied; but `signed` and `unsigned` may also precede `char`, and `long` may precede `double`.\n",
    "\n",
    "An integer literal is just the number itself as opposed to an `int` which is a variable of type `int` having an integer value.\n",
    "\n",
    "Integer literals must not be written with a decimal point i.e. do not write the number seven as 7.0, this will be interpreted as a floating-point number.\n",
    "\n",
    "## Floating-Point Literals\n",
    "`Float` and `double` are both used for {term}`floating-point numbers` - \"double\" denoting double precision (meaning twice as many bits are used to represent the double values in binary code).\n",
    "\n",
    "Examples of how floating-point literal may be typed: `3.14`, `.14`, `-3.`, `2.99e8`, `6.63e−34`.\n",
    "\n",
    "Floating point numbers are expressed to different levels of precision; `float` for single precision (32-bit), `double` for double precision(64-bit), and `long double for extended precision (80-bit).\n",
    "\n",
    "A floating-point literal is of interpreted to be of type `double` by default, but to reduce memory usuage using a `float` or when larger values are required using `long double`, the suffix f, or l may be added.\n",
    "\n",
    "A floating-point literal of type `float` is defined by adding the postfix 'f' (or 'F') to the number:  `2.997925F`.\n",
    "\n",
    "A `long double` is defined by adding the postfix 'l' (or 'L'): `5.55e207L`.\n",
    "\n",
    "## Scientific Notation\n",
    "Scientific notation is formated using a lower, or upper, case `e` between the mantissa and the index **no whitespace** is permitted.\n",
    "`````{sidebar}\n",
    "````{admonition} Scientific Notation Example\n",
    "$2.99e8 = 2.99 \\times 10^{8}$\n",
    "````\n",
    "`````\n",
    "The syntax does not permit any whitespace in a floating point literal. \n",
    "\n",
    "For example, 2.998 e8 is not a floating-point literal, and would be intpreted as three separate lexical tokens and cause a syntax error at compile time.\n",
    "\n",
    "(SizeOfNumericValues)=\n",
    "## Max Size of Numeric Values\n",
    "The maximum value that can be storde by each {term}`numeric data type` depends on number of bits used by the computer architecture. \n",
    "\n",
    "Most computers use 64 bits, meaning that 64 bits are used to represent addresses in memory, allowing larger numbers to be stored.\n",
    "\n",
    "A 64 bit architecture means that processors are able to load and store 64 bit floating point numbers.\n",
    "\n",
    "Integer values do not follow a \n",
    "On a 64 bits system: `int` uses 32 bits: `short` uses 16 bits, and `long` uses 64 bits.\n",
    "````{admonition} Size of Arithmetic Types\n",
    ":class: margin note\n",
    "```{list-table}\n",
    ":header-rows: 1\n",
    ":name: Numeric Types on a 64 bit architecture\n",
    "* - Type\n",
    "  - Max Numeric Value\n",
    "* - short\n",
    "  - 32767\n",
    "* - Int\n",
    "  - 2147483647\n",
    "* - long\n",
    "   - 9,223,372,036,854,775,807\n",
    "* - Float\n",
    "  - 3.40282e+38\n",
    "* - Double  \n",
    "  - 1.797e308\n",
    "* - long Double  \n",
    "  - 1.18973e+4932 \n",
    "```\n",
    "`````\n",
    "## Checking the Size Limits of Numeric Type of Your C++ Implemetation\n",
    "\n",
    "`sizeof()` returns the number of bytes used to store values of that type.\n",
    "\n",
    "The `<limits>` component of the {term}`Standard Library` has some useful function such as max(), lowest(), and min(), which will return the largest value that can be stored in that type.\n",
    "\n",
    "`````{code_example-start}\n",
    ":label: exampleh1\n",
    ":class: dropdown\n",
    "`````"
   ]
  },
  {
   "cell_type": "code",
   "execution_count": null,
   "id": "a672bfd7",
   "metadata": {
    "tags": [
     "remove-output",
     "skip-execution"
    ]
   },
   "outputs": [],
   "source": [
    "#include <iostream>\n",
    "#include <limits>\n",
    "int main() {\n",
    "\tstd::cout << \"size of long (int) \" << sizeof(long) << \" Bytes\" << '\\n';\n",
    "std::cout << \"size of long long \" << sizeof(long long) << \" Bytes\" << '\\n';\n",
    "std::cout << \"size of long long \" << sizeof(1ll) << \" Bytes\" << '\\n';\n",
    "std::cout << \"largest int == \" << std::numeric_limits<int>::max() << '\\n';\n",
    "std::cout << \"largest float == \" << std::numeric_limits<float>::max() << '\\n';\n",
    "std::cout << \"largest double == \" << std::numeric_limits<double>::max() << '\\n';\n",
    "std::cout << \"largest long double == \" << std::numeric_limits<long double>::max() << '\\n';\n",
    "std::cout << \"char is signed == \" << std::numeric_limits<char>::is_signed << '\\n';\n",
    "\treturn 0;\n",
    "}"
   ]
  },
  {
   "cell_type": "markdown",
   "id": "283601bf",
   "metadata": {},
   "source": [
    "````{code_explanation} exampleh1\n",
    ":label: explanationh1\n",
    ":class: dropdown\n",
    "Note: Min() is the smallest positive value. Lowest() is the most negative value, where applicable.\n",
    "````\n",
    "`````{code_example-end}\n",
    "`````\n",
    "\n",
    "\n",
    "## Useful Constants\n",
    "\n",
    "By including `<numbers> you can access useful values, such as `pi`, and `e`.\n",
    "\n",
    "Accessed as `std::numbers::pi`.\n",
    "\n",
    "## Calculations\n",
    "\n",
    "It is often the case that a program will make a decision based on whether or not two values are identical.\n",
    "\n",
    "A little care must be taken when dealing with floating point numbers. In some languages alternaive methods to calculate the same number will yield differnt values.\n",
    "\n",
    "`````{code_example-start}\n",
    ":class: dropdown\n",
    "`````"
   ]
  },
  {
   "cell_type": "code",
   "execution_count": 1,
   "id": "8d7aaab3",
   "metadata": {
    "tags": [
     "remove-output"
    ]
   },
   "outputs": [
    {
     "data": {
      "text/markdown": [
       "0.70710678118654746172\t0.70710678118654746172\t0.70710678118654757274\r\n",
       "\r\n",
       "Aarghh - Only nearly equal!"
      ]
     },
     "metadata": {},
     "output_type": "display_data"
    }
   ],
   "source": [
    "int main() {\n",
    "\tstd::cout << std::setprecision(20) << sin(acos(-1) / 4) << '\\t' << sin(std::numbers::pi/4)<< '\\t' << sqrt(2) / 2 << '\\n';\n",
    "\tif (sin(acos(-1) / 4) == sqrt(2) / 2) {\n",
    "\t\tstd::cout << \"Good - Exactly equal!\";\n",
    "\t} else {\n",
    "\t\tstd::cout << \"Aarghh - Only nearly equal!\";\n",
    "\t}\n",
    "\treturn 0;\n",
    "}"
   ]
  },
  {
   "cell_type": "markdown",
   "id": "2bb348d5",
   "metadata": {},
   "source": [
    "`````{code_example-end}\n",
    "`````\n",
    "## Decimal, Hexidecimal, Octal, and Binary.\n",
    "\n",
    "Integer literals may also represent numbers in octal or hexidecimal\n",
    "\n",
    "Octal literals start with a 0 followed by the digits of the octal number, so the octal number '55' would be written `055`. Note that the octal '0' remains just `0`.\n",
    "\n",
    "Octal is base 8. the units run from 1-7. The value 21 in octal is 15 in decimal.\n",
    "\n",
    "Hexidecimal letters start 0x, so the hexideciamal value '3f' woudl be `0x3f`\n",
    "\n",
    "Hexidecimal is base 16, the units are 1,2,3,4,5,6,7,8,9,A,B,C,D,E,F. The value in decimal of the hexidecimal number 3f is 63.\n",
    "\n",
    "\n",
    "### Formating Octal and Hexidecimal Outputs\n",
    "\n",
    "Integer values can be output in octal or hexidecimal as follows:\n",
    "`````{code_example-start}\n",
    ":class: dropdown\n",
    "`````"
   ]
  },
  {
   "cell_type": "code",
   "execution_count": 2,
   "id": "a41a7f98",
   "metadata": {
    "tags": [
     "remove-output"
    ]
   },
   "outputs": [
    {
     "data": {
      "text/markdown": [
       "10"
      ]
     },
     "metadata": {},
     "output_type": "display_data"
    },
    {
     "data": {
      "text/markdown": [
       "0\t64\t144\t100"
      ]
     },
     "metadata": {},
     "output_type": "display_data"
    }
   ],
   "source": [
    "int main() {\n",
    "\tstd::cout << 100 << '\\t' << std::hex << 100 << '\\t' << std::oct << 100 << '\\t' << std::dec << 100;\n",
    "\treturn 0;\n",
    "}"
   ]
  },
  {
   "cell_type": "markdown",
   "id": "7ec8b926",
   "metadata": {},
   "source": [
    "`<< std::hex` and `<< std::oct` are instructions to the output stream to convert and display the next integer values in octal or hexidecimal. \n",
    "`std::dec` restores to decimal, the intruction affects all subsequent integers until changed.\n",
    "\n",
    "`````{code_example-end}\n",
    "`````\n",
    "\n",
    "\n",
    "## Void Type\n",
    "\n",
    "`void` is also a type - but it has an empty set of values. \n",
    "\n",
    "It is an incomplete type that cannot be completed (consequently, objects of type void are disallowed). There are no arrays of void, nor references to void. \n",
    "\n",
    "However, pointers to void and functions returning type void are permitted."
   ]
  }
 ],
 "metadata": {
  "jupytext": {
   "formats": "md:myst",
   "text_representation": {
    "extension": ".md",
    "format_name": "myst"
   }
  },
  "kernelspec": {
   "display_name": "C++ 20",
   "language": "c++",
   "name": "cpp20"
  },
  "language_info": {
   "file_extension": ".cpp",
   "mimetype": "text/markdown",
   "name": "C++",
   "version": "1.0.0a9"
  },
  "source_map": [
   11,
   96,
   111,
   136,
   147,
   169,
   175
  ]
 },
 "nbformat": 4,
 "nbformat_minor": 5
}