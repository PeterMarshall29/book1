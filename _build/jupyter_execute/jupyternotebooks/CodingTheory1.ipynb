{
 "cells": [
  {
   "cell_type": "markdown",
   "id": "b1aa2c5c",
   "metadata": {},
   "source": [
    "# Introduction to Programming\n",
    "\n",
    "## The C++ Language\n",
    "\n",
    "All the `C++ language syntax is detailed here: [cppreference.com](https://en.cppreference.com/w/)\n",
    "```{admonition} Note\n",
    ":class: note margin\n",
    "Computational A will be using `C++20`.\n",
    "```\n",
    "This will only be useful after you have learned the basics – please ignore until then.\n",
    "\n",
    "***\n",
    "\n",
    "In the `C++` programming language, consist of two parts: the **core language** and the **standard library**.\n",
    "\n",
    "The **C++ Standard Library** is a collection of classes and functions, which are written in the **core language**.\n",
    "The entire `Cc++` language is defined by the **C++ ISO Standard**. \n",
    "The standard is regularly updated and improved, so you must check which version of the language your code is written in - there may be compatibility issues between versions.\n",
    "A large part of the **C++ Standard Library** is based on the **Standard Template Library (STL)**. Useful tools provided by the STL include containers as the collections of objects (such as vectors and lists), iterators that provide array-like access to containers, and algorithms that perform operations such as searching and sorting.\n",
    "\n",
    "***\n",
    "\n",
    "`C++` is a compiled language. \n",
    "The code in each of the `.cpp` (and `.h`) pages in your project is first converted to an object file, a file with a `.obj` ending (`.o`) if you are linux, by the compiler, which convers the basically readable `C++` code into machine language – in an object file.\n",
    "The `cpp` source code is platform agnostic – but the object and executable files are not portable amongst platforms – not even amongst generations.\n",
    "The collection of object files are then linked together by the linker into an executable file;  `.exe` in windows or `.app` etc.. \n",
    "Other useful extensions: .lib for library files,  `.a` for archive file (similar to library), `.so` for shared object files (like libraries), `.c` for `c` source code,  `.cc` for `c` with classes,  `.hpp` for header for cpp not also c.\n",
    "\n",
    "Header files with a .h, .hpp or .hxx extension,  are sources files that containing entity declarations and/or definitions that need to be visible to multiple translation units (see below). \n",
    "Each file with the extension .c, .cpp or .cxx defines a translation unit. \n",
    "The C and C++ compilers only compile a single file at a time. \n",
    "Source files may include header files, which are substituted in place for the #include statement and other directives by the preprocessor, resulting in a single \"file\" which is then fed to the compiler. \n",
    "The source file must contain all type and all object declarations that are referenced, which is the meaning of the undeclared reference compiler error. \n",
    "Note that it only requires complete declarations to succeed; definitions are handled at a later stage in the build process.\n",
    "Resource files are things like pictures, bitmaps, mp"
   ]
  }
 ],
 "metadata": {
  "jupytext": {
   "formats": "md:myst",
   "text_representation": {
    "extension": ".md",
    "format_name": "myst"
   }
  },
  "kernelspec": {
   "display_name": "C++ 20",
   "language": "c++",
   "name": "cpp20"
  },
  "language_info": {
   "file_extension": ".cpp",
   "mimetype": "text/x-c++src",
   "name": "C++",
   "version": "1.0.0a9"
  },
  "source_map": [
   11
  ]
 },
 "nbformat": 4,
 "nbformat_minor": 5
}