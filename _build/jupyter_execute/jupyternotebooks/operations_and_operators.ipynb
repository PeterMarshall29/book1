{
 "cells": [
  {
   "cell_type": "markdown",
   "id": "456f25c1",
   "metadata": {},
   "source": [
    "# Operations and Operators\n",
    "\n",
    "Operations and Operators\n",
    "Each type has different operators – some are overloaded. + is addition for numeric types, but concatenation for string and char\n",
    "\n",
    "Try this code\n",
    "\n",
    "int count;\n",
    "std::cout << \"Please enter a number followed by your surname.\\n\";\n",
    "std::cin >> count;\n",
    "std::string name;\n",
    "std::cin >> name;\n",
    "int c2 = count + 2;\n",
    "std::string motivator = \"Dr.\" + name;\n",
    "std::cout << \"Study \" << c2 << \" times harder \" << motivator << \"!\\n\";\n",
    "return 0; \n",
    "\n",
    "We can use concatenation instead of repeating << . However, that requires us to use a string conversion.\n",
    "\n",
    "\n",
    "Try the following code.\n",
    "std::cout << \"Please enter a floating point number : \\n\";\n",
    "double n;\n",
    "std::cin >> n;\n",
    "std::cout << \"n == \" << n\n",
    "<< \"\\nn + 1 == \" << n + 1\n",
    "<< \"\\nthree time n == \" << n * 3\n",
    "<< \"\\ntwice n == \" << n + n\n",
    "<< \"\\nhalf of n == \" << n / 2\n",
    "<< \"\\nsquareroot of n == \"\n",
    "<< sqrt(n)\n",
    "<< \"\\n\";\n",
    "\n",
    "Note:  The definitions of integer *, /, and % guarantee that for two positive ints a and b we have a/b * b + a%b == a.\n",
    "Is the modulus truncating or flooring in c++?\n",
    "It is truncating i.e – always rounds towards zero. Flooring is always rounded downwards. Swift is truncated – python is floored.\n",
    "\n",
    "Check the list of operators on the Learn page.\n",
    "\n",
    "Incrementing by 1 can be achieved several ways.\n",
    "\n",
    "Count = count + 1 can be written as ++count\n",
    "Count = count + n can be written as count+=n\n",
    "\n",
    "## Ternary Operators\n",
    "Example:\n",
    "return (a >= b) ? a : b;\n",
    "\n",
    "? construct is called an arithmetic if or a conditional expression. The\n",
    "value of (a >= b) ? a : b is a if a >= b and b otherwise.\n",
    "That is, if the condition is true, the ternary operator value a if true, otherwise value b.\n",
    "Useful functions\n",
    "std::max(7,8)\n",
    "std::abs(a)"
   ]
  }
 ],
 "metadata": {
  "jupytext": {
   "formats": "md:myst",
   "text_representation": {
    "extension": ".md",
    "format_name": "myst"
   }
  },
  "kernelspec": {
   "display_name": "C++ 20",
   "language": "c++",
   "name": "cpp20"
  },
  "language_info": {
   "file_extension": ".cpp",
   "mimetype": "text/x-c++src",
   "name": "C++",
   "version": "1.0.0a9"
  },
  "source_map": [
   11
  ]
 },
 "nbformat": 4,
 "nbformat_minor": 5
}