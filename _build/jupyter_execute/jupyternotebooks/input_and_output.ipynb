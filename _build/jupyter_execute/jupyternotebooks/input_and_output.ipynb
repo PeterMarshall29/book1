{
 "cells": [
  {
   "cell_type": "markdown",
   "id": "88e7af8d",
   "metadata": {},
   "source": [
    "# Input and Output\n",
    "\n",
    "The basic facilities for a user to interact with a program are provided by the `<iostream>` component of the {term}`standard library`.\n",
    "\n",
    "`<iostream>` contains additional functions that can be used by a program to print information on monitor/screen and to accept input from the user via the keyboard.\n",
    "\n",
    "Until we can program these interactions, it is difficult to make any progress learning a computing language, because we have no insight into what the program has done.\n",
    "\n",
    "Type the following code into the empty code window below.\n",
    "\n",
    "```{tip}\n",
    ":class: margin\n",
    "Don't forget to include <iostream> and <string> and to format the `main()` function correctly.\n",
    "```\n",
    "\n",
    "```{code-block} cpp\n",
    ":linenos: \n",
    "std::cout<<\"Please type your surname!\\n\";\n",
    "std::string surname;\n",
    "std::cin >> surname;\n",
    "std::cout << \"Hello, \" << surname << \"!\\n\";\n",
    "return 0;\n",
    "```"
   ]
  },
  {
   "cell_type": "code",
   "execution_count": 1,
   "id": "f58f7c4b",
   "metadata": {
    "tags": [
     "remove-output"
    ]
   },
   "outputs": [
    {
     "name": "stderr",
     "output_type": "stream",
     "text": [
      "C:\\Users\\Peter\\AppData\\Local\\Temp\\tmp_njqlivn.cpp: In function 'int main()':\n",
      "C:\\Users\\Peter\\AppData\\Local\\Temp\\tmp_njqlivn.cpp:4:1: error: 'Type' was not declared in this scope; did you mean 'wctype'?\n",
      "    4 | Type code here!\n",
      "      | ^~~~\n",
      "      | wctype\n"
     ]
    },
    {
     "name": "stderr",
     "output_type": "stream",
     "text": [
      "\n",
      "[C++ kernel] Error: Unable to compile the source code. Return error: 0x1."
     ]
    }
   ],
   "source": [
    "Type code here!"
   ]
  },
  {
   "cell_type": "markdown",
   "id": "e95cad30",
   "metadata": {},
   "source": [
    "````{admonition} Code Explanation\n",
    ":class: dropdown\n",
    "\n",
    "`cin` is the character input stream, pronounced 'see - in'; used to read input from the keyboard.\n",
    "\n",
    "The input stream waits for the return key, taking any characters types in before {kbd}`return`\n",
    "\n",
    "`>>` is the input stream operator, also called the \"get from\" or \"extraction\" operator - directs where the input goes to - a variable name usually.\n",
    "\n",
    "```{code-block} c++\n",
    "int main()\n",
    "{\n",
    "\tstd::cout<<\"Please type your surname!\\n\"; //This is a 'prompt'; a message to the user with instructions.\n",
    "\tstd::string surname;    //Declares a variable of type string.\n",
    "\tstd::cin >> surname;\t\t//Character input stream, takes input from console when 'return' (aka 'newline') is pressed. \n",
    "\tstd::cout << \"Hello, \" << surname << \"!\\n\";\n",
    "\treturn 0;\n",
    "}\n",
    "```\n",
    "\n",
    "```{code-block} cpp\n",
    "\n",
    "```\n",
    "`\"Hello, \"` is a string-literal. Surname is a named object of type string.\n",
    "\n",
    "````\n",
    "````{exercise}\n",
    ":class: dropdown\n",
    "TRY putting a space at the end of the user input to cin. \n",
    "\n",
    "TRY putting a space in the beginning of the user input to cin.\n",
    "\n",
    "`cin` stops taking input when it encounters the first whitespace. Code still waits for {kbd}`return`.\n",
    "````"
   ]
  },
  {
   "cell_type": "code",
   "execution_count": null,
   "id": "d05ca511",
   "metadata": {
    "tags": [
     "remove-output",
     "skip-execution"
    ]
   },
   "outputs": [],
   "source": [
    "#include <iostream>\n",
    "int main(){\n",
    "\n",
    "std::cout << \"Please type your first name followed by your surname!\\n\"; \n",
    "std::string surname; \n",
    "std::cin >> surname;\n",
    "std::cout << \"Hello, \" << surname << \"!\\n\";\n",
    "\n",
    "return 0;\n",
    "}"
   ]
  },
  {
   "cell_type": "markdown",
   "id": "adde1699",
   "metadata": {},
   "source": [
    "The string input ends when a white space is detected, so TRY\n",
    "\n",
    "The convention is that the reading of strings is terminated by any whitespace i.e. space, tab, or newline '\\t', '\\n'."
   ]
  },
  {
   "cell_type": "code",
   "execution_count": null,
   "id": "24bdac53",
   "metadata": {
    "tags": [
     "remove-output",
     "skip-execution"
    ]
   },
   "outputs": [],
   "source": [
    "#include <iostream>\n",
    "int main(){\n",
    "int age = 58;\n",
    "std::cout << \"Please type your first name followed by your surname!\\n\"; \n",
    "std::string firstName = \"Peter\";\n",
    "std::string surname;       \n",
    "std::cin >> firstName >> surname; //input before space to first variable and input after space to second variable \n",
    "std::cout << \"Hello, \" << firstName << \" \" << surname << \", you are \" << age << \" years old!\\n\";\n",
    "return 0;\n",
    "}"
   ]
  },
  {
   "cell_type": "markdown",
   "id": "35a92c14",
   "metadata": {},
   "source": [
    "Now change to ask for an name followed by an age."
   ]
  },
  {
   "cell_type": "code",
   "execution_count": null,
   "id": "ee21d8a4",
   "metadata": {
    "tags": [
     "remove-output",
     "raises-exception",
     "skip-execution"
    ]
   },
   "outputs": [],
   "source": [
    "#include <iostream>\n",
    "int main(){\n",
    "int age = 58;\n",
    "std::string firstName = \"Peter\";\n",
    "std::cout << \"Please type your first name followed by your age!\\n\"; \n",
    "std::string surname; \n",
    "std::cin >> firstName >> age; \n",
    "std::cout << \"Hello, \" << firstName << \" \" << surname << \", you are \" << age << \" years old!\\n\";\n",
    "return 0;\n",
    "}"
   ]
  },
  {
   "cell_type": "markdown",
   "id": "d3b30251",
   "metadata": {},
   "source": [
    "Respond with a name \"whitespace\" age. Then try again but type in two names.\n",
    "\n",
    "A string is not an integer, so is recorded as integral value 0. \n",
    "\n",
    "Older C++ version might give a random value such as -96738 . Unfortunately this overwrites an initial value if you have used one.\n",
    "\n",
    "Handling input format errors is a separate lesson.\n",
    "\n",
    "## Formating the Ouput\n",
    "\n",
    "\n",
    "\n",
    "\n",
    "\n",
    "\n",
    "##\n",
    "\n",
    "4 Ways to convert an integer to a string: 3 more to discuss later.\n",
    "Add this to header file.\n",
    "\n",
    "```{code-block} c++\n",
    "template<class T> std::string to_string(const T& t)\n",
    "{\n",
    "std::ostringstream os;\n",
    "os << t;\n",
    "return os.str();\n",
    "}\n",
    "```\n",
    "This code creates a generic template for conversion to a string - we will circle back to how it works.\n",
    "\n",
    "Then replace cout line in the previous code with:\n",
    "\n",
    "```{code-block} c++\n",
    "std::cout << \"Study \" + to_string(c2) + \" times harder \" + motivator + \"!\\n\";\n",
    "Try typing two names in a row again. Why does the code fail?\n",
    "```\n",
    "\n",
    "\n",
    "Char type is created using single quotes.\n",
    "Try the following code."
   ]
  },
  {
   "cell_type": "code",
   "execution_count": 2,
   "id": "f1f8ce05",
   "metadata": {},
   "outputs": [
    {
     "data": {
      "text/markdown": [
       "x"
      ]
     },
     "metadata": {},
     "output_type": "display_data"
    },
    {
     "data": {
      "text/markdown": [
       "y241"
      ]
     },
     "metadata": {},
     "output_type": "display_data"
    }
   ],
   "source": [
    "char a = 'x';\n",
    "char b = 'y';\n",
    "int c = a + b;\n",
    "std::cout << a << b << c;\n",
    "return 0;"
   ]
  },
  {
   "cell_type": "code",
   "execution_count": 3,
   "id": "92f6309a",
   "metadata": {
    "tags": [
     "remove-output"
    ]
   },
   "outputs": [
    {
     "name": "stderr",
     "output_type": "stream",
     "text": [
      "C:\\Users\\Peter\\AppData\\Local\\Temp\\tmpovgscc5o.cpp: In function 'int main()':\n",
      "C:\\Users\\Peter\\AppData\\Local\\Temp\\tmpovgscc5o.cpp:4:1: error: 'Type' was not declared in this scope; did you mean 'wctype'?\n",
      "    4 | Type code here!\n",
      "      | ^~~~\n",
      "      | wctype\n"
     ]
    },
    {
     "name": "stderr",
     "output_type": "stream",
     "text": [
      "\n",
      "[C++ kernel] Error: Unable to compile the source code. Return error: 0x1."
     ]
    }
   ],
   "source": [
    "Type code here!"
   ]
  },
  {
   "cell_type": "markdown",
   "id": "225f20c4",
   "metadata": {},
   "source": [
    "Change the letter to try to make senses of the output.\n",
    "Try numbers instead - what is the sum of 1 and 1 anyway?\n",
    "But a least its half as much as 2 and 2 still, right?\n",
    "\n",
    "Try this code"
   ]
  },
  {
   "cell_type": "code",
   "execution_count": 4,
   "id": "21beeb5d",
   "metadata": {
    "tags": [
     "remove-output"
    ]
   },
   "outputs": [
    {
     "data": {
      "text/markdown": [
       "3"
      ]
     },
     "metadata": {},
     "output_type": "display_data"
    }
   ],
   "source": [
    "#include <iostream>\n",
    "int main(){\n",
    "int x = 5;\n",
    "int y;\n",
    "if (x == 5);\n",
    "{ y = 3; }\n",
    "std::cout << y;\n",
    "return 0;\n",
    "}"
   ]
  },
  {
   "cell_type": "markdown",
   "id": "cef990a9",
   "metadata": {},
   "source": [
    "`{...code here...}` identifies a code block, or an in initialiser.\n",
    "Prints 3 - now change `x` to '4'. The semicolon after the if is a mistake, its like putting {} instead. \n",
    "`{}` is called the empty block - sometimes used into code to register that nothing should be done, like when it's the else loop that is really wanted - instead of using `NOT` logic.\n",
    "The second `{}` does nothing special.\n",
    "\n",
    "lo\n",
    "\n",
    "## Formatting Output\n",
    "\n",
    "The default output for a floating point number is 6 digits. The number is rounded to give the best approximation that can be printed with 6 digits.\n",
    "\n",
    "This may not be sufficient, if you want to spot a rounding or truncation error.\n",
    "\n",
    "The actual value stored by the computer will have more digits, so a comparison of one against another may fail.\n",
    "\n",
    "The format that is printed to the screen can be formatted as follows."
   ]
  },
  {
   "cell_type": "code",
   "execution_count": 5,
   "id": "e84212c2",
   "metadata": {
    "tags": [
     "remove-output"
    ]
   },
   "outputs": [
    {
     "data": {
      "text/markdown": [
       "12346  123456789  0.123457\r\n",
       "\r\n"
      ]
     },
     "metadata": {},
     "output_type": "display_data"
    }
   ],
   "source": [
    "#include <iostream>\n",
    "int main(){\n",
    "std::cout << std::defaultfloat << 12345.987654321 << \"  \" << std::scientific << 123456789 << \"  \" << std::fixed << 0.123456789 << '\\n';\n",
    "return 0;\n",
    "}"
   ]
  },
  {
   "cell_type": "markdown",
   "id": "9d23778e",
   "metadata": {},
   "source": [
    "std::defaultfloat is the what would happen if nothing was set, used when you want to return to the default.\n",
    "\n",
    "std::scientific formats the number in to scientific notation, and to have 6 digits after the decimal point.\n",
    "\n",
    "std::fixed keeps the number of digits after the decimal point to 6.\n",
    "\n",
    "The precision used for these options may also be set.\n",
    "\n",
    "After including the `<iomanip>` component of the Standard Library,  `<< std::setprecision()` controls the pecision of what follows."
   ]
  },
  {
   "cell_type": "code",
   "execution_count": 6,
   "id": "e44f275a",
   "metadata": {
    "tags": [
     "remove-output"
    ]
   },
   "outputs": [
    {
     "data": {
      "text/markdown": [
       "0.707106781186547461715008466853760182857513427734375  0.707106781186547461715008466853760182857513427734375  0.70710678118654757273731092936941422522068023681640625\r\n",
       "\r\n"
      ]
     },
     "metadata": {},
     "output_type": "display_data"
    }
   ],
   "source": [
    "#include <iostream>\n",
    "#include <iomanip>\n",
    "int main(){\n",
    "std::cout << std::setprecision(64) << sin(acos(-1) / 4) << \"  \" << sin(std::numbers::pi/4)<< \"  \" << sqrt(2) / 2 << '\\n';\n",
    "return 0;\n",
    "}"
   ]
  },
  {
   "cell_type": "markdown",
   "id": "93dae44d",
   "metadata": {},
   "source": [
    "## getline()\n",
    "\n",
    "An alternative to `cin` is to use getline(), which will ignore whitespace and collecte every character before {kbd}`return` into a single string.\n",
    "\n",
    "The downside is that you may need to split up the string later. See [<sstream>](https://en.cppreference.com/w/cpp/io/basic_stringstream.html) for further information on how to separate a string."
   ]
  },
  {
   "cell_type": "code",
   "execution_count": null,
   "id": "6032fffe",
   "metadata": {
    "tags": [
     "remove-output",
     "raises-exception",
     "skip-execution"
    ]
   },
   "outputs": [],
   "source": [
    "#include <iostream>\n",
    "#include <string>\n",
    "int main() {\n",
    "\tstd::string sentence;\n",
    "\tgetline(std::cin, sentence);\n",
    "\tstd::cout << sentence << std::endl;\n",
    "\treturn 0;\n",
    "}"
   ]
  },
  {
   "cell_type": "markdown",
   "id": "012f2695",
   "metadata": {},
   "source": [
    "The `getline()` function takes two arguments. The name of input stream and the name of the string to write to.getline(std::cin, sentence); \n",
    "\n",
    "`std::endl` inserts a newline character into the the output sequence and is therefore almost the same as `'\\n'`.\n",
    "\n",
    "`endl` additionally flushes the output stream, forces the output to appear in real time; advancd issue."
   ]
  }
 ],
 "metadata": {
  "jupytext": {
   "formats": "md:myst",
   "text_representation": {
    "extension": ".md",
    "format_name": "myst"
   }
  },
  "kernelspec": {
   "display_name": "C++ 20",
   "language": "c++",
   "name": "cpp20"
  },
  "language_info": {
   "file_extension": ".cpp",
   "mimetype": "text/markdown",
   "name": "C++",
   "version": "1.0.0a9"
  },
  "source_map": [
   11,
   37,
   40,
   82,
   94,
   100,
   112,
   116,
   128,
   171,
   178,
   181,
   188,
   199,
   221,
   228,
   239,
   247,
   257,
   267
  ]
 },
 "nbformat": 4,
 "nbformat_minor": 5
}