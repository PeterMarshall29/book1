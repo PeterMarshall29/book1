{
 "cells": [
  {
   "cell_type": "markdown",
   "id": "0d09fb8e",
   "metadata": {},
   "source": [
    "# Input and Output\n",
    "\n",
    "The basic facilities for a user to interact with a program are provided by the `<iostream>` component of the {term}`standard library`.\n",
    "\n",
    "`<iostream>` contains the additional functions needed to program the computer to print values to the computer montior/screen and to accept input from the user via the keyboard.\n",
    "\n",
    "Until we can program these interactions, it is difficult to make any progress learning a computing language, because \n",
    "\n",
    "Type the following code into the empty code window below.\n",
    "\n",
    "```{tip}\n",
    ":class: margin\n",
    "Don't forget to include <iostream> and <string> and to format the main() function correctly.\n",
    "```\n",
    "\n",
    "```{code-block} cpp\n",
    ":linenos: \n",
    "std::cout<<\"Please type your surname!\\n\";\n",
    "std::string surname;\n",
    "std::cin >> surname;\n",
    "std::cout << \"Hello, \" << surname << \"!\\n\";\n",
    "return 0;\n",
    "```"
   ]
  },
  {
   "cell_type": "code",
   "execution_count": 1,
   "id": "7cdfe5ae",
   "metadata": {
    "tags": [
     "remove-output"
    ]
   },
   "outputs": [
    {
     "name": "stderr",
     "output_type": "stream",
     "text": [
      "C:\\Users\\Peter\\AppData\\Local\\Temp\\tmp4kah7sa9.cpp: In function 'int main()':\n",
      "C:\\Users\\Peter\\AppData\\Local\\Temp\\tmp4kah7sa9.cpp:4:1: error: 'Type' was not declared in this scope; did you mean 'wctype'?\n",
      "    4 | Type code here!\n",
      "      | ^~~~\n",
      "      | wctype\n"
     ]
    },
    {
     "name": "stderr",
     "output_type": "stream",
     "text": [
      "\n",
      "[C++ kernel] Error: Unable to compile the source code. Return error: 0x1."
     ]
    }
   ],
   "source": [
    "Type code here!"
   ]
  },
  {
   "cell_type": "markdown",
   "id": "d22dfec0",
   "metadata": {},
   "source": [
    "````{admonition} Code Explanation\n",
    ":class: dropdown\n",
    "\n",
    "`cin` is the character input stream, pronounced 'see - in'. Used to read input from the keyboard.\n",
    "\n",
    "`>>` is the input stream operator, also called the \"get from\" or \"extraction\" operator - directs where the input goes to, a variable name usually.\n",
    "\n",
    "```{code-block} c++\n",
    "int main()\n",
    "{\n",
    "\tstd::cout<<\"Please type your surname!\\n\"; // This is a 'prompt'; a message to the user with instructions.\n",
    "\tstd::string surname;       //This declares a variable of type string.\n",
    "\tstd::cin >> surname;\t\t//character input stream, takes input from console when 'return' (aka 'newline') is pressed. \n",
    "\tstd::cout << \"Hello, \" << surname << \"!\\n\";\n",
    "\treturn 0;\n",
    "}\n",
    "```\n",
    "\n",
    "```{code-block} cpp\n",
    "\n",
    "```\n",
    "`\"Hello, \"` is a string-literal. Surname is a named object of type string.\n",
    "\n",
    "````\n",
    "````{exercise}\n",
    ":class: dropdown\n",
    "TRY putting a space at the end of the user input to cin. Only part before space is taken up.\n",
    "TRY putting a space in the beginning of the user input to cin.\n",
    "\n",
    "````\n",
    "\n",
    "Now try:"
   ]
  },
  {
   "cell_type": "code",
   "execution_count": null,
   "id": "8925a24e",
   "metadata": {
    "tags": [
     "remove-output",
     "skip-execution"
    ]
   },
   "outputs": [],
   "source": [
    "#include <iostream>\n",
    "int main(){\n",
    "int age = 58;\n",
    "std::string firstName = \"Peter\";\n",
    "float shoeSize = 10.5;\n",
    "double c = 3.0e-8;\n",
    "char example = 'p';\n",
    "return 0;\n",
    "}"
   ]
  },
  {
   "cell_type": "markdown",
   "id": "6ce5b190",
   "metadata": {},
   "source": [
    "Notice the single quotes for a char type, and one option for scientific notation.\n",
    "Float is smaller than double - depends on bits of system - double precision floating point number.\n",
    "Int has many qualifiers - Int can be dropped and the qualifier used on its own.\n",
    "\n",
    "Variable Names cannot start with a number, contain a whitespace or special symbols - only letters, numbers and underscore are permitted.\n",
    "Names are case sensitive - keep leading capitals for classes.\n",
    "Never start with an underscore - it will work, but that pattern is reserved for implementation and system entities, so you risk clashing with something with the same name you did not expect.\n",
    "Lastly keywords are protected and cannot be reused."
   ]
  },
  {
   "cell_type": "code",
   "execution_count": null,
   "id": "1575d587",
   "metadata": {
    "tags": [
     "remove-output",
     "skip-execution"
    ]
   },
   "outputs": [],
   "source": [
    "#include <iostream>\n",
    "int main(){\n",
    "\n",
    "std::cout << \"Please type your first name followed by your surname!\\n\"; \n",
    "std::string surname; \n",
    "std::cin >> surname;\n",
    "std::cout << \"Hello, \" << surname << \"!\\n\";\n",
    "\n",
    "return 0;\n",
    "}"
   ]
  },
  {
   "cell_type": "markdown",
   "id": "1c75cb24",
   "metadata": {},
   "source": [
    "The string input ends when a white space is detected, so TRY\n",
    "\n",
    "The convention is that the reading of strings is terminated by any whitespace i.e. space, tab, or newline '\\t', '\\n'."
   ]
  },
  {
   "cell_type": "code",
   "execution_count": null,
   "id": "0ce0bffe",
   "metadata": {
    "tags": [
     "remove-output",
     "skip-execution"
    ]
   },
   "outputs": [],
   "source": [
    "#include <iostream>\n",
    "int main(){\n",
    "int age = 58;\n",
    "std::cout << \"Please type your first name followed by your surname!\\n\"; \n",
    "std::string firstName = \"Peter\";\n",
    "std::string surname;       \n",
    "std::cin >> firstName >> surname; //input before space to first variable and input after space to second variable \n",
    "std::cout << \"Hello, \" << firstName << \" \" << surname << \", you are \" << age << \" years old!\\n\";\n",
    "return 0;\n",
    "}"
   ]
  },
  {
   "cell_type": "markdown",
   "id": "27b6344a",
   "metadata": {},
   "source": [
    "Now change to ask for an name followed by an age."
   ]
  },
  {
   "cell_type": "code",
   "execution_count": null,
   "id": "aab7c56e",
   "metadata": {
    "tags": [
     "remove-output",
     "raises-exception",
     "skip-execution"
    ]
   },
   "outputs": [],
   "source": [
    "#include <iostream>\n",
    "int main(){\n",
    "int age = 58;\n",
    "std::string firstName = \"Peter\";\n",
    "std::cout << \"Please type your first name followed by your age!\\n\"; \n",
    "std::string surname; \n",
    "std::cin >> firstName >> age; \n",
    "std::cout << \"Hello, \" << firstName << \" \" << surname << \", you are \" << age << \" years old!\\n\";\n",
    "return 0;\n",
    "}"
   ]
  },
  {
   "cell_type": "markdown",
   "id": "acc9c01c",
   "metadata": {},
   "source": [
    "Respond with a name \"whitespace\" age. Then try again but type in two names.\n",
    "\n",
    "A string is not an integer, so is recorded as integral value 0. \n",
    "\n",
    "Older C++ version might give a random value such as -96738 . Unfortunately this overwrites an initial value if you have used one.\n",
    "\n",
    "Handling input format errors is a separate lesson.\n",
    "\n",
    "4 Ways to convert an integer to a string: 3 more to discuss later.\n",
    "Add this to header file.\n",
    "\n",
    "```{code-block} c++\n",
    "template<class T> std::string to_string(const T& t)\n",
    "{\n",
    "std::ostringstream os;\n",
    "os << t;\n",
    "return os.str();\n",
    "}\n",
    "```\n",
    "This code creates a generic template for conversion to a string - we will circle back to how it works.\n",
    "\n",
    "Then replace cout line in the previous code with:\n",
    "\n",
    "```{code-block} c++\n",
    "std::cout << \"Study \" + to_string(c2) + \" times harder \" + motivator + \"!\\n\";\n",
    "Try typing two names in a row again. Why does the code fail?\n",
    "```\n",
    "\n",
    "\n",
    "Char type is created using single quotes.\n",
    "Try the following code."
   ]
  },
  {
   "cell_type": "code",
   "execution_count": 2,
   "id": "76d65838",
   "metadata": {},
   "outputs": [
    {
     "data": {
      "text/markdown": [
       "x"
      ]
     },
     "metadata": {},
     "output_type": "display_data"
    },
    {
     "data": {
      "text/markdown": [
       "y"
      ]
     },
     "metadata": {},
     "output_type": "display_data"
    },
    {
     "data": {
      "text/markdown": [
       "241"
      ]
     },
     "metadata": {},
     "output_type": "display_data"
    }
   ],
   "source": [
    "char a = 'x';\n",
    "char b = 'y';\n",
    "int c = a + b;\n",
    "std::cout << a << b << c;\n",
    "return 0;"
   ]
  },
  {
   "cell_type": "code",
   "execution_count": 3,
   "id": "f22a1ef0",
   "metadata": {
    "tags": [
     "remove-output"
    ]
   },
   "outputs": [
    {
     "name": "stderr",
     "output_type": "stream",
     "text": [
      "C:\\Users\\Peter\\AppData\\Local\\Temp\\tmpjltgtove.cpp: In function 'int main()':\n",
      "C:\\Users\\Peter\\AppData\\Local\\Temp\\tmpjltgtove.cpp:4:1: error: 'Type' was not declared in this scope; did you mean 'wctype'?\n",
      "    4 | Type code here!\n",
      "      | ^~~~\n",
      "      | wctype\n"
     ]
    },
    {
     "name": "stderr",
     "output_type": "stream",
     "text": [
      "\n",
      "[C++ kernel] Error: Unable to compile the source code. Return error: 0x1."
     ]
    }
   ],
   "source": [
    "Type code here!"
   ]
  },
  {
   "cell_type": "markdown",
   "id": "bb4e5c28",
   "metadata": {},
   "source": [
    "Change the letter to try to make senses of the output.\n",
    "Try numbers instead - what is the sum of 1 and 1 anyway?\n",
    "But a least its half as much as 2 and 2 still, right?\n",
    "\n",
    "Try this code"
   ]
  },
  {
   "cell_type": "code",
   "execution_count": 4,
   "id": "cbb50d04",
   "metadata": {
    "tags": [
     "remove-output"
    ]
   },
   "outputs": [
    {
     "data": {
      "text/markdown": [
       "3"
      ]
     },
     "metadata": {},
     "output_type": "display_data"
    }
   ],
   "source": [
    "#include <iostream>\n",
    "int main(){\n",
    "int x = 5;\n",
    "int y;\n",
    "if (x == 5);\n",
    "{ y = 3; }\n",
    "std::cout << y;\n",
    "return 0;\n",
    "}"
   ]
  },
  {
   "cell_type": "markdown",
   "id": "f7fe30aa",
   "metadata": {},
   "source": [
    "`{...code here...}` identifies a code block, or an in initialiser.\n",
    "Prints 3 - now change `x` to '4'. The semicolon after the if is a mistake, its like putting {} instead. \n",
    "`{}` is called the empty block - sometimes used into code to register that nothing should be done, like when it's the else loop that is really wanted - instead of using `NOT` logic.\n",
    "The second `{}` does nothing special."
   ]
  }
 ],
 "metadata": {
  "jupytext": {
   "formats": "md:myst",
   "text_representation": {
    "extension": ".md",
    "format_name": "myst"
   }
  },
  "kernelspec": {
   "display_name": "C++ 20",
   "language": "c++",
   "name": "cpp20"
  },
  "language_info": {
   "file_extension": ".cpp",
   "mimetype": "text/markdown",
   "name": "C++",
   "version": "1.0.0a9"
  },
  "source_map": [
   11,
   37,
   40,
   77,
   88,
   100,
   112,
   118,
   130,
   134,
   146,
   180,
   187,
   190,
   197,
   208
  ]
 },
 "nbformat": 4,
 "nbformat_minor": 5
}