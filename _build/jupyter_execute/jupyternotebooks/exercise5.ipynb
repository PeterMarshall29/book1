{
 "cells": [
  {
   "cell_type": "markdown",
   "id": "d660d6f2",
   "metadata": {},
   "source": [
    "# Exercise 5\n",
    "\n",
    "\n",
    "````{exercise-start} \n",
    ":label: exerciseex51\n",
    ":class: dropdown\n",
    "````\n",
    "Write a function that takes an integer value and returns one more than that value.\n",
    "Write a program that calls your function and prints both values to the display."
   ]
  },
  {
   "cell_type": "code",
   "execution_count": null,
   "id": "6cd7fbe4",
   "metadata": {
    "tags": [
     "remove-output",
     "skip-execution"
    ]
   },
   "outputs": [],
   "source": [
    "Code goes here...."
   ]
  },
  {
   "cell_type": "markdown",
   "id": "ec390193",
   "metadata": {},
   "source": [
    "````{exercise-end}\n",
    "````\n",
    "\n",
    "````{solution-start} exerciseex51\n",
    ":label: solutionex51\n",
    ":class: dropdown\n",
    "````\n",
    "```{code-block} c++\n",
    "#include <iostream>\n",
    "int incrementFunction(int number) {\n",
    "\treturn ++number;\n",
    "}\n",
    "int main () {\n",
    "  int number;\n",
    "  std::cout << \"Please type in a number.. \\n\";\n",
    "  std::cin >> number;\n",
    "  std::cout << \" Your number was: \" << number << \" and one more is: \" << numberincrementFunction(number) << '\\n';\n",
    "  return 0;\n",
    "}\n",
    "```\n",
    "````{solution-end}\n",
    "````\n",
    "\n",
    "````{exercise-start} \n",
    ":label: exerciseex52\n",
    ":class: dropdown\n",
    "````\n",
    "Write a function that takes two integer values and returns a true is their sum is less than 100..\n",
    "Write a program that calls your function and prints a statement telling the user if their sum is less than 100 or not."
   ]
  },
  {
   "cell_type": "code",
   "execution_count": null,
   "id": "e3e22a1a",
   "metadata": {
    "tags": [
     "remove-output",
     "skip-execution"
    ]
   },
   "outputs": [],
   "source": [
    "Code goes here...."
   ]
  },
  {
   "cell_type": "markdown",
   "id": "be56569b",
   "metadata": {},
   "source": [
    "````{exercise-end}\n",
    "````\n",
    "\n",
    "````{solution-start} exerciseex52\n",
    ":label: solutionex52\n",
    ":class: dropdown\n",
    "````\n",
    "```{code-block} c++\n",
    "#include <iostream>\n",
    "bool sumIsLessThan100(int A, int B) {\n",
    "\treturn (A + B < 100) ?  true : false;\n",
    "}\n",
    "int main () {\n",
    "  int A , B;\n",
    "  std::cout << \"Please type in two numbers number, both less than 100.. \\n\";\n",
    "  std::cin >> A >> B;\n",
    "  std::cout << \" It is \" << sumIsLessThan100(A , B) << \" that the sum of \" << A << \" and \" << B << \" is less than 100! <<'\\n';\n",
    "  return 0;\n",
    "}\n",
    "```\n",
    "````{solution-end}\n",
    "````\n",
    "\n",
    "````{exercise-start} \n",
    ":label: exerciseex53\n",
    ":class: dropdown\n",
    "````\n",
    "Write a function that takes two integer values and returns a true is their sum is less than 100..\n",
    "Write a program that calls your function and prints a statement telling the user if their sum is less than 100 or not."
   ]
  },
  {
   "cell_type": "code",
   "execution_count": null,
   "id": "5e5a10f8",
   "metadata": {
    "tags": [
     "remove-output",
     "skip-execution"
    ]
   },
   "outputs": [],
   "source": [
    "Code goes here...."
   ]
  },
  {
   "cell_type": "markdown",
   "id": "7e5345c8",
   "metadata": {},
   "source": [
    "````{exercise-end}\n",
    "````\n",
    "\n",
    "````{solution-start} exerciseex53\n",
    ":label: solutionex53\n",
    ":class: dropdown\n",
    "````\n",
    "```{code-block} c++\n",
    "#include <iostream>\n",
    "bool isFactorial(const int& val)\n",
    "{\n",
    "\tint tmp = 1, i = 1;\n",
    "\twhile (tmp < val) tmp*=++i;\n",
    "\treturn tmp == val;\n",
    "}\n",
    "std::vector<int> filterFactorials(std::vector<int> numbers) {\n",
    "\tfor (int i = 0; i < numbers.size(); ++i)\n",
    "\t{\n",
    "\t\tif (!isFactorial(numbers[i]))\n",
    "\t\t\tnumbers.erase(numbers.begin() + i--);\n",
    "\t}\n",
    "\treturn numbers;\n",
    "}\n",
    "int main () {\n",
    "  int A , B;\n",
    "  std::cout << \"Please type in two numbers number, both less than 100.. \\n\";\n",
    "  std::cin >> A >> B;\n",
    "  std::cout << \" It is \" << sumIsLessThan100(A , B) << \" that the sum of \" << A << \" and \" << B << \" is less than 100! <<'\\n';\n",
    "  return 0;\n",
    "}\n",
    "```\n",
    "````{solution-end}\n",
    "````\n",
    "\n",
    "\n",
    "````{exercise-start} \n",
    ":label: exerciseex54\n",
    ":class: dropdown\n",
    "````\n",
    "Write a function that takes two integer values and returns a true is their sum is less than 100..\n",
    "Write a program that calls your function and prints a statement telling the user if their sum is less than 100 or not."
   ]
  },
  {
   "cell_type": "code",
   "execution_count": null,
   "id": "911e1d05",
   "metadata": {
    "tags": [
     "remove-output",
     "skip-execution"
    ]
   },
   "outputs": [],
   "source": [
    "Code goes here...."
   ]
  },
  {
   "cell_type": "markdown",
   "id": "a6d0953f",
   "metadata": {},
   "source": [
    "````{exercise-end}\n",
    "````\n",
    "\n",
    "````{solution-start} exerciseex54\n",
    ":label: solutionex54\n",
    ":class: dropdown\n",
    "````\n",
    "```{code-block} c++\n",
    "#include <iostream>\n",
    "bool sumIsLessThan100(int A, int B) {\n",
    "\treturn (A + B < 100) ?  true : false;\n",
    "}\n",
    "int main () {\n",
    "  int A , B;\n",
    "  std::cout << \"Please type in two numbers number, both less than 100.. \\n\";\n",
    "  std::cin >> A >> B;\n",
    "  std::cout << \" It is \" << sumIsLessThan100(A , B) << \" that the sum of \" << A << \" and \" << B << \" is less than 100! <<'\\n';\n",
    "  return 0;\n",
    "}\n",
    "```\n",
    "````{solution-end}\n",
    "````\n",
    "\n",
    "\n",
    "````{exercise-start} \n",
    ":label: exerciseex55\n",
    ":class: dropdown\n",
    "````\n",
    "Write a function that takes two integer values and returns a true is their sum is less than 100..\n",
    "Write a program that calls your function and prints a statement telling the user if their sum is less than 100 or not."
   ]
  },
  {
   "cell_type": "code",
   "execution_count": null,
   "id": "97e21d01",
   "metadata": {
    "tags": [
     "remove-output",
     "skip-execution"
    ]
   },
   "outputs": [],
   "source": [
    "Code goes here...."
   ]
  },
  {
   "cell_type": "markdown",
   "id": "0f5616b1",
   "metadata": {},
   "source": [
    "````{exercise-end}\n",
    "````\n",
    "\n",
    "````{solution-start} exerciseex55\n",
    ":label: solutionex55\n",
    ":class: dropdown\n",
    "````\n",
    "```{code-block} c++\n",
    "#include <iostream>\n",
    "bool sumIsLessThan100(int A, int B) {\n",
    "\treturn (A + B < 100) ?  true : false;\n",
    "}\n",
    "int main () {\n",
    "  int A , B;\n",
    "  std::cout << \"Please type in two numbers number, both less than 100.. \\n\";\n",
    "  std::cin >> A >> B;\n",
    "  std::cout << \" It is \" << sumIsLessThan100(A , B) << \" that the sum of \" << A << \" and \" << B << \" is less than 100! <<'\\n';\n",
    "  return 0;\n",
    "}\n",
    "```\n",
    "````{solution-end}\n",
    "````\n",
    "\n",
    "\n",
    "````{exercise-start} \n",
    ":label: exerciseex56\n",
    ":class: dropdown\n",
    "````\n",
    "Write a function that takes two integer values and returns a true is their sum is less than 100..\n",
    "Write a program that calls your function and prints a statement telling the user if their sum is less than 100 or not."
   ]
  },
  {
   "cell_type": "code",
   "execution_count": null,
   "id": "1ce74433",
   "metadata": {
    "tags": [
     "remove-output",
     "skip-execution"
    ]
   },
   "outputs": [],
   "source": [
    "Code goes here...."
   ]
  },
  {
   "cell_type": "markdown",
   "id": "05c4df01",
   "metadata": {},
   "source": [
    "````{exercise-end}\n",
    "````\n",
    "\n",
    "````{solution-start} exerciseex56\n",
    ":label: solutionex56\n",
    ":class: dropdown\n",
    "````\n",
    "```{code-block} c++\n",
    "#include <iostream>\n",
    "bool sumIsLessThan100(int A, int B) {\n",
    "\treturn (A + B < 100) ?  true : false;\n",
    "}\n",
    "int main () {\n",
    "  int A , B;\n",
    "  std::cout << \"Please type in two numbers number, both less than 100.. \\n\";\n",
    "  std::cin >> A >> B;\n",
    "  std::cout << \" It is \" << sumIsLessThan100(A , B) << \" that the sum of \" << A << \" and \" << B << \" is less than 100! <<'\\n';\n",
    "  return 0;\n",
    "}\n",
    "```\n",
    "````{solution-end}\n",
    "````\n",
    "\n",
    "\n",
    "````{exercise-start} \n",
    ":label: exerciseex57\n",
    ":class: dropdown\n",
    "````\n",
    "Write a function that takes two integer values and returns a true is their sum is less than 100..\n",
    "Write a program that calls your function and prints a statement telling the user if their sum is less than 100 or not."
   ]
  },
  {
   "cell_type": "code",
   "execution_count": null,
   "id": "ab27a877",
   "metadata": {
    "tags": [
     "remove-output",
     "skip-execution"
    ]
   },
   "outputs": [],
   "source": [
    "Code goes here...."
   ]
  },
  {
   "cell_type": "markdown",
   "id": "bc3750d7",
   "metadata": {},
   "source": [
    "````{exercise-end}\n",
    "````\n",
    "\n",
    "````{solution-start} exerciseex57\n",
    ":label: solutionex57\n",
    ":class: dropdown\n",
    "````\n",
    "```{code-block} c++\n",
    "#include <iostream>\n",
    "bool sumIsLessThan100(int A, int B) {\n",
    "\treturn (A + B < 100) ?  true : false;\n",
    "}\n",
    "int main () {\n",
    "  int A , B;\n",
    "  std::cout << \"Please type in two numbers number, both less than 100.. \\n\";\n",
    "  std::cin >> A >> B;\n",
    "  std::cout << \" It is \" << sumIsLessThan100(A , B) << \" that the sum of \" << A << \" and \" << B << \" is less than 100! <<'\\n';\n",
    "  return 0;\n",
    "}\n",
    "```\n",
    "````{solution-end}\n",
    "````\n",
    "\n",
    "````{exercise-start} \n",
    ":label: exerciseex58\n",
    ":class: dropdown\n",
    "````\n",
    "Write a function that takes two integer values and returns a true is their sum is less than 100..\n",
    "Write a program that calls your function and prints a statement telling the user if their sum is less than 100 or not."
   ]
  },
  {
   "cell_type": "code",
   "execution_count": null,
   "id": "a5440dc3",
   "metadata": {
    "tags": [
     "remove-output",
     "skip-execution"
    ]
   },
   "outputs": [],
   "source": [
    "Code goes here...."
   ]
  },
  {
   "cell_type": "markdown",
   "id": "1bea1523",
   "metadata": {},
   "source": [
    "````{exercise-end}\n",
    "````\n",
    "\n",
    "````{solution-start} exerciseex58\n",
    ":label: solutionex58\n",
    ":class: dropdown\n",
    "````\n",
    "```{code-block} c++\n",
    "#include <iostream>\n",
    "bool sumIsLessThan100(int A, int B) {\n",
    "\treturn (A + B < 100) ?  true : false;\n",
    "}\n",
    "int main () {\n",
    "  int A , B;\n",
    "  std::cout << \"Please type in two numbers number, both less than 100.. \\n\";\n",
    "  std::cin >> A >> B;\n",
    "  std::cout << \" It is \" << sumIsLessThan100(A , B) << \" that the sum of \" << A << \" and \" << B << \" is less than 100! <<'\\n';\n",
    "  return 0;\n",
    "}\n",
    "```\n",
    "````{solution-end}\n",
    "````\n",
    "\n",
    "````{exercise-start} \n",
    ":label: exerciseex59\n",
    ":class: dropdown\n",
    "````\n",
    "Write a function that takes two integer values and returns a true is their sum is less than 100..\n",
    "Write a program that calls your function and prints a statement telling the user if their sum is less than 100 or not."
   ]
  },
  {
   "cell_type": "code",
   "execution_count": null,
   "id": "3dd0dff0",
   "metadata": {
    "tags": [
     "remove-output",
     "skip-execution"
    ]
   },
   "outputs": [],
   "source": [
    "Code goes here...."
   ]
  },
  {
   "cell_type": "markdown",
   "id": "915c73d3",
   "metadata": {},
   "source": [
    "````{exercise-end}\n",
    "````\n",
    "\n",
    "````{solution-start} exerciseex59\n",
    ":label: solutionex59\n",
    ":class: dropdown\n",
    "````\n",
    "```{code-block} c++\n",
    "#include <iostream>\n",
    "bool sumIsLessThan100(int A, int B) {\n",
    "\treturn (A + B < 100) ?  true : false;\n",
    "}\n",
    "int main () {\n",
    "  int A , B;\n",
    "  std::cout << \"Please type in two numbers number, both less than 100.. \\n\";\n",
    "  std::cin >> A >> B;\n",
    "  std::cout << \" It is \" << sumIsLessThan100(A , B) << \" that the sum of \" << A << \" and \" << B << \" is less than 100! <<'\\n';\n",
    "  return 0;\n",
    "}\n",
    "```\n",
    "````{solution-end}\n",
    "````\n",
    "\n",
    "````{exercise-start} \n",
    ":label: exerciseex510\n",
    ":class: dropdown\n",
    "````\n",
    "Write a function that takes two integer values and returns a true is their sum is less than 100..\n",
    "Write a program that calls your function and prints a statement telling the user if their sum is less than 100 or not."
   ]
  },
  {
   "cell_type": "code",
   "execution_count": null,
   "id": "b4f799dc",
   "metadata": {
    "tags": [
     "remove-output",
     "skip-execution"
    ]
   },
   "outputs": [],
   "source": [
    "Code goes here...."
   ]
  },
  {
   "cell_type": "markdown",
   "id": "bd5708d8",
   "metadata": {},
   "source": [
    "````{exercise-end}\n",
    "````\n",
    "\n",
    "````{solution-start} exerciseex510\n",
    ":label: solutionex510\n",
    ":class: dropdown\n",
    "````\n",
    "```{code-block} c++\n",
    "#include <iostream>\n",
    "bool sumIsLessThan100(int A, int B) {\n",
    "\treturn (A + B < 100) ?  true : false;\n",
    "}\n",
    "int main () {\n",
    "  int A , B;\n",
    "  std::cout << \"Please type in two numbers number, both less than 100.. \\n\";\n",
    "  std::cin >> A >> B;\n",
    "  std::cout << \" It is \" << sumIsLessThan100(A , B) << \" that the sum of \" << A << \" and \" << B << \" is less than 100! <<'\\n';\n",
    "  return 0;\n",
    "}\n",
    "```\n",
    "````{solution-end}\n",
    "````"
   ]
  }
 ],
 "metadata": {
  "jupytext": {
   "formats": "md:myst",
   "text_representation": {
    "extension": ".md",
    "format_name": "myst"
   }
  },
  "kernelspec": {
   "display_name": "C++ 20",
   "language": "c++",
   "name": "cpp20"
  },
  "language_info": {
   "file_extension": ".cpp",
   "mimetype": "text/markdown",
   "name": "C++",
   "version": "1.0.0a9"
  },
  "source_map": [
   11,
   22,
   25,
   55,
   58,
   88,
   91,
   133,
   136,
   167,
   170,
   201,
   204,
   235,
   238,
   268,
   271,
   301,
   304,
   334,
   337
  ]
 },
 "nbformat": 4,
 "nbformat_minor": 5
}