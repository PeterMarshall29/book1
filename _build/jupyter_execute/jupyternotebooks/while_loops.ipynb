{
 "cells": [
  {
   "cell_type": "markdown",
   "id": "2994ff86",
   "metadata": {},
   "source": [
    "(while)=\n",
    "# While Loops\n",
    "```{note}\n",
    ":class: margin\n",
    "{attribution=\"Yogi Berra\" }\n",
    "> It's déjà vu all over again.\n",
    "```\n",
    "A `while` statement will repeatedly execute a sequence of code statements until a condition becomes false.\n",
    "\n",
    "The conditional expression in the while-statement is evaluated before each execution - alternatively the `do-while` statement guarantees the code-block is executed at least once by not checking the condition until after the first execution.\n",
    "\n",
    "It is generally considered better to use for-statements in preference to while-statements, mainly because control of the loop is separated from the code-block, they have a useful loop-variable and chance accidentally programming an infinite loop is smaller.  \n",
    "\n",
    "```{figure} ../images/programmingloops.svg\n",
    ":name: my-fig-ref-t1\n",
    "Iteration Methods\n",
    "```\n",
    "`````{syntax-start} While Statements\n",
    ":class: dropdown\n",
    ":nonumber:\n",
    "`````\n",
    "Syntax of While Loop.\n",
    "````{code-block} c++\n",
    "while (conditional-expression) {\n",
    "  ...code to be repeatedly executed here...\n",
    "}\n",
    "````\n",
    "```{list-table}\n",
    ":header-rows: 1\n",
    ":name: example_table_4\n",
    "* - Generic While Loop\n",
    "  - Example While Loop\n",
    "* - ```{figure} ../images/WhileLoopExample.svg\n",
    "    :name: my-fig-ref-t2\n",
    "    Iteration Methods\n",
    "    ```\n",
    "  - ```{figure} ../images/WhileLoopGeneral.svg\n",
    "    :name: my-fig-ref-t3\n",
    "    Iteration Methods\n",
    "    ```\n",
    "```\n",
    "```{Warning}\n",
    "Programmers must ensure there is a logical way for the program to exit every while loop.\n",
    "```\n",
    "`````{syntax-end}\n",
    "`````\n",
    "\n",
    "\n",
    "\n",
    "`````{code_example-start} While Statements\n",
    ":class: dropdown\n",
    ":nonumber:\n",
    "`````\n",
    "A simple while-loop example:"
   ]
  },
  {
   "cell_type": "code",
   "execution_count": null,
   "id": "1943f86d",
   "metadata": {
    "tags": [
     "remove-output",
     "skip-execution"
    ]
   },
   "outputs": [],
   "source": [
    "#include <iostream>\n",
    "int main() {\n",
    "    int myInt = 1;\n",
    "    while (myInt != 11) {\n",
    "        std::cout << myInt << '\\t';\n",
    "        ++myInt;\n",
    "    }\n",
    "    return 0;\n",
    "}"
   ]
  },
  {
   "cell_type": "markdown",
   "id": "8b97774b",
   "metadata": {},
   "source": [
    "If the condition depends on a variable value, there must be way for that value to change, or the loop runs forever. In this case `myInt` is incremented during each iteration.\n",
    "\n",
    "The condition can be anything which evaluates to true - including just the keyword `true`."
   ]
  },
  {
   "cell_type": "code",
   "execution_count": null,
   "id": "ddcd6ec6",
   "metadata": {
    "tags": [
     "remove-output",
     "skip-execution"
    ]
   },
   "outputs": [],
   "source": [
    "#include <iostream>\n",
    "#include <string>\n",
    "int main() {\n",
    "    std::string previousWord = \"\";\n",
    "    std::string currentWord;\n",
    "    while (std::cin >> currentWord) {\n",
    "        if (previousWord == currentWord) std::cout << \"Repeated word : \" << currentWord << '\\n';\n",
    "        previousWord = currentWord;\n",
    "    }\n",
    "    return 0;\n",
    "}"
   ]
  },
  {
   "cell_type": "markdown",
   "id": "2ec00fe6",
   "metadata": {},
   "source": [
    "In this case, the loop condition is the receipt of a valid input. \n",
    "```{exercise}\n",
    ":class: dropdown\n",
    ":nonumber:\n",
    "- Try changing the code by making the variables int's. \n",
    "- What happens if you type letters?\n",
    "```\n",
    "Remember that the conditional expressions must be in parens in C++.\n",
    "`````{code_example-end} \n",
    "`````\n",
    "\n",
    "## Loop Exit\n",
    "\n",
    "If the condition of an iteration statement is forgotten the loop will run until the program crashes - this can tie up a computer for a very long time.\n",
    "\n",
    "Use {kbd}`Crtl+Z` or {kbd}`Crtl+C` to end a loop. {kbd}`Ctrl+D` in Linux.\n",
    "\n",
    "The iteration condition may also be intentionally omitted, but an alternative method to end the loop is required.\n",
    "\n",
    "The program can exit an iteration statement by arriving at the keywords, `break`, `return`, `goto`, or `throw`.\n",
    "\n",
    "### Break\n",
    "\n",
    "`break` - causes the program to break out of the nearest enclosing {term}`switch statement` or {term}`iteration statement` and is used if the logical flow may require the program to leave the loop before the end.\n",
    "\n",
    "The `break` statement is usually found as an option in a selection-statement within the loop.\n",
    "\n",
    "It is usually better to exit a loop via the loop-condition unless the logic requires extra variables and complexity. \n",
    "\n",
    "`````{code_example-start} Break\n",
    ":class: dropdown\n",
    ":nonumber:\n",
    "`````\n",
    "Example of using break to exit a loop."
   ]
  },
  {
   "cell_type": "code",
   "execution_count": null,
   "id": "c69d41bf",
   "metadata": {
    "tags": [
     "remove-output",
     "skip-execution"
    ]
   },
   "outputs": [],
   "source": [
    "#include <iostream>\n",
    "#include <vector>\n",
    "int main() {\n",
    "  std::vector<int> collectedValues = {};   //creates an empty vector.\n",
    "  for (int i = 0; i < 100; ++i) {          // contorls a loop that adds an element to the vector each time.\n",
    "    if (collectedValues.size() == 20) {         //size() - member function - most C++ containers - returns number of elements.\n",
    "      std::cout << '\\n' << \"The loop terminated when i == \" << i ;    // Prints out only if vector has 20 elements.\n",
    "      break;                                                   // Exits the loop when vector has 20 elements. \n",
    "     }  \n",
    "    collectedValues.push_back(i);  //push_back() - a member function - appends its argument at end of vector.\n",
    "    std::cout << i << \"\\t\";                                   // Prints the value of the loop variable.\n",
    "  }\n",
    "  return 0;\n",
    "}"
   ]
  },
  {
   "cell_type": "markdown",
   "id": "22def8a3",
   "metadata": {},
   "source": [
    "`````{code_example-end} \n",
    "`````\n",
    "### Continue\n",
    "\n",
    "`continue` causes the program to skip directly to the next iteration jumping over any remaining code statements in the current loop.\n",
    "\n",
    "`````{code_example-start} Continue\n",
    ":class: dropdown\n",
    ":nonumber:\n",
    "`````\n",
    "Example of using continue to skip one iteration of a loop."
   ]
  },
  {
   "cell_type": "code",
   "execution_count": null,
   "id": "6777acaa",
   "metadata": {
    "tags": [
     "remove-output",
     "skip-execution"
    ]
   },
   "outputs": [],
   "source": [
    "#include <iostream>\n",
    "int main() {\n",
    "  for (int i = 0; i < 21; ++i) {\n",
    "    if (i % 5 == 0) continue;  // if i is exactly divisible by 5, skip printing its value.\n",
    "    std::cout << i << \"\\t\";\n",
    "  }\n",
    "  return 0;\n",
    "}"
   ]
  },
  {
   "cell_type": "markdown",
   "id": "1c9f66ae",
   "metadata": {},
   "source": [
    "`````{code_example-end} \n",
    "`````\n",
    "### Goto\n",
    "`goto` statements are best avoided in most programming languages. Code has a simpler structure, and is more easily understood without the use of `goto` ."
   ]
  }
 ],
 "metadata": {
  "jupytext": {
   "formats": "md:myst",
   "text_representation": {
    "extension": ".md",
    "format_name": "myst"
   }
  },
  "kernelspec": {
   "display_name": "C++ 20",
   "language": "c++",
   "name": "cpp20"
  },
  "language_info": {
   "file_extension": ".cpp",
   "mimetype": "text/markdown",
   "name": "C++",
   "version": "1.0.0a9"
  },
  "source_map": [
   11,
   67,
   78,
   83,
   96,
   131,
   147,
   159,
   169
  ]
 },
 "nbformat": 4,
 "nbformat_minor": 5
}