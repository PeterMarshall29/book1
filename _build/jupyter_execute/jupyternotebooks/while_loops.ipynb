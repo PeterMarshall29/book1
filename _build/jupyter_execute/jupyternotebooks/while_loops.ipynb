{
 "cells": [
  {
   "cell_type": "markdown",
   "id": "bcb6f84e",
   "metadata": {},
   "source": [
    "(while)=\n",
    "# While Loops\n",
    "```{note}\n",
    ":class: margin\n",
    "{attribution=\"Yogi Berra\" }\n",
    "> It's déjà vu all over again.\n",
    "```\n",
    "\n",
    "\n",
    "```{figure} ../images/programmingloops.svg\n",
    ":name: my-fig-ref-t1\n",
    "My figure title.\n",
    "```\n",
    "As an example of iteration, consider the first program ever to run on a\n",
    "stored-program computer (the EDSAC). It was written and run by David Wheeler\n",
    "in the computer laboratory in Cambridge University, England, on May 6, 1949,\n",
    "to calculate and print a simple list of squares like this:\n",
    "Its generally better to use for loops in C++, but while loops exist too.\n",
    "\n",
    "\n",
    "```{list-table}\n",
    ":header-rows: 1\n",
    ":name: example_table_4\n",
    "* - Generic While Loop\n",
    "  - Example While Loop\n",
    "* - ```{mermaid}\n",
    "    :align: center\n",
    "    :zoom:\n",
    "    flowchart TD\n",
    "      A([\"Program Flow Approaches the While Loop\"]) --> B[\"Set Loop Variable\"]\n",
    "      B --> C{\"Check Termination Condition\"}\n",
    "      C -- Condition True --> D[\"Processes to be Repeated Every Loop\"]\n",
    "      C --> n[\"Anchor\"]\n",
    "      n -- Condition False --> E([\"Continue to Next Section of Program\"])\n",
    "      D --> F[\"Increment Loop Variable, or Implement Selection Criteria\"]\n",
    "      F --> C\n",
    "      n@{ shape: anchor}\n",
    "      style A fill:#E1BEE7,stroke:#AA00FF\n",
    "      style B fill:#E1BEE7,stroke:#AA00FF\n",
    "      style C fill:#E1BEE7,stroke:#AA00FF\n",
    "      style D fill:#E1BEE7,stroke:#AA00FF\n",
    "      style E fill:#E1BEE7,stroke:#AA00FF\n",
    "      style F fill:#E1BEE7,stroke:#AA00FF  \n",
    "      linkStyle 0 stroke:#AA00FF,fill:none\n",
    "      linkStyle 1 stroke:#AA00FF,fill:none\n",
    "      linkStyle 2 stroke:#AA00FF\n",
    "      linkStyle 3 stroke:#AA00FF,fill:none\n",
    "      linkStyle 4 stroke:#AA00FF,fill:none\n",
    "      linkStyle 5 stroke:#AA00FF,fill:none\n",
    "      linkStyle 6 stroke:#AA00FF,fill:none0FF\n",
    "    ```\n",
    "  - ```{mermaid}\n",
    "    :align: center\n",
    "    :zoom:\n",
    "    flowchart TD\n",
    "      A([\"Arrival\"]) --> B[\"Set Loop Counter: Count = 1;\"]\n",
    "      B --> C{\"Check Counter &lt; 100\"}\n",
    "      C -- Condition True --> D[\"Process to be Repeated Every Loop\"]\n",
    "      C --> n[\"Anchor\"]\n",
    "      n -- Condition False --> E([\"Continue fa:fa-code\"])\n",
    "      D --> F[\"Increment Loop Counter: Count += 1\"]\n",
    "      F --> C\n",
    "      n@{ shape: anchor}\n",
    "      style A fill:#E1BEE7,stroke:#AA00FF\n",
    "      style B fill:#E1BEE7,stroke:#AA00FF\n",
    "      style C fill:#E1BEE7,stroke:#AA00FF\n",
    "      style D fill:#E1BEE7,stroke:#AA00FF\n",
    "      style E fill:#E1BEE7,stroke:#AA00FF\n",
    "      style F fill:#E1BEE7,stroke:#AA00FF  \n",
    "      linkStyle 0 stroke:#AA00FF,fill:none\n",
    "      linkStyle 1 stroke:#AA00FF,fill:none\n",
    "      linkStyle 2 stroke:#AA00FF\n",
    "      linkStyle 3 stroke:#AA00FF,fill:none\n",
    "      linkStyle 4 stroke:#AA00FF,fill:none\n",
    "      linkStyle 5 stroke:#AA00FF,fill:none\n",
    "      linkStyle 6 stroke:#AA00FF,fill:none\n",
    "    ```\n",
    "```\n",
    "\n",
    "\n",
    "\n",
    "std::string previous = \"\";\n",
    "std::string current;\n",
    "while (std::cin >> current) {\n",
    "\tif (previous == current)\n",
    "\tstd::cout << \"repeated word : \" << current << '\\n’;\n",
    "\tprevious = current;\n",
    "}\n",
    "Notice that the conditional statement for both while and if are in parens.\n",
    "In this case – the loop condition is the receipt of a valid input. \n",
    "Try again but make the variable int’s. What happens if you type letters?\n",
    "Use Crtl+Z to end a loop. Ctrl+D in linux.\n",
    "\n",
    "int main()\n",
    "{\n",
    "int i = 0; // start from 0\n",
    "while (i<100) {\n",
    "cout << i << '\\t' << square(i) << '\\n';\n",
    "++i; // increment i (that is, i becomes i+1)\n",
    "}\n",
    "}\n",
    "\n",
    "\n",
    "## Loop Exit\n",
    "\n",
    "\n",
    "If the condition of an iteration statement is forgotten the loop will run until the program crashes - this can tie up a computer for a very long time.\n",
    "\n",
    "The iteration condition may also be intentially omitted, provided there is an alternaive method provided to end the loop.\n",
    "\n",
    "The program can exit an interation statemnet by arriving at the keywords, `break`, `return`, `goto`, or `throw`.\n",
    "\n",
    "### `break`\n",
    "\n",
    "`break` - cause the program to break out of the nearest enclosing {term}`switch statement` or {term}`iteration statement` . `break` is used if the logical flow may require the program to leave the loop in the middle.\n",
    "\n",
    "The `break` is usually found as an option in a selection-statement within the loop.\n",
    "\n",
    "It is usually better to exit loops via the loop exit condition unless the logic requires extra variables an complexity."
   ]
  },
  {
   "cell_type": "code",
   "execution_count": 1,
   "id": "0a895d86",
   "metadata": {},
   "outputs": [
    {
     "data": {
      "text/markdown": [
       "0\t1\t2\t3\t4\t5\t6\t7\t8\t9\t10\t11\t12\t13\t14\t15\t16\t17\t18\t19\t\r\n",
       "\r\n",
       "The loop terminated when i =20. First element was 0!"
      ]
     },
     "metadata": {},
     "output_type": "display_data"
    }
   ],
   "source": [
    "#include <iostream>\n",
    "#include <vector>\n",
    "int main() {\n",
    "  std::vector<int> collectedValues = {};   //creates an empty vector.\n",
    "  for (int i = 0; i < 100; ++i) {          // contorls a loop that adds an element to the vector each time.\n",
    "    if (collectedValues.size() == 20) {         //size() - member function - most C++ containers - returns number of elements.\n",
    "      std::cout << '\\n' << \"The loop terminated when i =\" << i << \". First element was 0!\";    // Prints out only if vector has 20 elements.\n",
    "      break;                                                   // Exits the loop when vector has 20 elements. \n",
    "     }  \n",
    "    collectedValues.push_back(i);  //push_back() - a member function - appends its argument at end of vector.\n",
    "    std::cout << i << \"\\t\";                                   // Prints the value of the loop variable.\n",
    "  }\n",
    "  return 0;\n",
    "}"
   ]
  },
  {
   "cell_type": "markdown",
   "id": "dc67fca7",
   "metadata": {},
   "source": [
    "An alternative is to use `continue` which result in the next iteration starting immediately jumping over any remaining code statements in the current loop.\n",
    "\n",
    "### `continue`"
   ]
  },
  {
   "cell_type": "code",
   "execution_count": 2,
   "id": "c00c5643",
   "metadata": {},
   "outputs": [
    {
     "data": {
      "text/markdown": [
       "1"
      ]
     },
     "metadata": {},
     "output_type": "display_data"
    },
    {
     "data": {
      "text/markdown": [
       "\t2\t3\t4\t6\t7\t8\t9\t11\t12\t13\t14\t16\t17\t18\t19\t"
      ]
     },
     "metadata": {},
     "output_type": "display_data"
    }
   ],
   "source": [
    "#include <iostream>\n",
    "int main() {\n",
    "  for (int i = 0; i < 21; ++i) {\n",
    "    if (i % 5 == 0) continue;  // if is exactly divisible by 5, skip printing the value of i.\n",
    "    std::cout << i << \"\\t\";\n",
    "  }\n",
    "  return 0;\n",
    "}"
   ]
  },
  {
   "cell_type": "markdown",
   "id": "bc9b31dd",
   "metadata": {},
   "source": [
    "### Goto\n",
    "`goto` statements are best avoided in most programming languages. Code has a simpler structure, and is more easily obtained without the use of `goto`."
   ]
  }
 ],
 "metadata": {
  "jupytext": {
   "formats": "md:myst",
   "text_representation": {
    "extension": ".md",
    "format_name": "myst"
   }
  },
  "kernelspec": {
   "display_name": "C++ 20",
   "language": "c++",
   "name": "cpp20"
  },
  "language_info": {
   "file_extension": ".cpp",
   "mimetype": "text/markdown",
   "name": "C++",
   "version": "1.0.0a9"
  },
  "source_map": [
   11,
   132,
   147,
   153,
   162
  ]
 },
 "nbformat": 4,
 "nbformat_minor": 5
}