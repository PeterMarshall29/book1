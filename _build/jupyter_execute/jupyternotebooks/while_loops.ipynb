{
 "cells": [
  {
   "cell_type": "markdown",
   "id": "4b5ca62f",
   "metadata": {},
   "source": [
    "(while)=\n",
    "# While Loops\n",
    "```{note}\n",
    ":class: margin\n",
    "{attribution=\"Yogi Berra\" }\n",
    "> It's déjà vu all over again.\n",
    "```\n",
    "A `while` statement will repeatedly execute a sequence of code statements until a condition becomes false.\n",
    "\n",
    "For the while-statement, the condition is checked before each execution. \n",
    "\n",
    "C++ also has a `do-while` statement, which only differs by not checking the condition until after execution of the loop body - guaranteeing the first execution occurs, even if the condition is false.\n",
    "\n",
    "It is usually recommended to prefer for-statements in C++.\n",
    "\n",
    "```{figure} ../images/programmingloops.svg\n",
    ":name: my-fig-ref-t1\n",
    "Iteration Methods\n",
    "```\n",
    "`````{syntax-start} While Statements\n",
    ":class: dropdown\n",
    ":nonumber:\n",
    "`````\n",
    "Syntax of While Loop.\n",
    "````{code-block} c++\n",
    "while (conditional expression) {\n",
    "  code to be repeatedly executed here...\n",
    "}\n",
    "````\n",
    "```{Warning}\n",
    "Programmers must ensure there is a logical way for the program to exit every while loop.\n",
    "```\n",
    "`````{syntax-end}\n",
    "`````\n",
    "\n",
    "\n",
    "\n",
    "\n",
    "\n",
    "```{list-table}\n",
    ":header-rows: 1\n",
    ":name: example_table_4\n",
    "* - Generic While Loop\n",
    "  - Example While Loop\n",
    "* - ```{figure} ../images/WhileLoopGeneral.svg\n",
    "    :name: my-fig-ref-t1\n",
    "    Iteration Methods\n",
    "    ```\n",
    "  - ```{figure} ../images/WhileLoopExample.svg\n",
    "    :name: my-fig-ref-t1\n",
    "    Iteration Methods\n",
    "    ```\n",
    "```\n",
    "`````{code_example-start} While Statements\n",
    ":class: dropdown\n",
    ":nonumber:\n",
    "`````\n",
    "A simple while-loop example:"
   ]
  },
  {
   "cell_type": "code",
   "execution_count": null,
   "id": "6059b2c7",
   "metadata": {
    "tags": [
     "remove-output",
     "skip-execution"
    ]
   },
   "outputs": [],
   "source": [
    "#include <iostream>\n",
    "int main() {\n",
    "    int myInt = 1;\n",
    "    while (myInt != 11) {\n",
    "        std::cout << myInt << '\\t';\n",
    "        ++myInt;\n",
    "    }\n",
    "    return 0;\n",
    "}"
   ]
  },
  {
   "cell_type": "markdown",
   "id": "19e5d282",
   "metadata": {},
   "source": [
    "If the condition depends on a variable value, there must be way for that value to change, or the loop runs forever. In this case `myInt` is increments on each execution.\n",
    "\n",
    "There condtion can be anything which evaluates to true - includeing just using the keyword `true`."
   ]
  },
  {
   "cell_type": "code",
   "execution_count": null,
   "id": "a0885c4e",
   "metadata": {
    "tags": [
     "remove-output",
     "skip-execution"
    ]
   },
   "outputs": [],
   "source": [
    "#include <iostream>\n",
    "#include <string>\n",
    "int main() {\n",
    "    std::string previousWord = \"\";\n",
    "    std::string currentWord;\n",
    "    while (std::cin >> currentWord) {\n",
    "        if (previousWord == currentWord) std::cout << \"Repeated word : \" << currentWord << '\\n';\n",
    "        previousWord = currentWord;\n",
    "    }\n",
    "    return 0;\n",
    "}"
   ]
  },
  {
   "cell_type": "markdown",
   "id": "540ad4c3",
   "metadata": {},
   "source": [
    "In this case, the loop condition is the receipt of a valid input. \n",
    "\n",
    "Try again but make the variable int's. What happens if you type letters?\n",
    "\n",
    "Remember that the conditional expressions must be in parens in C++ - as shown here for both `while` and `if`.\n",
    "\n",
    "`````{code_example-end} \n",
    "`````\n",
    "\n",
    "## Loop Exit\n",
    "\n",
    "If the condition of an iteration statement is forgotten the loop will run until the program crashes - this can tie up a computer for a very long time.\n",
    "\n",
    "Use {kbd}`Crtl+Z` to end a loop. {kbd}`Ctrl+D` in Linux.\n",
    "\n",
    "The iteration condition may also be intentionally omitted, but an alternative method to end the loop is required.\n",
    "\n",
    "The program can exit an iteration statement by arriving at the keywords, `break`, `return`, `goto`, or `throw`.\n",
    "\n",
    "### `break`\n",
    "\n",
    "`break` - causes the program to break out of the nearest enclosing {term}`switch statement` or {term}`iteration statement`. `break` is used if the logical flow may require the program to leave the loop in the middle.\n",
    "\n",
    "The `break` is usually found as an option in a selection-statement within the loop.\n",
    "\n",
    "It is usually better to exit loops via the loop exit condition unless the logic requires extra variables an complexity. \n",
    "\n",
    "`````{code_example-start} Break\n",
    ":class: dropdown\n",
    ":nonumber:\n",
    "`````\n",
    "Example of using break to exit a loop."
   ]
  },
  {
   "cell_type": "code",
   "execution_count": 1,
   "id": "dca05e98",
   "metadata": {},
   "outputs": [
    {
     "data": {
      "text/markdown": [
       "0\t1\t2\t3\t4\t5\t6\t7\t8\t9\t10\t11\t12\t13\t14\t15\t16\t17\t18\t19\t\r\n",
       "\r\n",
       "The loop terminated when i =20. First element was 0!"
      ]
     },
     "metadata": {},
     "output_type": "display_data"
    }
   ],
   "source": [
    "#include <iostream>\n",
    "#include <vector>\n",
    "int main() {\n",
    "  std::vector<int> collectedValues = {};   //creates an empty vector.\n",
    "  for (int i = 0; i < 100; ++i) {          // contorls a loop that adds an element to the vector each time.\n",
    "    if (collectedValues.size() == 20) {         //size() - member function - most C++ containers - returns number of elements.\n",
    "      std::cout << '\\n' << \"The loop terminated when i =\" << i << \". First element was 0!\";    // Prints out only if vector has 20 elements.\n",
    "      break;                                                   // Exits the loop when vector has 20 elements. \n",
    "     }  \n",
    "    collectedValues.push_back(i);  //push_back() - a member function - appends its argument at end of vector.\n",
    "    std::cout << i << \"\\t\";                                   // Prints the value of the loop variable.\n",
    "  }\n",
    "  return 0;\n",
    "}"
   ]
  },
  {
   "cell_type": "markdown",
   "id": "886f5f42",
   "metadata": {},
   "source": [
    "`````{code_example-end} \n",
    "`````\n",
    "An alternative is to use `continue` which result in the next iteration starting immediately jumping over any remaining code statements in the current loop.\n",
    "\n",
    "### `continue`\n",
    "`````{code_example-start} Continue\n",
    ":class: dropdown\n",
    ":nonumber:\n",
    "`````\n",
    "Example of using continue to skip one iteration of a loop."
   ]
  },
  {
   "cell_type": "code",
   "execution_count": 2,
   "id": "db1ef04d",
   "metadata": {},
   "outputs": [
    {
     "data": {
      "text/markdown": [
       "1"
      ]
     },
     "metadata": {},
     "output_type": "display_data"
    },
    {
     "data": {
      "text/markdown": [
       "\t2\t3\t4\t6\t7\t8\t9\t11\t12\t13\t14\t16\t17\t18\t19\t"
      ]
     },
     "metadata": {},
     "output_type": "display_data"
    }
   ],
   "source": [
    "#include <iostream>\n",
    "int main() {\n",
    "  for (int i = 0; i < 21; ++i) {\n",
    "    if (i % 5 == 0) continue;  // if is exactly divisible by 5, skip printing the value of i.\n",
    "    std::cout << i << \"\\t\";\n",
    "  }\n",
    "  return 0;\n",
    "}"
   ]
  },
  {
   "cell_type": "markdown",
   "id": "718f62ff",
   "metadata": {},
   "source": [
    "`````{code_example-end} \n",
    "`````\n",
    "### Goto\n",
    "`goto` statements are best avoided in most programming languages. Code has a simpler structure, and is more easily obtained without the use of `goto`."
   ]
  }
 ],
 "metadata": {
  "jupytext": {
   "formats": "md:myst",
   "text_representation": {
    "extension": ".md",
    "format_name": "myst"
   }
  },
  "kernelspec": {
   "display_name": "C++ 20",
   "language": "c++",
   "name": "cpp20"
  },
  "language_info": {
   "file_extension": ".cpp",
   "mimetype": "text/markdown",
   "name": "C++",
   "version": "1.0.0a9"
  },
  "source_map": [
   11,
   71,
   82,
   87,
   100,
   133,
   148,
   159,
   168
  ]
 },
 "nbformat": 4,
 "nbformat_minor": 5
}