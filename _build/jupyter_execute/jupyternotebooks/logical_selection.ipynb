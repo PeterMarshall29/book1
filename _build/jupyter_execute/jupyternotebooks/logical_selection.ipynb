{
 "cells": [
  {
   "cell_type": "markdown",
   "id": "cadd6809",
   "metadata": {},
   "source": [
    "# Logical Selection\n",
    "\n",
    "\n",
    "Expressions\n",
    " C++ C++ language Expressions \n",
    "An expression is a sequence of operators and their operands, that specifies a computation.\n",
    "\n",
    "Expression evaluation may produce a result (e.g., evaluation of 2 + 2 produces the result 4) and may generate side-effects (e.g. evaluation of std::printf(\"%d\", 4) prints the character '4' on the standard output).\n",
    "\n",
    "Each C++ expression is characterized by two independent properties: A type and a value category.\n",
    "\n",
    "General\n",
    "value categories (lvalue, rvalue, glvalue, prvalue, xvalue(since C++11)) classify expressions by their values\n",
    "order of evaluation of arguments and subexpressions specify the order in which intermediate results are obtained"
   ]
  }
 ],
 "metadata": {
  "jupytext": {
   "formats": "md:myst",
   "text_representation": {
    "extension": ".md",
    "format_name": "myst"
   }
  },
  "kernelspec": {
   "display_name": "C++ 20",
   "language": "c++",
   "name": "cpp20"
  },
  "language_info": {
   "file_extension": ".cpp",
   "mimetype": "text/x-c++src",
   "name": "C++",
   "version": "1.0.0a9"
  },
  "source_map": [
   11
  ]
 },
 "nbformat": 4,
 "nbformat_minor": 5
}