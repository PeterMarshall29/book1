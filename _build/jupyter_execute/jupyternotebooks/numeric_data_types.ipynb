{
 "cells": [
  {
   "cell_type": "markdown",
   "id": "bcf815a8",
   "metadata": {},
   "source": [
    "# Numeric Data Types\n",
    "\n",
    "## Floating Point Literals\n",
    "\n",
    "By default, a floating-point literal is of type double. Again, a compiler ought to warn about floating-\n",
    "point literals that are too large to be represented. Here are some floating-point literals:\n",
    "1.23 .23 0.23 1. 1.0 1.2e10 1.23e−15\n",
    "Note that a space cannot occur in the middle of a floating-point literal. For example, 65.43 e−21 is not a floating-point literal but rather four separate lexical tokens (causing a syntax error):\n",
    "65.43 e − 21\n",
    "If you want a floating-point literal of type float, you can define one using the suffix f or F:\n",
    "3.14159265f 2.0f 2.997925F 2.9e−3f\n",
    "If you want a floating-point literal of type long double, you can define one using the suffix l or L:\n",
    "3.14159265L 2.0L 2.997925L 2.9e−3L\n",
    "\n",
    "## `Sizeof()`\n",
    "\n",
    "Some implementation-defined aspects of fundamental types can be found by a simple use of sizeof, and more can be found in <limits>. For example:\n",
    "//#include <limits>\n",
    "int main()\n",
    "{\n",
    "\tstd::cout << \"size of long \" << sizeof(1L) << '\\n';\n",
    "\tstd::cout << \"size of long long \" << sizeof(1LL) << '\\n';\n",
    "\tstd::cout << \"largest float == \" << std::numeric_limits<float>::max() << '\\n';\n",
    "\tstd::cout << \"char is signed == \" << std::numeric_limits<char>::is_signed << '\\n';\n",
    "}\n",
    "The functions in <limits> (§40.2) are constexpr (§10.4) so that they can be used without run-time overhead and in contexts that require a constant expression."
   ]
  }
 ],
 "metadata": {
  "jupytext": {
   "formats": "md:myst",
   "text_representation": {
    "extension": ".md",
    "format_name": "myst"
   }
  },
  "kernelspec": {
   "display_name": "C++ 20",
   "language": "c++",
   "name": "cpp20"
  },
  "language_info": {
   "file_extension": ".cpp",
   "mimetype": "text/x-c++src",
   "name": "C++",
   "version": "1.0.0a9"
  },
  "source_map": [
   11
  ]
 },
 "nbformat": 4,
 "nbformat_minor": 5
}