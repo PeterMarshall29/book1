{
 "cells": [
  {
   "cell_type": "markdown",
   "id": "7c3bd2ab",
   "metadata": {},
   "source": [
    "# Exercises 5\n",
    "\n",
    "````{exercise-start} \n",
    ":label: exerciseex51\n",
    ":class: dropdown\n",
    "````\n",
    "Correct the following function and add the rest of a program needed to demonstrate a call to the function. \n",
    "\n",
    "The function should return the squared value of two integers."
   ]
  },
  {
   "cell_type": "code",
   "execution_count": null,
   "id": "69637096",
   "metadata": {
    "tags": [
     "remove-output",
     "skip-execution"
    ]
   },
   "outputs": [],
   "source": [
    "int squed(inta) {\n",
    "\ta * a;\n",
    "}"
   ]
  },
  {
   "cell_type": "markdown",
   "id": "e4bc88e1",
   "metadata": {},
   "source": [
    "````{exercise-end}\n",
    "````\n",
    "\n",
    "````{solution-start} exerciseex51\n",
    ":label: solutionex51\n",
    ":class: dropdown\n",
    "````\n",
    "```{code-block} c++\n",
    "#include <iostream>\n",
    "int squaredValueOf(int a) {\n",
    "    return a * a;\n",
    "}\n",
    "int main() {\n",
    "    int userInt;\n",
    "    std::cout << \"Please type in an integer value ..\\n\";\n",
    "    std::cin >> userInt;\n",
    "    std::cout << \"The square of \" << userInt << \" is \" << squaredValueOf(userInt)<< \"!\";\n",
    "    return 0;\n",
    "}\n",
    "```\n",
    "````{solution-end}\n",
    "````\n",
    "\n",
    "````{exercise-start} \n",
    ":label: exerciseex52\n",
    ":class: dropdown\n",
    "````\n",
    "Write a function that takes an integer value and returns one more than that value.\n",
    "Write a program that calls your function and prints both values to the display."
   ]
  },
  {
   "cell_type": "code",
   "execution_count": null,
   "id": "16b1e92e",
   "metadata": {
    "tags": [
     "remove-output",
     "skip-execution"
    ]
   },
   "outputs": [],
   "source": [
    "Code goes here...."
   ]
  },
  {
   "cell_type": "markdown",
   "id": "013c24e8",
   "metadata": {},
   "source": [
    "````{exercise-end}\n",
    "````\n",
    "\n",
    "````{solution-start} exerciseex52\n",
    ":label: solutionex52\n",
    ":class: dropdown\n",
    "````\n",
    "```{code-block} c++\n",
    "#include <iostream>\n",
    "int incrementFunction(int number) {\n",
    "\treturn ++number;\n",
    "}\n",
    "int main () {\n",
    "  int number;\n",
    "  std::cout << \"Please type in a number.. \\n\";\n",
    "  std::cin >> number;\n",
    "  std::cout << \" Your number was: \" << number << \" and one more is: \" << numberincrementFunction(number) << '\\n';\n",
    "  return 0;\n",
    "}\n",
    "```\n",
    "````{solution-end}\n",
    "````\n",
    "\n",
    "````{exercise-start} \n",
    ":label: exerciseex53\n",
    ":class: dropdown\n",
    "````\n",
    "Write a function that takes two integer values and returns a true is their sum is less than 100..\n",
    "Write a program that calls your function and prints a statement telling the user if their sum is less than 100 or not."
   ]
  },
  {
   "cell_type": "code",
   "execution_count": null,
   "id": "fcd99ac8",
   "metadata": {
    "tags": [
     "remove-output",
     "skip-execution"
    ]
   },
   "outputs": [],
   "source": [
    "Code goes here...."
   ]
  },
  {
   "cell_type": "markdown",
   "id": "ecd28805",
   "metadata": {},
   "source": [
    "````{exercise-end}\n",
    "````\n",
    "\n",
    "````{solution-start} exerciseex53\n",
    ":label: solutionex53\n",
    ":class: dropdown\n",
    "````\n",
    "```{code-block} c++\n",
    "#include <iostream>\n",
    "bool sumIsLessThan100(int A, int B) {\n",
    "\treturn (A + B < 100) ?  true : false;\n",
    "}\n",
    "int main () {\n",
    "  int A , B;\n",
    "  std::cout << \"Please type in two numbers number, both less than 100.. \\n\";\n",
    "  std::cin >> A >> B;\n",
    "  std::cout << \" It is \" << sumIsLessThan100(A , B) << \" that the sum of \" << A << \" and \" << B << \" is less than 100! <<'\\n';\n",
    "  return 0;\n",
    "}\n",
    "```\n",
    "````{solution-end}\n",
    "````\n",
    "\n",
    "\n",
    "\n",
    "\n",
    "````{exercise-start} \n",
    ":label: exerciseex54\n",
    ":class: dropdown\n",
    "````\n",
    "Write a function that takes in two integers, hours and minutes, and then converts them to a total number of seconds.\n",
    "Complete the program needed to do this, and include a loop, so that the user can repeat the conversion without restarting the program."
   ]
  },
  {
   "cell_type": "code",
   "execution_count": null,
   "id": "a12925a3",
   "metadata": {
    "tags": [
     "remove-output",
     "skip-execution"
    ]
   },
   "outputs": [],
   "source": [
    "int convertToSeconds(int hours, int minutes) {\n",
    "\tfunction_body Code goes here....\n",
    "}"
   ]
  },
  {
   "cell_type": "markdown",
   "id": "97bc4214",
   "metadata": {},
   "source": [
    "````{exercise-end}\n",
    "````\n",
    "\n",
    "````{solution-start} exerciseex54\n",
    ":label: solutionex54\n",
    ":class: dropdown\n",
    "````\n",
    "```{code-block} c++\n",
    "#include <iostream>\n",
    "int convertToSeconds(int hours, int minutes) {\n",
    "    return 3600 * hours + 60 * minutes;\n",
    "}\n",
    "int main() {\n",
    "    int hoursInt;\n",
    "    int minutesInt;\n",
    "    for (;;) {\n",
    "        std::cout << \"Please type in a time as a number of hours followed by a number of minutes, or type x to exit.\\n\";\n",
    "        if (std::cin >> hoursInt >> minutesInt) {\n",
    "            std::cout << \"The number of seconds in \" << hoursInt << \" hours and \" << minutesInt << \" minutes is \" << convertToSeconds(hoursInt, minutesInt) << \" seconds!\";\n",
    "        }\n",
    "        else {\n",
    "            break;\n",
    "        }\n",
    "    }\n",
    "    return 0;\n",
    "}\n",
    "```\n",
    "````{solution-end}\n",
    "````\n",
    "\n",
    "\n",
    "````{exercise-start} \n",
    ":label: exerciseex55\n",
    ":class: dropdown\n",
    "````\n",
    "Write functions for the following:\n",
    "a.\tCalculation of a factorial using recursion.\n",
    "b.\tCalculation of arctan using the Taylor series expansion.\n",
    "c.\tEstimation of pi using the Wallis product.\n",
    "d.  Generate the Fibonacci sequence to a given number of terms."
   ]
  },
  {
   "cell_type": "code",
   "execution_count": null,
   "id": "5f912ad8",
   "metadata": {
    "tags": [
     "remove-output",
     "skip-execution"
    ]
   },
   "outputs": [],
   "source": [
    "Code goes here...."
   ]
  },
  {
   "cell_type": "markdown",
   "id": "3112cd78",
   "metadata": {},
   "source": [
    "````{exercise-end}\n",
    "````\n",
    "\n",
    "````{solution-start} exerciseex55\n",
    ":label: solutionex55\n",
    ":class: dropdown\n",
    "````\n",
    "```{code-block} c++\n",
    "int factorial(int number) {\n",
    "  if (number == 0 || number == 1) return 1;\n",
    "  return number * factorial(number - 1);\n",
    "}\n",
    "```\n",
    "\n",
    "\n",
    "\n",
    "\n",
    "\n",
    "//Fibonacci\n",
    "```{code-block} c++\n",
    "#include <iostream>\n",
    "int main() {\n",
    "    int numberOfTerms, firstTerm = 0, secondTerm = 1, nextTerm = 0;\n",
    "    std::cout << \"Please enter the number of terms to print the Fibonacci sequence: \\n\";\n",
    "    std::cin >> numberOfTerms;\n",
    "    std::cout << \"The Fibonacci Sequence to \" << numberOfTerms << \" is : [\" << firstTerm << \"\\t \" << secondTerm;\n",
    "\n",
    "    for (int i = 1; i <= numberOfTerms - 2; ++i) {\n",
    "        nextTerm = firstTerm + secondTerm;\n",
    "        std::cout << '\\t' << nextTerm;\n",
    "        firstTerm = secondTerm;\n",
    "        secondTerm = nextTerm;\n",
    "    }\n",
    "    std::cout << \" ]\";\n",
    "    return 0;\n",
    "}\n",
    "```\n",
    "\n",
    "````{solution-end}\n",
    "````\n",
    "\n",
    "\n",
    "````{exercise-start} \n",
    ":label: exerciseex56\n",
    ":class: dropdown\n",
    "````"
   ]
  },
  {
   "cell_type": "code",
   "execution_count": null,
   "id": "4ebbb85a",
   "metadata": {
    "tags": [
     "remove-output",
     "skip-execution"
    ]
   },
   "outputs": [],
   "source": [
    "Code goes here...."
   ]
  },
  {
   "cell_type": "markdown",
   "id": "d264ad71",
   "metadata": {},
   "source": [
    "````{exercise-end}\n",
    "````\n",
    "\n",
    "````{solution-start} exerciseex56\n",
    ":label: solutionex56\n",
    ":class: dropdown\n",
    "````\n",
    "```{code-block} c++\n",
    "\n",
    "```\n",
    "````{solution-end}\n",
    "````\n",
    "\n",
    "\n",
    "````{exercise-start} \n",
    ":label: exerciseex57\n",
    ":class: dropdown\n",
    "````"
   ]
  },
  {
   "cell_type": "code",
   "execution_count": null,
   "id": "42965cc3",
   "metadata": {
    "tags": [
     "remove-output",
     "skip-execution"
    ]
   },
   "outputs": [],
   "source": [
    "Code goes here...."
   ]
  },
  {
   "cell_type": "markdown",
   "id": "22722a06",
   "metadata": {},
   "source": [
    "````{exercise-end}\n",
    "````\n",
    "\n",
    "````{solution-start} exerciseex57\n",
    ":label: solutionex57\n",
    ":class: dropdown\n",
    "````\n",
    "```{code-block} c++\n",
    "\n",
    "```\n",
    "````{solution-end}\n",
    "````\n",
    "\n",
    "````{exercise-start} \n",
    ":label: exerciseex58\n",
    ":class: dropdown\n",
    "````"
   ]
  },
  {
   "cell_type": "code",
   "execution_count": null,
   "id": "a64d3c46",
   "metadata": {
    "tags": [
     "remove-output",
     "skip-execution"
    ]
   },
   "outputs": [],
   "source": [
    "Code goes here...."
   ]
  },
  {
   "cell_type": "markdown",
   "id": "e3574006",
   "metadata": {},
   "source": [
    "````{exercise-end}\n",
    "````\n",
    "\n",
    "````{solution-start} exerciseex58\n",
    ":label: solutionex58\n",
    ":class: dropdown\n",
    "````\n",
    "```{code-block} c++\n",
    "\n",
    "```\n",
    "````{solution-end}\n",
    "````\n",
    "\n",
    "````{exercise-start} \n",
    ":label: exerciseex59\n",
    ":class: dropdown\n",
    "````"
   ]
  },
  {
   "cell_type": "code",
   "execution_count": null,
   "id": "b47ac27d",
   "metadata": {
    "tags": [
     "remove-output",
     "skip-execution"
    ]
   },
   "outputs": [],
   "source": [
    "Code goes here...."
   ]
  },
  {
   "cell_type": "markdown",
   "id": "08a5e31a",
   "metadata": {},
   "source": [
    "````{exercise-end}\n",
    "````\n",
    "\n",
    "````{solution-start} exerciseex59\n",
    ":label: solutionex59\n",
    ":class: dropdown\n",
    "````\n",
    "```{code-block} c++\n",
    "\n",
    "```\n",
    "````{solution-end}\n",
    "````\n",
    "\n",
    "````{exercise-start} \n",
    ":label: exerciseex510\n",
    ":class: dropdown\n",
    "````"
   ]
  },
  {
   "cell_type": "code",
   "execution_count": null,
   "id": "7af2d54e",
   "metadata": {
    "tags": [
     "remove-output",
     "skip-execution"
    ]
   },
   "outputs": [],
   "source": [
    "Code goes here...."
   ]
  },
  {
   "cell_type": "markdown",
   "id": "ca91bf1a",
   "metadata": {},
   "source": [
    "````{exercise-end}\n",
    "````\n",
    "\n",
    "````{solution-start} exerciseex510\n",
    ":label: solutionex510\n",
    ":class: dropdown\n",
    "````\n",
    "```{code-block} c++\n",
    "\n",
    "```\n",
    "````{solution-end}\n",
    "````"
   ]
  }
 ],
 "metadata": {
  "jupytext": {
   "formats": "md:myst",
   "text_representation": {
    "extension": ".md",
    "format_name": "myst"
   }
  },
  "kernelspec": {
   "display_name": "C++ 20",
   "language": "c++",
   "name": "cpp20"
  },
  "language_info": {
   "file_extension": ".cpp",
   "mimetype": "text/markdown",
   "name": "C++",
   "version": "1.0.0a9"
  },
  "source_map": [
   11,
   22,
   27,
   57,
   60,
   90,
   93,
   126,
   131,
   173,
   176,
   224,
   227,
   247,
   250,
   269,
   272,
   291,
   294,
   313,
   316
  ]
 },
 "nbformat": 4,
 "nbformat_minor": 5
}