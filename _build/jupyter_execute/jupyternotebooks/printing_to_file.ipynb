{
 "cells": [
  {
   "cell_type": "markdown",
   "id": "7ab55d63",
   "metadata": {},
   "source": [
    "# Printing to File\n",
    "\n",
    "How to write to a file in C++\n",
    "1.\tAdd if not already there:\n",
    "#include <iostream>\n",
    "#include <fstream> \n",
    "2.\tIn the main function, before any writing and outside of any loops, put the following code.\n",
    "int main()\n",
    "{ \n",
    "    std::ofstream outputFile(\"exampleName1.txt\")\n",
    "“outputFile” is the parameter name/reference to your file used in your code and the file is called “exampleName1.txt”\n",
    "3.\tTo write a line of data to the file, add inside a loop in the main function:\n",
    "outputFile << value1 << \", \\t\" << value2 << \"\\n\";\n",
    "4.\tRepeat the [ << value1 << \", \\t\" ] for as many values as needed.\n",
    "5.\tStill inside main, but after all writes to the file - Close the file\n",
    "    outputFile.close();\n",
    "   return 0;\n",
    "\n",
    " [ Optional - Check if the file is open\n",
    "    if (outFile.is_open()) {\n",
    "        outputFile << \"Hello, World!\" << std::endl;\n",
    "        std::cout << \"Data successfully written to the file!\" << std::endl;\n",
    "    } else {\n",
    "        std::cerr << \"Error: Unable to open the file for writing.\" << std::endl;\n",
    "    }\n",
    "    outputFile.clse();\n",
    "    return 0;\n",
    "}\n",
    "]\n",
    "6.\tThe file will be found in the repos as usual; see screenAdd image5.pngshot beneath for example."
   ]
  }
 ],
 "metadata": {
  "jupytext": {
   "formats": "md:myst",
   "text_representation": {
    "extension": ".md",
    "format_name": "myst"
   }
  },
  "kernelspec": {
   "display_name": "C++ 20",
   "language": "c++",
   "name": "cpp20"
  },
  "language_info": {
   "file_extension": ".cpp",
   "mimetype": "text/x-c++src",
   "name": "C++",
   "version": "1.0.0a9"
  },
  "source_map": [
   11
  ]
 },
 "nbformat": 4,
 "nbformat_minor": 5
}