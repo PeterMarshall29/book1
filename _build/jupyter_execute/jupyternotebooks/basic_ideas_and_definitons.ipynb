{
 "cells": [
  {
   "cell_type": "markdown",
   "id": "a9a5e3a3",
   "metadata": {},
   "source": [
    "# Learing the Basics\n",
    "\n",
    "Once you have learned a few more basic parts of the C++ language, understanding the language becomes much easier, because you will be able to write simple programmes to try out the new concepts.\n",
    "\n",
    "This page leads you through some basic exercies, much of the explanation is left until later chapters, this page is not intended to present fully decriptions and definitions.\n",
    "\n",
    "In the Compuational Physics module, we are mainly concerned with writing code that will take user inputs, perform calculations, and then return 'answers' to the user. This requires us to learn only a subset of the C++ langugage and programming concepts.\n",
    "\n",
    "## Expressions and Statements\n",
    "\n",
    "A computer programme is a sequences of statements, which are executed sequentially.\n",
    "````{admonition} Types of Statement\n",
    ":class: dropdown\n",
    "C++ includes the following types of statements:\n",
    "* Labeled statements - adds a label to another type of statement, to allow control of the flow.\n",
    "* Expression statements\n",
    "* Compound statements\n",
    "* [Selection](selection) statements\n",
    "* [Iteration](iteration) statements\n",
    "* [Jump statements]\n",
    "````\n",
    "The simplest type of statement is an {term}`expression statement` - an expression followed by a terminator.\n",
    "\n",
    "Expression are sequences of operators and their operands, that specifies a computation.\n",
    "\n",
    "When the expression statement is executed, the expression is evaluated, producing a result which will have a {term}`value` and a {term}`type`.\n",
    "\n",
    "Statements are always terminated by either a semicolon `;` or by a {term}`code block` {...some code here...}, which may be empty or contain statements.\n",
    "\n",
    "Forgetting to terminate a statement correctly will result in a compile-time error. \n",
    "```{tip}\n",
    ":class: margin\n",
    "The Visual Studio IDE indicates a missing `;` by highlighting the start of the next line of code.\n",
    "```\n",
    "A semicolon is a statement terminator, and by itself a statement, an {term}`empty statement` (null statement). \n",
    "\n",
    "An expression statement without an expression is called a {term}`null statement`, which may be used to provide an empty body to a for or while loop, or to carry a label in the end of a compound statement.\n",
    "\n",
    "## Basic Arithmetic Operations\n",
    "\n",
    "All programmeming languages carry out basic arithmetic operations. Normally we do not use a computer as a simple calculator, but most programmes carry out some arithmetic operations as part of their execution.\n",
    "\n",
    "`cout` can be used demonstrate the basic arithmetic operations. \n",
    "\n",
    "`````{example-start}\n",
    ":label: Exampleb1\n",
    ":class: dropdown\n",
    "`````\n",
    "Type in the following and try the exercise.\n",
    "````{code-block} cpp\n",
    ":linenos: \n",
    "#include <isotream>\n",
    "int main() {\n",
    "    std::cout << 4 + 7;\n",
    "    return 0;\n",
    "}\n",
    "````"
   ]
  },
  {
   "cell_type": "code",
   "execution_count": 1,
   "id": "edcfeb5d",
   "metadata": {
    "tags": [
     "remove-output"
    ]
   },
   "outputs": [
    {
     "name": "stderr",
     "output_type": "stream",
     "text": [
      "C:\\Users\\Peter\\AppData\\Local\\Temp\\tmp8l0byahj.cpp: In function 'int main()':\n",
      "C:\\Users\\Peter\\AppData\\Local\\Temp\\tmp8l0byahj.cpp:4:1: error: 'Type' was not declared in this scope; did you mean 'wctype'?\n",
      "    4 | Type code here!\n",
      "      | ^~~~\n",
      "      | wctype\n"
     ]
    },
    {
     "name": "stderr",
     "output_type": "stream",
     "text": [
      "\n",
      "[C++ kernel] Error: Unable to compile the source code. Return error: 0x1."
     ]
    }
   ],
   "source": [
    "Type code here!"
   ]
  },
  {
   "cell_type": "markdown",
   "id": "6ee53b92",
   "metadata": {},
   "source": [
    "The programme evaluates the expression `4 + 7` before sending the result to the character output stream (the screen).\n",
    "````{exercise}\n",
    ":class: dropdown\n",
    "- Try the operators -,*,/ and %. \n",
    "- What does the % operator do? \n",
    "- Why might that be useful?\n",
    "```{admonition} Code Explanation\n",
    ":class: dropdown\n",
    "The {term}`Modulo operator` may be new to you. See Wiki for more information:\n",
    "\n",
    "[Modulo](https://en.wikipedia.org/wiki/Modulo) : See Wiki for more information:\n",
    "\n",
    "The try using `-` as a prefix on a number, what effect does that have?\n",
    "````\n",
    "`````{example-end}\n",
    "`````\n",
    "## Mathematical Functions\n",
    "\n",
    "To access additional mathematical functions we can include the <cmath> component of the standard library.\n",
    "\n",
    "````{admonition} <cmath> Functions\n",
    ":class: note dropdown\n",
    "```{list-table}\n",
    ":header-rows: 1\n",
    ":name: <cmath>\n",
    "* - Function\n",
    "  - Description\n",
    "* - fabs(x) \n",
    "  - Absolute value of real value x\n",
    "* - pow(x, y)\n",
    "  - x raised to power y\n",
    "* - sqrt(x) \n",
    "  - Square root of x\n",
    "* - ceil(x) \n",
    "  - Least integer greater than or equal to x\n",
    "* - floor(x)\n",
    "  - Greatest integer less than or equal to x\n",
    "* - exp(x)\n",
    "  - Exponential function ex\n",
    "* - log(x)\n",
    "  - Natural logarithm of x\n",
    "* - log10(x)\n",
    "  - Base-10 logarithm of x\n",
    "* - sin(x)\n",
    "  - Sine of x (in radians)\n",
    "* - cos(x)\n",
    "  - Cosine of x (in radians)\n",
    "* - tan(x)\n",
    "  - Tangent of x (in radians)\n",
    "* - asin(x)\n",
    "  - Inverse sine of x\n",
    "* - acos(x)\n",
    "  - Inverse cosine of x\n",
    "* - atan(x)\n",
    "  - Inverse tangent of x\n",
    "* - sinh(x)\n",
    "  - Hyperbolic sine of x\n",
    "* - cosh(x)\n",
    "  - Hyperbolic cosine of x\n",
    "* - tanh(x)\n",
    "  - Hyperbolic tangent of x\n",
    "```\n",
    "````\n",
    "## Variables\n",
    "\n",
    "A computer programme that can only perform arithmetic on the values written into the original programme code would not be very useful.\n",
    "\n",
    "Instead programmes must be able ask for the numberic values that are to be used in the calculations. \n",
    "\n",
    "This requires the computer to store the number, and to be able to identify and manipulate it later.\n",
    "\n",
    "Computers use variables for this purpose. In simplest terms, like in maths, the variable is a name (single character or string of characters) that represent an unspecified value that can be used in some way.\n",
    "\n",
    "To get started we will look at creating two types of variable.\n",
    "\n",
    "To create a variable named 'a' that holds the integer value of 5, we can used the statement : `int a = 5;`\n",
    "\n",
    "After this statement in the programme, the variable `a` may be used anywhere that we want to use it's value of `5`\n",
    "\n",
    "`````{example-start}\n",
    ":label: Exampleb2\n",
    ":class: dropdown\n",
    "`````\n",
    "Type in the following code and try the Exercise.\n",
    "\n",
    "````{code-block} cpp\n",
    ":linenos: \n",
    "#include <isotream>\n",
    "int main() {\n",
    "    int a = 5;\n",
    "    std::cout << a;\n",
    "    return 0;\n",
    "}\n",
    "````"
   ]
  },
  {
   "cell_type": "code",
   "execution_count": 2,
   "id": "8d5e6939",
   "metadata": {
    "tags": [
     "remove-output"
    ]
   },
   "outputs": [
    {
     "name": "stderr",
     "output_type": "stream",
     "text": [
      "C:\\Users\\Peter\\AppData\\Local\\Temp\\tmpnjx5r_h8.cpp: In function 'int main()':\n",
      "C:\\Users\\Peter\\AppData\\Local\\Temp\\tmpnjx5r_h8.cpp:4:1: error: 'Type' was not declared in this scope; did you mean 'wctype'?\n",
      "    4 | Type code here!\n",
      "      | ^~~~\n",
      "      | wctype\n"
     ]
    },
    {
     "name": "stderr",
     "output_type": "stream",
     "text": [
      "\n",
      "[C++ kernel] Error: Unable to compile the source code. Return error: 0x1."
     ]
    }
   ],
   "source": [
    "Type code here!"
   ]
  },
  {
   "cell_type": "markdown",
   "id": "63a41000",
   "metadata": {},
   "source": [
    "When the programme gets to `a` following the `<<` operator it sends the value of `a` to the screen, not the letter 'a'.\n",
    "\n",
    "````{exercise}\n",
    ":label: exerciseb1\n",
    ":class: dropdown\n",
    "What would happen if you now declaring a second variable `b` and intstruct the program to print out `a + b`?\n",
    "\n",
    "Try it in the code space above.\n",
    "```{solution} exerciseb1\n",
    ":label: solutionb1\n",
    ":class: dropdown note\n",
    "Now the program has evaluated the arithmetic sum of the values contained in `a` and `b` - and sent that single value to the character output stream.\n",
    "```\n",
    "````\n",
    "`````{example-end}\n",
    "`````\n",
    "## Strings\n",
    "Another useful type of variable is the `string` type. A {term}`string` is a series of individual characters. \n",
    "\n",
    "To use string-type variables we need an additional component of the standard library, `<string>` to be included.\n",
    "\n",
    "The string literal must be enclosed in `\"\"`. \n",
    "\n",
    "`````{example-start}\n",
    ":label: Exampleb3\n",
    ":class: dropdown\n",
    "`````\n",
    "Try the following Code and complete the exercise.\n",
    "````{code-block} cpp\n",
    ":linenos: \n",
    "#include <isotream>\n",
    "**!! Insert code to add string library here !!**\n",
    "int main() {\n",
    "    std::string a = \"Fish\";\n",
    "    std::cout << a;\n",
    "    return 0;\n",
    "}\n",
    "````"
   ]
  },
  {
   "cell_type": "code",
   "execution_count": null,
   "id": "7dff677c",
   "metadata": {
    "tags": [
     "remove-output",
     "skip-execution"
    ]
   },
   "outputs": [],
   "source": [
    "Type code here!"
   ]
  },
  {
   "cell_type": "markdown",
   "id": "d009bc35",
   "metadata": {},
   "source": [
    "````{exercise}\n",
    "Try adding a second variable, b, with a value of \"-fingers\", and then try printing out the value of `a + b` again.\n",
    "\n",
    "```{admonition} Code Explanation\n",
    ":class: dropdown\n",
    "If done correctly, you will have demonstrated that `+` operator behaves differently when used with differnt data types. \n",
    "\n",
    "For a {term}`numeric data type` it performs 'addition', but for the {term}`string data type` it performs {term}`concatenation`.\n",
    "```\n",
    "````\n",
    "`````{example-end}\n",
    "`````\n",
    "\n",
    "\n",
    "\n",
    "\n",
    "## More Data Types\n",
    "\n",
    "In addition to strings, and integers, we need variable from the {term}`floating-point number types` and {term}`char type`.\n",
    "\n",
    "`````{example-start}\n",
    ":label: Exampleb4\n",
    ":class: dropdown\n",
    "`````\n",
    "Correct the following code and add a line to print out all the named variables, separated by tabs."
   ]
  },
  {
   "cell_type": "code",
   "execution_count": null,
   "id": "c03c0b18",
   "metadata": {
    "tags": [
     "remove-output",
     "skip-execution"
    ]
   },
   "outputs": [],
   "source": [
    "int main(){\n",
    "int age = 58;\n",
    "std::string firstName = \"Peter\";\n",
    "float shoeSize = 10.5;\n",
    "double c = 3.0e-8;\n",
    "char middleInitial = 'J';\n",
    "return 0;\n",
    "}"
   ]
  },
  {
   "cell_type": "markdown",
   "id": "ce883100",
   "metadata": {},
   "source": [
    "````{admonition} Code Explanation\n",
    ":class: note dropdown\n",
    "Single quotes denote a {term}`char type`. \n",
    "\n",
    "`Float` and `double` are both used for {term}`floating-point numbers` - \"double\" denoting double precision (twice as many bits equired for their reprentation in binary).\n",
    "\n",
    "Scientific notation is formated using a lower or upper case `e` between the significant and the index WITHOUT ANY SPACES!!   \n",
    "\n",
    "`int` is the keyword for the {term}`integer type`. \n",
    "\n",
    "`int` may be preceded by one or two modifiers - `signed`, `unsigned`, `short`, `long, `long long`. The modifiers may be used on their own, and `int` is implied; but `signed` and `unsigned` may also precede `char, and `long` may precede `double`.\n",
    "````\n",
    "`````{example-end}\n",
    "`````\n",
    "`````{exercise-start}\n",
    ":label: exerciseb3\n",
    ":class: dropdown\n",
    "`````\n",
    "Try to fix this code:"
   ]
  },
  {
   "cell_type": "code",
   "execution_count": 3,
   "id": "b8e33ce4",
   "metadata": {
    "linenos": null,
    "tags": [
     "remove-output"
    ]
   },
   "outputs": [
    {
     "name": "stderr",
     "output_type": "stream",
     "text": [
      "C:\\Users\\Peter\\AppData\\Local\\Temp\\tmpjnugcxmo.cpp: In function 'int main()':\n",
      "C:\\Users\\Peter\\AppData\\Local\\Temp\\tmpjnugcxmo.cpp:5:6: error: expected unqualified-id before 'int'\n",
      "    5 | std::int age = 52;\n",
      "      |      ^~~\n"
     ]
    },
    {
     "name": "stderr",
     "output_type": "stream",
     "text": [
      "C:\\Users\\Peter\\AppData\\Local\\Temp\\tmpjnugcxmo.cpp:6:1: error: 'string' was not declared in this scope\n",
      "    6 | string firstName = 12.0;\n",
      "      | ^~~~~~\n",
      "C:\\Users\\Peter\\AppData\\Local\\Temp\\tmpjnugcxmo.cpp:6:1: note: suggested alternatives:\n"
     ]
    },
    {
     "name": "stderr",
     "output_type": "stream",
     "text": [
      "In file included from C:/mingw64/include/c++/15.1.0/iosfwd:43,\n",
      "                 from C:/mingw64/include/c++/15.1.0/ios:42,\n",
      "                 from C:/mingw64/include/c++/15.1.0/bits/ostream.h:43,\n",
      "                 from C:/mingw64/include/c++/15.1.0/ostream:42,\n",
      "                 from C:/mingw64/include/c++/15.1.0/iostream:43,\n",
      "                 from C:\\Users\\Peter\\miniconda3\\share\\cpp_header\\check_cpp.hpp:23,\n",
      "                 from C:\\Users\\Peter\\AppData\\Local\\Temp\\tmpjnugcxmo.cpp:1:\n",
      "C:/mingw64/include/c++/15.1.0/bits/stringfwd.h:79:33: note:   'std::string'\n",
      "   79 |   typedef basic_string<char>    string;\n",
      "      |                                 ^~~~~~\n"
     ]
    },
    {
     "name": "stderr",
     "output_type": "stream",
     "text": [
      "In file included from C:/mingw64/include/c++/15.1.0/bits/locale_classes.h:42,\n",
      "                 from C:/mingw64/include/c++/15.1.0/bits/ios_base.h:43,\n",
      "                 from C:/mingw64/include/c++/15.1.0/ios:46:\n",
      "C:/mingw64/include/c++/15.1.0/string:80:11: note:   'std::pmr::string'\n",
      "   80 |     using string    = basic_string<char>;\n",
      "      |           ^~~~~~\n",
      "C:\\Users\\Peter\\AppData\\Local\\Temp\\tmpjnugcxmo.cpp:7:6: error: expected unqualified-id before 'float'\n",
      "    7 | std::float = 12.5;\n",
      "      |      ^~~~~\n"
     ]
    },
    {
     "name": "stderr",
     "output_type": "stream",
     "text": [
      "\n",
      "[C++ kernel] Error: Unable to compile the source code. Return error: 0x1."
     ]
    }
   ],
   "source": [
    "#include <iostream>\n",
    "int main(){\n",
    "std::int age = 52;\n",
    "string firstName = 12.0;\n",
    "std::float = 12.5;\n",
    "return 0;\n",
    "}"
   ]
  },
  {
   "cell_type": "markdown",
   "id": "20ab8705",
   "metadata": {},
   "source": [
    "````{solution} exerciseb3\n",
    ":class: note dropdown\n",
    ":label: solutionb3\n",
    "\n",
    "```{code-block} cpp\n",
    "#include <iostream>\n",
    "#include <string>\n",
    "int main(){\n",
    "    int age = 52;\n",
    "    std::string firstName = 12.0;\n",
    "    float = 12.5;\n",
    "return 0;\n",
    "}\n",
    "```\n",
    "`string` type variables are part of the standard library, and must be referenced by prefixing with `std::`.\n",
    "\n",
    "`int`, `float`, `double`, and `char` are all part of the {term}`core language`, and should not have `std::` attached.\n",
    "````\n",
    "`````{exercise-end}\n",
    "`````\n",
    "\n",
    "## Escape Characters\n",
    "\n",
    "````{note}\n",
    ":class: margin\n",
    "\n",
    "Waka poetry consists of five lines, with a syllable count of 5-7-5-7-7. The form is similar to haiku but with two additional lines.\n",
    "\n",
    "A poll conducted among INFOCUS readers had established \"waka\" as the\n",
    "proper pronunciation for the angle-bracket characters <,\n",
    "\n",
    "The Waka Waka Poem \" by Fred Bremmer and Steve Kroeze. \n",
    "```{card}\n",
    "<>!*''#\n",
    "^\"`$$-\n",
    "!*=@$_\n",
    "%*<>~#4\n",
    "&[]../\n",
    "|{,,SYSTEM HALTED\n",
    "```\n",
    "Translation:\n",
    "```{card}\n",
    "Waka waka bang splat tick tick hash,\n",
    "Caret quote back-tick dollar dollar dash,\n",
    "Bang splat equal at dollar underscore,\n",
    "Percent splat waka waka tilde number four,\n",
    "Ampersand bracket bracket dot dot slash,\n",
    "Vertical-bar curly-bracket comma comma CRASH .\n",
    "\n",
    "From https://ascii.co.uk/art/poem\n",
    "```\n",
    "````\n",
    "\n",
    "{term}`Escape sequences`, or 'escape characters', are used to represent special characters within a string or character literal.\n",
    "\n",
    "Certain characters in the program have to be represented with {term}`escape sequences` because the are {term}`reserved characters` that have specific meaning to the compiler.\n",
    "\n",
    "Each escape character is identifed to the program by prefixing `\\` to the character.\n",
    "\n",
    "These are mostly used in formating output. A full list of escape characters in c++ can be found [here](https://en.cppreference.com/w/cpp/language/escape.html).\n",
    "\n",
    "```{list-table}\n",
    ":header-rows: 1\n",
    ":name: Escape Sequence\n",
    "* - Character\n",
    "  - Name\n",
    "  - Effect/Description\n",
    "* - `\\n`\n",
    "  - Newline. \n",
    "  - Instructs the computer to print any following outputs on the next line.\n",
    "* - `\\t`\n",
    "  - Tab (Horizontal). \n",
    "  - Instructs the computer to put a horizontal tab before any further output to the screen or file. \n",
    "* - `\\v`\n",
    "  - Vertical Tab. \n",
    "  - Instructs the computer to put a vertical tab before any further output to the screen or file. \n",
    "* - `\\\\`\n",
    "  - Backslash\n",
    "  - Indentifies intention of a literal backslash\n",
    "* - `'`, `\"`\n",
    "  - Single and double quote marks\n",
    "  - Indentifies intention of a literal quote marks\n",
    "```"
   ]
  }
 ],
 "metadata": {
  "jupytext": {
   "formats": "md:myst",
   "text_representation": {
    "extension": ".md",
    "format_name": "myst"
   }
  },
  "kernelspec": {
   "display_name": "C++ 20",
   "language": "c++",
   "name": "cpp20"
  },
  "language_info": {
   "file_extension": ".cpp",
   "mimetype": "text/markdown",
   "name": "C++",
   "version": "1.0.0a9"
  },
  "source_map": [
   11,
   70,
   73,
   168,
   171,
   211,
   214,
   240,
   250,
   271,
   281
  ]
 },
 "nbformat": 4,
 "nbformat_minor": 5
}