{
 "cells": [
  {
   "cell_type": "markdown",
   "id": "c7a3f6ec",
   "metadata": {},
   "source": [
    "# Quiz 1\n",
    "\n",
    "<div class=\"quiz-container\" id=\"quiz-container\"></div>\n",
    "    <div class=\"navigation\">\n",
    "      <button id=\"prev-button\" disabled>Previous</button>\n",
    "      <button id=\"next-button\">Next</button>\n",
    "      <button id=\"submit-button\">Submit</button>\n",
    "    </div>\n",
    "    <div class=\"results-container\" id=\"results-container\">\n",
    "      <h2>Your Answers:</h2>\n",
    "      <ul id=\"results-list\"></ul>\n",
    "      <button id=\"clear-button\">Clear</button>\n",
    "</div>\n",
    "\n",
    "<script src=\"../_static/quiz1.js\"></script>"
   ]
  }
 ],
 "metadata": {
  "jupytext": {
   "formats": "md:myst",
   "text_representation": {
    "extension": ".md",
    "format_name": "myst"
   }
  },
  "kernelspec": {
   "display_name": "C++ 20",
   "language": "c++",
   "name": "cpp20"
  },
  "language_info": {
   "file_extension": ".cpp",
   "mimetype": "text/x-c++src",
   "name": "C++",
   "version": "1.0.0a9"
  },
  "source_map": [
   11
  ]
 },
 "nbformat": 4,
 "nbformat_minor": 5
}