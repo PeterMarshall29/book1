{
 "cells": [
  {
   "cell_type": "markdown",
   "id": "5f97ab51",
   "metadata": {},
   "source": [
    "# Basic Ideas and Definitions\n",
    "\n",
    "Once you have learned a few more basic parts of the C++ language, understanding the language becomes much easier, because you will be able to write simple programmes to try out the new concepts out.\n",
    "\n",
    "This page leads you through some basic exercies, much of the explanation is left until later chapters, this page is not intended to present fully decriptions and definitions.\n",
    "\n",
    "In the Compuational Physics module, we are mainly concerned with writing code that will take user inputs, perform calculations, and then return 'answers' to the user. This requires us to learn only a subset of the C++ langugage and programming concepts.\n",
    "\n",
    "\n",
    "## Basic Arithmetic Operations\n",
    "\n",
    "All programmeming languages carry out basic arithmetic operationrs. Normally we do not use a computer as a simple calculator, but most programmes carry out some arithmetic operations as part of their execution.\n",
    "\n",
    "`cout` can be used demonstrate the basic arithmetic operations. The {term}`Modulus` operation may be new to you. and some basic arithmetic operators to write a simple programmes for calculation.\n",
    "\n",
    "```{code-block} cpp\n",
    ":linenos: \n",
    "#include <isotream>\n",
    "int main() {\n",
    "    std::cout << 4 + 7;\n",
    "    return 0;\n",
    "}\n",
    "```"
   ]
  },
  {
   "cell_type": "code",
   "execution_count": 1,
   "id": "a349bf11",
   "metadata": {
    "tags": [
     "remove-output"
    ]
   },
   "outputs": [
    {
     "name": "stderr",
     "output_type": "stream",
     "text": [
      "C:\\Users\\Peter\\AppData\\Local\\Temp\\tmpp79vb_5e.cpp: In function 'int main()':\n",
      "C:\\Users\\Peter\\AppData\\Local\\Temp\\tmpp79vb_5e.cpp:4:1: error: 'Type' was not declared in this scope; did you mean 'wctype'?\n",
      "    4 | Type code here!\n",
      "      | ^~~~\n",
      "      | wctype\n"
     ]
    },
    {
     "name": "stderr",
     "output_type": "stream",
     "text": [
      "\n",
      "[C++ kernel] Error: Unable to compile the source code. Return error: 0x1."
     ]
    }
   ],
   "source": [
    "Type code here!"
   ]
  },
  {
   "cell_type": "markdown",
   "id": "9c3a92d9",
   "metadata": {},
   "source": [
    "The programme evaluates the expression `4 + 7` before sending the result to the character output stream (the screen).\n",
    "\n",
    "```{exercise}\n",
    ":class: dropdown\n",
    "Try the operators -,*,/ and %. What does the % operator do? Why might that be useful?\n",
    "\n",
    "The try using `-` as a prefix on a number, what effect does that have?\n",
    "```\n",
    "\n",
    "## Variables\n",
    "\n",
    "A computer programme that can only perform arithmetic on the values written into the original programme code would not be very useful.\n",
    "\n",
    "Instead programmes must be able ask for the numberic values that are to be used in the calculations. \n",
    "\n",
    "This requires the computer to store the number, and to be able to identify and manipulate it later.\n",
    "\n",
    "Computers use variables for this purpose. In simplest terms, like in maths, the variable is a name (single character or string of characters) that represent an unspecified value that can be used in some way.\n",
    "\n",
    "To get started we will look at creating two types of variable.\n",
    "\n",
    "To create a variable named 'a' that holds the integer value of 5, we can used the statement : `int a = 5;`\n",
    "\n",
    "After this statement in the programme, the variable `a` may be used anywhere that we want to use it's value of `5`\n",
    "\n",
    "Type in the following code.\n",
    "\n",
    "```{code-block} cpp\n",
    ":linenos: \n",
    "#include <isotream>\n",
    "int main() {\n",
    "    int a = 5;\n",
    "    std::cout << a;\n",
    "    return 0;\n",
    "}\n",
    "```"
   ]
  },
  {
   "cell_type": "code",
   "execution_count": 2,
   "id": "c87ede61",
   "metadata": {
    "tags": [
     "remove-output"
    ]
   },
   "outputs": [
    {
     "name": "stderr",
     "output_type": "stream",
     "text": [
      "C:\\Users\\Peter\\AppData\\Local\\Temp\\tmp3vvtxvot.cpp: In function 'int main()':\n",
      "C:\\Users\\Peter\\AppData\\Local\\Temp\\tmp3vvtxvot.cpp:4:1: error: 'Type' was not declared in this scope; did you mean 'wctype'?\n",
      "    4 | Type code here!\n",
      "      | ^~~~\n",
      "      | wctype\n"
     ]
    },
    {
     "name": "stderr",
     "output_type": "stream",
     "text": [
      "\n",
      "[C++ kernel] Error: Unable to compile the source code. Return error: 0x1."
     ]
    }
   ],
   "source": [
    "Type code here!"
   ]
  },
  {
   "cell_type": "markdown",
   "id": "32fd9f8a",
   "metadata": {},
   "source": [
    "When the programme gets to `a` following the `<<` operator it sends the value of `a` to the screen, not the letter 'a'.\n",
    "\n",
    "````{exercise}\n",
    ":label: exercised0\n",
    ":class: dropdown\n",
    "What would happen if you now declaring a second variable `b` and intstruct the program to print out `a + b`?\n",
    "\n",
    "Try it in the code space above.\n",
    "```{solution} exercised0\n",
    ":label: solutiond0\n",
    ":class: dropdown\n",
    "Now the program has evaluated the arithmetic sum of the values contained in `a` and `b` - and sent that single value to the character output stream.\n",
    "```\n",
    "````\n",
    "## Strings\n",
    "Another useful type of variable is the `string` type. A {term}`string` is a series of individual characters. \n",
    "\n",
    "To use string-type variables we need an additional component of the standard library, `<string>` to be included.\n",
    "\n",
    "The string literal must be enclosed in `\"\"`. \n",
    "\n",
    "`````{exercise-start}\n",
    ":label: exercised1\n",
    ":class: dropdown\n",
    "`````\n",
    "````{code-block} cpp\n",
    ":linenos: \n",
    "#include <isotream>\n",
    "#include <string>\n",
    "int main() {\n",
    "    std::string a = \"Fish\";\n",
    "    std::cout << a;\n",
    "    return 0;\n",
    "}\n",
    "````\n",
    "````{code} c++\n",
    "\n",
    "Type code here!\n",
    "````\n",
    "`````{exercise-end}\n",
    "`````\n",
    "\n",
    "\n",
    "\n",
    "`````{exercise-start}\n",
    ":label: exercised2\n",
    ":class: dropdown\n",
    "`````\n",
    "Try adding a second variable b, with a value of \"-fingers\" and printing out the value of `a + b` again."
   ]
  },
  {
   "cell_type": "code",
   "execution_count": 3,
   "id": "6426d5cb",
   "metadata": {
    "tags": [
     "remove-output"
    ]
   },
   "outputs": [
    {
     "name": "stderr",
     "output_type": "stream",
     "text": [
      "C:\\Users\\Peter\\AppData\\Local\\Temp\\tmp28dag7sn.cpp: In function 'int main()':\n",
      "C:\\Users\\Peter\\AppData\\Local\\Temp\\tmp28dag7sn.cpp:4:1: error: 'Type' was not declared in this scope; did you mean 'wctype'?\n",
      "    4 | Type code here!\n",
      "      | ^~~~\n",
      "      | wctype\n"
     ]
    },
    {
     "name": "stderr",
     "output_type": "stream",
     "text": [
      "\n",
      "[C++ kernel] Error: Unable to compile the source code. Return error: 0x1."
     ]
    }
   ],
   "source": [
    "Type code here!"
   ]
  },
  {
   "cell_type": "markdown",
   "id": "ac0109f8",
   "metadata": {},
   "source": [
    "Demonstrating that the `+` operator behaves differently when used with differnt data types. For numeric types it performs 'addition', but for string types it performs 'concatenation'.\n",
    "````{admonition} Code Explanation\n",
    ":class: dropdown\n",
    "If done correctly, you will have demonstrated that `+` operator behaves differently when used with differnt data types. \n",
    "\n",
    "For a {term}`numeric data type` it performs 'addition', but for the {term}`string data type` it performs {term}`concatenation`.\n",
    "````\n",
    "`````{exercise-end}\n",
    "`````\n",
    "\n",
    "\n",
    "`````{exercise-start}\n",
    ":label: exercised3\n",
    ":class: dropdown\n",
    "`````\n",
    "Try to fix this code:"
   ]
  },
  {
   "cell_type": "code",
   "execution_count": 4,
   "id": "d9addf2e",
   "metadata": {
    "linenos": null,
    "tags": [
     "remove-output"
    ]
   },
   "outputs": [
    {
     "name": "stderr",
     "output_type": "stream",
     "text": [
      "C:\\Users\\Peter\\AppData\\Local\\Temp\\tmpl5qteanp.cpp: In function 'int main()':\n",
      "C:\\Users\\Peter\\AppData\\Local\\Temp\\tmpl5qteanp.cpp:5:6: error: expected unqualified-id before 'int'\n",
      "    5 | std::int age = 52;\n",
      "      |      ^~~\n"
     ]
    },
    {
     "name": "stderr",
     "output_type": "stream",
     "text": [
      "C:\\Users\\Peter\\AppData\\Local\\Temp\\tmpl5qteanp.cpp:6:1: error: 'string' was not declared in this scope\n",
      "    6 | string firstName = 12.0;\n",
      "      | ^~~~~~\n",
      "C:\\Users\\Peter\\AppData\\Local\\Temp\\tmpl5qteanp.cpp:6:1: note: suggested alternatives:\n"
     ]
    },
    {
     "name": "stderr",
     "output_type": "stream",
     "text": [
      "In file included from C:/mingw64/include/c++/15.1.0/iosfwd:43,\n",
      "                 from C:/mingw64/include/c++/15.1.0/ios:42,\n",
      "                 from C:/mingw64/include/c++/15.1.0/bits/ostream.h:43,\n",
      "                 from C:/mingw64/include/c++/15.1.0/ostream:42,\n",
      "                 from C:/mingw64/include/c++/15.1.0/iostream:43,\n",
      "                 from C:\\Users\\Peter\\miniconda3\\share\\cpp_header\\check_cpp.hpp:23,\n",
      "                 from C:\\Users\\Peter\\AppData\\Local\\Temp\\tmpl5qteanp.cpp:1:\n",
      "C:/mingw64/include/c++/15.1.0/bits/stringfwd.h:79:33: note:   'std::string'\n",
      "   79 |   typedef basic_string<char>    string;\n",
      "      |                                 ^~~~~~\n"
     ]
    },
    {
     "name": "stderr",
     "output_type": "stream",
     "text": [
      "In file included from C:/mingw64/include/c++/15.1.0/bits/locale_classes.h:42,\n",
      "                 from C:/mingw64/include/c++/15.1.0/bits/ios_base.h:43,\n",
      "                 from C:/mingw64/include/c++/15.1.0/ios:46:\n",
      "C:/mingw64/include/c++/15.1.0/string:80:11: note:   'std::pmr::string'\n",
      "   80 |     using string    = basic_string<char>;\n",
      "      |           ^~~~~~\n",
      "C:\\Users\\Peter\\AppData\\Local\\Temp\\tmpl5qteanp.cpp:7:6: error: expected unqualified-id before 'float'\n",
      "    7 | std::float = 12.5;\n",
      "      |      ^~~~~\n"
     ]
    },
    {
     "name": "stderr",
     "output_type": "stream",
     "text": [
      "\n",
      "[C++ kernel] Error: Unable to compile the source code. Return error: 0x1."
     ]
    }
   ],
   "source": [
    "#include <iostream>\n",
    "int main(){\n",
    "std::int age = 52;\n",
    "string firstName = 12.0;\n",
    "std::float = 12.5;\n",
    "return 0;\n",
    "}"
   ]
  },
  {
   "cell_type": "markdown",
   "id": "1953e187",
   "metadata": {},
   "source": [
    "````{code} c++\n",
    "\n",
    "Type code here!\n",
    "````\n",
    "````{solution} exercised3\n",
    ":class: note dropdown\n",
    ":label: solutiond3\n",
    "```{code-block} cpp\n",
    "#include <iostream>\n",
    "#include <string>\n",
    "int main(){\n",
    "    int age = 52;\n",
    "    std::string firstName = 12.0;\n",
    "    float = 12.5;\n",
    "return 0;\n",
    "}\n",
    "```\n",
    "Strings are part of the standard library, and must be referenced by prefixing with `std::`.\n",
    "\n",
    "`int`, `float`, `double`, and `char` are all part of the {term}`core language`, and should not have `std::` attached.\n",
    "````\n",
    "`````{exercise-end}\n",
    "`````\n",
    "\n",
    "## Errors In Calculations - to be moved\n",
    "\n",
    "Rounding (or round-off) error: The precision of arithmetic is limited by  a computer is limited\n",
    "\n",
    "Truncation errors:"
   ]
  }
 ],
 "metadata": {
  "jupytext": {
   "formats": "md:myst",
   "text_representation": {
    "extension": ".md",
    "format_name": "myst"
   }
  },
  "kernelspec": {
   "display_name": "C++ 20",
   "language": "c++",
   "name": "cpp20"
  },
  "language_info": {
   "file_extension": ".cpp",
   "mimetype": "text/markdown",
   "name": "C++",
   "version": "1.0.0a9"
  },
  "source_map": [
   11,
   37,
   40,
   78,
   81,
   133,
   136,
   153,
   163
  ]
 },
 "nbformat": 4,
 "nbformat_minor": 5
}