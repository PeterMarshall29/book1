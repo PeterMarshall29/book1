{
 "cells": [
  {
   "cell_type": "markdown",
   "id": "76adf77b",
   "metadata": {},
   "source": [
    "# Header Files\n",
    "\n",
    "Sometime a pcp.h will be created in the project – this is a precompiled header file.\n",
    "To create your own header file. Click in headers, new module, header file.\n",
    "The new file will contain, #pragma once, which is an instruction that this file is only compiled the first time it is used, saving time in future builds.\n",
    "Now add: \n",
    "#include <iostream>\n",
    "#include <string>\n",
    "#include <vector>\n",
    "#include <algorithm>\n",
    "#include <cmath>\n",
    "And replace  #include <iostream> with  #include #include \"MyHeader.h\"."
   ]
  }
 ],
 "metadata": {
  "jupytext": {
   "formats": "md:myst",
   "text_representation": {
    "extension": ".md",
    "format_name": "myst"
   }
  },
  "kernelspec": {
   "display_name": "C++ 20",
   "language": "c++",
   "name": "cpp20"
  },
  "language_info": {
   "file_extension": ".cpp",
   "mimetype": "text/markdown",
   "name": "C++",
   "version": "1.0.0a9"
  },
  "source_map": [
   11
  ]
 },
 "nbformat": 4,
 "nbformat_minor": 5
}