{
 "cells": [
  {
   "cell_type": "markdown",
   "id": "a63cac66",
   "metadata": {},
   "source": [
    "(vectors)=\n",
    "# Vectors\n",
    "There are several way to store multiple values in a single variable. <vector>, <array>, and built-in arrays.\n",
    "\n",
    "The <vector> library provides the most flexible method.\n",
    "\n",
    "```{note}\n",
    ":class: margin\n",
    "<vector> is superior because the number of elements is variable - the number of elements in <array> must be known at compile time.\n",
    "<array> is better than built-in array because it carries the value of number of its size (so you can use with standard-library algorithms), and it can be copied (using = or initialization), and most importantly there are not surprise conversions to pointers. Use built-in arrays when you want \n",
    "```\n",
    "A `vector` is a sequence of elements that can be accessed by their index.\n",
    "```{tip}\n",
    ":class: margin\n",
    "Add <vector> to header file using `#include <vector>`.\n",
    "```\n",
    "\n",
    "````{admonition} The Syntax of Vector\n",
    "```{code-block} c++\n",
    "#include <vector> \n",
    "//Declarations\n",
    "std::vector<...elements_type...> myVectorName; // Declaration\n",
    "// Definitions\n",
    "std::vector<...elements_type...> myVectorName = { element_1, element2, element3, element4 };\n",
    "std::vector<...elements_type...> myVectorName { element_1, element2, element3, element4  };\n",
    "std::vector<...elements_type...> myVectorName(...number_of_elements...); // Definition of number of null elements\n",
    "std::vector<...elements_type...> myVectorName(...number_of_elements..., ...value_of_all_elements); // Definition of number of elements each with same initial value\n",
    "```\n",
    "````\n",
    "\n",
    "``````{example-start}\n",
    ":label: examplen1\n",
    ":class: dropdown\n",
    "``````\n",
    "Try this code - construct the supporting program."
   ]
  },
  {
   "cell_type": "code",
   "execution_count": null,
   "id": "5f47a647",
   "metadata": {
    "tags": [
     "remove-output",
     "skip-execution"
    ]
   },
   "outputs": [],
   "source": [
    "std::vector<int> myFirstVector = {1,2,3,4,5 };\n",
    "std::cout << myFirstVector;\n",
    "````` \n",
    "`````{explanation}\n",
    ":class: dropdown hint\n",
    "This code will not work - the character output stream `cout` cannot print a whole vector.\n",
    "\n",
    "To print one element of the vector, we can use its index.\n",
    "\n",
    "````{admonition} Indexing into a Vector\n",
    ":class: dropdown\n",
    "To access or modify an indiviudal element of a vector we use the elements index:\n",
    "```{code-block} c++\n",
    "vectorName[..element_index_here]\n",
    "```\n",
    "```{important}\n",
    "In computing, most index values start from 0!\n",
    "```\n",
    "````\n",
    "Try changing the ouptut line to:\n",
    "\n",
    "```{code-block} c++\n",
    "std::cout << myFirstVector[0];\n",
    "```\n",
    "What happens if you replace 0, with 5? Find out!\n",
    "\n",
    "To output all of the values of a vector we need to use an iteration statement\n",
    "\n",
    "Try this code\n",
    "```{code-block} c++\n",
    "for (int i = 0; i < myFirstVector.capacity(); ++i) std::cout << myFirstVector[i] << \"\\n\"; \n",
    "```\n",
    "Or:\n",
    "```{code-block} c++\n",
    "for (int i = 0; i < myFirstVector.size(); ++i) std::cout << myFirstVector[i] << \"\\n\";\n",
    "```\n",
    "`capacity()` is a member function of the class `vector` and therefore must be addressed using the `.` notation on an instance of `vector`."
   ]
  },
  {
   "cell_type": "markdown",
   "id": "07183e09",
   "metadata": {},
   "source": [
    "``````{example-end}\n",
    "``````\n",
    "\n",
    "## Adding to a Vector\n",
    "\n",
    "A non-existent element cannot be accessed or assigned to in any type of vector or array.\n",
    "\n",
    "```{tip}\n",
    ":class: margin\n",
    "Assigning a value to a non-exitant element will throw an error.\n",
    "In some languages the new element would be created and intermediate values filled with zeros - not in c++!\n",
    "```\n",
    "New elements my only be added immediataly after the last existing element of a vector.\n",
    "\n",
    "To append an extra element, at the end, the `push_back()` function is used.\n",
    "\n",
    "`````{example-start}\n",
    ":label: examplen2\n",
    ":class: dropdown\n",
    "`````\n",
    "Try this code - construct the supporting program."
   ]
  },
  {
   "cell_type": "code",
   "execution_count": null,
   "id": "aff694c9",
   "metadata": {
    "emphasize-lines": 3,
    "linenos": null,
    "tags": [
     "remove-output",
     "skip-execution"
    ]
   },
   "outputs": [],
   "source": [
    "std::vector<int> mySecondVector = { 1, 2, 3, 4, 5 };\n",
    "mySecondVector.push_back(17);\n",
    "for (int i : mySecondVector ) std::cout << i <<\"\\n\";\n",
    "```` \n",
    "````{explanation}\n",
    "\n",
    "`push_back()` is another member function – it belongs to std::vector and must be called using the `.` notation.\n",
    "\n",
    "Line 3 is a range-for-statement, explained [here](range-for).\n",
    "\n",
    "More than element may be added by `push_back()` by using a list.\n",
    "\n",
    "Try adding:\n",
    "```{code-block} c++\n",
    "mySecondVector.push_back({6, 7, 8, 9 , 10}); \n",
    "```"
   ]
  },
  {
   "cell_type": "markdown",
   "id": "f45133c6",
   "metadata": {},
   "source": [
    "`````{example-end}\n",
    "`````\n",
    "\n",
    "`````{exercise-start}\n",
    ":label: exercisen1\n",
    ":class: dropdown\n",
    "`````\n",
    "TRY to read in a possibly large unknown number of data points.."
   ]
  },
  {
   "cell_type": "code",
   "execution_count": null,
   "id": "b7325165",
   "metadata": {
    "tags": [
     "remove-output",
     "skip-execution"
    ]
   },
   "outputs": [],
   "source": [
    "std::vector<double> growingVector;\n",
    "for (double tempVectorNextValue; std::cin >> tempVectorNextValue;)\n",
    "\tgrowingVector.push_back(tempVectorNextValue);"
   ]
  },
  {
   "cell_type": "markdown",
   "id": "5ce78315",
   "metadata": {},
   "source": [
    "````{admonition} Code Explanation\n",
    "The second term is the condition for the `for-statement loop` – std::cin >>.\n",
    "\n",
    "This works if it is given the correct variable type by the user and therefore returns true, otherwise false and the `for` loop ends.\n",
    "\n",
    "Vector has many useful member functions. \n",
    "\n",
    "We can sort out list into ascending order – or otherwise.\n",
    "\n",
    "Try adding the following code.\n",
    "\n",
    "````{code-block} c++\n",
    "std::vector<double> growingVector;\n",
    "std::sort(growingVector.begin(),growingVector.end());\n",
    "for (double i : growingVector) std::cout << i << \"\\n\";\n",
    "````\n",
    "`````{exercise-end}\n",
    "`````\n",
    "Other useful member functions for vector are listed [here](https://en.cppreference.com/w/cpp/container/vector.html)\n",
    "\n",
    "## Accessing or Modifying the Elements of a `vector`\n",
    "\n",
    "```{important}\n",
    "An element of a vector can only be accesses or modified if it already exists.\n",
    "```\n",
    "To access or modify a vector's elements we use the index notation, or the at() function.\n",
    "\n",
    "`````{example-start}\n",
    ":label: examplen3\n",
    ":class: dropdown\n",
    "`````\n",
    "Create a vector in the code box - and the supporting code to print the vector elements to the screen."
   ]
  },
  {
   "cell_type": "code",
   "execution_count": null,
   "id": "0e2a9260",
   "metadata": {
    "tags": [
     "remove-output",
     "skip-execution"
    ]
   },
   "outputs": [],
   "source": [
    "Your code here..."
   ]
  },
  {
   "cell_type": "markdown",
   "id": "70df6578",
   "metadata": {},
   "source": [
    "To change the nth element, there are two options.\n",
    "```{code-block} c++\n",
    "yourVectorName[n] = ..newValueHere.. ;\n",
    "// or\n",
    "yourVectorName.at(n) = ..newValueHere.. ;\n",
    "```\n",
    "The .at() function lets you know if an error occurs - slightly more useful than simple indexing.\n",
    "\n",
    "`````{example-end}\n",
    "`````\n",
    "\n",
    "## Multi-dimensional Vectors\n",
    "\n",
    "We can define a vector of vectors."
   ]
  },
  {
   "cell_type": "code",
   "execution_count": null,
   "id": "c2aca986",
   "metadata": {
    "tags": [
     "remove-output",
     "skip-execution"
    ]
   },
   "outputs": [],
   "source": [
    "std::vector<std::vector<int>> my2DVector;\n",
    "\n",
    "my2DVector.push_back({1, 2, 3});\n",
    "my2DVector.push_back({4, 5});\n",
    "my2DVector.push_back({6, 7, 8, 9});\n",
    "\n",
    "// Print the vector of vectors\n",
    "for (const auto& row : my2DVector) {\n",
    "for (int val : row) {\n",
    "std::cout << val << \" \";\n",
    "}\n",
    "std::cout << std::endl;\n",
    "}"
   ]
  },
  {
   "cell_type": "markdown",
   "id": "b8e5c761",
   "metadata": {},
   "source": [
    "## Check if a Vector is Empty\n",
    "\n",
    "Another useful member function checks whether a vector is empty or not.\n",
    "\n",
    "The `empty()` function returns 1 (true) if the vector is empty and 0 (false) if it contains one or more elements:"
   ]
  }
 ],
 "metadata": {
  "jupytext": {
   "formats": "md:myst",
   "text_representation": {
    "extension": ".md",
    "format_name": "myst"
   }
  },
  "kernelspec": {
   "display_name": "C++ 20",
   "language": "c++",
   "name": "cpp20"
  },
  "language_info": {
   "file_extension": ".cpp",
   "mimetype": "text/markdown",
   "name": "C++",
   "version": "1.0.0a9"
  },
  "source_map": [
   11,
   47,
   86,
   108,
   128,
   137,
   142,
   175,
   178,
   194,
   209
  ]
 },
 "nbformat": 4,
 "nbformat_minor": 5
}