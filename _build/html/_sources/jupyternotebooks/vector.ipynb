{
 "cells": [
  {
   "cell_type": "markdown",
   "id": "9e4d84ac",
   "metadata": {},
   "source": [
    "(vectors)=\n",
    "# Vectors\n",
    "In C++, there are a variety of objects that can be used to store multiple values of the same type in a single variable including `<vector>` , `<array>` , and simple arrays.\n",
    "\n",
    "The `<vector>` library provides the most flexible method - a `std::vector` is a sequence of elements that can be accessed by their index using `[]` , the {term}`subscript operator`.\n",
    "\n",
    "```{note}\n",
    ":class: margin\n",
    "`std::vector` is superior because the number of elements is variable - the number of elements in `<array>` must be known at compile time.\n",
    "\n",
    "Using a `std:array` is better than a simple array because it carries the value of the number of its size (so you can use with standard-library algorithms), and it can be copied (for assignment and initialization), and most importantly there are no surprise conversions to pointers. \n",
    "```\n",
    "\n",
    "```{tip}\n",
    ":class: margin\n",
    "Add <vector> to header file using `#include <vector>` .\n",
    "```\n",
    "\n",
    "````{syntax-start} std::vector\n",
    ":class: dropdown\n",
    ":nonumber:\n",
    "````\n",
    "`std::vector` is provided by the `<vector>` standard library facility.\n",
    "```{code-block} c++\n",
    "#include <vector> \n",
    "//Declarations\n",
    "std::vector<element_type> myVectorName; // Declaration\n",
    "// Definitions\n",
    "std::vector<element_type> myVectorName = { element_1, element2, element3, element4 };\n",
    "std::vector<element_type> myVectorName { element_1, element2, element3, element4 };\n",
    "std::vector<element_type> myVectorName(number_of_elements); // Definition of vector with specific number of null elements\n",
    "std::vector<element_type> myVectorName(number_of_elements, value_of_elements); // Definition of a vector with specific number of elements each with same initial value\n",
    "```\n",
    "````{syntax-end}\n",
    "````\n",
    "\n",
    "``````{code_example-start} Vector Basics\n",
    ":label: examplen1\n",
    ":class: dropdown\n",
    ":nonumber:\n",
    "``````\n",
    "Try this code - construct the supporting program."
   ]
  },
  {
   "cell_type": "code",
   "execution_count": null,
   "id": "bd39c543",
   "metadata": {
    "tags": [
     "remove-output",
     "skip-execution"
    ]
   },
   "outputs": [],
   "source": [
    "std::vector<int> myFirstVector = { 1, 2, 3, 4, 5 };\n",
    "std::cout << myFirstVector;"
   ]
  },
  {
   "cell_type": "markdown",
   "id": "9e0ea672",
   "metadata": {},
   "source": [
    "`````{code_explanation} examplen1\n",
    ":class: dropdown \n",
    "This code will not compile - one of the first issues encountered when learning C++ is that the character output stream `std::cout` cannot print a whole vector or array.\n",
    "\n",
    "There is a simple solution - shown below - but we can start by only printing single elements of the vector using the element's index.\n",
    "\n",
    "````{admonition} Indexing into a Vector\n",
    ":class: dropdown note\n",
    "To access or modify an individual element of a vector we use the element's index i.e. same as an array.\n",
    "\n",
    "Indices run from '0' to `(number_of_elements - 1)` :\n",
    "```{code-block} c++\n",
    "vectorName[..element_index_here]\n",
    "```\n",
    "```{important}\n",
    "In computing, most index values start at 0!\n",
    "```\n",
    "````\n",
    "- Try changing the ouptut line to:\n",
    "\n",
    "```{code-block} c++\n",
    "std::cout << myFirstVector[0];\n",
    "```\n",
    "- What happens if you replace 0, with 5? Find out!\n",
    "`````\n",
    "``````{code_example-end}\n",
    "``````\n",
    "\n",
    "To output all the values of a vector we need to use an iteration statement.\n",
    "\n",
    "``````{code_example-start} Printing a Vector\n",
    ":label: examplen11\n",
    ":class: dropdown\n",
    ":nonumber:\n",
    "``````\n",
    "Add the following statements to the previous example:\n",
    "```{code-block} c++\n",
    "for (int i = 0; i < myFirstVector.capacity(); ++i) std::cout << myFirstVector[i] << \"\\n\"; \n",
    "```\n",
    "Or:\n",
    "```{code-block} c++\n",
    "for (int i = 0; i < myFirstVector.size(); ++i) std::cout << myFirstVector[i] << \"\\n\";\n",
    "```\n",
    "`capacity()` is a member function of the class `std::vector` and therefore must be addressed using the `.` notation on an instance of `std::vector` e.g. `myFirstVector.capacity()` .\n",
    "\n",
    "The for-statements stops when the loop-variable integer value is one less than `.capacity()` because the indices run from '0'.\n",
    "\n",
    "``````{code_example-end}\n",
    "``````\n",
    "## Accessing or Modifying the Elements of a `vector`\n",
    "\n",
    "```{important}\n",
    "Only existing elements of a vector can be accesses or modified. Trying to assign a value to a non-exiting element fails and throws a catastrophic error.\n",
    "```\n",
    "The {term}`subscript operator` and the element's index is used to access or modify the values contained in a vector.\n",
    "\n",
    "A useful alternative is the `at()` member function.\n",
    "\n",
    "`````{syntax-start} Access and Modify Elements of a Vector\n",
    ":class: dropdown\n",
    ":nonumber:\n",
    "`````\n",
    "\n",
    "To change the nth element, there are two options.\n",
    "```{code-block} c++\n",
    "yourVectorName[n] = ..newValueHere.. ;\n",
    "// or\n",
    "yourVectorName.at(n) = ..newValueHere.. ;\n",
    "```\n",
    "The `.at()` function lets you know if an error occurs - slightly more useful than simple indexing.\n",
    "\n",
    "`````{syntax-end}\n",
    "`````\n",
    "\n",
    "`````{exercise-start} Vector - Checking Progress\n",
    ":label: examplen3\n",
    ":class: dropdown\n",
    ":nonumber:\n",
    "`````\n",
    "- Write a program that creates a vector of strings in the code box.\n",
    "- Add the supporting code to print the vector elements to the screen."
   ]
  },
  {
   "cell_type": "code",
   "execution_count": null,
   "id": "4ffe766c",
   "metadata": {
    "tags": [
     "remove-output",
     "skip-execution"
    ]
   },
   "outputs": [],
   "source": [
    "Your code here..."
   ]
  },
  {
   "cell_type": "markdown",
   "id": "d8922334",
   "metadata": {},
   "source": [
    "`````{exercise-end}\n",
    "`````\n",
    "## Adding to a Vector\n",
    "\n",
    "A non-existent element cannot be accessed or be created by assignment in C++.\n",
    "\n",
    "```{tip}\n",
    ":class: margin\n",
    "Assigning a value to a non-existent element will throw an error.\n",
    "\n",
    "In some languages a new element would be created by the assignment and any intermediate non-existing values would be created and filled with zeros - not in C++!\n",
    "```\n",
    "New elements may only be added to a vector at the index/position immediately after the last existing element.\n",
    "\n",
    "To append an extra element at the end of the vector the `push_back()` function is used.\n",
    "\n",
    "``````{code_example-start} Modifying Vectors - push_back()\n",
    ":label: examplen2\n",
    ":class: dropdown\n",
    ":nonumber:\n",
    "``````\n",
    "Try this code - construct the supporting program."
   ]
  },
  {
   "cell_type": "code",
   "execution_count": null,
   "id": "77d25a04",
   "metadata": {
    "emphasize-lines": 3,
    "linenos": null,
    "tags": [
     "remove-output",
     "skip-execution"
    ]
   },
   "outputs": [],
   "source": [
    "std::vector<int> mySecondVector = { 1, 2, 3, 4, 5 };\n",
    "mySecondVector.push_back(17);\n",
    "for (int i : mySecondVector ) std::cout << i <<\"\\n\";"
   ]
  },
  {
   "cell_type": "markdown",
   "id": "5f111210",
   "metadata": {},
   "source": [
    "`````{code_explanation} examplen2\n",
    "\n",
    "`push_back()` is another member function – it belongs to `std::vector` and must be called using the `.` notation.\n",
    "\n",
    "Line 3 is a range-for-statement, explained [here](range-for).\n",
    "\n",
    "More than one element may be added by `push_back()` by using a list i.e. put a curly brace `{}` enclosed, comma delimited sequence of values in the parens.\n",
    "````{exercise}\n",
    ":class: dropdown\n",
    ":nonumber:\n",
    "Try adding the following to your previous example code:\n",
    "```{code-block} c++\n",
    "mySecondVector.push_back({6, 7, 8, 9 , 10}); \n",
    "```\n",
    "````\n",
    "`````\n",
    "``````{code_example-end}\n",
    "``````\n",
    "\n",
    "`````{code_example-start} \n",
    ":label: exercisen11\n",
    ":class: dropdown\n",
    ":nonumber:\n",
    "`````\n",
    "Try this code - it will continue to read in an unspecified number of data points until a letter is typed..."
   ]
  },
  {
   "cell_type": "code",
   "execution_count": null,
   "id": "ef8176bb",
   "metadata": {
    "tags": [
     "remove-output",
     "skip-execution"
    ]
   },
   "outputs": [],
   "source": [
    "std::vector<double> growingVector;\n",
    "for (double tempVectorNextValue; std::cin >> tempVectorNextValue;)\n",
    "\tgrowingVector.push_back(tempVectorNextValue);"
   ]
  },
  {
   "cell_type": "markdown",
   "id": "c64fdee3",
   "metadata": {},
   "source": [
    "````{admonition} Code Explanation\n",
    ":class: dropdown\n",
    "Accepting a number of elements that is not known at compile time is one of the advantages of `std::vector` .\n",
    "\n",
    "The second argument to this for-statement, the loop-condition is `std::cin >>` .\n",
    "\n",
    "This only works if the extraction operation finds the correct variable type in the buffer i.e. the user correctly entered another number - strictly this does not evaluate to true, but the state of `std::cin` is checked and returns true if there have been no errors, which is contextually sufficient for a loop-condition.\n",
    "\n",
    "`std::cin` fails when a letter is entered - the loop-condition evaluates as false and the for-loop ends.\n",
    "````\n",
    "`````{code_example-end}\n",
    "`````\n",
    "\n",
    "## Useful Functions\n",
    "\n",
    "``````{code_example-start} Useful Function\n",
    ":label: examplen5\n",
    ":class: dropdown\n",
    ":nonumber:\n",
    "``````\n",
    "Vector has other useful member functions, including `begin()` and `end()` , which return a random access {term}`iterator` to the first and last elements respectively - basically these are equivalent to indexing that location using the subscript operator with the correct index. \n",
    "\n",
    "Iterators are similar to pointers - arithmetic values can be used with iterators to traverse the elements i.e. `myVector.end() - 1` gives the value of the second last element.\n",
    "\n",
    "Other useful member functions for vector are [listed](https://en.cppreference.com/w/cpp/container/vector.html) in the C++ Reference.\n",
    "\n",
    "The `<algorithm>` library has more functions that are useful for vectors. For example: `std::sort` allows us to sort the elements of our vector into ascending order – or otherwise.\n",
    "\n",
    "`````{exercise}\n",
    ":class: dropdown\n",
    ":nonumber:\n",
    "\n",
    "Try adding the following code to the previous example...\n",
    "\n",
    "````{code-block} c++\n",
    "std::sort(growingVector.begin(),growingVector.end());\n",
    "for (double i : growingVector) std::cout << i << \"\\n\";\n",
    "````\n",
    "- Modify this code so that the first and last elements are not sorted.\n",
    "`````\n",
    "The `empty()` function is another useful member function, which checks whether a vector is empty or not - returns 1 (true) if the vector is empty and 0 (false) if it contains one or more elements.\n",
    "``````{code_example-end}\n",
    "``````\n",
    "\n",
    "\n",
    "## Multi-dimensional Vectors\n",
    "\n",
    "We can define a vector of vectors.\n",
    "\n",
    "`````{code_example-start} Multidimensional Vectors\n",
    ":label: examplen4\n",
    ":class: dropdown\n",
    ":nonumber:\n",
    "`````\n",
    "Try this example - the usual program components must be added...."
   ]
  },
  {
   "cell_type": "code",
   "execution_count": null,
   "id": "fc425c27",
   "metadata": {
    "tags": [
     "remove-output",
     "skip-execution"
    ]
   },
   "outputs": [],
   "source": [
    "    std::vector<std::vector<int>> my2DVector;\n",
    "    my2DVector.push_back({1, 2, 3});\n",
    "    my2DVector.push_back({4, 5});\n",
    "    my2DVector.push_back({6, 7, 8, 9});\n",
    "\n",
    "    // Print the vector of vectors\n",
    "    for (const auto& row : my2DVector) {\n",
    "        for (int val : row) {\n",
    "        std::cout << val << \" \";\n",
    "        }\n",
    "        std::cout << std::endl;\n",
    "    }"
   ]
  },
  {
   "cell_type": "markdown",
   "id": "f8afb208",
   "metadata": {},
   "source": [
    "`````{code_example-end}\n",
    "`````"
   ]
  }
 ],
 "metadata": {
  "jupytext": {
   "formats": "md:myst",
   "text_representation": {
    "extension": ".md",
    "format_name": "myst"
   }
  },
  "kernelspec": {
   "display_name": "C++ 20",
   "language": "c++",
   "name": "cpp20"
  },
  "language_info": {
   "file_extension": ".cpp",
   "mimetype": "text/markdown",
   "name": "C++",
   "version": "1.0.0a9"
  },
  "source_map": [
   11,
   54,
   58,
   141,
   144,
   168,
   175,
   201,
   206,
   262,
   276
  ]
 },
 "nbformat": 4,
 "nbformat_minor": 5
}