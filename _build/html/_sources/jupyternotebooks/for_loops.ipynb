{
 "cells": [
  {
   "cell_type": "markdown",
   "id": "0ce360a0",
   "metadata": {},
   "source": [
    "(for)=\n",
    "# For loops\n",
    "```{note}\n",
    ":class: margin\n",
    "{attribution=\"Zeno of Elea\" }\n",
    "> What has been said once can always be repeated.\n",
    "```\n",
    "The for-statement conditionally executes a statement, or code block, repeatedly. Also known as the {term}`for-loop`.\n",
    "\n",
    "````{admonition} The syntax of the For-Statement\n",
    "```{code-block} cppp\n",
    "for ( ...loop_variable_definition_and_initialisation... ; \n",
    "      ...condition_to_continue_the_loop... ; \n",
    "      ...increment_to_loop_variable_instruction... ;) \n",
    "      { ...code_to_be_executed_every_loop...}\n",
    "```\n",
    "````\n",
    "The management of the loop happens inside the argument to the for-statement command.\n",
    "\n",
    "Without the increment, which is not required, the loop just runs forever but you can also affect the condition that is checked every time from inside the code block.\n",
    "\n",
    "The code-block usually has not effect on the loop condition (best practice) but it does often utilise the loop variable to change what happens on each iteration.\n",
    "\n",
    "[For-statements](https://en.cppreference.com/w/cpp/language/for.html)\n",
    "\n",
    "\n",
    "```{list-table}\n",
    ":header-rows: 1\n",
    ":name: example_table_3\n",
    "* - Generic Flowchart\n",
    "  - Example Flowchart\n",
    "* - ```{mermaid}\n",
    "    :align: center\n",
    "    :zoom:\n",
    "    flowchart TB\n",
    "      A([\"Start\"]) --> B[/\"Input/output\"/]\n",
    "      B --> C[\"Process\"]\n",
    "      C --> D{\"Decision\"}\n",
    "      D -- Conditon 1 --> E[\"Process\"]\n",
    "      D -- Conditon 2 --> F[/\"Input/output\"/]\n",
    "      F --> G[\"Process\"]\n",
    "      G --> D\n",
    "      E --> H[/\"output\"/]\n",
    "      H --> I([\"End\"])\n",
    "      A:::Rose\n",
    "      B:::Rose\n",
    "      C:::Rose\n",
    "      D:::Rose\n",
    "      E:::Rose\n",
    "      F:::Rose\n",
    "      G:::Rose\n",
    "      H:::Rose\n",
    "      I:::Rose\n",
    "      classDef Rose stroke-width:1px, stroke-dasharray:none, stroke:#FF5978, fill:#FFDFE5, color:#8E2236\n",
    "      linkStyle 0 stroke:#AA00FF,fill:none\n",
    "      linkStyle 1 stroke:#AA00FF,fill:none\n",
    "      linkStyle 2 stroke:#AA00FF,fill:none\n",
    "      linkStyle 3 stroke:#AA00FF,fill:none\n",
    "      linkStyle 4 stroke:#AA00FF,fill:none\n",
    "      linkStyle 5 stroke:#AA00FF,fill:none\n",
    "      linkStyle 6 stroke:#AA00FF,fill:none\n",
    "      linkStyle 7 stroke:#AA00FF,fill:none\n",
    "      linkStyle 8 stroke:#AA00FF\n",
    "    ```\n",
    "  - ```{mermaid}\n",
    "    :align: center\n",
    "    :zoom:\n",
    "    flowchart TB\n",
    "      A([\"Start\"]) --> B[/\"`Output: \n",
    "        Request for Input\n",
    "          Input from User`\"/]\n",
    "      B --> C[\"Format Input\"]\n",
    "      C --> D{\"'Check Input:\n",
    "          1. Exist\n",
    "          2. Correct Format`\"}\n",
    "      D -- Both True --> E[\"Process Input\"]\n",
    "      D -- Either/both False --> F[/\"`Output: \n",
    "          1. Inform User of Problem\n",
    "          2. Request Correct Input\n",
    "          3. Input from User`\"/]\n",
    "      F --> G[\"Format Input\"]\n",
    "      G --> D\n",
    "      E --> H[/\"Ouput Result\"/]\n",
    "      H --> I([\"End\"])\n",
    "      A:::Rose\n",
    "      B:::Rose\n",
    "      C:::Rose\n",
    "      D:::Rose\n",
    "      E:::Rose\n",
    "      F:::Rose\n",
    "      G:::Rose\n",
    "      H:::Rose\n",
    "      I:::Rose\n",
    "      classDef Rose stroke-width:1px, stroke-dasharray:none, stroke:#FF5978, fill:#FFDFE5, color:#8E2236\n",
    "      linkStyle 0 stroke:#AA00FF,fill:none\n",
    "      linkStyle 1 stroke:#AA00FF,fill:none\n",
    "      linkStyle 2 stroke:#AA00FF,fill:none\n",
    "      linkStyle 3 stroke:#AA00FF,fill:none\n",
    "      linkStyle 4 stroke:#AA00FF,fill:none\n",
    "      linkStyle 5 stroke:#AA00FF,fill:none\n",
    "      linkStyle 6 stroke:#AA00FF,fill:none\n",
    "      linkStyle 7 stroke:#AA00FF,fill:none\n",
    "      linkStyle 8 stroke:#AA00FF\n",
    "    ```\n",
    "```\n",
    "\n",
    "\n",
    "``````{example-start} For-statement\n",
    ":label: examples1\n",
    ":class: dropdown\n",
    "``````"
   ]
  },
  {
   "cell_type": "code",
   "execution_count": 1,
   "id": "d0bf5b63",
   "metadata": {
    "caption": "For Loop Template",
    "emphasize-lines": 2,
    "linenos": null,
    "name": "codes1",
    "tags": [
     "remove-output"
    ]
   },
   "outputs": [
    {
     "data": {
      "text/markdown": [
       "0\t0\r\n",
       "\r\n",
       "1\t1\r\n",
       "\r\n",
       "2\t4\r\n",
       "\r\n",
       "3\t9\r\n",
       "\r\n",
       "4\t16\r\n",
       "\r\n",
       "5\t25\r\n",
       "\r\n",
       "6\t36\r\n",
       "\r\n",
       "7\t49\r\n",
       "\r\n",
       "8\t64\r\n",
       "\r\n",
       "9\t81\r\n",
       "\r\n"
      ]
     },
     "metadata": {},
     "output_type": "display_data"
    }
   ],
   "source": [
    "for (int i = 0; i < 10; ++i) {\n",
    "std::cout << i << \"\\t\" << i * i << \"\\n\";\n",
    "}"
   ]
  },
  {
   "cell_type": "markdown",
   "id": "cb46f784",
   "metadata": {},
   "source": [
    "The highlighted code statements are repeated as many times as required by the `for` statement.\n",
    "`````{admonition} Code Explanation\n",
    ":class: dropdown\n",
    "````{card}\n",
    "The syntax for this example for-statement loop is:\n",
    "```{code-block} c++\n",
    "for (int i = 0; i < 100; ++i) {\n",
    "**Code statements to be executed each time the loop runs go here** \n",
    "}\n",
    "```\n",
    "The 3 terms in the parantheses control the operation of the for loop.\n",
    "````\n",
    "````{card}\n",
    "```{code-block} c++ \n",
    "int i = 0;\n",
    "```\n",
    "The first argument is the for-statement initialiser. \n",
    "\n",
    "This statement names a loop-variable `i` and initialises it with a value of `0`.\n",
    "````\n",
    "````{card}\n",
    "```{code-block} c++\n",
    " i < 100;\n",
    "```\n",
    "The second argument is the for-statement condition. \n",
    "\n",
    "The for-loop runs until this condition becomes false. The condition must be an expression that returns a boolean, and it must be true on the first loop - or the program exits the loop.\n",
    "````\n",
    "````{card}\n",
    "```{code-block} c++\n",
    "++i;\n",
    "```\n",
    "The third and final argument is the for-statement increment. \n",
    "\n",
    "**After** executing the for-loops code block, the loop variable is increased or decreased according to this instruction.\n",
    "````\n",
    "`````\n",
    "``````{example-end}\n",
    "``````\n",
    "````{admonition} Tip\n",
    ":class: dropdown \n",
    "It is bad practice, and a common mistake, to increment the loop-variable within the execution block; this should only be done for a good reason - it is always better to seperate concerns; leave control to the loop arguments.\n",
    "\n",
    "By mistake this is sometimes done in addition to the for-statement argument ; both increment instruction are implemented each loop. this can also be done and create more options for what happens, but should not generally be done without good purpose.\n",
    "```{code-block} c++\n",
    "int main() {\n",
    "  for (int x = 0; x<50; ++x) {     // for i in the half-open range 0 to less than 50 `[0:50)` \n",
    "    cout << x << '\\t';\n",
    "    ++x;                     // Forces loop variable to be incremented twice on each iteration!!\n",
    "    }\n",
    "  return 0;\n",
    "}\n",
    "```\n",
    "````\n",
    "\n",
    "If the final value of an index needs to be known after exit from a for-loop, the index variable must\n",
    "be declared outside the for-loop (e.g., see 9.6).\n",
    "If no initialization is needed, the initializing statement can be empty.\n",
    "## Forever\n",
    "\n",
    "\n",
    "The curious notation for(;;) is a way to specify an infinite loop; you could pronounce it \"forever\".\n",
    "Behaves the same as while(true)\n",
    "\n",
    "## Single Commands\n",
    "If there is only a single statement i.e. not a whole code block of statements, then the statement can simply be placed after for-statement, and closed with;"
   ]
  },
  {
   "cell_type": "code",
   "execution_count": 2,
   "id": "4b62efb6",
   "metadata": {},
   "outputs": [
    {
     "data": {
      "text/markdown": [
       "0"
      ]
     },
     "metadata": {},
     "output_type": "display_data"
    },
    {
     "data": {
      "text/markdown": [
       "\t1\t2\t3\t4\t5\t6\t7\t8\t9\t"
      ]
     },
     "metadata": {},
     "output_type": "display_data"
    }
   ],
   "source": [
    "#include <iostream>\n",
    "int main() {\n",
    "  for (int i = 0; i < 10; ++i) std::cout << i << '\\t';\n",
    "  return 0;\n",
    "}"
   ]
  },
  {
   "cell_type": "markdown",
   "id": "b9a8580b",
   "metadata": {},
   "source": [
    "## Alternatives for For-statements"
   ]
  },
  {
   "cell_type": "code",
   "execution_count": 3,
   "id": "3b83f7e8",
   "metadata": {},
   "outputs": [
    {
     "data": {
      "text/markdown": [
       "05\r\n",
       "\r\n",
       "14\r\n",
       "\r\n",
       "23\r\n",
       "\r\n"
      ]
     },
     "metadata": {},
     "output_type": "display_data"
    }
   ],
   "source": [
    "#include <iostream>\n",
    "int main() {\n",
    "    for (int i{0}, j{5}; i < j; ++i, --j) {\n",
    "      std::cout << i << j << '\\n';\n",
    "    }\n",
    "    return 0;\n",
    "}"
   ]
  },
  {
   "cell_type": "markdown",
   "id": "f71dd679",
   "metadata": {},
   "source": [
    "## Inner Workings and Comparison to While Loops\n",
    "\n",
    "A For Loop is equivalent to the following function."
   ]
  },
  {
   "cell_type": "code",
   "execution_count": 4,
   "id": "bfc3b905",
   "metadata": {},
   "outputs": [
    {
     "name": "stderr",
     "output_type": "stream",
     "text": [
      "C:\\Users\\Peter\\AppData\\Local\\Temp\\tmpfuoc2aj3.cpp: In function 'int main()':\n",
      "C:\\Users\\Peter\\AppData\\Local\\Temp\\tmpfuoc2aj3.cpp:10:22: error: 'a' was not declared in this scope\n",
      "   10 |         std::cout << a << \"\\t\"\n",
      "      |                      ^\n"
     ]
    },
    {
     "name": "stderr",
     "output_type": "stream",
     "text": [
      "C:\\Users\\Peter\\AppData\\Local\\Temp\\tmpfuoc2aj3.cpp:10:27: error: increment of read-only location '(const char*)\"\\011\"'\n",
      "   10 |         std::cout << a << \"\\t\"\n",
      "      |                           ^~~~\n",
      "C:\\Users\\Peter\\AppData\\Local\\Temp\\tmpfuoc2aj3.cpp:10:27: error: lvalue required as increment operand\n"
     ]
    },
    {
     "name": "stderr",
     "output_type": "stream",
     "text": [
      "\n",
      "[C++ kernel] Error: Unable to compile the source code. Return error: 0x1."
     ]
    }
   ],
   "source": [
    "#include <iostream>\n",
    "int main() {\n",
    "  for (int i = 0; i <= 10; ++i) std::cout << i << \"\\t\" ;\n",
    "\n",
    "  int loopVariable = 0;\n",
    "  int terminatiionValue = 100;\n",
    "    while (loopVariable != terminatiionValue) { // Check the termination condition\n",
    "        std::cout << a << \"\\t\" //executer some code;\n",
    "        ++a; // Increment the loop counter variable\n",
    "    }\n",
    "\n",
    "  return 0;\n",
    "}"
   ]
  },
  {
   "cell_type": "code",
   "execution_count": 5,
   "id": "ccd628a8",
   "metadata": {},
   "outputs": [
    {
     "name": "stderr",
     "output_type": "stream",
     "text": [
      "C:\\Users\\Peter\\AppData\\Local\\Temp\\tmpatpfo32u.cpp: In function 'void loopFunction(int*, int)':\n",
      "C:\\Users\\Peter\\AppData\\Local\\Temp\\tmpatpfo32u.cpp:8:13: error: expected ')' before '!' token\n",
      "    8 |     while (i !!= terminatiionValue) {\n",
      "      |           ~ ^~\n",
      "      |             )\n"
     ]
    },
    {
     "name": "stderr",
     "output_type": "stream",
     "text": [
      "C:\\Users\\Peter\\AppData\\Local\\Temp\\tmpatpfo32u.cpp:8:15: error: expected primary-expression before '!=' token\n",
      "    8 |     while (i !!= terminatiionValue) {\n",
      "      |               ^~\n",
      "C:\\Users\\Peter\\AppData\\Local\\Temp\\tmpatpfo32u.cpp: In function 'int main()':\n",
      "C:\\Users\\Peter\\AppData\\Local\\Temp\\tmpatpfo32u.cpp:15:19: error: expected identifier before numeric constant\n",
      "   15 |     loopfunction([1,2,3,4,5], 20);\n",
      "      |                   ^\n",
      "C:\\Users\\Peter\\AppData\\Local\\Temp\\tmpatpfo32u.cpp:15:20: error: expected ']' before ',' token\n",
      "   15 |     loopfunction([1,2,3,4,5], 20);\n",
      "      |                    ^\n",
      "      |                    ]\n",
      "C:\\Users\\Peter\\AppData\\Local\\Temp\\tmpatpfo32u.cpp: In lambda function:\n",
      "C:\\Users\\Peter\\AppData\\Local\\Temp\\tmpatpfo32u.cpp:15:20: error: expected '{' before ',' token\n",
      "C:\\Users\\Peter\\AppData\\Local\\Temp\\tmpatpfo32u.cpp: In function 'int main()':\n",
      "C:\\Users\\Peter\\AppData\\Local\\Temp\\tmpatpfo32u.cpp:15:28: error: expected ')' before ']' token\n",
      "   15 |     loopfunction([1,2,3,4,5], 20);\n",
      "      |                 ~          ^\n",
      "      |                            )\n"
     ]
    },
    {
     "name": "stderr",
     "output_type": "stream",
     "text": [
      "\n",
      "[C++ kernel] Error: Unable to compile the source code. Return error: 0x1."
     ]
    }
   ],
   "source": [
    "#include <iostream>\n",
    "\n",
    "void loopFunction(int v[], int max) {\n",
    "    int i = 0; // Declare and intitialised the loop counter variableintroduce loop var iable\n",
    "    int terminatiionValue = 100;\n",
    "    while (i !!= terminatiionValue) { // Check the termination condition\n",
    "        v[i] = i * i; // execute the loop body\n",
    "        ++i; // Increment the loop counter variable\n",
    "    }\n",
    "}\n",
    "\n",
    "int main() {\n",
    "    loopfunction([1,2,3,4,5], 20);\n",
    "    return 0;\n",
    "}"
   ]
  },
  {
   "cell_type": "markdown",
   "id": "9c7f67f7",
   "metadata": {},
   "source": [
    "## \n",
    "The loop variable cannot be shadowed. You cannot have another variable with the same name inside declared inside the for-loops code block."
   ]
  },
  {
   "cell_type": "code",
   "execution_count": 6,
   "id": "13bfc306",
   "metadata": {},
   "outputs": [
    {
     "name": "stderr",
     "output_type": "stream",
     "text": [
      "C:\\Users\\Peter\\AppData\\Local\\Temp\\tmp4fmxdvli.cpp: In function 'int main()':\n",
      "C:\\Users\\Peter\\AppData\\Local\\Temp\\tmp4fmxdvli.cpp:6:10: error: redeclaration of 'long int i'\n",
      "    6 |     long i = 1;\n",
      "      |          ^\n"
     ]
    },
    {
     "name": "stderr",
     "output_type": "stream",
     "text": [
      "C:\\Users\\Peter\\AppData\\Local\\Temp\\tmp4fmxdvli.cpp:5:10: note: 'int i' previously declared here\n",
      "    5 | for (int i = 0;;) {\n",
      "      |          ^\n"
     ]
    },
    {
     "name": "stderr",
     "output_type": "stream",
     "text": [
      "\n",
      "[C++ kernel] Error: Unable to compile the source code. Return error: 0x1."
     ]
    }
   ],
   "source": [
    "#include <iostream>\n",
    "int main() {\n",
    "for (int i = 0;;) {\n",
    "    long i = 1;   //  invalid in C++\n",
    "    // ...\n",
    "  }\n",
    "}"
   ]
  },
  {
   "cell_type": "markdown",
   "id": "0ab2f7cd",
   "metadata": {},
   "source": [
    "## Using `auto`\n",
    "\n",
    "It is not always obvious what is the right type to use for a controlled variable in a for loop, so\n",
    "auto often comes in handy:\n",
    "for (auto p = begin(c); c!=end(c); ++p) {\n",
    "// ... use iterator p for elements in container c ...\n",
    "}\n",
    "\n",
    "## requires vector\n",
    "TRY to create and change a vector of zeros."
   ]
  },
  {
   "cell_type": "code",
   "execution_count": 7,
   "id": "383eba3b",
   "metadata": {},
   "outputs": [
    {
     "data": {
      "text/markdown": [
       "0"
      ]
     },
     "metadata": {},
     "output_type": "display_data"
    },
    {
     "data": {
      "text/markdown": [
       "0\r\n",
       "\r\n",
       "01\r\n",
       "\r\n",
       "52\r\n",
       "\r\n",
       "03\r\n",
       "\r\n",
       "04\r\n",
       "\r\n",
       "05\r\n",
       "\r\n"
      ]
     },
     "metadata": {},
     "output_type": "display_data"
    }
   ],
   "source": [
    "#include <iostream>\n",
    "#include <vector>\n",
    "\n",
    "int main() {\n",
    "  std::vector<int> vzeros(6) ;\n",
    "  std::vector<int> v = { 1,2,3,4,5 };\n",
    "  vzeros[2] = 5;\n",
    "    for (int i = 0; i < vzeros.size(); ++i) std::cout << vzeros[i] << i <<\"\\n\";\n",
    "\n",
    "}\n",
    "\n"
   ]
  },
  {
   "cell_type": "code",
   "execution_count": 8,
   "id": "6a9b52f9",
   "metadata": {},
   "outputs": [
    {
     "data": {
      "text/markdown": [
       ", 0\r\n",
       "\r\n",
       ", 1\r\n",
       "\r\n",
       ", 2\r\n",
       "\r\n",
       ", 3\r\n",
       "\r\n",
       ", 4\r\n",
       "\r\n",
       ", 5\r\n",
       "\r\n"
      ]
     },
     "metadata": {},
     "output_type": "display_data"
    }
   ],
   "source": [
    "#include <iostream>\n",
    "#include <vector>\n",
    "\n",
    "int main() {\n",
    "  std::vector<std::string> vEmptyStrings(6);\n",
    "    for (int i = 0; i < vEmptyStrings.capacity(); ++i) std::cout << vEmptyStrings[i]<<\", \" << i << \"\\n\";\n",
    "}"
   ]
  }
 ],
 "metadata": {
  "jupytext": {
   "formats": "md:myst",
   "text_representation": {
    "extension": ".md",
    "format_name": "myst"
   }
  },
  "kernelspec": {
   "display_name": "C++ 20",
   "language": "c++",
   "name": "cpp20"
  },
  "language_info": {
   "file_extension": ".cpp",
   "mimetype": "text/markdown",
   "name": "C++",
   "version": "1.0.0a9"
  },
  "source_map": [
   11,
   123,
   132,
   200,
   206,
   209,
   217,
   224,
   240,
   256,
   260,
   268,
   282,
   297
  ]
 },
 "nbformat": 4,
 "nbformat_minor": 5
}