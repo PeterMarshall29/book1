{
 "cells": [
  {
   "cell_type": "markdown",
   "id": "d9210e44",
   "metadata": {},
   "source": [
    "# `For` Loops\n",
    "\n",
    "Conditionally executes a statement repeatedly, where the statement does not need to manage the loop condition.\n",
    "\n",
    "The management of what controls the loop happens inside the argument to the for command.\n",
    "The syntax is \n",
    "“for (loop variable definition and initialisation; condition to continue the loop; increment to loop variable instruction) { code to execute}”\n",
    "\n",
    "Without the increment, which is not required, the loop just runs forever but you can also affect the condition that is checked every time from inside the code block.\n",
    "\n",
    "for (int i = 0; i < 100; ++i) {\n",
    "std::cout << i << \"\\t\" << i * i << \"\\n\";\n",
    "}\n",
    "Be careful not to also increment the loop variable within the execution block, this can also be done and create more options for what happens, but should not generally be done without good purpose.\n",
    "Single Commands\n",
    "If you only have one expression for each time through a for loop, you can put it after the for statement, and close with ;\n",
    "for (int i = 0; i < 100; ++i) std::cout << i << \"\\t\" << square(i) << \"\\n\";\n",
    "\n",
    "\n",
    "## requires vector\n",
    "TRY to create and change a vector of zeros.\n",
    "\n",
    "std::vector<int> vzeros(6) ;\n",
    "std::vector<int> v = { 1,2,3,4,5 };\n",
    "vzeros[2] = 5;\n",
    "for (int i = 0; i < vzeros.size(); ++i) std::cout << vz\n",
    "eros[i] << i <<\"\\n\";\n",
    "\n",
    "std::vector<std::string> vEmptyStrings(6);\n",
    "for (int i = 0; i < vEmptyStrings.capacity(); ++i) std::cout << vEmptyStrings[i]<<\", \" << i << \"\\n\";"
   ]
  }
 ],
 "metadata": {
  "jupytext": {
   "formats": "md:myst",
   "text_representation": {
    "extension": ".md",
    "format_name": "myst"
   }
  },
  "kernelspec": {
   "display_name": "C++ 20",
   "language": "c++",
   "name": "cpp20"
  },
  "language_info": {
   "file_extension": ".cpp",
   "mimetype": "text/x-c++src",
   "name": "C++",
   "version": "1.0.0a9"
  },
  "source_map": [
   11
  ]
 },
 "nbformat": 4,
 "nbformat_minor": 5
}