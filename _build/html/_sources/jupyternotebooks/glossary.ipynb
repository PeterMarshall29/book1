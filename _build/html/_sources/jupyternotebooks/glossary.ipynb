{
 "cells": [
  {
   "cell_type": "markdown",
   "id": "f6c9f68a",
   "metadata": {},
   "source": [
    "# Glossary\n",
    "\n",
    "{.glossary}\n",
    "\n",
    "term Declaration\n",
    "\n",
    ":Declarations introduce names into a C++ program. Each kind of entity is declared differently.\n",
    "\n",
    "term Definition\n",
    "\n",
    ":Definitions are declarations that are sufficient to use the entity identified by the name."
   ]
  }
 ],
 "metadata": {
  "jupytext": {
   "formats": "md:myst",
   "text_representation": {
    "extension": ".md",
    "format_name": "myst"
   }
  },
  "kernelspec": {
   "display_name": "C++ 20",
   "language": "c++",
   "name": "cpp20"
  },
  "language_info": {
   "file_extension": ".cpp",
   "mimetype": "text/x-c++src",
   "name": "C++",
   "version": "1.0.0a9"
  },
  "source_map": [
   11
  ]
 },
 "nbformat": 4,
 "nbformat_minor": 5
}