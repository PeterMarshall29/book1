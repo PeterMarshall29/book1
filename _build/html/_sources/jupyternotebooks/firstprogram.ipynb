{
 "cells": [
  {
   "cell_type": "markdown",
   "id": "04b547b8",
   "metadata": {},
   "source": [
    "# First C++ Program\n",
    "\n",
    "The first program that most people ever write simply prints \"Hello, World!\" to a display device, mainly because it has become a tradition to teach this first. Printing words to screen is also the simplest way to confirm that your software is correctly installed on your system.\n",
    "```{Admonition} History of the Hello World Program\n",
    ":class: seealso margin\n",
    "See the [Hello, World! program](https://en.wikipedia.org/wiki/\"Hello,_World!\"_program) page for the history of the \"Hello, world!\" program.\n",
    "```\n",
    "```{tip}\n",
    ":class: margin\n",
    "When you move to a new page on this website - click on the rocket icon at the top to start the Live Code Editors - this can take a few minutes to start, but when its ready, hitting 'run' should be very quick.\n",
    "```\n",
    "`````{code_example-start} First Program\n",
    ":label: examplea1\n",
    ":nonumber:\n",
    "`````\n",
    "```{code-block} c++\n",
    ":linenos: \n",
    ":emphasize-lines: 3\n",
    ":name: codea1\n",
    ":caption: Hello World program\n",
    "\n",
    "#include <iostream>\n",
    "int main() {\n",
    "  std :: cout << \"Hello, World!\\n\";\n",
    "  return 0;\n",
    "}\n",
    "```\n",
    "Type the above code into the empty code window below. Turn on the Live Code editor using the Rocket Icon at the top of the page. \n",
    "\n",
    "Please type the code exactly as shown - the program will fail if there are any mistakes in the 'syntax'. \n",
    "\n",
    "In {ref}`Listing 1<codea1>` - the highlighted statement is the instruction that the programmer actually wanted to implement - everything else is required to create a working C++ program."
   ]
  },
  {
   "cell_type": "code",
   "execution_count": 1,
   "id": "1ae5da68",
   "metadata": {
    "tags": [
     "remove-output"
    ]
   },
   "outputs": [
    {
     "name": "stderr",
     "output_type": "stream",
     "text": [
      "C:\\Users\\peter\\AppData\\Local\\Temp\\tmpi6uuhui1.cpp: In function 'int main()':\n",
      "C:\\Users\\peter\\AppData\\Local\\Temp\\tmpi6uuhui1.cpp:4:1: error: 'Type' was not declared in this scope; did you mean 'wctype'?\n",
      "    4 | Type code here!\n",
      "      | ^~~~\n",
      "      | wctype\n"
     ]
    },
    {
     "name": "stderr",
     "output_type": "stream",
     "text": [
      "\n",
      "[C++ kernel] Error: Unable to compile the source code. Return error: 0x1."
     ]
    }
   ],
   "source": [
    "Type code here!"
   ]
  },
  {
   "cell_type": "markdown",
   "id": "e2d1bcf2",
   "metadata": {},
   "source": [
    "````{code_explanation} examplea1\n",
    ":label: explanationa1\n",
    ":class: dropdown\n",
    "The parts of the \"Hello, World!\" program:\n",
    "```{code-block} c++\n",
    "#include <iostream>\n",
    "```\n",
    "C++ programs rely upon libraries - you will not get far without at least one of these, because the additional libraries include basic 'facilities' that your program is going to need, such as the code for the commands required to allow you to print out a value to the computer's display.\n",
    "\n",
    "`#include` instructs the computer to provide access to the library named in the angle brackets `<>`. \n",
    "\n",
    "```{syntax} `#include`\n",
    ":class: dropdown\n",
    "`#include` is a {term}`directive` instructing the {term}`preprocessor` to copy the contents of the named library or header file into the source file.\n",
    "\n",
    "Use `#include <facility_name_here>` to include {term}`standard library facilities` and `#include \"header_file_name.h\"` for user-defined {term}`header files`.\n",
    "\n",
    "{term}`standard library facilities` are components of the {term}`standard library`.\n",
    "```\n",
    "`<iostream>` is the part of the {term}`standard library` that contains specific functions for {term}`input` and {term}`output` i.e. writing to the computer's display and accepting inputs from the keyboard etc.\n",
    "\n",
    "```{code-block} c++\n",
    "int main() {\n",
    "**code statements go here**\n",
    "return 0;\n",
    "}\n",
    "```\n",
    "`main()` is a {term}`function`. Functions are explained {doc}`here <../jupyternotebooks/introduction_to_functions>`, but you can safely leave this topic until week 3.\n",
    "\n",
    "All C++ programs require a `main()` function (or an equivalent). Longer programs may have many functions - but the `main()` function is always the starting point for the logical implementation of every program.\n",
    "\n",
    "Briefly:\n",
    "- \"main\" is the name of the function.\n",
    "- The empty parentheses (parens) `main()' indicate that the main function takes no inputs.\n",
    "- The leading {term}`keyword` `int` indicates that when the rest of the instructions in the `main()` function have been executed, the program will be end by sending (returning) an integer value.\n",
    "\n",
    "To get started - just add `return 0;` to the bottom of all your `main()` functions.\n",
    "\n",
    "```{code-block} cpp\n",
    "std :: cout << \"Hello, World!\\n\";\n",
    "```\n",
    "`cout` is called the **character output stream**, pronounced \"see-out” - this is the command used to instruct the program to write to the screen.\n",
    "\n",
    "`std` identifies that `cout` is found in the standard library facilities - there is no need to specify which facility. \n",
    "\n",
    "`::` is the {term}`scope resolution operator` - think of it as a way of describing the location or ownership of parts of the syntax in order to access them.\n",
    "\n",
    "`<<` is the {term}`insertion operator`; often called the ‘write to’ operator.\n",
    "\n",
    "`\"Hello, World!\\n\"` is a `string`. String {term}`literals` are delimited (bracketed) by `\"\"`; explained {doc}`here <../jupyternotebooks/char_and_string>`.\n",
    "\n",
    "`\\n` is an {term}`escape sequence` - the escaped character `n` instructs the computer to print anything after it on a new line. \n",
    "\n",
    "````\n",
    "`````{code_example-end}\n",
    "`````\n",
    "```{seealso}\n",
    ":class: margin\n",
    "More information about the structure of the [C++ language](#the_cpp_language).\n",
    "```\n",
    "`````{exercise} First Program - Syntax Rules\n",
    ":class: dropdown\n",
    ":label: exercisea1\n",
    ":nonumber:\n",
    "Try making the following changes to the above code - run the code after each change and note what happens.\n",
    "\n",
    "- Remove the semicolon in line 3 or 4. \n",
    "- Remove `std::` from line 3.\n",
    "- Replace the angle brackets `<>` in the first line with speech marks `\"\"`.\n",
    "- Remove the return line.\n",
    "- Add some whitespace (spaces) to the code.\n",
    "- Change some letters to capitals\n",
    "- Change the returned value from 0 to 1, then to 2.0, and then to a letter.\n",
    "- Change the return value to `'r'` and then to `\"r\"`.\n",
    "- Change the return value to `'0'` and `\"0\"` - note the code number stated in the terminal output. \n",
    "\n",
    "\n",
    "````{solution} exercisea1 \n",
    ":class: dropdown\n",
    ":label: solutiona1\n",
    "\n",
    "- A semicolon is required at the end of each statement – exceptions after directive such as `#include` and after `{}`. \n",
    "- `cout` is not part of the **C++ core language** and comes instead from the **Standard Library**. Only parts of the core languages do not require `std::`. `std::` denotes the {term}`namespace` that `cout` belongs to (like a folder designation but only works if you ‘included’ the required library component). \n",
    "- To include components of the standard library angle brackets `<>` are used, but we can also include additional code written by the programmer in {doc}`**header files** <../jupyternotebooks/header_files>`, which are included using speech marks `\"\"` instead i.e. `#include \"myheaderfile.h\"`.\n",
    "- This is usually only possible in the main function, but not on every platform.\n",
    "- Whitespace is ignored in C++ - not true in other languages!\n",
    "- C++ is {term}`case sensitive`.\n",
    "\n",
    "Note: The following works differently in the 'Live Code' editor. \n",
    "- Only `0` and `0.0` working in `Live Code`.\n",
    "\n",
    "In Visual Studio, or Xcode, you would find the following:\n",
    "- Any number you return is converted to an integer, so a {term}`floating-point number` will work, but a non-numeric character cause failure because it will be interpreted as a variable name. \n",
    "- Single quotes denote the 'char' type which is used for single characters only. 'char' converts to `int`, so is acceptable. Double quotes denote the `string` type or an array of `char` type, which do not convert to `int`.\n",
    "- `'0'` has code 48 and `\"0\"` does not work. Again not in live editor. \n",
    "- The returned value is reported to whoever called the function, in the case of main() the system is the caller. In Linux the returned value is used to confirm successful termination, 0 indicated success – anything else failure.\n",
    "\n",
    "````\n",
    "`````\n",
    "``````{exercise-start} Practice Fixing Syntax Errors\n",
    ":label: exercisea2\n",
    ":class: dropdown\n",
    ":nonumber:\n",
    "``````\n",
    "This code is incorrect. Correct the mistakes in the syntax so that the code will run and print your name."
   ]
  },
  {
   "cell_type": "code",
   "execution_count": 2,
   "id": "6b440d40",
   "metadata": {
    "tags": [
     "remove-output"
    ]
   },
   "outputs": [
    {
     "name": "stderr",
     "output_type": "stream",
     "text": [
      "C:\\Users\\peter\\AppData\\Local\\Temp\\tmpcq2xm_oh.cpp:3:1: error: 'include' does not name a type\n",
      "    3 | include \"iostreams\"\n",
      "      | ^~~~~~~\n"
     ]
    },
    {
     "name": "stderr",
     "output_type": "stream",
     "text": [
      "\n",
      "[C++ kernel] Error: Unable to compile the source code. Return error: 0x1."
     ]
    }
   ],
   "source": [
    "include \"iostreams\"\n",
    "main(){\n",
    "cout << \"my name is, \\n\"\n",
    "return \"Peter\";\n",
    "}"
   ]
  },
  {
   "cell_type": "markdown",
   "id": "2cef2157",
   "metadata": {},
   "source": [
    "`````{solution} exercisea2\n",
    ":class: dropdown\n",
    ":label: solutiona2\n",
    "Try not to look at the solutions until you have attempted the exercise... you will find that both your understanding and retention are improved compared to just looking at a solution.\n",
    "```{code-block} c++\n",
    "#include <iostream>\n",
    "int main()\n",
    "{\n",
    "  std :: cout << \"Put your name here!\\n\";\n",
    "  return 0;\n",
    "}\n",
    "```\n",
    "`````\n",
    "``````{exercise-end}\n",
    "``````\n",
    "## C++ Comments\n",
    "\n",
    "{term}`Comments` are plain text added to a C++ source file that will be not part of the program - they are removed before the source code is compiled.\n",
    "\n",
    "Comments are used as notes for anyone trying to understand the program, and reminders to the authors of what they meant when they wrote the code.\n",
    "\n",
    "When developing a program, it is useful to be able to temporarily hide sections of the code from the compiler by 'commenting them out`.\n",
    "\n",
    "Some suggest that good code does not require comments, but this is unlikely to be true. Remember that programs can be very long, and you may want to return to a program that you wrote years ago; a small investment in comments usually makes the code more maintainable, and easier for others to use.\n",
    "\n",
    "Since the comments are ignored, there are no special rules for them, except that they must be identified as {term}`comments`.\n",
    "\n",
    "````{syntax-start} Comments\n",
    ":class: dropdown\n",
    ":nonumber:\n",
    "`````\n",
    "Comments may be added to a C++ program in two ways:\n",
    "```{code-block} ruby\n",
    "// A C++ style single line comment\n",
    "// Another one\n",
    "include <iostream> // This comment does not affect anything before it on the same line!\n",
    "\n",
    "/* C-style comments are also used \n",
    "*/\n",
    "\n",
    "/* Best \n",
    "when \n",
    "a \n",
    "multi-line comment is needed\n",
    "*/\n",
    "\n",
    "```\n",
    "\n",
    "For a single line comment just put `//` at the start of the comment - this can be after a line of code, even after an opening curly brace `{`.\n",
    "\n",
    "Multiline comments can be created by surrounding any text with `/*` and `*/`\n",
    "```{important}\n",
    "Multiline comments may not be nested!\n",
    "```\n",
    "Most editors will create a multiline comment for you - highlight the code by clicking and dragging the mouse across it and then simultaneously pressing {kbd}`Ctrl` + {kbd}`/`.\n",
    "````{syntax-end}\n",
    "`````"
   ]
  }
 ],
 "metadata": {
  "jupytext": {
   "formats": "md:myst",
   "text_representation": {
    "extension": ".md",
    "format_name": "myst"
   }
  },
  "kernelspec": {
   "display_name": "C++ 20",
   "language": "c++",
   "name": "cpp20"
  },
  "language_info": {
   "file_extension": ".cpp",
   "mimetype": "text/markdown",
   "name": "C++",
   "version": "1.0.0a9"
  },
  "source_map": [
   11,
   46,
   49,
   155,
   162
  ]
 },
 "nbformat": 4,
 "nbformat_minor": 5
}