{
 "cells": [
  {
   "cell_type": "markdown",
   "id": "5b11d16a",
   "metadata": {},
   "source": [
    "# Input and Output\n",
    "\n",
    "The `<iostream>` component of the {term}`standard library` allows users to interact with programmes, by providing additional commands for programming the computer to print information on the monitor/screen and accept input via the keyboard.\n",
    "\n",
    "Before learning to program these basic instructions it is difficult to make any progress learning a computing language, because we have no insight into what the program is doing.\n",
    "\n",
    "Type the following code into the empty code window below, add the missing programme statements, and run the completed code.\n",
    "\n",
    "```{tip}\n",
    ":class: margin\n",
    "Don't forget to include `<iostream>` and `<string>` and to format the `main()` function correctly.\n",
    "```\n",
    "\n",
    "```{code-block} cpp\n",
    ":linenos: \n",
    "std::cout<<\"Please type your surname!\\n\";\n",
    "std::string surname;\n",
    "std::cin >> surname;\n",
    "std::cout << \"Hello, \" << surname << \"!\\n\";\n",
    "return 0;\n",
    "```"
   ]
  },
  {
   "cell_type": "code",
   "execution_count": 1,
   "id": "2d967c84",
   "metadata": {
    "tags": [
     "remove-output"
    ]
   },
   "outputs": [
    {
     "name": "stderr",
     "output_type": "stream",
     "text": [
      "C:\\Users\\Peter\\AppData\\Local\\Temp\\tmp3hvmepwt.cpp: In function 'int main()':\n",
      "C:\\Users\\Peter\\AppData\\Local\\Temp\\tmp3hvmepwt.cpp:4:1: error: 'Type' was not declared in this scope; did you mean 'wctype'?\n",
      "    4 | Type code here!\n",
      "      | ^~~~\n",
      "      | wctype\n"
     ]
    },
    {
     "name": "stderr",
     "output_type": "stream",
     "text": [
      "\n",
      "[C++ kernel] Error: Unable to compile the source code. Return error: 0x1."
     ]
    }
   ],
   "source": [
    "Type code here!"
   ]
  },
  {
   "cell_type": "markdown",
   "id": "e066d0cd",
   "metadata": {},
   "source": [
    "````{admonition} Code Explanation\n",
    ":class: dropdown\n",
    "\n",
    "`cin` is the character input stream, pronounced 'see - in'; used to read input from the keyboard.\n",
    "\n",
    "The input stream waits for the return key, taking any characters types in before {kbd}`return`\n",
    "\n",
    "`>>` is the input stream operator, also called the \"get from\" or \"extraction\" operator - directs where the input goes to - a variable name usually.\n",
    "\n",
    "```{code-block} c++\n",
    ":linenos:\n",
    "#include <iostream>\n",
    "#include <string>\n",
    "int main() {\n",
    "\tstd::string surname;    //Declares a variable of type string.\n",
    "  std::cout<<\"Please type your surname!\\n\"; //This is a 'prompt'; a message to the user with instructions.\n",
    "\tstd::cin >> surname;\t\t//Character input stream, takes input from console when 'return' (aka 'newline') is pressed. \n",
    "\tstd::cout << \"Hello, \" << surname << \"!\\n\";\n",
    "\treturn 0;\n",
    "}\n",
    "```\n",
    "`\"Hello, \"` is a string-literal. Surname is a named object of type `string`.\n",
    "````\n",
    "\n",
    "\n",
    "````{exercise}\n",
    ":class: dropdown\n",
    "Try the following code. Use the above code box.\n",
    "```{code-block} c++\n",
    ":linenos:\n",
    "std::string fullName;\n",
    "std::cout << \"Please type in your full name!\\n\"; \n",
    "std::cin >> fullName;\n",
    "std::cout << \"Hello, \" << fullName << \"!\\n\";\n",
    "```\n",
    "```{admonition} Code Explanation\n",
    ":class: dropdown\n",
    "`cin` stops recording the input when it encounters the first whitespace, following any character (initial whitespace is ignored). Code still waits for {kbd}`return`.\n",
    "\n",
    "Any whitespace terminates the reading of the input string i.e. inlcuding space, tab, or newline (`\\t`, `\\n`).\n",
    "\n",
    "```\n",
    "We obviously need to be able to type in several words, at the same time, separate by a {kbd}`space`. \n",
    "\n",
    "There are several methods open to us; depending on whether we may want each word recorded as a separate string, or just a long string with spaces..\n",
    "\n",
    "Try the following code.\n",
    "```{code-block} c++\n",
    ":linenos:\n",
    "std::string firstName;\n",
    "std::string surname;\n",
    "std::cout << \"Please type your first name followed by your surname!\\n\"; \n",
    "std::cin >> firstName >> surname;\n",
    "std::cout << \"Hello, \" << firstName << \" \" << surname << \"!\\n\";\n",
    "```\n",
    "```{admonition} Code Explanation\n",
    ":class: dropdown\n",
    "The input stream sends everything before the first whitespace to the first variable, if a second `>>`operator is found then the input between the first and second whitespace is sent to the second variable and so on.\n",
    "\n",
    "The program expects two inputs, so the {kbd}`return` key will only move the cursor to a new line until a second character or string is found.\n",
    "\n",
    "More advanced methods are available to clean up some issues caused by potential variation in what is typed by the user.\n",
    "```\n",
    "````\n",
    "\n",
    "\n",
    "`````{exercise}\n",
    ":class: dropdown\n",
    "- Try the following code - which should work.\n",
    "\n",
    "````{code-block} c++\n",
    ":linenos:\n",
    "    int age = 58;\n",
    "    std::string salutation = \"Dr\";\n",
    "    std::string surname;\n",
    "    std::cout << \"Please type your surname!\\n\";\n",
    "    std::cin >> surname;  \n",
    "    std::cout << \"Hello, \" << salutation << \" \" << surname << \", you are \" << age << \" years old!\\n\";\n",
    "````\n",
    "- Now change the code to ask the user to input a their salutation, followed by their first name, followed by their surname, followed by their age.\n",
    "- Try responding with 4 words, rather than 3 words and a number\n",
    "- Change the existing output line to print `surname * 2` and then try `surname + age`.\n",
    "\n",
    "````{admonition} Code Explanation\n",
    ":class: note dropdown\n",
    "\n",
    "This changed and add code lines should be similar to this.\n",
    "```{code-block} c++\n",
    "std::string firstName;\n",
    "std::cout << \"Please type salutation, followed by your first name, followed by your surname, followed by your age\\n\";\n",
    "std::cin >> salutation >> firstName >> surname >> age;\n",
    "std::cout << \"Hello, \" << salutation << \" \" << firstName << \" \" << surname << \", you are \" << age << \" years old!\\n\";\n",
    "```\n",
    "Attempting to add or multiply a string and integer is not permitted by the {term}`type system`.\n",
    "\n",
    "If a fourth string is input, when the program expects an integer, a null value is recorded, which unfortunately overwrote the existing value, if ther was one, and is why the program printed '0'.\n",
    "\n",
    "A professional program would need to be able to catch this input error. Older C++ version might give a random value such as -96738 . \n",
    "````\n",
    "`````\n",
    "\n",
    "## Formatting Output\n",
    "\n",
    "The default output for a floating point number is 6 digits. The number is rounded to give the best approximation that can be printed with 6 digits.\n",
    "\n",
    "This may not be sufficient, if you want to spot a rounding or truncation error.\n",
    "\n",
    "The actual value stored by the computer will have more digits, so a comparison of one against another may fail.\n",
    "\n",
    "The format that is printed to the screen can be formatted as follows."
   ]
  },
  {
   "cell_type": "code",
   "execution_count": 2,
   "id": "85638ed9",
   "metadata": {
    "linenos": null,
    "tags": [
     "remove-output"
    ]
   },
   "outputs": [
    {
     "data": {
      "text/markdown": [
       "12346  123456789  0.123457\r\n",
       "\r\n"
      ]
     },
     "metadata": {},
     "output_type": "display_data"
    }
   ],
   "source": [
    "#include <iostream>\n",
    "int main(){\n",
    "std::cout << std::defaultfloat << 12345.987654321 << \"  \" << std::scientific << 123456789 << \"  \" << std::fixed << 0.123456789 << '\\n';\n",
    "return 0;\n",
    "}"
   ]
  },
  {
   "cell_type": "markdown",
   "id": "f6a3f6f0",
   "metadata": {},
   "source": [
    "std::defaultfloat is the what would happen if nothing was set, used when you want to return to the default.\n",
    "\n",
    "std::scientific formats the number in to scientific notation, and to have 6 digits after the decimal point.\n",
    "\n",
    "std::fixed keeps the number of digits after the decimal point to 6.\n",
    "\n",
    "The precision used for these options may also be set.\n",
    "\n",
    "After including the `<iomanip>` component of the Standard Library,  `<< std::setprecision()` controls the pecision of what follows."
   ]
  },
  {
   "cell_type": "code",
   "execution_count": 3,
   "id": "b050d61c",
   "metadata": {
    "linenos": null,
    "tags": [
     "remove-output"
    ]
   },
   "outputs": [
    {
     "data": {
      "text/markdown": [
       "0.70710678118654746171500846685376018285751342773437"
      ]
     },
     "metadata": {},
     "output_type": "display_data"
    },
    {
     "data": {
      "text/markdown": [
       "5  0.707106781186547461715008466853760182857513427734375  0.70710678118654757273731092936941422522068023681640625\r\n",
       "\r\n"
      ]
     },
     "metadata": {},
     "output_type": "display_data"
    }
   ],
   "source": [
    "#include <iostream>\n",
    "#include <iomanip>\n",
    "int main(){\n",
    "std::cout << std::setprecision(64) << sin(acos(-1) / 4) << \"  \" << sin(std::numbers::pi/4)<< \"  \" << sqrt(2) / 2 << '\\n';\n",
    "return 0;\n",
    "}"
   ]
  },
  {
   "cell_type": "markdown",
   "id": "05288071",
   "metadata": {},
   "source": [
    "## getline()\n",
    "\n",
    "An alternative to `cin` is to use getline(), which will ignore whitespace and collecte every character before {kbd}`return` into a single string.\n",
    "\n",
    "The downside is that you may need to split up the string later. See [<sstream>](https://en.cppreference.com/w/cpp/io/basic_stringstream.html) for further information on how to separate a string."
   ]
  },
  {
   "cell_type": "code",
   "execution_count": null,
   "id": "71b5cf99",
   "metadata": {
    "linenos": null,
    "tags": [
     "remove-output",
     "raises-exception",
     "skip-execution"
    ]
   },
   "outputs": [],
   "source": [
    "#include <iostream>\n",
    "#include <string>\n",
    "int main() {\n",
    "\tstd::string sentence;\n",
    "\tgetline(std::cin, sentence);\n",
    "\tstd::cout << sentence << std::endl;\n",
    "\treturn 0;\n",
    "}"
   ]
  },
  {
   "cell_type": "markdown",
   "id": "d2b86567",
   "metadata": {},
   "source": [
    "The `getline()` function takes two arguments. The name of input stream and the name of the string to write to.getline(std::cin, sentence); \n",
    "\n",
    "`std::endl` inserts a newline character into the the output sequence and is therefore almost the same as `'\\n'`.\n",
    "\n",
    "`endl` additionally flushes the output stream, forces the output to appear in real time; advancd issue."
   ]
  }
 ],
 "metadata": {
  "jupytext": {
   "formats": "md:myst",
   "text_representation": {
    "extension": ".md",
    "format_name": "myst"
   }
  },
  "kernelspec": {
   "display_name": "C++ 20",
   "language": "c++",
   "name": "cpp20"
  },
  "language_info": {
   "file_extension": ".cpp",
   "mimetype": "text/markdown",
   "name": "C++",
   "version": "1.0.0a9"
  },
  "source_map": [
   11,
   35,
   38,
   151,
   159,
   170,
   179,
   189,
   200
  ]
 },
 "nbformat": 4,
 "nbformat_minor": 5
}