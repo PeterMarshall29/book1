{
 "cells": [
  {
   "cell_type": "markdown",
   "id": "e1aead23",
   "metadata": {},
   "source": [
    "# Input and Output\n",
    "\n",
    "The `<iostream>` component of the {term}`standard library` provides the tools used to interact with programmes, using the keyboard and computer display for input and output.\n",
    "\n",
    "These basic functions are vital to learning programming because they enable the programmer to follow the progress of a programme's execution - without some output to the display you will have little insight into what the program is doing.\n",
    "```{danger}\n",
    ":class: margin\n",
    "{attribution=\"Programmer Humour...?\"}\n",
    "> Knock, knock.\n",
    " Race condition!\n",
    " Who's there?\n",
    "```\n",
    "```{tip}\n",
    ":class: margin\n",
    "Don't forget to include `<iostream>` and `<string>` and to format the `main()` function correctly.\n",
    "```\n",
    "`````{code_example-start} Basic IOStream Statements\n",
    ":label: examplec1\n",
    ":class: dropdown\n",
    ":nonumber:\n",
    "`````\n",
    "Type the following code into the empty code window below, add the missing programme statements, and run the completed code.\n",
    "````{code-block} c++\n",
    ":linenos: \n",
    "std::cout<<\"Please type your surname!\\n\";\n",
    "std::string surname;\n",
    "std::cin >> surname;\n",
    "std::cout << \"Hello, \" << surname << \"!\\n\";\n",
    "return 0;\n",
    "````"
   ]
  },
  {
   "cell_type": "code",
   "execution_count": 1,
   "id": "3dd4b9f8",
   "metadata": {
    "tags": [
     "remove-output"
    ]
   },
   "outputs": [
    {
     "name": "stderr",
     "output_type": "stream",
     "text": [
      "C:\\Users\\Peter\\AppData\\Local\\Temp\\tmp26a994ly.cpp: In function 'int main()':\n",
      "C:\\Users\\Peter\\AppData\\Local\\Temp\\tmp26a994ly.cpp:4:1: error: 'Type' was not declared in this scope; did you mean 'wctype'?\n",
      "    4 | Type code here!\n",
      "      | ^~~~\n",
      "      | wctype\n"
     ]
    },
    {
     "name": "stderr",
     "output_type": "stream",
     "text": [
      "\n",
      "[C++ kernel] Error: Unable to compile the source code. Return error: 0x1."
     ]
    }
   ],
   "source": [
    "Type code here!"
   ]
  },
  {
   "cell_type": "markdown",
   "id": "4bc0db22",
   "metadata": {},
   "source": [
    "````{code_explanation} examplec1\n",
    ":class: dropdown\n",
    "`cin` is the character input stream, pronounced 'see - in'; used to read input from the keyboard.\n",
    "\n",
    "The input stream waits for the return key, taking any characters typed in before {kbd}`return`\n",
    "\n",
    "`>>` is the iostream input operator, also called the \"extraction\" operator - directs where the input goes to - a variable name usually.\n",
    "```{code-block} c++\n",
    ":linenos:\n",
    "#include <iostream>\n",
    "#include <string>\n",
    "int main() {\n",
    "  std::string surname;    //Declares a variable of type string.\n",
    "  std::cout<<\"Please type your surname!\\n\"; //This is a 'prompt'; a message to the user with instructions.\n",
    "  std::cin >> surname;    //Character input stream, takes input from console when 'return' (aka 'newline') is pressed. \n",
    "  std::cout << \"Hello, \" << surname << \"!\\n\";\n",
    "  return 0;\n",
    "}\n",
    "```\n",
    "`\"Hello, \"` is a string-literal. `Surname` is a named object of type `string`.\n",
    "````\n",
    "`````{code_example-end}\n",
    "`````\n",
    "\n",
    "````{exercise}\n",
    ":class: dropdown\n",
    ":label: exercisec1\n",
    "Try the following code. Use the above code box.\n",
    "```{code-block} c++\n",
    ":linenos:\n",
    "std::string fullName;\n",
    "std::cout << \"Please type in your full name!\\n\"; \n",
    "std::cin >> fullName;\n",
    "std::cout << \"Hello, \" << fullName << \"!\\n\";\n",
    "```\n",
    "```{solution} exercisec1\n",
    ":class: dropdown\n",
    "`cin` stops recording the input when it encounters the first whitespace, following any character (initial whitespace is ignored). Code still waits for {kbd}`return`.\n",
    "\n",
    "Any whitespace terminates the reading of the input string i.e. including 'space', 'tab', or 'newline' (i.e. `\\t`, `\\n`).\n",
    "\n",
    "```\n",
    "Unsurprisingly we do sometimes need to be able to type in several words at the same time, separated by a {kbd}`space`. \n",
    "\n",
    "There are several methods open to us; depending on whether we may want each word recorded as a separate string, or just a long string with many spaces.\n",
    "\n",
    "Try the following code.\n",
    "```{code-block} c++\n",
    ":linenos:\n",
    "std::string firstName;\n",
    "std::string surname;\n",
    "std::cout << \"Please type your first name followed by your surname!\\n\"; \n",
    "std::cin >> firstName >> surname;\n",
    "std::cout << \"Hello, \" << firstName << \" \" << surname << \"!\\n\";\n",
    "```\n",
    "```{admonition} Code Explanation\n",
    ":class: dropdown\n",
    "The input stream sends everything before the first whitespace to the first variable, if a second `>>`operator is found then the input between the first and second whitespace is sent to the second variable and so on.\n",
    "\n",
    "The program expects two inputs, so the {kbd}`return` key will only move the cursor to a new line until a second character or string is found.\n",
    "\n",
    "More advanced methods are available to clean up some issues caused by potential variation in what is typed by the user.\n",
    "```\n",
    "````\n",
    "`````{exercise}\n",
    ":class: dropdown\n",
    "Try the following code - which should work.\n",
    "````{code-block} c++\n",
    ":linenos:\n",
    "    int age = 58;\n",
    "    std::string honorific = \"Dr\";\n",
    "    std::string surname;\n",
    "    std::cout << \"Please type your surname!\\n\";\n",
    "    std::cin >> surname;  \n",
    "    std::cout << \"Hello, \" << honorific << \" \" << surname << \", you are \" << age << \" years old!\\n\";\n",
    "````\n",
    "- Now change the code to ask the user to input their honorific, followed by their first name, followed by their surname, followed by their age.\n",
    "- Try responding with 4 words, rather than 3 words and a number.\n",
    "- Change the existing output line to print `surname * 2` and then try `surname + age`.\n",
    "\n",
    "````{admonition} Code Solution and Explanation\n",
    ":class: note dropdown\n",
    "The program, with the altered and added code lines, should be similar to this…\n",
    "```{code-block} c++\n",
    "std::string firstName;\n",
    "std::cout << \"Please type your honorific, followed by your first name, followed by your surname, followed by your age\\n\";\n",
    "std::cin >> honorific >> firstName >> surname >> age;\n",
    "std::cout << \"Hello, \" << honorific << \" \" << firstName << \" \" << surname << \", you are \" << age << \" years old!\\n\";\n",
    "```\n",
    "Attempting to add or multiply a string and integer is not permitted by the {term}`type system`.\n",
    "\n",
    "If a fourth string is input, when the program expects an integer, a null value is recorded, which unfortunately overwrote the existing value, if there was one, and is why the program printed '0'. A professional program would need to be able to catch this input error. Older C++ version might give a random value such as ‘-96738’ . \n",
    "````\n",
    "`````\n",
    "`````{syntax-start} std::cin\n",
    ":label: syntaxc1\n",
    ":class: dropdown\n",
    ":nonumber: \n",
    "`````\n",
    "`std::cin` is the character input stream, pronounced 'see - in'; used to read input from the keyboard. \n",
    "\n",
    "The input stream collects all the entered characters in sequence into an input buffer (temporary storage) until the user hits the {kbd}`return` key.\n",
    "\n",
    "The data (characters) stored in the buffer are held until extracted.  \n",
    "\n",
    "`>>` is the {term}`extraction operator`, also called the iostream input operator.  \n",
    "\n",
    "`>>` extracts the sequence of input characters from the input buffer before the next trailing whitespace character and transfers them to the indicated variable.\n",
    "\n",
    "Leading whitespace characters, including '\\n' and '\\t' are discarded from the input buffer.\n",
    "\n",
    "{term}`Extraction` succeeds if at least one character is extracted from the input buffer. Any unextracted input is left in the input buffer for future extractions. \n",
    "\n",
    "Any characters that are not extracted are left in the input buffer for a possible future extraction.\n",
    "\n",
    "Unwanted characters may be present in the input buffer.  (Any data already in the input buffer may also be extracted). \n",
    "\n",
    "````{code_example-start}\n",
    ":label: examplec2\n",
    ":class: dropdown\n",
    "````\n",
    "This code will work - try reversing the order of the extraction."
   ]
  },
  {
   "cell_type": "code",
   "execution_count": null,
   "id": "5cc8860a",
   "metadata": {
    "class": "dropdown",
    "tags": [
     "remove-ouput",
     "skip-execution"
    ]
   },
   "outputs": [],
   "source": [
    "int main()\n",
    "{\n",
    "    std::string word = \"Peter\";\n",
    "    int number = 1;\n",
    "    char myChar = 'a';\n",
    "    std::cout << \"Please enter a word followed by a number ..\\n\";\n",
    "    std::cin >> word;\n",
    "    std::cin >> number;\n",
    "    std::cout << word << std::endl;\n",
    "    std::cout << number << std::endl;\n",
    "    return 0;\n",
    "}"
   ]
  },
  {
   "cell_type": "markdown",
   "id": "9708d1c9",
   "metadata": {},
   "source": [
    "```{code_explanation} examplec2\n",
    ":class: dropdown\n",
    "Extraction fails if the input data does not match the type of the variable being extracted.\n",
    "\n",
    "If you type in a string literal - `number` is reset to the value 0.\n",
    "\n",
    "`word` is unchanged, because an extraction had previously failed.\n",
    "\n",
    "Only numeric characters can be extracted to an `int`.\n",
    "\n",
    "```\n",
    "````{code_example-end}\n",
    "````\n",
    "\n",
    "Extraction fails if the input data does not match the type of the variable being extracted.\n",
    "\n",
    "If a previous extraction has failed, `std::cin` will not be able to function until it is cleared.\n",
    "\n",
    "If there is no input because the extraction had previously failed extraction, then indicated variables are left unmodified.\n",
    "\n",
    "However, a failed extraction due to invalid input will leave the variable indicated reset to null.\n",
    "````{exercise}\n",
    ":class: dropdown\n",
    "Try adding the following code before ` std::cin >> word;` \n",
    "```{code-block} c++\n",
    "if (std::cin.fail())\n",
    "{\n",
    "    std::cin.clear();\n",
    "}   \n",
    "```\n",
    "`std::cin.clear()` resets the error flags on `std::cin`, and therefore the second extraction becomes possible.\n",
    "````\n",
    "\n",
    "Sometimes, unwanted characters remain in the input buffer, causing issues with subsequent input operations.\n",
    "\n",
    "Use `std::cin.ignore()` to clear the buffer\n",
    "`````{syntax-end}\n",
    "`````\n",
    "\n",
    "## Newline - `std::endl` vs `'\\n'`\n",
    "`std::endl` inserts a newline character into the output sequence and is therefore almost the same as `'\\n'`.\n",
    "\n",
    "It is better to use `'\\n'` to output a newline.\n",
    "\n",
    "Using `std::endl` is often inefficient because `endl` additionally flushes the output stream - it forces the output to appear in real time; advanced issue.\n",
    "\n",
    "It is seldom necessary for a program to include additional commands for flushing the input buffer, which not be needed or useful, and which also slows down the execution of the program needlessly - buffer flushing is a slow process - that may be repeated many times.\n",
    "## Formatting Output\n",
    "\n",
    "The default output for a floating-point number is 6 digits. The number is rounded to give the best approximation that can be printed with 6 digits.\n",
    "\n",
    "This may not be sufficient, if you want to spot a rounding or truncation error.\n",
    "\n",
    "The actual value stored by the computer will have more digits, so a comparison of one against another may fail.\n",
    "\n",
    "`````{code_example-start}\n",
    ":label: Examplec4\n",
    ":class: dropdown\n",
    "`````\n",
    ":class: dropdown\n",
    "The format that is printed to the screen can be formatted as follows."
   ]
  },
  {
   "cell_type": "code",
   "execution_count": 2,
   "id": "636d6ca8",
   "metadata": {
    "linenos": null,
    "tags": [
     "remove-output"
    ]
   },
   "outputs": [
    {
     "data": {
      "text/markdown": [
       "12346  123456789  0.123457\r\n",
       "\r\n"
      ]
     },
     "metadata": {},
     "output_type": "display_data"
    }
   ],
   "source": [
    "#include <iostream>\n",
    "int main(){\n",
    "std::cout << std::defaultfloat << 12345.987654321 << \"  \" << std::scientific << 123456789 << \"  \" << std::fixed << 0.123456789 << '\\n';\n",
    "return 0;\n",
    "}"
   ]
  },
  {
   "cell_type": "markdown",
   "id": "189637a8",
   "metadata": {},
   "source": [
    "`std::defaultfloat` is what would happen if nothing was set, used when you want to return to the default.\n",
    "\n",
    "`std::scientific` formats the number into scientific notation, and to have 6 digits after the decimal point.\n",
    "\n",
    "`std::fixed` keeps the number of digits after the decimal point to 6.\n",
    "\n",
    "The precision used for these options may also be set.\n",
    "\n",
    "After including the `<iomanip>` component of the Standard Library,  `<< std::setprecision()` controls the precision of what follows."
   ]
  },
  {
   "cell_type": "code",
   "execution_count": 3,
   "id": "9c01aff1",
   "metadata": {
    "linenos": null,
    "tags": [
     "remove-output"
    ]
   },
   "outputs": [
    {
     "data": {
      "text/markdown": [
       "0.707106781186547461715008466853760182857513427734375  0.707106781186547461715008466853760182857513427734375  0.70710678118654757273731092936941422522068023681640625\r\n",
       "\r\n"
      ]
     },
     "metadata": {},
     "output_type": "display_data"
    }
   ],
   "source": [
    "#include <iostream>\n",
    "#include <iomanip>\n",
    "int main(){\n",
    "std::cout << std::setprecision(64) << sin(acos(-1) / 4) << \"  \" << sin(std::numbers::pi/4)<< \"  \" << sqrt(2) / 2 << '\\n';\n",
    "return 0;\n",
    "}"
   ]
  },
  {
   "cell_type": "markdown",
   "id": "dbbd7460",
   "metadata": {},
   "source": [
    "`````{code_example-end}\n",
    "`````\n",
    "\n",
    "## The `getline()` function\n",
    "\n",
    "An alternative to `cin` is to use `getline()`, which will ignore whitespace and collect every character before {kbd}`return` into a single string.\n",
    "\n",
    "The downside is that you may need to split up the string later. See [<sstream>](https://en.cppreference.com/w/cpp/io/basic_stringstream.html) for further information on how to separate a string.\n",
    "`````{code_example-start}\n",
    ":label: Examplec3\n",
    ":class: dropdown\n",
    "`````"
   ]
  },
  {
   "cell_type": "code",
   "execution_count": null,
   "id": "63121454",
   "metadata": {
    "linenos": null,
    "tags": [
     "remove-output",
     "raises-exception",
     "skip-execution"
    ]
   },
   "outputs": [],
   "source": [
    "#include <iostream>\n",
    "#include <string>\n",
    "int main() {\n",
    "    std::string sentence;\n",
    "    std::cout << \"Please type in a sentence... \\n\";\n",
    "    std::getline(std::cin, sentence);\n",
    "    std::cout << sentence << std::endl;\n",
    "    return 0;\n",
    "}"
   ]
  },
  {
   "cell_type": "markdown",
   "id": "6d9aea5e",
   "metadata": {},
   "source": [
    "The `getline()` function takes two arguments - The name of the input stream and the name of the string to write to, i.e. `getline(stream, variable);`. \n",
    "`````{code_example-end}\n",
    "`````\n",
    "\n",
    "## Using `std::cout` with `<vector>`\n",
    "\n",
    "If indexing into a vector is inconvenient, another option is to overload the insertion operator `<<` using a template to accommodate the variety of types accepted by `vector`.\n",
    "\n",
    "This is most likely beyond the scope of this module, but to demonstrate the possibility....\n",
    "\n",
    "`````{code_example-start}\n",
    ":label: examplec6\n",
    ":class: dropdown\n",
    "`````"
   ]
  },
  {
   "cell_type": "code",
   "execution_count": null,
   "id": "8cb4a5cf",
   "metadata": {
    "tags": [
     "remove-output",
     "skip-execution"
    ]
   },
   "outputs": [],
   "source": [
    "#include <iostream>\n",
    "#include <vector>\n",
    "template<typename T>\n",
    "std::ostream& operator<<(std::ostream& ostreamValue, const std::vector<T>& myVector) {\n",
    "    for (const auto& elements : myVector)\n",
    "        ostreamValue << elements << ' ';\n",
    "    return ostreamValue;\n",
    "}\n",
    "int main() {\n",
    "    std::vector<int> myVector = {1,2,3,4,5,6};\n",
    "    std::cout << myVector << '\\n';\n",
    "    return 0;\n",
    "}"
   ]
  },
  {
   "cell_type": "markdown",
   "id": "40ae9099",
   "metadata": {},
   "source": [
    "`````{code_example-end}\n",
    "`````\n",
    "\n",
    "## Print debugging\n",
    "\n",
    "A good reason that `std::cout` is taught before other IO methods is its simplicity - no, really! - \n",
    "`std::cout` automatically formats the printed text based on the variable's type.\n",
    "\n",
    "It allows a quick and simple output immediately, when we need to get started or with {term}`print debugging`, by obviating any additional issues formatting different stings. \n",
    "\n",
    "\n",
    "## printf()\n",
    "\n",
    "\n",
    "\n",
    "## New Print() - only in  C++23\n",
    "\n",
    "There are several alternatives to `std::cout` in C++.\n",
    "\n",
    "In C++23 (we will probably be using C++20) a new `print()` was introduced/\n",
    "\n",
    "`````{code_example-start}\n",
    ":label: examplec5\n",
    ":class: dropdown\n",
    "`````"
   ]
  },
  {
   "cell_type": "code",
   "execution_count": null,
   "id": "3721ddc1",
   "metadata": {
    "tags": [
     "remove-output",
     "skip-execution"
    ]
   },
   "outputs": [],
   "source": [
    "#include <print>\n",
    "int main() {\n",
    "    std::print(\"{2} {1}{0}!\\n\", 23, \"C++\", \"Hello\");  \n",
    "    return 0;\n",
    "}"
   ]
  },
  {
   "cell_type": "markdown",
   "id": "f32821eb",
   "metadata": {},
   "source": [
    "````{code_explanation} examplec5\n",
    ":label: explanationc5\n",
    ":class: dropdown\n",
    "\n",
    "The first argument is the string to be printed.\n",
    "\n",
    "The numbers in the curly braces `{}` refer to the position of the subeseqent arguments in order, starting with the first argument after the string, which has index '0'.\n",
    "\n",
    "The printed string will have those arguments inserted in the indicated corresponding position; e.g. {1} is replaced by the second argument following the string.\n",
    "\n",
    "Arguments can be used repeatedly and in any order.\n",
    "\n",
    "````\n",
    "Prints, `Hello C++23!`\n",
    "`````{code_example-end}\n",
    "`````"
   ]
  }
 ],
 "metadata": {
  "jupytext": {
   "formats": "md:myst",
   "text_representation": {
    "extension": ".md",
    "format_name": "myst"
   }
  },
  "kernelspec": {
   "display_name": "C++ 20",
   "language": "c++",
   "name": "cpp20"
  },
  "language_info": {
   "file_extension": ".cpp",
   "mimetype": "text/markdown",
   "name": "C++",
   "version": "1.0.0a9"
  },
  "source_map": [
   11,
   43,
   46,
   169,
   184,
   246,
   254,
   265,
   274,
   287,
   299,
   314,
   329,
   355,
   362
  ]
 },
 "nbformat": 4,
 "nbformat_minor": 5
}