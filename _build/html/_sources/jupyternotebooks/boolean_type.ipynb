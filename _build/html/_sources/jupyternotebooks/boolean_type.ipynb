{
 "cells": [
  {
   "cell_type": "markdown",
   "id": "f63eaf40",
   "metadata": {},
   "source": [
    "# Boolean Data Type\n",
    "\n",
    "Generally, you will only need to use bool for logical values, char for characters, int for integer values, and double for floating-point values. \n",
    "Unless you are pushing the computer to its limits, you don’t need to worry about optimisation quite so much these days, and especially when just starting out.\n",
    "In c++ the integral and floating-point types are available in a variety of sizes to allow you to optimise the amount of memory storage utilised and therefore the precision and the range available in computation.\n",
    "Computers usually use bytes characters, words integer values, some entity most suitable for floating-point computation, and addresses for referring to those entities. \n",
    "The C++ fundamental types together with pointers and arrays present these machine-level notions to the programmer in a reasonably implementation-independent manner.\n",
    "\n",
    "A Boolean, bool, can have one of the two values true or false. A Boolean is used to express the results of logical operations. For example:\n",
    "void myFunction(int a, int b)\n",
    "{\n",
    "bool myBoolean{ a == b };\n",
    "// ...\n",
    "}\n",
    "If a and b have the same value, myBoolean becomes true; otherwise, b1 becomes false.\n",
    "A common use of bool is as the type of the result of a function that tests some condition (a pred- icate). For example:\n",
    "\n",
    "bool is_open(myFile);\n",
    "bool greater(int a, int b) { return a>b; }\n",
    "\n",
    "By definition, true has the value 1 when converted to an integer and false has the value 0. Con- versely, integers can be implicitly converted to bool values: nonzero integers convert to true and 0 converts to false. For example:\n",
    "bool b1 = 7;  // 7!=0, so b becomes true\n",
    "bool b2{ 7 };  // error: narrowing (§2.2.2, §10.5)\n",
    "int i1 = true;  // i1 becomes 1\n",
    "int i2{ true };  // i2 becomes 1z\n",
    "If you prefer to use the {}-initializer syntax to prevent narrowing, yet still want to convert an int to a bool, you can be explicit:\n",
    "void myFunnction(int i)\n",
    "{\n",
    "bool myBoolean{i!=0};\n",
    "};\n",
    "\n",
    "In arithmetic and logical expressions, bools are converted to ints; integer arithmetic and logical operations are performed on the converted values. If the result needs to be converted back to bool, a 0 is converted to false and a nonzero value is converted to true. For example:\n",
    "bool a = true;\n",
    "bool b = true;\n",
    "bool x = a + b; // a+b is 2, so x becomes true\n",
    "bool y = a || b; // a||b is 1, so y becomes true (\"||\" means \"or\")\n",
    "bool z = a-b; // a-b is 0, so z becomes false\n",
    "\n",
    "## Pointers Converting to Booleans\n",
    "\n",
    "A pointer can be implicitly converted to a bool (§10.5.2.5). A non-null pointer converts to true; pointers with the value nullptr convert to false. For example:\n",
    " void myFunction(int* myPointer)\n",
    "{\n",
    "\tbool myBoolean1 = myPointer;  // narrows to true or false - not a copy!\n",
    "\tstd::cout << myBoolean1 << '\\n';\n",
    "\tbool myBoolean2{ myPointer != nullptr };  // explicit test against nullptr\n",
    "\tstd::cout << myBoolean1 << '\\n';\n",
    "\tif (myPointer) { // identical to p!=nullptr\n",
    "\t\tstd::cout << \"not pointing to Null\" << '\\n';\n",
    "\t}\n",
    "}\n",
    " int main() {\n",
    "\tint temp = 17;\n",
    "\tint* myPointerToTemp = nullptr; // or set to temp\n",
    "\tmyFunction(myPointerToTemp);\n",
    " \n",
    "return 0;\n",
    " \n",
    "}\n",
    "I prefer if (p) over if (p!=nullptr) because it more directly expresses the notion ‘‘if p is valid’’ and also because it is shorter. The shorter form leaves fewer opportunities for mistakes."
   ]
  }
 ],
 "metadata": {
  "jupytext": {
   "formats": "md:myst",
   "text_representation": {
    "extension": ".md",
    "format_name": "myst"
   }
  },
  "kernelspec": {
   "display_name": "C++ 20",
   "language": "c++",
   "name": "cpp20"
  },
  "language_info": {
   "file_extension": ".cpp",
   "mimetype": "text/x-c++src",
   "name": "C++",
   "version": "1.0.0a9"
  },
  "source_map": [
   11
  ]
 },
 "nbformat": 4,
 "nbformat_minor": 5
}