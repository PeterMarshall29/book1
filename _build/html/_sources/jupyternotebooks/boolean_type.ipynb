{
 "cells": [
  {
   "cell_type": "markdown",
   "id": "db2aec6a",
   "metadata": {},
   "source": [
    "# Boolean Data Type\n",
    "\n",
    "````{admonition} George Boole\n",
    ":class: margin\n",
    "George Boole defined an algebraic system of logic in 1847 in \"The Mathematical Analysis of Logic\".\n",
    "````\n",
    "\n",
    "````{admonition} Boolean Algebra\n",
    ":class: dropdown\n",
    "A branch of algebra used to describe logical operations - with the following distinguishing features. \n",
    "\n",
    "Boolean variables may only have the value `true` or `false` - called truth values - which are generally represented by `1` and `0`.\n",
    "\n",
    "Boolean variables are operands for Boolean operators (`and`, `or`, `not`, and others) - normal algebraic rules do not apply.\n",
    "\n",
    "In 1937 Shannon proved that the behaviour of certain types of electrical circuit was logically equivalent to Boolean algebra.\n",
    "````\n",
    "Computers operate using Boolean logic, i.e. the electronic circuits are a physical manifestation of two-value Boolean logic. \n",
    "\n",
    "Boolean operations required that the computer circuits can be in one of two distinct states, representing `true` or `false`. This is achieved in various ways, the simplest being that the voltage in a wire is either 0 or a positive value.\n",
    "\n",
    "Two-state Boolean logic is not the only possibility, but it is the simplest to implement. Using 4 states would offer some advantages, but currently it’s simpler to use 2 wires to get 4 possible states.\n",
    "\n",
    "In programming a Boolean, `bool`, is a fundamental integer data type. \n",
    "\n",
    "Each `bool` may hold only the integer values `1` or `0`, which represent `true` and `false` respectively. \n",
    "\n",
    "Booleans are used in conditional statements to determine the control flow depending on whether a conditional expression evaluates to true or false.\n",
    "\n",
    "`````{code_example-start} The Boolean Type\n",
    ":label: examplel1\n",
    ":class: dropdown\n",
    ":nonumber:\n",
    "`````\n",
    "A simple demonstration of a Boolean is:"
   ]
  },
  {
   "cell_type": "code",
   "execution_count": null,
   "id": "4de44926",
   "metadata": {
    "tags": [
     "remove-output",
     "skip-execution"
    ]
   },
   "outputs": [],
   "source": [
    "#include <iostream>\n",
    "    int main() {\n",
    "    int a = 5;\n",
    "    int b = 6;\n",
    "    bool myBoolean{ a == b };\n",
    "    std::cout << myBoolean;\n",
    "    return 0;\n",
    "}"
   ]
  },
  {
   "cell_type": "markdown",
   "id": "c591fb3f",
   "metadata": {},
   "source": [
    "A common use of `bool` is as the type of the result of a function that tests some condition (a predicate). \n",
    "\n",
    "We should also add more user interaction - useful even in short codes because it helps you keep track of your logic."
   ]
  },
  {
   "cell_type": "code",
   "execution_count": null,
   "id": "dd6c8144",
   "metadata": {
    "tags": [
     "remove-output",
     "skip-execution"
    ]
   },
   "outputs": [],
   "source": [
    "#include <iostream>\n",
    "void myFunction(int a, int b) {\n",
    "    bool myBoolean{ a == b };\n",
    "    std::cout << myBoolean;\n",
    "}\n",
    "int main() {\n",
    "    int a, b;\n",
    "    std::cout << \"Please input two numbers \\n\";\n",
    "    std::cin >> a >> b;\n",
    "    myFunction(a, b);\n",
    "    return 0;\n",
    "}"
   ]
  },
  {
   "cell_type": "markdown",
   "id": "1e09f0d7",
   "metadata": {},
   "source": [
    "If `a` and `b` have the same value, `myBoolean` becomes `true`; otherwise, `myBoolean` becomes `false`.\n",
    "\n",
    "'1' or '0' is printed to the terminal.\n",
    "\n",
    "We can add some more formatting to the output."
   ]
  },
  {
   "cell_type": "code",
   "execution_count": null,
   "id": "49190757",
   "metadata": {
    "tags": [
     "remove-output",
     "skip-execution"
    ]
   },
   "outputs": [],
   "source": [
    "#include <iostream>\n",
    "bool myFunction(int a, int b) {\n",
    "    bool myBoolean{ a == b };\n",
    "    return myBoolean;\n",
    "}\n",
    "int main() {\n",
    "    int a, b;\n",
    "    std::cout << \"Please input two numbers \\n\";\n",
    "    std::cin >> a >> b;\n",
    "    if (myFunction(a, b)) {\n",
    "        std::cout << \"The numbers match!\";\n",
    "    }\n",
    "    else {\n",
    "        std::cout << \"The numbers are different!\";\n",
    "    }\n",
    "    return 0;\n",
    "}"
   ]
  },
  {
   "cell_type": "markdown",
   "id": "2275e68c",
   "metadata": {},
   "source": [
    "It is often not necessary to create a Boolean variable.\n",
    "\n",
    "The evaluation of any comparison expression returns a `bool`. `a == b`, `a != b`, `a <= b` etc., all generate temporary Booleans.\n",
    "\n",
    "The last code can therefore have the function simplified by replacing the entire function body with only:  \n",
    "```{code-block} c++\n",
    "return a == b ;\n",
    "``` \n",
    "Check that works.\n",
    "\n",
    "`````{code_example-end}\n",
    "`````\n",
    "`````{code_example-start} More About the Boolean Type\n",
    ":label: examplel2\n",
    ":class: dropdown\n",
    ":nonumber:\n",
    "`````\n",
    "`true` has the value `1` when converted to an integer and `false` has the value `0`. \n",
    "\n",
    "Conversely, integers can be implicitly converted to bool values: nonzero integers convert to `true` and '0' converts to `false`. \n",
    "\n",
    "Try this code in a live editor.\n",
    "```{code-block} c++\n",
    ":linenos:\n",
    "#include <iostream>\n",
    "int main() {\n",
    "    bool myBool1 = 7;  \n",
    "    bool myBool2{ 7 };  \n",
    "    int myInt1 = true;  \n",
    "    int myInt2{ true };  \n",
    "    std::cout << myBool1 << '\\t' << myInt1 << '\\t' << myInt2 << '\\n';\n",
    "    return 0;\n",
    "}\n",
    "```\n",
    "This code will not compile until you comment out line 4. Conversion of an integer to a Boolean is an example of narrowing, which is barred when using an initialiser list `{}`.\n",
    "\n",
    "At line 3: 7 != 0 , myBool1 becomes true.\n",
    "\n",
    "The conversion from Boolean to integer is not a narrowing conversion, integers are bigger than Booleans, so this is permitted using `{}`.\n",
    "\n",
    "***\n",
    "In arithmetic and logical expressions, `bool`s are converted to `int`s; integer arithmetic and logical operations are performed on the converted values. \n",
    "\n",
    "If the result needs to be converted back to bool, a 0 is converted to false and a nonzero value is converted to true. For example:\n",
    "```{code-block} c++\n",
    "#include <iostream>\n",
    "int main() {\n",
    "    bool myBool1 = true;\n",
    "    bool myBool2 = true;\n",
    "    bool myBool3 = myBool1 + myBool2; \n",
    "    bool myBool4 = myBool1 || myBool2; // a||b is 1, so y becomes true (\"||\" means \"or\")\n",
    "    bool myBool5 = myBool1 - myBool2; // a-b is 0, so z becomes false\n",
    "    std::cout << myBool1 << '\\t' << myBool2 << '\\t' << myBool3 << '\\t' << myBool4 << '\\t' << myBool5 << '\\n';\n",
    "}\n",
    "```\n",
    "Line 5: `true` + `true` = `2`, conversion to integers before addition, then '>0' converts to `true`.\n",
    "\n",
    "Line 6: If either or both are true, the logical `or`, `||`, evaluates to `true`.\n",
    "\n",
    "Line 7: Arithmetic evaluation to integer '0', converted to `false`.\n",
    "\n",
    "`````{code_example-end}\n",
    "`````\n",
    "\n",
    "## Pointers and Booleans\n",
    "\n",
    "A pointer can be implicitly converted to a `bool`. A non-null pointer converts to true; pointers with the value `nullptr `convert to `false`. \n",
    "\n",
    "`````{code_example-start} Pointers and Booleans\n",
    ":label: examplel6\n",
    ":class: dropdown\n",
    ":nonumber:\n",
    "`````\n",
    "Examples of Pointers used as Booleans"
   ]
  },
  {
   "cell_type": "code",
   "execution_count": null,
   "id": "95dd8e9e",
   "metadata": {
    "tags": [
     "remove-output",
     "skip-execution"
    ]
   },
   "outputs": [],
   "source": [
    "#include <iostream>\n",
    "void myFunction(int* myPointer) {\n",
    "    bool myBoolean1 = myPointer;            // Narrowing conversion to a Boolean - not a copy!\n",
    "    std::cout << myBoolean1 << '\\n';\n",
    "    bool myBoolean2 {myPointer != nullptr}; // Initialised with the Boolean result of a comparison expression\n",
    "    std::cout << myBoolean1 << '\\n';\n",
    "    if (myPointer) {\n",
    "        std::cout << \"Pointing to an Object\" << '\\n';\n",
    "    } else { std::cout << \"Pointing to the nullptr\" << '\\n'; }\n",
    "}\n",
    "int main() {\n",
    "    int tempInt = 17;\n",
    "    int* myPointerToTempInt = &tempInt;     \n",
    "    myFunction(myPointerToTempInt);\n",
    "    \n",
    "    myPointerToTempInt = nullptr; \n",
    "    myFunction(myPointerToTempInt);\n",
    "    return 0;\n",
    "}"
   ]
  },
  {
   "cell_type": "markdown",
   "id": "ef0ba91f",
   "metadata": {},
   "source": [
    "````{code_explanation} examplel6\n",
    ":label: explanationl6\n",
    ":class: dropdown\n",
    "Note that `==` compares addresses (pointer values) when applied to pointers, and not the values pointed to.\n",
    "\n",
    "`if (myPointer)` is equivalent to `if (myPointer != nullptr)`. The compiler knows a Boolean is required and implicitly converts the pointer obviating the comparison expression. \n",
    "\n",
    "It is usually better to use shorter code - less chance of a mistake - and in this case we have a clear expression of testing whether the pointer is valid, i.e. it points at an actual object.\n",
    "````\n",
    "`````{code_example-end}\n",
    "`````"
   ]
  }
 ],
 "metadata": {
  "jupytext": {
   "formats": "md:myst",
   "text_representation": {
    "extension": ".md",
    "format_name": "myst"
   }
  },
  "kernelspec": {
   "display_name": "C++ 20",
   "language": "c++",
   "name": "cpp20"
  },
  "language_info": {
   "file_extension": ".cpp",
   "mimetype": "text/markdown",
   "name": "C++",
   "version": "1.0.0a9"
  },
  "source_map": [
   11,
   49,
   59,
   63,
   77,
   83,
   102,
   177,
   198
  ]
 },
 "nbformat": 4,
 "nbformat_minor": 5
}