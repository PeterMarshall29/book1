{
 "cells": [
  {
   "cell_type": "markdown",
   "id": "35b7184f",
   "metadata": {},
   "source": [
    "# Selection and Iteration\n",
    "\n",
    "\n",
    "Expressions\n",
    " C++ C++ language Expressions \n",
    "An expression is a sequence of operators and their operands, that specifies a computation.\n",
    "\n",
    "Expression evaluation may produce a result (e.g., evaluation of 2 + 2 produces the result 4) and may generate side-effects (e.g. evaluation of std::printf(\"%d\", 4) prints the character '4' on the standard output).\n",
    "\n",
    "Each C++ expression is characterized by two independent properties: A type and a value category.\n",
    "\n",
    "General\n",
    "value categories (lvalue, rvalue, glvalue, prvalue, xvalue(since C++11)) classify expressions by their values\n",
    "order of evaluation of arguments and subexpressions specify the order in which intermediate results are obtained\n",
    "\n",
    "\n",
    "\n",
    "## Selection\n",
    "\n",
    "\n",
    "\n",
    "## Iteration\n",
    "\n",
    "As an example of iteration, consider the first program ever to run on a stored-program computer (the EDSAC). \n",
    "\n",
    "It was written and run by David Wheeler in the computer laboratory in Cambridge University, England, on May 6, 1949, to calculate and print a simple list of squares like this:\n",
    "\n",
    "int i = 0;\n",
    "while (i < 100) {\n",
    "std::cout << i << \"\\t\" << i * i << \"\\n\";\n",
    "++i;\n",
    "}\n",
    "Its usually best to use a for loop – even if you want it to run forever – shown later on. If you know how many iterations are required, use a for loop. If you want it to possibly keep running still use a for loop – it cannot be set up without a condition.\n",
    "\n",
    "\n",
    "Iterations statements are the `for`-statement, the `while`-statement and the `do`-statement."
   ]
  }
 ],
 "metadata": {
  "jupytext": {
   "formats": "md:myst",
   "text_representation": {
    "extension": ".md",
    "format_name": "myst"
   }
  },
  "kernelspec": {
   "display_name": "C++ 20",
   "language": "c++",
   "name": "cpp20"
  },
  "language_info": {
   "file_extension": ".cpp",
   "mimetype": "text/markdown",
   "name": "C++",
   "version": "1.0.0a9"
  },
  "source_map": [
   11
  ]
 },
 "nbformat": 4,
 "nbformat_minor": 5
}