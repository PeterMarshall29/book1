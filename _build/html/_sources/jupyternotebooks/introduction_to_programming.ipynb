{
 "cells": [
  {
   "cell_type": "markdown",
   "id": "0a11d04a",
   "metadata": {},
   "source": [
    "#  Introduction to Computer Programming\n",
    "\n",
    "Start with ideas like syntax...\n",
    "\n",
    "\n",
    "## Coding Algorithms\n",
    "\n",
    "\n",
    "## Error Types\n",
    "\n",
    "There are many types of error, but three classifications to understand at this point are:\n",
    "- Compile time – found by compiler – easily fixed.\n",
    "- Link-time errors found by linker – more difficult. \n",
    "- Run-time errors, or logic errors, occur after successful creation of the .exe file. Too late to fix – people have died!"
   ]
  }
 ],
 "metadata": {
  "jupytext": {
   "formats": "md:myst",
   "text_representation": {
    "extension": ".md",
    "format_name": "myst"
   }
  },
  "kernelspec": {
   "display_name": "C++ 20",
   "language": "c++",
   "name": "cpp20"
  },
  "language_info": {
   "file_extension": ".cpp",
   "mimetype": "text/x-c++src",
   "name": "C++",
   "version": "1.0.0a9"
  },
  "source_map": [
   11
  ]
 },
 "nbformat": 4,
 "nbformat_minor": 5
}