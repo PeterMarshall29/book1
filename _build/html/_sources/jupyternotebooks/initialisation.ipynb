{
 "cells": [
  {
   "cell_type": "markdown",
   "id": "892483e2",
   "metadata": {},
   "source": [
    "# Initialisation\n",
    "\n",
    "{term}`Initialisation` is the setting of the initial value of a variable at the time of {term}`construction`.\n",
    "\n",
    "{term}`Definition` is therefore {term}`declaration` combined with initialisation.\n",
    "\n",
    "Initialisation is different from assignment - the object has no previous value and a {term}`constructor` are only involved in initialisation.\n",
    "\n",
    "Best practice is to always initialise your variables – the benefits include preventing you from accidentally tyring to use a variable that has been declared but not defined.\n",
    "\n",
    "```{tip}\n",
    ":class: margin\n",
    "Don't declare a variable until you have a value to assign to it.\n",
    "```\n",
    "`````{code_example-start}\n",
    ":label: examplem3\n",
    ":class: dropdown\n",
    "`````\n",
    "Complete and run this program."
   ]
  },
  {
   "cell_type": "code",
   "execution_count": 1,
   "id": "437cd5a7",
   "metadata": {
    "tags": [
     "remove-output"
    ]
   },
   "outputs": [
    {
     "data": {
      "text/markdown": [
       "Aargh\t2\tD\t2\tStar-Wars Pirate?"
      ]
     },
     "metadata": {},
     "output_type": "display_data"
    }
   ],
   "source": [
    "int main()\n",
    "{\n",
    "    char myChar {'D'};\n",
    "    int myInt = { 2 };\n",
    "    std::string myString = \"Aargh\";\n",
    "    double myDouble (2.0);\n",
    "    std::cout << myString << '\\t'<< myInt << '\\t'<< myChar << '\\t'<< myDouble << '\\t' << \"Star-Wars Pirate?\";\n",
    "    return 0;\n",
    "}"
   ]
  },
  {
   "cell_type": "markdown",
   "id": "f7737f3e",
   "metadata": {},
   "source": [
    "Of these, only the first method of initialisation can be used in every context. \n",
    "`````{code_example-end}\n",
    "`````\n",
    "Some objects are initialised by default, but this is not always helpful - Global variables are default-initialised to 0 – but you should not use global variables in the first place and '0' can be just as problematic as no value. `string` and `vector` are initialised as empty.\n",
    "\n",
    "The initial value may be provided in the initialiser section of a declarator or by a new expression. \n",
    "\n",
    "Initialisation also takes place during function calls: function parameters and the function return values are both initialized.\n",
    "\n",
    "N.B. These rules apply to objects, not references.\n",
    "\n",
    "`````{syntax-start} Initialisation\n",
    ":class: dropdown\n",
    ":nonumber:\n",
    "`````\n",
    "````{code-block} c++\n",
    "typeName identifier = expression;                       // copy-initialisation\n",
    "typeName identifier ( value or expression );            // direct-initialisation \n",
    "typeName identifier { value or expression, or list };   // direct-list-initialisation\n",
    "typeName identifier = { value or expression };          // copy-list-initialisation\n",
    "````\n",
    "`````{syntax-end}\n",
    "`````\n",
    "\n",
    "## Initialisers\n",
    "There a different ways to initialise an object.\n",
    "\n",
    "If an {term}`initialiser` is specified for an object, that initializer determines the initial value of an object.\n",
    "\n",
    "An initialiser is just the syntax used to initialise the object. There are four syntactic styles for initialisers:\n",
    "\n",
    "`````{code_example-start}\n",
    ":label: examplem1\n",
    ":class: dropdown\n",
    "`````"
   ]
  },
  {
   "cell_type": "code",
   "execution_count": 2,
   "id": "7f126b8b",
   "metadata": {
    "tags": [
     "remove-output"
    ]
   },
   "outputs": [
    {
     "name": "stderr",
     "output_type": "stream",
     "text": [
      "C:\\Users\\Peter\\AppData\\Local\\Temp\\tmp7g85_f1h.cpp: In function 'int main()':\n",
      "C:\\Users\\Peter\\AppData\\Local\\Temp\\tmp7g85_f1h.cpp:6:25: error: narrowing conversion of '5.5e+1' from 'double' to 'int' [-Wnarrowing]\n",
      "    6 |     int mySecondInt = { 55.0 };\n",
      "      |                         ^~~~\n"
     ]
    },
    {
     "name": "stderr",
     "output_type": "stream",
     "text": [
      "\n",
      "[C++ kernel] Error: Unable to compile the source code. Return error: 0x1."
     ]
    }
   ],
   "source": [
    "#include <iostream>\n",
    "int main() {\n",
    "    int myFirstInt { 5 };        // Direct-list-initialisation\n",
    "    int mySecondInt = { 55.0 };  // Copy-list-initialisation\n",
    "    int myThirdInt = 555;        // Initialisation \n",
    "    int myFourthInt (5555);      // Direct-initialisation \n",
    "    std::cout << myFirstInt << '\\n' << mySecondInt << '\\n' << myThirdInt << '\\n' << myFourthInt << '\\n';\n",
    "    \n",
    "    int a = 9, aa = 99, aaa = 999, aaaa = 9999;\n",
    "    int myFirstInt2 { a };       // Direct-list-initialisation (initial value in braces)\n",
    "    int mySecondInt2 = { aa };   // Copy-list-initialisation ('=' initial value in braces)\n",
    "    int myThirdInt2 = aaa;       // Copy-initialisation  ('=' initial value)\n",
    "    int myFourthInt2 ( aaaa );   // Direct-initialisation (initial value in parenthesis)\n",
    "    std::cout << myFirstInt2 << '\\n' << mySecondInt2 << '\\n' << myThirdInt2 << '\\n' << myFourthInt2;\n",
    "    return 0;\n",
    "}"
   ]
  },
  {
   "cell_type": "markdown",
   "id": "6ee5f193",
   "metadata": {},
   "source": [
    "Some of these terms are used very loosely and synonymously - care is required, particularly around the use of direct and copy.\n",
    "\n",
    "In list-initialisation, 'direct' and 'copy' refer to the use of direct-initialisation and copy-initialisation type methods.\n",
    "\n",
    "For most purposes the two list-initialisation methods will produce the same result. used in each case, being direct\n",
    "\n",
    "Initialisation using a literal value is often called 'direct' initialisation too.\n",
    "`````{code_example-end}\n",
    "`````\n",
    "## List-Initialisation\n",
    "\n",
    "Initialization using `{}` is called {term}`list-initialisation` - usually the best choice because it can be used in every context you will encounter.\n",
    "\n",
    "It is recommended that list initialisation is used for anything more complicated that a simple variable - even though not having the {term}`assignment operator` `=` may be a little disconcerting at first.\n",
    "\n",
    "{term}`list-initialisation` does not permit {term}`narrowing` conversion. A narrowing (conversion) occurs when a value is converted from one type to another and the new type is not big enough to represent all possible values of the original type; leading to data loss or undefined behaviours.\n",
    "\n",
    "List-initialisation ensures that:\n",
    "\n",
    "* An `integer` cannot be converted to a `char`, but `char` to `int` is permitted.\n",
    "* a `double` cannot be converted to a `float`, but the reverse is permitted \n",
    "* A floating-point value cannot be converted to an integer type.\n",
    "* An integer value cannot\n",
    "`````{exercise-start}\n",
    ":label: exercisem1\n",
    ":class: dropdown\n",
    "`````\n",
    "The following code will not run as written. Look at the error messages and try to correct the problem."
   ]
  },
  {
   "cell_type": "code",
   "execution_count": null,
   "id": "55efec49",
   "metadata": {
    "tags": [
     "remove-output",
     "skip-execution"
    ]
   },
   "outputs": [],
   "source": [
    "#include <iostream>\n",
    "int main()\n",
    "{\n",
    "    int a = 9;\n",
    "    double b = 7.77;\n",
    "    int myFirstInt3 { b };       // Direct-list-initialisation\n",
    "    int mySecondInt3 = { b };    // Copy-list-initialisation\n",
    "    int myThirdInt3 = b;         // Copy-initialisation \n",
    "    int myFourthInt3 (b);        // Direct-initialisation\n",
    "    std::cout << myFirstInt3 << '\\n' << mySecondInt3 << '\\n' << myThirdInt3 << '\\n' << myFourthInt3;\n",
    "    return 0;\n",
    "}"
   ]
  },
  {
   "cell_type": "markdown",
   "id": "67069cb6",
   "metadata": {},
   "source": [
    "````{solution} exercisem1\n",
    ":class: dropdown note\n",
    ":label: solutionm1\n",
    "Using `static_cast` forces an explicit conversion, which can be used to bypass the blocked narrowing conversion.\n",
    "\n",
    "Try replacing `b` with:\n",
    "```{code-block} c++\n",
    "#include <iostream>\n",
    "int main()\n",
    "{\n",
    " static_cast<int>(b)\n",
    "}\n",
    "```\n",
    "````\n",
    "`````{exercise-end}\n",
    "`````\n",
    "\n",
    "## Empty Initialiser List - Value-Initialisation and Zero-Initialisation\n",
    "\n",
    "If an object is initialised with an empty initialiser list `{}` it is first zero-initialised, and then value-initialised, if possible.\n",
    "\n",
    "If the variable is a {term}`scalar` (arithmetic, pointer, or enum type) they are only zero-initialised.\n",
    "\n",
    "Value-initialisation is initialisation to a default value, which is only possible for types that have a default-constructor. (Confusingly not the same as default-initialisation)\n",
    "`````{code_example-start}\n",
    ":label: examplem4\n",
    ":class: dropdown\n",
    "`````"
   ]
  },
  {
   "cell_type": "code",
   "execution_count": 3,
   "id": "7cb32cda",
   "metadata": {
    "tags": [
     "remove-output"
    ]
   },
   "outputs": [
    {
     "data": {
      "text/markdown": [
       "0\t0\t1234\t0\t0xceb89ff778\r\n",
       "\r\n"
      ]
     },
     "metadata": {},
     "output_type": "display_data"
    }
   ],
   "source": [
    "int myInt{}; // myInt initialised to 0\n",
    "double myDouble{}; // myDouble initialised as 0.0\n",
    "char* myPointerToChar{}; // myPointerToChar initialised as `nullptr`\n",
    "std::vector<int> myVector{}; // myVector initialised as an empty vector\n",
    "std::string myString{}; // myString initialised as \"\"\n",
    "std::cout << myInt << '\\t' << myDouble << '\\t' << \"12\"+myString+\"34\" << '\\t' << myVector.capacity() << '\\t' << &myPointerToChar  << '\\n';"
   ]
  },
  {
   "cell_type": "markdown",
   "id": "1c35de98",
   "metadata": {},
   "source": [
    "```{exercise}\n",
    ":label: exercisem4\n",
    ":class: dropdown\n",
    "Try removing the empty initialiser for each variable type and rerunning the code - start in reverse order.\n",
    "\n",
    "Explanation - most containers including vector and string have a default\n",
    "```\n",
    "`````{code_example-end}\n",
    "`````\n",
    "\n",
    "Most types have a default value:\n",
    "\n",
    "* For integral types, the default value is a suitable representation of zero. \n",
    "* For pointers, the default value is `nullptr`. \n",
    "* For user-defined types, the default value (if any) is determined by the type's constructors.\n",
    "\n",
    "For user-defined types, there can be a distinction between direct initialization (where implicit conversions are allowed) and copy initialization (where they are not).\n",
    "\n",
    "The syntax `Type objectIdentifier()`; does not initialise an object; it declares a function that takes no arguments and returns `Type`. \n",
    "\n",
    "References cannot be value-initialised. If the initializer specified for an object is () the object is value-initialized. If the initializer specified for a reference is (), the program is ill-formed.\n",
    "\n",
    "### Zero-initialization \n",
    "\n",
    "Initialisation of variable to the zero value of its type:\n",
    "\n",
    "* Arithmetic variables: 0 (or 0.0, or 0.0000000000, etc.)\n",
    "* Char variables: '\\0'\n",
    "* Pointers: `nullptr`.\n",
    "* Arrays, classes, structs, and unions: all members initialized to a zero value.\n",
    "\n",
    "Zero-initialisation is:\n",
    "* The first step in value-initialisation.\n",
    "* Performed at the start of the execution of every programme for all named variables that have {term}`static duration`.\n",
    "* Used for arrays that have only a subset of their members initialized.\n",
    "\n",
    "## Missing Initialisers - Default Initialisation\n",
    "\n",
    "Default-initialisation refers to the way C++ handles initialisation when no initialiser has been specified.\n",
    "\n",
    "The manner of default-initialisation depends on the entity. Objects can be default-initialized, but if no initializer is specified for a reference, the program is ill-formed.\n",
    "\n",
    "The {term}`scalar` variables are simply left uninitialised - uninitialised primitive types have indeterminate values (unpredictable value that may depend on implementation).\n",
    "\n",
    "However, when no initializer is specified, `global`, `namespace`, `local static`, or `static member` (static objects) are initialized using `{}` of the appropriate type. \n",
    "\n",
    "Classes will be initialised by their {term}`default-constructor` if they have one. Containers such as `string` and `vector` are classes, have default-constructors, and are {term}`default-initialised` as 'empty' i.e. `\"\"` for a `string`, and `v.capacity() = 0` for a `vector`.\n",
    "\n",
    "Global built-in type variables are default initialised to 0 – but you should not use global variables in the first place and '0' can be just as problematic as no value.\n",
    "\n",
    "Class members would be iinitialised using any specified default values.\n",
    "\n",
    "For example:\n",
    "\n",
    "`````{code_example-start}\n",
    ":label: examplem5\n",
    ":class: dropdown\n",
    "`````\n",
    "When no initializer is specified, a `global`, `namespace`, `local static`, or `static member` (static objects) is initialized to `{}` of the appropriate type. For example:"
   ]
  },
  {
   "cell_type": "code",
   "execution_count": null,
   "id": "ab6b1472",
   "metadata": {
    "tags": [
     "remove-output",
     "skip-execution"
    ]
   },
   "outputs": [],
   "source": [
    "#include <iostream>\n",
    "#include <string>\n",
    "#include <vector>\n",
    "#include <cassert>\n",
    "int myGlobalInt{};\n",
    "std::string myGlobalString{}; // class => default-initialization, the value is \"\"\n",
    "int main()\n",
    "{\n",
    "    std::string myLocalString{};   // class => default-initialization, the value is \"\"\n",
    "    assert(myLocalString == \"\");\n",
    "    assert(myGlobalString == \"\");\n",
    "    int myLocalInt{};       // scalar => zero-initialization, the value is 0 \n",
    "    assert(myLocalInt == 0);\n",
    "    assert(myGlobalInt == 0);\n",
    "    double f = double();    // scalar => zero-initialization, the value is 0.0\n",
    "    assert(f == 0.0);\n",
    "    int* a = new int[10](); // array => value-initialization of each element\n",
    "    assert(a[9] == 0);      //  the value of each element is 0\n",
    "    std::vector<int> v(3);  // value-initialization of each element\n",
    "    assert(v[2] == 0);      // the value of each element is 0\n",
    "    std::cout << \"No asserts! \\n\";\n",
    "    delete[] a;\n",
    "    return 0;\n",
    "}"
   ]
  },
  {
   "cell_type": "markdown",
   "id": "cbee7001",
   "metadata": {},
   "source": [
    "`assert` aborts the programmes execution and offers a message in the terminal if its user defined condition does not evaluate to `true`.\n",
    "\n",
    "Useful during programme development - similar to {term}`print debugging`. \n",
    "\n",
    "````{exercise} \n",
    ":class: dropdown\n",
    ":label: exercisem3\n",
    "Try removing the list-initialiser `{}` from the two `int` and two `string` type variables one at a time.\n",
    "```{admonition} Code Explanation\n",
    ":class: dropdown\n",
    "The global `int` is default initialised, but the local one is left uninitialised because it has no default constructor.\n",
    "\n",
    "The string does have a default constructor.\n",
    "```\n",
    "````\n",
    "\n",
    "Constant variables must be declared together with an initializer. If they're scalar types they cause a compiler error, and if they're class types that have a default-constructor they cause a warning:\n",
    "\n",
    "````{admonition} Effect of Missing Initialiser - Examples\n",
    ":class: dropdown\n",
    "Global and Static Variables\n",
    "```{code-block} c++\n",
    "`int eRest;` is equivalent to `int eRest{};`, and `eRest` is initialised to '0'.\n",
    "`double U;` is equialent to `double U{};` so that `U` becomes '0.0'.\n",
    "```\n",
    "Local variables and objects created on the {term}`free store` are not initialised by unless they are of user-defined types with a default constructor. For example:\n",
    "```{code-block} c++\n",
    "int myInt; // myIntx does not have a well-defined value\n",
    "char myBuffer[1024]; // myBuffer[i] does not have a well-defined value\n",
    "int* myPointer{ new int }; // myPointer does not have a well-defined value\n",
    "char* myOtherPointer{ new char[1024] }; // myOtherPointer[i] does not have a well-defined value\n",
    "std::string myString; // myString == \"\" because of string's default constructor\n",
    "std::vector<char> myVector; // v == {} because of vector's default constructor\n",
    "std::string* myStringPointer{ new std::string }; // *myStringPointer is \"\" because of string's default constructor\n",
    "std::cout << myInt << '\\t'<< myBuffer[4] << '\\t'<< &myPointer << '\\t'<< myOtherPointer[8] << '\\n';\n",
    "return 0;\n",
    "```\n",
    "If you want initialization of local variables of built-in type or objects of built-in type created with `new`, use `{}`.\n",
    "````\n",
    "`````{code_example-end}\n",
    "`````\n",
    "\n",
    "## Initialiser Lists\n",
    "More complicated objects can require more than one value as an initializer. This is primarily handled by initializer lists delimited by `{` and `}`. For example:\n",
    "`````{code_example-start}\n",
    ":label: examplem6\n",
    ":class: dropdown\n",
    "`````"
   ]
  },
  {
   "cell_type": "code",
   "execution_count": 4,
   "id": "dfcdf224",
   "metadata": {
    "tags": [
     "remove-output"
    ]
   },
   "outputs": [
    {
     "name": "stderr",
     "output_type": "stream",
     "text": [
      "C:\\Users\\Peter\\AppData\\Local\\Temp\\tmpj9znt2xf.cpp: In function 'int main()':\n",
      "C:\\Users\\Peter\\AppData\\Local\\Temp\\tmpj9znt2xf.cpp:4:1: error: 'Try' was not declared in this scope\n",
      "    4 | Try code here....\n",
      "      | ^~~\n"
     ]
    },
    {
     "name": "stderr",
     "output_type": "stream",
     "text": [
      "\n",
      "[C++ kernel] Error: Unable to compile the source code. Return error: 0x1."
     ]
    }
   ],
   "source": [
    "Try code here...."
   ]
  },
  {
   "cell_type": "markdown",
   "id": "86cb09de",
   "metadata": {},
   "source": [
    "```{code-block} c++\n",
    "#include <complex>\n",
    "#include <numbers>\n",
    "#include <vector>\n",
    "#include <string>\n",
    "int main()\n",
    "{\n",
    "    int myArray[] = { 1, 2 }; // array initializer\n",
    "    struct MyStruct { int myInt; std::string myString; };\n",
    "    MyStruct myStruct = { 1, \"Helios\" }; // struct initializer\n",
    "    std::complex<double> myComplexNumber = { 0, std::numbers::pi }; // use constructor\n",
    "    std::vector<double> myVector = { 0.0, 1.1, 2.2, 3.3 }; // use list constructor\n",
    "}\n",
    "```\n",
    "In some cases, function-style argument lists can also be used. For example:\n",
    "```{code-block} c++\n",
    "std::vector<double> myVectrov(10, 3.3); // use constructor : v gets 10 elements initialized to 3.3\n",
    "```\n",
    "In a declaration, an empty pair of parentheses, (), always means \"function\". Therefore, if you want to be explicitly require \"default initialization\" you must use`{}`. \n",
    "```{code-block} c++\n",
    "std::complex<double> z1(1, 2); // function-style initializer (initialization by constructor)\n",
    "std::complex<double> f1(); // function declaration\n",
    "std::complex<double> z2{ 1,2 }; // initialization by constructor to {1,2}\n",
    "std::complex<double> f2{}; // initialization by constructor to the default value {0,0}\n",
    "```\n",
    "`````{code_example-end}\n",
    "`````\n",
    "## Auto\n",
    "When defining a variable, it is not always necessary to explicitly state its type - although it is almost always better to do so.\n",
    "\n",
    "In some cases, the ‘type’ might not be known ahead of time - the type can be deduced from the initializer using `auto`.\n",
    "\n",
    "`````{code_example-start}\n",
    ":label: examplem7\n",
    ":class: dropdown\n",
    "`````"
   ]
  },
  {
   "cell_type": "code",
   "execution_count": 5,
   "id": "5e079111",
   "metadata": {
    "tags": [
     "remove-output"
    ]
   },
   "outputs": [
    {
     "name": "stderr",
     "output_type": "stream",
     "text": [
      "C:\\Users\\Peter\\AppData\\Local\\Temp\\tmpo242g982.cpp: In function 'int main()':\n",
      "C:\\Users\\Peter\\AppData\\Local\\Temp\\tmpo242g982.cpp:4:1: error: 'Try' was not declared in this scope\n",
      "    4 | Try code here...\n",
      "      | ^~~\n"
     ]
    },
    {
     "name": "stderr",
     "output_type": "stream",
     "text": [
      "\n",
      "[C++ kernel] Error: Unable to compile the source code. Return error: 0x1."
     ]
    }
   ],
   "source": [
    "Try code here..."
   ]
  },
  {
   "cell_type": "markdown",
   "id": "d238be22",
   "metadata": {},
   "source": [
    "```{code-block} c++\n",
    "auto a = true; // `true` or `false` are recognised as `bool` type\n",
    "auto b = 'Y'; //  Single quotes are reserved to denote `char` type\n",
    "auto c = 123; //   Number literal without the decimal point is interpreted to be an `int`\n",
    "auto d = 1.2; //   a double - default for floating-point number\n",
    "auto e = sqrt(f); // e has the type of whatever sqrt(f) returns\n",
    "```\n",
    "```{danger}\n",
    "Be careful!! It is always wise to specify type and initialise immediately!\n",
    "\n",
    "The type system is there for good reason.\n",
    "```\n",
    "When using `auto`, {term}`copy-initialisation` is acceptable because there can be no type conversion to cause unexpected issues; and in the case of initialiser-lists using `{}` list-initialization is actually problematic. \n",
    "\n",
    "The problem is trap is that if the initializer is a {}-list, we may not want its type deduced. For example:\n",
    "```{code-block} c++\n",
    "auto z1{ 99 }; // z1 is an initialiser_list<int> \n",
    "auto z2 = 99; // z2 is an int\n",
    "```\n",
    "`````{code_example-end}\n",
    "`````"
   ]
  }
 ],
 "metadata": {
  "jupytext": {
   "formats": "md:myst",
   "text_representation": {
    "extension": ".md",
    "format_name": "myst"
   }
  },
  "kernelspec": {
   "display_name": "C++ 20",
   "language": "c++",
   "name": "cpp20"
  },
  "language_info": {
   "file_extension": ".cpp",
   "mimetype": "text/markdown",
   "name": "C++",
   "version": "1.0.0a9"
  },
  "source_map": [
   11,
   32,
   43,
   79,
   97,
   126,
   140,
   169,
   177,
   237,
   263,
   312,
   315,
   352,
   355
  ]
 },
 "nbformat": 4,
 "nbformat_minor": 5
}