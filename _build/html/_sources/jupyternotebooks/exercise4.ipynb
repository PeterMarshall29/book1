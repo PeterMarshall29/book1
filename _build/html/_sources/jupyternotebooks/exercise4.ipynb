{
 "cells": [
  {
   "cell_type": "markdown",
   "id": "f9afced9",
   "metadata": {},
   "source": [
    "# Exercises 4\n",
    "\n",
    "Arrays and Vectors - there is little you can do with either of these without using loops.\n",
    "\n",
    "\n",
    "`````{exercise-start}\n",
    ":label: exerciseex41a\n",
    ":class: dropdown\n",
    "`````\n",
    "Write a program that asks user for a mass, and replies with the energy equivalent of that amount.\n",
    "\n",
    "`````{exercise-end}\n",
    "`````\n",
    "````{exercise-start} \n",
    ":label: exerciseex41\n",
    ":class: dropdown\n",
    "````"
   ]
  },
  {
   "cell_type": "code",
   "execution_count": null,
   "id": "6e7aeb20",
   "metadata": {
    "tags": [
     "remove-output",
     "skip-execution"
    ]
   },
   "outputs": [],
   "source": [
    "Code goes here...."
   ]
  },
  {
   "cell_type": "markdown",
   "id": "d04d4e5d",
   "metadata": {},
   "source": [
    "````{exercise-end}\n",
    "````\n",
    "\n",
    "````{solution-start} exerciseex41\n",
    ":label: solutionex41\n",
    ":class: dropdown\n",
    "````\n",
    "```{code-block} c++\n",
    "\n",
    "```\n",
    "````{solution-end}\n",
    "````\n",
    "\n",
    "````{exercise-start} \n",
    ":label: exerciseex42\n",
    ":class: dropdown\n",
    "````\n",
    "Write a program that ask the user for 5 integers, initialises a 5 element array with those values and then prints out the value."
   ]
  },
  {
   "cell_type": "code",
   "execution_count": null,
   "id": "6197a367",
   "metadata": {
    "tags": [
     "remove-output",
     "skip-execution"
    ]
   },
   "outputs": [],
   "source": [
    "Code goes here...."
   ]
  },
  {
   "cell_type": "markdown",
   "id": "168d89bc",
   "metadata": {},
   "source": [
    "````{exercise-end}\n",
    "````\n",
    "\n",
    "````{solution-start} exerciseex42\n",
    ":label: solutionex42\n",
    ":class: dropdown\n",
    "````\n",
    "Simple Solution\n",
    "```{code-block} c++\n",
    "#include <iostream>\n",
    "int main() {\n",
    "    int myArray[5];\n",
    "    std::cout << \"Please enter 5 integer values for your array. \\n\";\n",
    "    std::cin >> myArray[0] >> myArray[1] >> myArray[2] >> myArray[3] >> myArray[4];\n",
    "    std::cout << \"Your array is { \" << myArray[0]  << \" , \" << myArray[1] << \" , \" << myArray[2] << \" , \" << myArray[3] << \" , \" << myArray[4] << \" }.\";\n",
    "    return 0;\n",
    "}\n",
    "```\n",
    "This code works, but it would be very annoying for a larger number of elements. It is also inflexible, ideally we would want the user to define the number of elements.\n",
    "\n",
    "The following code requires the use of for-loops - come back to it later.\n",
    "\n",
    "```{code-block} c++\n",
    "\n",
    "#include<iostream>\n",
    "int main() {\n",
    "    int myArray[50], numberOfElements;\n",
    "    std::cout << \"How many integers would you like to store in your array?\\n\";\n",
    "    std::cin >> numberOfElements;\n",
    "    std::cout << \"Please enter \" << numberOfElements << \" elements for your Array... \\n\";\n",
    "    for (int i = 0; i < numberOfElements; i++) std::cin >> myArray[i];\n",
    "    std::cout << \"The Elements of your Array are: { \"<< myArray[0];\n",
    "    for (int i = 1; i < numberOfElements; i++) std::cout << \" , \" << myArray[i];\n",
    "    std::cout << \" }.\";\n",
    "    return 0;\n",
    "}\n",
    "```\n",
    "There is no way to make the actual number of elements of an array variable - they must be initialised with a constant expression. But using a larger mostly empty array is occasionally acceptable.\n",
    "````{solution-end}\n",
    "````\n",
    "````{exercise-start} \n",
    ":label: exerciseex43\n",
    ":class: dropdown\n",
    "````\n",
    "Write a program and function to calculate the sum of only the even values in a matrix."
   ]
  },
  {
   "cell_type": "code",
   "execution_count": null,
   "id": "f0d9da20",
   "metadata": {
    "tags": [
     "remove-output",
     "skip-execution"
    ]
   },
   "outputs": [],
   "source": [
    "int sumOfEvenValuesInMatrix(std::vector<std::vector<int>> matrix) {\n",
    "}"
   ]
  },
  {
   "cell_type": "markdown",
   "id": "b33f6f4f",
   "metadata": {},
   "source": [
    "````{exercise-end}\n",
    "````\n",
    "\n",
    "````{solution-start} exerciseex43\n",
    ":label: solutionex43\n",
    ":class: dropdown\n",
    "````\n",
    "The `.size()` member function returns the number of vectors in a 2D vector and the number of elements when used on a single subscripted 2D vector.\n",
    "```{code-block} c++\n",
    "#include <iostream>\n",
    "int sumOfEvenValuesInMatrix(std::vector<std::vector<int>> matrix) {\n",
    "    int sumOfEvenValues = 0;\n",
    "    for (int i = 0; i < matrix.size(); ++i) {\n",
    "        for (int j = 0; j < matrix[i].size(); ++j) { \n",
    "            if (matrix[i][j] % 2 == 0) sumOfEvenValues += matrix[i][j];\n",
    "        }\n",
    "    }\n",
    "    return sumOfEvenValues;\n",
    "}\n",
    "int main() {\n",
    "    std::vector<std::vector<int>> matrix = {{0,0,0},{0,0,0},{0,0,0}};\n",
    "    std::cout << \"Please input 9 values for a 3x3 matrix, starting from top left value, working left to right for each row, top row down. \\n\";\n",
    "    for (int i = 0; i < 3; ++i) {\n",
    "        for (int j = 0; j < 3; ++j) {\n",
    "            std::cin >> matrix[i][j];\n",
    "        }\n",
    "    }\n",
    "    std::cout << \"\\nThe sum of the even values is \" << sumOfEvenValuesInMatrix(matrix) << \"!\";\n",
    "    return 0;\n",
    "}\n",
    "```\n",
    "````{solution-end}\n",
    "````\n",
    "````{exercise-start} \n",
    ":label: exerciseex44\n",
    ":class: dropdown\n",
    "````"
   ]
  },
  {
   "cell_type": "code",
   "execution_count": null,
   "id": "ad3b8fd9",
   "metadata": {
    "tags": [
     "remove-output",
     "skip-execution"
    ]
   },
   "outputs": [],
   "source": [
    "Code goes here...."
   ]
  },
  {
   "cell_type": "markdown",
   "id": "fc901f69",
   "metadata": {},
   "source": [
    "````{exercise-end}\n",
    "````\n",
    "\n",
    "````{solution-start} exerciseex44\n",
    ":label: solutionex44\n",
    ":class: dropdown\n",
    "````\n",
    "```{code-block} c++\n",
    "\n",
    "```\n",
    "````{solution-end}\n",
    "````\n",
    "\n",
    "\n",
    "````{exercise-start} \n",
    ":label: exerciseex45\n",
    ":class: dropdown\n",
    "````"
   ]
  },
  {
   "cell_type": "code",
   "execution_count": null,
   "id": "15a1fd89",
   "metadata": {
    "tags": [
     "remove-output",
     "skip-execution"
    ]
   },
   "outputs": [],
   "source": [
    "Code goes here...."
   ]
  },
  {
   "cell_type": "markdown",
   "id": "9ba7879a",
   "metadata": {},
   "source": [
    "````{exercise-end}\n",
    "````\n",
    "\n",
    "````{solution-start} exerciseex45\n",
    ":label: solutionex45\n",
    ":class: dropdown\n",
    "````\n",
    "```{code-block} c++\n",
    "#include <iostream>\n",
    "\n",
    "```\n",
    "````{solution-end}\n",
    "````\n",
    "\n",
    "\n",
    "````{exercise-start} \n",
    ":label: exerciseex46\n",
    ":class: dropdown\n",
    "````\n",
    "Write a program that creates:\n",
    "* A global array of 100 integers.\n",
    "* A local array"
   ]
  },
  {
   "cell_type": "code",
   "execution_count": null,
   "id": "dcf39510",
   "metadata": {
    "tags": [
     "remove-output",
     "skip-execution"
    ]
   },
   "outputs": [],
   "source": [
    "Code goes here...."
   ]
  },
  {
   "cell_type": "markdown",
   "id": "fb76fb70",
   "metadata": {},
   "source": [
    "````{exercise-end}\n",
    "````\n",
    "\n",
    "````{solution-start} exerciseex46\n",
    ":label: solutionex46\n",
    ":class: dropdown\n",
    "````\n",
    "```{code-block} c++\n",
    "\n",
    "```\n",
    "````{solution-end}\n",
    "````\n",
    "\n",
    "\n",
    "````{exercise-start} \n",
    ":label: exerciseex47\n",
    ":class: dropdown\n",
    "````"
   ]
  },
  {
   "cell_type": "code",
   "execution_count": null,
   "id": "b79ee41d",
   "metadata": {
    "tags": [
     "remove-output",
     "skip-execution"
    ]
   },
   "outputs": [],
   "source": [
    "Code goes here...."
   ]
  },
  {
   "cell_type": "markdown",
   "id": "c1e0f777",
   "metadata": {},
   "source": [
    "````{exercise-end}\n",
    "````\n",
    "\n",
    "````{solution-start} exerciseex47\n",
    ":label: solutionex47\n",
    ":class: dropdown\n",
    "````\n",
    "```{code-block} c++\n",
    "\n",
    "```\n",
    "````{solution-end}\n",
    "````\n",
    "\n",
    "\n",
    "````{exercise-start} \n",
    ":label: exerciseex48\n",
    ":class: dropdown\n",
    "````"
   ]
  },
  {
   "cell_type": "code",
   "execution_count": null,
   "id": "347bd49e",
   "metadata": {
    "tags": [
     "remove-output",
     "skip-execution"
    ]
   },
   "outputs": [],
   "source": [
    "Code goes here...."
   ]
  },
  {
   "cell_type": "markdown",
   "id": "c53d4ef4",
   "metadata": {},
   "source": [
    "````{exercise-end}\n",
    "````\n",
    "\n",
    "````{solution-start} exerciseex48\n",
    ":label: solutionex48\n",
    ":class: dropdown\n",
    "````\n",
    "```{code-block} c++\n",
    "\n",
    "```\n",
    "````{solution-end}\n",
    "````\n",
    "\n",
    "````{exercise-start} \n",
    ":label: exerciseex49\n",
    ":class: dropdown\n",
    "````"
   ]
  },
  {
   "cell_type": "code",
   "execution_count": null,
   "id": "3a5a7ca7",
   "metadata": {
    "tags": [
     "remove-output",
     "skip-execution"
    ]
   },
   "outputs": [],
   "source": [
    "Code goes here...."
   ]
  },
  {
   "cell_type": "markdown",
   "id": "af62b45d",
   "metadata": {},
   "source": [
    "````{exercise-end}\n",
    "````\n",
    "\n",
    "````{solution-start} exerciseex49\n",
    ":label: solutionex49\n",
    ":class: dropdown\n",
    "````\n",
    "```{code-block} c++\n",
    "\n",
    "```\n",
    "````{solution-end}\n",
    "````\n",
    "\n",
    "````{exercise-start} \n",
    ":label: exerciseex410\n",
    ":class: dropdown\n",
    "````"
   ]
  },
  {
   "cell_type": "code",
   "execution_count": null,
   "id": "8b4524f7",
   "metadata": {
    "tags": [
     "remove-output",
     "skip-execution"
    ]
   },
   "outputs": [],
   "source": [
    "Code goes here...."
   ]
  },
  {
   "cell_type": "markdown",
   "id": "8ddccf3d",
   "metadata": {},
   "source": [
    "````{exercise-end}\n",
    "````\n",
    "\n",
    "````{solution-start} exerciseex410\n",
    ":label: solutionex410\n",
    ":class: dropdown\n",
    "````\n",
    "```{code-block} c++\n",
    "\n",
    "```\n",
    "````{solution-end}\n",
    "````\n",
    "\n",
    "````{exercise-start} \n",
    ":label: exerciseex411\n",
    ":class: dropdown\n",
    "````"
   ]
  },
  {
   "cell_type": "code",
   "execution_count": null,
   "id": "f39ff889",
   "metadata": {
    "tags": [
     "remove-output",
     "skip-execution"
    ]
   },
   "outputs": [],
   "source": [
    "Code goes here...."
   ]
  },
  {
   "cell_type": "markdown",
   "id": "3d022dd0",
   "metadata": {},
   "source": [
    "````{exercise-end}\n",
    "````\n",
    "\n",
    "````{solution-start} exerciseex411\n",
    ":label: solutionex411\n",
    ":class: dropdown\n",
    "````\n",
    "```{code-block} c++\n",
    "\n",
    "```\n",
    "````{solution-end}\n",
    "````"
   ]
  }
 ],
 "metadata": {
  "jupytext": {
   "formats": "md:myst",
   "text_representation": {
    "extension": ".md",
    "format_name": "myst"
   }
  },
  "kernelspec": {
   "display_name": "C++ 20",
   "language": "c++",
   "name": "cpp20"
  },
  "language_info": {
   "file_extension": ".cpp",
   "mimetype": "text/markdown",
   "name": "C++",
   "version": "1.0.0a9"
  },
  "source_map": [
   11,
   31,
   34,
   53,
   56,
   102,
   106,
   145,
   148,
   168,
   171,
   194,
   197,
   217,
   220,
   240,
   243,
   262,
   265,
   284,
   287,
   306,
   309
  ]
 },
 "nbformat": 4,
 "nbformat_minor": 5
}