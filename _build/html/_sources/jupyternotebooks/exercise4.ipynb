{
 "cells": [
  {
   "cell_type": "markdown",
   "id": "787604f9",
   "metadata": {},
   "source": [
    "# Exercises 4\n",
    "\n",
    "````{exercise-start} \n",
    ":label: exerciseex41\n",
    ":class: dropdown\n",
    "````\n",
    "Write code that produces the following outputs to the terminal. You should use a for-loop. Each consecutive line should display the next value in a:\n",
    "* count from 0 to 10, in steps of 1.\n",
    "*\ta countdown from 20 to 0 in steps of 0.5.\n",
    "*\ta count up, in steps of 3, from 100 to 121.\n",
    "*\tthe multiplication table for 7x.\n",
    "*\tadapt the previous part so that it can produce any multiplication table, for a given number of terms i.e. the 11 times table for 15 terms, so up to 11×15 at the users request."
   ]
  },
  {
   "cell_type": "code",
   "execution_count": null,
   "id": "77214d97",
   "metadata": {
    "tags": [
     "remove-output",
     "skip-execution"
    ]
   },
   "outputs": [],
   "source": [
    "Code goes here...."
   ]
  },
  {
   "cell_type": "markdown",
   "id": "c97a5097",
   "metadata": {},
   "source": [
    "````{exercise-end}\n",
    "````\n",
    "\n",
    "````{solution-start} exerciseex41\n",
    ":label: solutionex41\n",
    ":class: dropdown\n",
    "````\n",
    "```{code-block} c++\n",
    "\n",
    "```\n",
    "````{solution-end}\n",
    "````\n",
    "\n",
    "````{exercise-start} \n",
    ":label: exerciseex42\n",
    ":class: dropdown\n",
    "````\n",
    "Use a for-statement to evaluate the equation:\n",
    "$$\n",
    "S_3=\\sum_(i=0)^\\infty \\frac{(-1)^(i+1)}{i^2}\n",
    "$$\n",
    "\n",
    "Hint: You cannot actually use infinity..."
   ]
  },
  {
   "cell_type": "code",
   "execution_count": null,
   "id": "dbcec78b",
   "metadata": {
    "tags": [
     "remove-output",
     "skip-execution"
    ]
   },
   "outputs": [],
   "source": [
    "Code goes here...."
   ]
  },
  {
   "cell_type": "markdown",
   "id": "dd0c4040",
   "metadata": {},
   "source": [
    "````{exercise-end}\n",
    "````\n",
    "\n",
    "````{solution-start} exerciseex42\n",
    ":label: solutionex42\n",
    ":class: dropdown\n",
    "````\n",
    "Check the solution works.\n",
    "\n",
    "What happens if you change n?\n",
    "```{code-block} c++\n",
    "#include <iostream>\n",
    "#include <numbers> //requires C++ 2020 or better\n",
    "int main() {\n",
    "\tint n = 10000;// n is a large number approximating infinity\n",
    "\tdouble sum = 0.0, numerator = -1.0, denominator;\t\n",
    "\tfor (int i = 1; i < n; i++) {\n",
    "\t\tnumerator = -numerator; \n",
    "\t\tdenominator = i * i; \n",
    "\t\tsum = sum + numerator / denominator; \n",
    "\t}\n",
    "\tstd::cout << \"Result of summation is \" << sum << '\\n';\n",
    "\tstd::cout << \"pi squated over 12 = \" << (std::numbers::pi * std::numbers::pi) / 12;\n",
    "\treturn 0;\n",
    "}\n",
    "```\n",
    "````{solution-end}\n",
    "````\n",
    "\n",
    "````{exercise-start} \n",
    ":label: exerciseex43\n",
    ":class: dropdown\n",
    "````\n",
    "Evaluate:\n",
    "\n",
    "$$\n",
    "P_3=\\prod_(i=1)^\\infty \\left(1+(x^(2^i)\\right )\\ ;\\ |x|<1\n",
    "$$"
   ]
  },
  {
   "cell_type": "code",
   "execution_count": null,
   "id": "e8f51574",
   "metadata": {
    "tags": [
     "remove-output",
     "skip-execution"
    ]
   },
   "outputs": [],
   "source": [
    "Code goes here...."
   ]
  },
  {
   "cell_type": "markdown",
   "id": "f7d19a05",
   "metadata": {},
   "source": [
    "````{exercise-end}\n",
    "````\n",
    "\n",
    "````{solution-start} exerciseex43\n",
    ":label: solutionex43\n",
    ":class: dropdown\n",
    "````\n",
    "Suggested Solution - try to improve the code.\n",
    "```{code-block} c++\n",
    "#include <iostream>\n",
    "#include <numbers> //requires C++ 2020 or better\n",
    "int main() {\n",
    "  int n = 10; // a big enough number to approximate infinity\n",
    "\tdouble term, x, res, res_a; //declaration of variables\n",
    "\t//variable res is the result of multiplication\n",
    "\tstd::cout << \"Please input a number x, |x|<1: \"; //inviting user to input the x value\n",
    "\tstd::cin >> x; //read value of x from keyboard\n",
    "\tres = 1.0 + x; term = x; //calculating res and x^(2^i) for i=0\n",
    "\tfor (int i = 1; i < n; i++) {   // note that we start multiplication from 1 since the value for i=0 was calculated before the loop\n",
    "\t\tterm *= term; //calcuation of x^(2^i) on i^th iteration\n",
    "\t\t//this takes into account that \t//x^(2^i)=x^(2^[i-1])*x^(2^[i-1])\n",
    "\t\tres *= (1.0 + term); //calculates res on i^th iteration\n",
    "\t}\n",
    "\tres_a = 1.0 / (1.0 - x); //calculation of analytical result\n",
    "\tstd::cout << \"1 / (1 - x) = \" << res_a << std::endl;\n",
    "\tstd::cout << \"Product is \" << res;\n",
    "\treturn(0);\n",
    "}\n",
    "```\n",
    "````{solution-end}\n",
    "````\n",
    "\n",
    "\n",
    "````{exercise-start} \n",
    ":label: exerciseex44\n",
    ":class: dropdown\n",
    "````\n",
    "a.\tWrite a program that asks the user for a number and then classifies the number as being either: less than 10, between 10 and 100, between 100 and 1000, or greater than 1000.\n",
    "b.\tModify the last program, to also identify if the number is an integer or not.\n",
    "c.\tModify the last program to handle input that is not a number correctly."
   ]
  },
  {
   "cell_type": "code",
   "execution_count": null,
   "id": "d2b7c341",
   "metadata": {
    "tags": [
     "remove-output",
     "skip-execution"
    ]
   },
   "outputs": [],
   "source": [
    "Code goes here...."
   ]
  },
  {
   "cell_type": "markdown",
   "id": "2a5b78c6",
   "metadata": {},
   "source": [
    "````{exercise-end}\n",
    "````\n",
    "\n",
    "````{solution-start} exerciseex44\n",
    ":label: solutionex44\n",
    ":class: dropdown\n",
    "````\n",
    "Solutions to parts a and b only.\n",
    "```{code-block} c++\n",
    "#include <iostream>\n",
    "#include <numbers> //requires C++ 2020 or better\n",
    "int main() {\n",
    "\tdouble x;\n",
    "\tint xx;\n",
    "\tstd::cout << \"Input a number please: \";\n",
    "\tstd::cin >> x;\n",
    "\txx = x;\n",
    "\tif (x < 10.0) {\n",
    "\t\tstd::cout << \"x<10\" << '\\n';\n",
    "\t} else if (x < 100.0) {\n",
    "\t\tstd::cout << \"10<=x<100\" << '\\n';\n",
    "\t} else if (x <= 1000.0) {\n",
    "\t\tstd::cout << \"100<=x<=1000\" << '\\n';\n",
    "\t} else {\n",
    "\t\tstd::cout << \"x>1000\" << '\\n';\n",
    "\t}\n",
    "\tif (x == xx) {\n",
    "\t\tstd::cout << x << \" is integer.\" << '\\n';\n",
    "\t} else {\n",
    "\t\tstd::cout << x << \" is not an integer.\" << '\\n';\n",
    "\t}\n",
    "\treturn 0;\n",
    "}\n",
    "\n",
    "```\n",
    "````{solution-end}\n",
    "````\n",
    "\n",
    "\n",
    "````{exercise-start} \n",
    ":label: exerciseex45\n",
    ":class: dropdown\n",
    "````\n",
    "Write a program that will take the coefficients for a quadratic equation from the user, and return the number, and type of solutions, and the solutions."
   ]
  },
  {
   "cell_type": "code",
   "execution_count": null,
   "id": "e35562bd",
   "metadata": {
    "tags": [
     "remove-output",
     "skip-execution"
    ]
   },
   "outputs": [],
   "source": [
    "Code goes here...."
   ]
  },
  {
   "cell_type": "markdown",
   "id": "47634aeb",
   "metadata": {},
   "source": [
    "````{exercise-end}\n",
    "````\n",
    "\n",
    "````{solution-start} exerciseex45\n",
    ":label: solutionex45\n",
    ":class: dropdown\n",
    "````\n",
    "```{code-block} c++\n",
    "#include <iostream>\n",
    "#include <numbers> //requires C++ 2020 or better\n",
    "\n",
    "int main() {\n",
    "\tdouble a0, a1, a2, x1, x2, dis;\n",
    "\tstd::cout << \"Please enter the coefficients for the quadratic term, the linear term and the constant, one at a time. \" << '\\n';\n",
    "\tstd::cin >> a2 >> a1 >> a0;\n",
    "\tstd::cout << \" Polynomial : \" << a2 << \" * x^2 + \" << a1 << \" * x + \" << a0 << \" = 0 \" << '\\n';\n",
    "\tif (a2 == 0) {\n",
    "\t\tif (a1 == 0) {\n",
    "\t\t\tif (a0 == 0) std::cout << \" Has infinitely many solutions \" << '\\n';\n",
    "\t\t\telse std::cout << \" Has no solutions \" << '\\n';\n",
    "\t\t}\n",
    "\t\telse std::cout << \" Has 1 solution at x = \" << -a0 / a1 << '\\n'; //  a linear equation \n",
    "\t}\n",
    "\telse {\n",
    "\t\tdis = a1 * a1 - 4. * a2 * a0;\n",
    "\t\tstd::cout << \" Discriminant = \" << dis << '\\n';\n",
    "\t\tif (dis < 0) {// for complex solutions \n",
    "\t\t\tstd::cout << \" Has 2 complex solutions at \\n x1 = \" << -a1 / (2 * a2) << \" + \" << sqrt(-dis) / 2 / a2 << \"i \" << \"\\n x2 = \" << -a1 / (2 * a2) << \" + \" << -sqrt(-dis) / 2 / a2 << \"i \" << '\\n';\n",
    "\t\t}\n",
    "\t\telse if (dis == 0) { // for real solutions \n",
    "\t\t\tx1 = (-a1 + sqrt(dis)) / (2 * a2);\n",
    "\t\t\tstd::cout << \" Has identical real solutions at x = \" << x1 << '\\n' ;\n",
    "\t\t}else{\n",
    "\t\t\tx1 = (-a1 + sqrt(dis)) / (2 * a2);\n",
    "\t\t\tx2 = (-a1 - sqrt(dis)) / (2 * a2);\n",
    "\t\t\tstd::cout << \" Has 2 real solutions at \\n x1 = \" << x1 << \"\\n x2 = \" << x2 << '\\n';\n",
    "\t\t}\n",
    "\t}\n",
    "\treturn 0;\n",
    "}\n",
    "```\n",
    "````{solution-end}\n",
    "````\n",
    "\n",
    "\n",
    "````{exercise-start} \n",
    ":label: exerciseex46\n",
    ":class: dropdown\n",
    "````"
   ]
  },
  {
   "cell_type": "code",
   "execution_count": null,
   "id": "bff88d74",
   "metadata": {
    "tags": [
     "remove-output",
     "skip-execution"
    ]
   },
   "outputs": [],
   "source": [
    "Code goes here...."
   ]
  },
  {
   "cell_type": "markdown",
   "id": "120eb227",
   "metadata": {},
   "source": [
    "````{exercise-end}\n",
    "````\n",
    "\n",
    "````{solution-start} exerciseex46\n",
    ":label: solutionex46\n",
    ":class: dropdown\n",
    "````\n",
    "\n",
    "\n",
    "```{code-block} c++\n",
    "\n",
    "```\n",
    "````{solution-end}\n",
    "````\n",
    "\n",
    "\n",
    "````{exercise-start} \n",
    ":label: exerciseex47\n",
    ":class: dropdown\n",
    "````"
   ]
  },
  {
   "cell_type": "code",
   "execution_count": null,
   "id": "598a0b28",
   "metadata": {
    "tags": [
     "remove-output",
     "skip-execution"
    ]
   },
   "outputs": [],
   "source": [
    "Code goes here...."
   ]
  },
  {
   "cell_type": "markdown",
   "id": "a9934fcd",
   "metadata": {},
   "source": [
    "````{exercise-end}\n",
    "````\n",
    "\n",
    "````{solution-start} exerciseex47\n",
    ":label: solutionex47\n",
    ":class: dropdown\n",
    "````\n",
    "```{code-block} c++\n",
    "\n",
    "```\n",
    "````{solution-end}\n",
    "````\n",
    "\n",
    "````{exercise-start} \n",
    ":label: exerciseex48\n",
    ":class: dropdown\n",
    "````"
   ]
  },
  {
   "cell_type": "code",
   "execution_count": null,
   "id": "8d412cba",
   "metadata": {
    "tags": [
     "remove-output",
     "skip-execution"
    ]
   },
   "outputs": [],
   "source": [
    "Code goes here...."
   ]
  },
  {
   "cell_type": "markdown",
   "id": "3e65da11",
   "metadata": {},
   "source": [
    "````{exercise-end}\n",
    "````\n",
    "\n",
    "````{solution-start} exerciseex48\n",
    ":label: solutionex48\n",
    ":class: dropdown\n",
    "````\n",
    "```{code-block} c++\n",
    "\n",
    "```\n",
    "````{solution-end}\n",
    "````\n",
    "\n",
    "````{exercise-start} \n",
    ":label: exerciseex49\n",
    ":class: dropdown\n",
    "````"
   ]
  },
  {
   "cell_type": "code",
   "execution_count": null,
   "id": "0555cec3",
   "metadata": {
    "tags": [
     "remove-output",
     "skip-execution"
    ]
   },
   "outputs": [],
   "source": [
    "Code goes here...."
   ]
  },
  {
   "cell_type": "markdown",
   "id": "ed358e84",
   "metadata": {},
   "source": [
    "````{exercise-end}\n",
    "````\n",
    "\n",
    "````{solution-start} exerciseex49\n",
    ":label: solutionex49\n",
    ":class: dropdown\n",
    "````\n",
    "```{code-block} c++\n",
    "\n",
    "```\n",
    "````{solution-end}\n",
    "````\n",
    "\n",
    "````{exercise-start} \n",
    ":label: exerciseex410\n",
    ":class: dropdown\n",
    "````"
   ]
  },
  {
   "cell_type": "code",
   "execution_count": null,
   "id": "fa826378",
   "metadata": {
    "tags": [
     "remove-output",
     "skip-execution"
    ]
   },
   "outputs": [],
   "source": [
    "Code goes here...."
   ]
  },
  {
   "cell_type": "markdown",
   "id": "2f51317b",
   "metadata": {},
   "source": [
    "````{exercise-end}\n",
    "````\n",
    "\n",
    "````{solution-start} exerciseex410\n",
    ":label: solutionex410\n",
    ":class: dropdown\n",
    "````\n",
    "```{code-block} c++\n",
    "\n",
    "```\n",
    "````{solution-end}\n",
    "````"
   ]
  }
 ],
 "metadata": {
  "jupytext": {
   "formats": "md:myst",
   "text_representation": {
    "extension": ".md",
    "format_name": "myst"
   }
  },
  "kernelspec": {
   "display_name": "C++ 20",
   "language": "c++",
   "name": "cpp20"
  },
  "language_info": {
   "file_extension": ".cpp",
   "mimetype": "text/markdown",
   "name": "C++",
   "version": "1.0.0a9"
  },
  "source_map": [
   11,
   26,
   29,
   53,
   56,
   96,
   99,
   141,
   144,
   189,
   192,
   243,
   246,
   268,
   271,
   290,
   293,
   312,
   315,
   334,
   337
  ]
 },
 "nbformat": 4,
 "nbformat_minor": 5
}