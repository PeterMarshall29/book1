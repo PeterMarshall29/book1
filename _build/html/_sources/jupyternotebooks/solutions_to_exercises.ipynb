{
 "cells": [
  {
   "cell_type": "markdown",
   "id": "bbb59c48",
   "metadata": {},
   "source": [
    "# Solutions to Exercises\n",
    "\n",
    "````{solution} exercisex1\n",
    ":class: hint dropdown\n",
    ":label: solutionx2\n",
    "```{code} cpp\n",
    "#include <iostream>\n",
    "int main()\n",
    "{\n",
    "\tstd :: cout << \"Hello, World!\\n\";\n",
    "\treturn 0;\n",
    "}\n",
    "```\n",
    "````"
   ]
  }
 ],
 "metadata": {
  "jupytext": {
   "formats": "md:myst",
   "text_representation": {
    "extension": ".md",
    "format_name": "myst"
   }
  },
  "kernelspec": {
   "display_name": "C++ 20",
   "language": "c++",
   "name": "cpp20"
  },
  "language_info": {
   "file_extension": ".cpp",
   "mimetype": "text/markdown",
   "name": "C++",
   "version": "1.0.0a9"
  },
  "source_map": [
   11
  ]
 },
 "nbformat": 4,
 "nbformat_minor": 5
}