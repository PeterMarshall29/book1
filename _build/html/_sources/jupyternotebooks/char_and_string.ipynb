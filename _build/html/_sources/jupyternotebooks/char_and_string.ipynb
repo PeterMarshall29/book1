{
 "cells": [
  {
   "cell_type": "markdown",
   "id": "0462b92e",
   "metadata": {},
   "source": [
    "# Characters and Strings\n",
    "\n",
    "## Character Data Types\n",
    "\n",
    "In C++ there are a range of character sets and character set encodings available. Char variables are represented by 8 bits, which puts a limit on the character set of 256 items.\n",
    "\n",
    "The basic, and default character type is `char`. There will be no immediate need to investigate any others.\n",
    "\n",
    "A char-type variable can hold a character of the implementation’s character set. \n",
    "\n",
    "Char type is created using single quotes `' '` around a character literal. For example: \n",
    "```{code-block} cpp\n",
    "char myCharacter = 'Z';\n",
    "```\n",
    "The character set we are using is called ASCII, (American Standard Code for Information Interchange) that represents 128 characters chosen to match the characters appearing on your keyboard.\n",
    "\n",
    "`0` is also used as a null pointer constant, and as the {term}`null character`. \n",
    "\n",
    "Different countries with different symbol requirements for their keyboards (e.g., æ, þ, and ß) will use different character sets and you must never rely on char values for the execution of a published program.\n",
    "```{admonition} Additional Character Types\n",
    ":class: dropdown\n",
    "* char: Default character type - used for program text - usually 8 bits.\n",
    "* signed char: Like char, but for signed character representation - able of holding both positive and negative values.\n",
    "* wchar_t: Provided to hold characters of a larger character set such as Unicode. The size of wchar_t is implementation-defined and large enough to hold the largest character set supported by the implementation’s locale.\n",
    "* char16_t: A type for holding 16-bit character sets, such as UTF-16.\n",
    "* char32_t: A type for holding 32-bit character sets, such as UTF-32.\n",
    "\n",
    "For more information see the C++ reference [here](https://en.cppreference.com/w/cpp/language/types.html).\n",
    "```\n",
    "\n",
    "`````{exercise-start}\n",
    ":class: dropdown\n",
    "`````\n",
    "\n",
    "Try the following code.\n",
    "````{code-block} c++\n",
    "char a = 'x';\n",
    "char b = 'y';\n",
    "int c = a + b;\n",
    "std::cout << a << b << c << '\\a';\n",
    "return 0;\n",
    "````"
   ]
  },
  {
   "cell_type": "code",
   "execution_count": 1,
   "id": "e0c8c361",
   "metadata": {
    "tags": [
     "remove-output"
    ]
   },
   "outputs": [
    {
     "name": "stderr",
     "output_type": "stream",
     "text": [
      "C:\\Users\\Peter\\AppData\\Local\\Temp\\tmp5m9vhf2d.cpp: In function 'int main()':\n",
      "C:\\Users\\Peter\\AppData\\Local\\Temp\\tmp5m9vhf2d.cpp:4:1: error: 'Type' was not declared in this scope; did you mean 'wctype'?\n",
      "    4 | Type code here!\n",
      "      | ^~~~\n",
      "      | wctype\n"
     ]
    },
    {
     "name": "stderr",
     "output_type": "stream",
     "text": [
      "\n",
      "[C++ kernel] Error: Unable to compile the source code. Return error: 0x1."
     ]
    }
   ],
   "source": [
    "Type code here!"
   ]
  },
  {
   "cell_type": "markdown",
   "id": "f5a779eb",
   "metadata": {},
   "source": [
    "Find out what happens when you:\n",
    "- Capitalise the two letters and run the code again.\n",
    "- Make more changes to try to make senses of the output.\n",
    "- Try numbers instead - what is the sum of '1' and '1' anyway?\n",
    "- Check that at least its half as much as '2' and '2' still, right?\n",
    "\n",
    "````{admonition} Code Explanation\n",
    ":class: dropdown solution\n",
    "\n",
    "`char` is an integral type - all characters have a corresponding integer value, and arithmetic operations can be applied.\n",
    "\n",
    "For 8-bit representations like `char`, the integer value run from 0 to 255.\n",
    "\n",
    "The character '1' has the integer value of 49.\n",
    "\n",
    "Being next in sequence, the character '2' has the integer value 50.\n",
    "\n",
    "The values of all `char` characters can be found [here](https://en.cppreference.com/w/cpp/language/ascii.html).\n",
    "\n",
    "The capital letters have different integer values to their lower-case version. This is why names are case sensitive.\n",
    "````\n",
    "`````{exercise-end}\n",
    "`````\n",
    "\n",
    "## String Type\n",
    "\n",
    "A `string` is variable of type 'string' which is composed of a series of character literals bracketed by a pair of double quote marks `\" \"`.\n",
    "\n",
    "The standard library component `<string>` define strings and the operations and functions that work with string-type variables.\n",
    "\n",
    "`\"\"` denotes an empty string, which has the type `const char[1]`. The single character of the empty string is the terminating '\\0'.\n",
    "\n",
    "The empty string therefore holds a value and is not the same as null.\n",
    "\n",
    "## Formating the Ouput\n",
    "\n",
    "## Converting `int` to `string`\n",
    "\n",
    "Strings and integers can be printed to the character outputs stream, using separate insertion operations, but integers cannot be concatenated with strings to create a single string.\n",
    "\n",
    "`````{code_example-start} Conversion to String\n",
    ":class: dropdown\n",
    ":nonumber:\n",
    "`````\n",
    "This code will not work.\n",
    "```{code-block} c++\n",
    "int main() {\n",
    "    int a = 10;\n",
    "    std::cout << \"Peter \" + a;\n",
    "\treturn 0;\n",
    "}\n",
    "```\n",
    "There are a few ways to convert an integer to a string - a template can be used. Templates are discussed later.\n",
    "\n",
    "If the following code is placed at the beginning of the program (after the #include directives) or in a {term}`header file`, then .\n",
    "\n",
    "```{code-block} c++\n",
    "template<class T> std::string to_string(const T& input)\n",
    "{\n",
    "\tstd::ostringstream outputStream;\n",
    "    outputStream << input;\n",
    "\treturn outputStream.str();\n",
    "}\n",
    "\n",
    "```\n",
    "This code creates a generic template for conversion to a string - we will circle back to how it works.\n",
    "\n",
    "Then replace the std::cout line in the previous code with:\n",
    "```{code-block} c++\n",
    "std::cout << \"Peter \" + to_string(a);\n",
    "```\n",
    "Or in the code further up this page\n",
    "```{code-block} c++\n",
    "std::cout << \"Study \" + to_string(c2) + \" times harder \" + motivator + \"!\\n\";\n",
    "```\n",
    "Try typing two names in a row again. Why does the code fail?\n",
    "`````{code_example-end}\n",
    "`````"
   ]
  }
 ],
 "metadata": {
  "jupytext": {
   "formats": "md:myst",
   "text_representation": {
    "extension": ".md",
    "format_name": "myst"
   }
  },
  "kernelspec": {
   "display_name": "C++ 20",
   "language": "c++",
   "name": "cpp20"
  },
  "language_info": {
   "file_extension": ".cpp",
   "mimetype": "text/markdown",
   "name": "C++",
   "version": "1.0.0a9"
  },
  "source_map": [
   11,
   55,
   58
  ]
 },
 "nbformat": 4,
 "nbformat_minor": 5
}