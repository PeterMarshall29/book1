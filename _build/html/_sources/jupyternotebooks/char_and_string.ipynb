{
 "cells": [
  {
   "cell_type": "markdown",
   "id": "a768f218",
   "metadata": {},
   "source": [
    "# Characters and Strings\n",
    "\n",
    "## Character Data Types\n",
    "\n",
    "In C++ there are a range of character sets and character set encodings available. Char variables are represented by 8 bits, which puts a limit on the character set of 256 items.\n",
    "\n",
    "The basic, and default character type is `char`. There will be no immediate need to look into any others.\n",
    "\n",
    "A char-type variable can hold a character of the implementation’s character set. \n",
    "\n",
    "Char type is created using single quotes `' '` around a character literal. For example: \n",
    "```{code-block} cpp\n",
    "char myCharacter = 'Z';\n",
    "```\n",
    "The character set we are using is called ASCII,  (American Standard Code for Information Interchange) that represents 128 characters chosen to match the characters appearing on your keyboard.\n",
    "\n",
    "`0` is also used as a null pointer constant, and as the {term}`null character`. \n",
    "\n",
    "Different countries with different symbol requirements for their keyboards (e.g., æ, þ, and ß) will use different character sets and you must never rely on char values for the execution of a published program.\n",
    "```{admonition} Additonal Character Types\n",
    ":class: dropdown\n",
    "* char: Default character type - used for program text - usually 8 bits.\n",
    "* signed char: Like char, but for signed character representation - able of holding both positive and negative values.\n",
    "* wchar_t: Provided to hold characters of a larger character set such as Unicode. The size of wchar_t is implementation-defined and large enough to hold the largest character set supported by the implementation’s locale.\n",
    "* char16_t: A type for holding 16-bit character sets, such as UTF-16.\n",
    "* char32_t: A type for holding 32-bit character sets, such as UTF-32.\n",
    "\n",
    "For more information see the C++ reference [here](https://en.cppreference.com/w/cpp/language/types.html).\n",
    "```\n",
    "\n",
    "`````{exercise-start}\n",
    ":class: dropdown\n",
    "`````\n",
    "\n",
    "Try the following code.\n",
    "````{code-block} c++\n",
    "char a = 'x';\n",
    "char b = 'y';\n",
    "int c = a + b;\n",
    "std::cout << a << b << c;\n",
    "return 0;\n",
    "````"
   ]
  },
  {
   "cell_type": "code",
   "execution_count": 1,
   "id": "d6c4ad6b",
   "metadata": {
    "tags": [
     "remove-output"
    ]
   },
   "outputs": [
    {
     "name": "stderr",
     "output_type": "stream",
     "text": [
      "C:\\Users\\Peter\\AppData\\Local\\Temp\\tmpjf8t8etl.cpp: In function 'int main()':\n",
      "C:\\Users\\Peter\\AppData\\Local\\Temp\\tmpjf8t8etl.cpp:4:1: error: 'Type' was not declared in this scope; did you mean 'wctype'?\n",
      "    4 | Type code here!\n",
      "      | ^~~~\n",
      "      | wctype\n"
     ]
    },
    {
     "name": "stderr",
     "output_type": "stream",
     "text": [
      "\n",
      "[C++ kernel] Error: Unable to compile the source code. Return error: 0x1."
     ]
    }
   ],
   "source": [
    "Type code here!"
   ]
  },
  {
   "cell_type": "markdown",
   "id": "1e1ae009",
   "metadata": {},
   "source": [
    "Find out what happens when you:\n",
    "- Captialize the two letters and run the code again.\n",
    "- Make more changes to try to make senses of the output.\n",
    "- Try numbers instead - what is the sum of '1' and '1' anyway?\n",
    "- Check that at least its half as much as '2' and '2' still, right?\n",
    "\n",
    "````{admonition} Code Explanation\n",
    ":class: dropdown note\n",
    "\n",
    "`char` is an integral type - all characters have a corresponding integer value, and arithmetic operations can be applied.\n",
    "\n",
    "For 8 bit representations like `char`, the integer value run from 0 to 255.\n",
    "\n",
    "The character '1' has the integer value of 49.\n",
    "\n",
    "Being next in sequence, the character '2' has the integer value 50.\n",
    "\n",
    "The values of all `char` characters can be found [here](https://en.cppreference.com/w/cpp/language/ascii.html).\n",
    "\n",
    "The captials letters have different integer values to their lower case version. This is why names are case sensitive.\n",
    "````\n",
    "`````{exercise-end}\n",
    "`````\n",
    "\n",
    "## String Type\n",
    "\n",
    "A `string` is variable of type 'string' which is composed of a series of character literals bracketed by a pair of double quote marks `\" \"`.\n",
    "\n",
    "The standard library component `<string>` define strings and the operations and functions that work with string-type variables.\n",
    "\n",
    "\n",
    "\n",
    "`\"\"` denotes an empty string. Still a string, and distinct from null????\n",
    "\n",
    "\n",
    "\n",
    "## Formating the Ouput\n",
    "\n",
    "\n",
    "\n",
    "\n",
    "## Converting `int` to `string`\n",
    "\n",
    "4 Ways to convert an integer to a string: 3 more to discuss later.\n",
    "Add this to header file.\n",
    "\n",
    "```{code-block} c++\n",
    "template<class T> std::string to_string(const T& t)\n",
    "{\n",
    "std::ostringstream os;\n",
    "os << t;\n",
    "return os.str();\n",
    "}\n",
    "```\n",
    "This code creates a generic template for conversion to a string - we will circle back to how it works.\n",
    "\n",
    "Then replace cout line in the previous code with:\n",
    "\n",
    "```{code-block} c++\n",
    "std::cout << \"Study \" + to_string(c2) + \" times harder \" + motivator + \"!\\n\";\n",
    "Try typing two names in a row again. Why does the code fail?\n",
    "```\n",
    "\n",
    "\n",
    "\n",
    "\n",
    "Char type is created using single quotes.\n",
    "Try the following code.\n",
    "\n",
    "char a = 'x';\n",
    "char b = 'y';\n",
    "int c = a + b;\n",
    "std::cout << a << b << c;\n",
    "return 0;\n",
    "\n",
    "Change the letter to try to make senses of the output.\n",
    "Try numbers instead – what is the sum of 1 and 1 anyway?\n",
    "But a least its half as much as 2 and 2 still, right?\n",
    "\n",
    "Try this code\n",
    "int x = 5;\n",
    "int y;\n",
    "if (x == 5);\n",
    "{ y = 3; }\n",
    "std::cout << y;\n",
    "{ …code here…} identifies a code block, or an in initialiser.\n",
    "Prints 3 – now change x to 4. The semicolon after the if is a mistake, its like putting {} instead. \n",
    "{} is called the empty block – sometimes used into code to register that nothing should be done, like when it’s the else loop that is really wanted – instead of using NOT logic.\n",
    "The second {} does nothing special."
   ]
  }
 ],
 "metadata": {
  "jupytext": {
   "formats": "md:myst",
   "text_representation": {
    "extension": ".md",
    "format_name": "myst"
   }
  },
  "kernelspec": {
   "display_name": "C++ 20",
   "language": "c++",
   "name": "cpp20"
  },
  "language_info": {
   "file_extension": ".cpp",
   "mimetype": "text/markdown",
   "name": "C++",
   "version": "1.0.0a9"
  },
  "source_map": [
   11,
   55,
   58
  ]
 },
 "nbformat": 4,
 "nbformat_minor": 5
}