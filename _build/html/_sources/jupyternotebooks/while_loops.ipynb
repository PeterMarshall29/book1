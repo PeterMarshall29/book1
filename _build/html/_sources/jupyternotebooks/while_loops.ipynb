{
 "cells": [
  {
   "cell_type": "markdown",
   "id": "5c18e31f",
   "metadata": {},
   "source": [
    "# `while` Loops\n",
    "\n",
    "\n",
    "Its generally better to use for loops in C++, but while loops exist too.\n",
    "\n",
    "\n",
    "std::string previous = \"\";\n",
    "std::string current;\n",
    "while (std::cin >> current) {\n",
    "\tif (previous == current)\n",
    "\tstd::cout << \"repeated word : \" << current << '\\n’;\n",
    "\tprevious = current;\n",
    "}\n",
    "Notice that the conditional statement for both while and if are in parens.\n",
    "In this case – the loop condition is the receipt of a valid input. \n",
    "Try again but make the variable int’s. What happens if you type letters?\n",
    "Use Crtl+Z to end a loop. Ctrl+D in linux."
   ]
  }
 ],
 "metadata": {
  "jupytext": {
   "formats": "md:myst",
   "text_representation": {
    "extension": ".md",
    "format_name": "myst"
   }
  },
  "kernelspec": {
   "display_name": "C++ 20",
   "language": "c++",
   "name": "cpp20"
  },
  "language_info": {
   "file_extension": ".cpp",
   "mimetype": "text/x-c++src",
   "name": "C++",
   "version": "1.0.0a9"
  },
  "source_map": [
   11
  ]
 },
 "nbformat": 4,
 "nbformat_minor": 5
}