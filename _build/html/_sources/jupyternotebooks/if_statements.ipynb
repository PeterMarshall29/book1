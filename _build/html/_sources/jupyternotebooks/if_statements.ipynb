{
 "cells": [
  {
   "cell_type": "markdown",
   "id": "74b56bb5",
   "metadata": {},
   "source": [
    "# `if` Statements\n",
    "\n",
    "\n",
    "Try this code:\n",
    "int x = 0;\n",
    "int y = 0;\n",
    "std::cout << \"Please enter two integral values: \\n\";\n",
    "std::cin >> x >> y;\n",
    "if (x < y) {\n",
    "\t\tstd::cout << \"The maximum value = max(\" << x << \",\" << y << \") is \" << y << \t\t\". \\n\";\n",
    "\t\t} else {\n",
    "\t\tstd::cout << \"The maximum value = max(\" << x << \",\" << y << \") is \" << x << \t\t\". \\n\";\n",
    "\t\t}\t\n",
    "Code basically works except does not  return the value if two identical values are entered – also behaves oddly if first number is a double – takes part before the decimal point then reports having received the second part as 0 without pause. If second is a double, it rounds or ignores what is after the decimal point. \n",
    "This fixes part of the issue – other issues left as an exercise.\n",
    "if (x < y) {\n",
    "std::cout << \"The maximum value = max(\" << x << \",\" << y << \") is \" << y << \". \\n\";\n",
    "}\n",
    "else if (x > y) {\n",
    "std::cout << \"The maximum value = max(\" << x << \",\" << y << \") is \" << x << \". \\n\";\n",
    "}\n",
    "else {\n",
    "std::cout << \"The values are identical. \\n\";\n",
    "}"
   ]
  }
 ],
 "metadata": {
  "jupytext": {
   "formats": "md:myst",
   "text_representation": {
    "extension": ".md",
    "format_name": "myst"
   }
  },
  "kernelspec": {
   "display_name": "C++ 20",
   "language": "c++",
   "name": "cpp20"
  },
  "language_info": {
   "file_extension": ".cpp",
   "mimetype": "text/x-c++src",
   "name": "C++",
   "version": "1.0.0a9"
  },
  "source_map": [
   11
  ]
 },
 "nbformat": 4,
 "nbformat_minor": 5
}