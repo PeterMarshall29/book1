{
 "cells": [
  {
   "cell_type": "markdown",
   "id": "d36abfcd",
   "metadata": {},
   "source": [
    "(if)=\n",
    "# If Statements\n",
    "```{note}\n",
    ":class: margin\n",
    "{attribution=\"Yogi Berra\" }\n",
    "> When you get to a fork in the road, take it.\n",
    "```\n",
    "\n",
    "\n",
    "If statements are found in most programming languages.\n",
    "The C++ patter is if..elif..else.\n",
    "\n",
    "\n",
    "\n",
    "The if-statement is used to chose between two possible paths..\n",
    "\n",
    "At its simplest, an if block can change something depending on a condition\n",
    "\n",
    "The syntax of the if-statement is:\n",
    "\n",
    "```{code-block} c++\n",
    "if (condition) { Code block to execute if condtion is true } \n",
    "```\n",
    "\n",
    "\n",
    "`````{example-start}\n",
    ":label: exampleq1\n",
    ":class: dropdown\n",
    "`````\n",
    "Try this code:"
   ]
  },
  {
   "cell_type": "code",
   "execution_count": null,
   "id": "fc5fe45b",
   "metadata": {
    "tags": [
     "remove-output",
     "skip-execution"
    ]
   },
   "outputs": [],
   "source": [
    "#include <iostream>\n",
    "#include <string>\n",
    "int main() {\n",
    "    std::string answer;\n",
    "    std::cout << \"Please enter the answer to the ultimate question of Life, the Universe, and Everything....\" << '\\n';\n",
    "    std::cin >> answer;\n",
    "    if (answer == \"42\") {\n",
    "        std::cout << \"You are truly wise!\";\n",
    "    }\n",
    "    return 0;\n",
    "}"
   ]
  },
  {
   "cell_type": "markdown",
   "id": "b74c7d2b",
   "metadata": {},
   "source": [
    "````{explanation} exampleq1\n",
    ":label: explanationq1\n",
    ":class: dropdown\n",
    "```{code-block} c++\n",
    "(answer == '42') \n",
    "```\n",
    "`answer==42` is the condition. The condition must be put in parentheses - if is a function.\n",
    "is the condition that is to be checked. The code blo\n",
    "`{ std::cout << \"You are trully wise\";`\n",
    "        }\n",
    "More correctly, the condition is evaluated. It it evaluates to the boolean value `1` then teh code blokIt the conditon is found to be true, then the code block is ecex\n",
    "\n",
    "\n",
    "The progam works - ied does basically work.\n",
    "\n",
    "\n",
    "````\n",
    "`````{example-end}\n",
    "`````\n",
    "\n",
    "\n",
    "`````{example-start}\n",
    ":label: exampleq2\n",
    ":class: dropdown\n",
    "`````\n",
    "Try this code:"
   ]
  },
  {
   "cell_type": "code",
   "execution_count": 1,
   "id": "303962e5",
   "metadata": {
    "tags": [
     "remove-output"
    ]
   },
   "outputs": [
    {
     "name": "stderr",
     "output_type": "stream",
     "text": [
      "C:\\Users\\Peter\\AppData\\Local\\Temp\\tmpblgihwzw.cpp:17:1: error: stray '`' in program\n",
      "   17 | ````{explanation} exampleq2\n",
      "      | ^\n",
      "C:\\Users\\Peter\\AppData\\Local\\Temp\\tmpblgihwzw.cpp:17:2: error: stray '`' in program\n",
      "   17 | ````{explanation} exampleq2\n",
      "      |  ^\n",
      "C:\\Users\\Peter\\AppData\\Local\\Temp\\tmpblgihwzw.cpp:17:3: error: stray '`' in program\n",
      "   17 | ````{explanation} exampleq2\n",
      "      |   ^\n",
      "C:\\Users\\Peter\\AppData\\Local\\Temp\\tmpblgihwzw.cpp:17:4: error: stray '`' in program\n",
      "   17 | ````{explanation} exampleq2\n",
      "      |    ^\n",
      "C:\\Users\\Peter\\AppData\\Local\\Temp\\tmpblgihwzw.cpp:24:73: error: stray '\\226' in program\n",
      "   24 | s except does not  return the value if two identical values are entered <96> also behaves oddly if first number is a double <96> takes part before the decimal point then reports having received the second part as 0 without pause. If second is a double, it rounds or ignores what is after the decimal point.\n",
      "      |                                                                         ^~~~\n",
      "C:\\Users\\Peter\\AppData\\Local\\Temp\\tmpblgihwzw.cpp:24:122: error: stray '\\226' in program\n",
      "   24 | s except does not  return the value if two identical values are entered <96> also behaves oddly if first number is a double <96> takes part before the decimal point then reports having received the second part as 0 without pause. If second is a double, it rounds or ignores what is after the decimal point.\n",
      "      |                                                                                                                             ^~~~\n",
      "C:\\Users\\Peter\\AppData\\Local\\Temp\\tmpblgihwzw.cpp:25:30: error: stray '\\226' in program\n",
      "   25 | This fixes part of the issue <96> other issues left as an exercise\n",
      "      |                              ^~~~\n"
     ]
    },
    {
     "name": "stderr",
     "output_type": "stream",
     "text": [
      "C:\\Users\\Peter\\AppData\\Local\\Temp\\tmpblgihwzw.cpp:17:5: error: expected unqualified-id before '{' token\n",
      "   17 | ````{explanation} exampleq2\n",
      "      |     ^\n"
     ]
    },
    {
     "name": "stderr",
     "output_type": "stream",
     "text": [
      "C:\\Users\\Peter\\AppData\\Local\\Temp\\tmpblgihwzw.cpp:18:1: error: found ':' in nested-name-specifier, expected '::'\n",
      "   18 | :label: explanationq2\n",
      "      | ^\n",
      "      | ::\n"
     ]
    },
    {
     "name": "stderr",
     "output_type": "stream",
     "text": [
      "C:\\Users\\Peter\\AppData\\Local\\Temp\\tmpblgihwzw.cpp:17:19: error: 'exampleq2' does not name a type\n",
      "   17 | ````{explanation} exampleq2\n",
      "      |                   ^~~~~~~~~\n"
     ]
    },
    {
     "name": "stderr",
     "output_type": "stream",
     "text": [
      "\n",
      "[C++ kernel] Error: Unable to compile the source code. Return error: 0x1."
     ]
    }
   ],
   "source": [
    "#include <iostream>\n",
    "int main() {\n",
    "    int x = 0;\n",
    "    int y = 0;\n",
    "    std::cout << \"Please enter two integral values: \\n\";\n",
    "    std::cin >> x >> y;\n",
    "    if (x < y) {\n",
    "        std::cout << \"The maximum value = max(\" << x << \",\" << y << \") is \" << y << \t\t\". \\n\";\n",
    "        } else {\n",
    "        std::cout << \"The maximum value = max(\" << x << \",\" << y << \") is \" << x << \t\t\". \\n\";\n",
    "        }\t\n",
    "    return 0;\n",
    "}\n",
    "\n",
    "````{explanation} exampleq2\n",
    ":label: explanationq2\n",
    ":class: dropdown\n",
    "The progammed does basically work.\n",
    "\n",
    "\n",
    "\n",
    "s except does not  return the value if two identical values are entered – also behaves oddly if first number is a double – takes part before the decimal point then reports having received the second part as 0 without pause. If second is a double, it rounds or ignores what is after the decimal point. \n",
    "This fixes part of the issue – other issues left as an exercise\n",
    "\n"
   ]
  },
  {
   "cell_type": "markdown",
   "id": "91096fb7",
   "metadata": {},
   "source": [
    "`````{example-end}\n",
    "`````\n",
    "\n",
    "```{tip}\n",
    "Every possible way to exit a selection, iteration, or function must have either a return or an error attached to it.\n",
    "```\n",
    "\n",
    "\n",
    "\n",
    "\n",
    "Try this code:\n",
    "int x = 0;\n",
    "int y = 0;\n",
    "std::cout << \"Please enter two integral values: \\n\";\n",
    "std::cin >> x >> y;\n",
    "if (x < y) {\n",
    "\t\tstd::cout << \"The maximum value = max(\" << x << \",\" << y << \") is \" << y << \t\t\". \\n\";\n",
    "\t\t} else {\n",
    "\t\tstd::cout << \"The maximum value = max(\" << x << \",\" << y << \") is \" << x << \t\t\". \\n\";\n",
    "\t\t}\t\n",
    "Code basically works except does not  return the value if two identical values are entered – also behaves oddly if first number is a double – takes part before the decimal point then reports having received the second part as 0 without pause. If second is a double, it rounds or ignores what is after the decimal point. \n",
    "This fixes part of the issue – other issues left as an exercise.\n",
    "if (x < y) {\n",
    "std::cout << \"The maximum value = max(\" << x << \",\" << y << \") is \" << y << \". \\n\";\n",
    "}\n",
    "else if (x > y) {\n",
    "std::cout << \"The maximum value = max(\" << x << \",\" << y << \") is \" << x << \". \\n\";\n",
    "}\n",
    "else {\n",
    "std::cout << \"The values are identical. \\n\";\n",
    "}\n",
    "\n",
    "\n",
    "\n",
    "\n",
    "````{tab} C++\n",
    "```{code-block} c++\n",
    "#include <iostream>\n",
    "int main() {\n",
    "  std::cout << \"Hello, World!\" << std::endl;\n",
    "}\n",
    "```\n",
    "````\n",
    "````{tab} C\n",
    "```{code-block} c\n",
    "#include <iostream>\n",
    "if (a > 0) { \n",
    "    puts(\"yes\");\n",
    "}\n",
    "else {\n",
    "    puts(\"no\");\n",
    "}\n",
    "```\n",
    "````\n",
    "\n",
    "\n",
    "````{tab} Java\n",
    "```{code-block} java\n",
    "public class HelloWorldProgram {\n",
    "  public static void main(String[] args) {\n",
    "    System.out.println(\"Hello, World!\");\n",
    "  }\n",
    "}\n",
    "```\n",
    "````\n",
    "````{tab} Javascript\n",
    "```{code-block} javascript\n",
    "console.log(\"Hello, World!\");\n",
    "```\n",
    "````\n",
    "````{tab} Python\n",
    "```{code-block} python\n",
    "if a > 0: \n",
    "    print(\"yes\")\n",
    "else:\n",
    "    print(\"no\")\n",
    "```\n",
    "````\n",
    "````{tab} R\n",
    "```{code-block} r\n",
    "print(\"Hello, World!\")\n",
    "```\n",
    "````\n",
    "````{tab} julia\n",
    "```{code-block} julia\n",
    "\"Hello, World!\"\n",
    "```\n",
    "````\n",
    "````{tab} ada\n",
    "```{code-block} ada\n",
    "if a > 0 then\n",
    "      Put_Line(\"yes\");\n",
    "else\n",
    "      Put_Line(\"no\");\n",
    "end if;\n",
    "```\n",
    "````"
   ]
  }
 ],
 "metadata": {
  "jupytext": {
   "formats": "md:myst",
   "text_representation": {
    "extension": ".md",
    "format_name": "myst"
   }
  },
  "kernelspec": {
   "display_name": "C++ 20",
   "language": "c++",
   "name": "cpp20"
  },
  "language_info": {
   "file_extension": ".cpp",
   "mimetype": "text/markdown",
   "name": "C++",
   "version": "1.0.0a9"
  },
  "source_map": [
   11,
   42,
   55,
   82,
   110
  ]
 },
 "nbformat": 4,
 "nbformat_minor": 5
}