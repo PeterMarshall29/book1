{
 "cells": [
  {
   "cell_type": "markdown",
   "id": "b7490eea",
   "metadata": {},
   "source": [
    "# Exercise 5\n",
    "\n",
    "\n",
    "````{exercise-start} \n",
    ":label: exerciseex51\n",
    ":class: dropdown\n",
    "````\n",
    "Write a function that takes an integer value and returns one more than that value.\n",
    "Write a program that calls your function and prints both values to the display."
   ]
  },
  {
   "cell_type": "code",
   "execution_count": null,
   "id": "bdb8e905",
   "metadata": {
    "tags": [
     "remove-output",
     "skip-execution"
    ]
   },
   "outputs": [],
   "source": [
    "Code goes here...."
   ]
  },
  {
   "cell_type": "markdown",
   "id": "3a9aab68",
   "metadata": {},
   "source": [
    "````{exercise-end}\n",
    "````\n",
    "\n",
    "````{solution-start} exerciseex51\n",
    ":label: solutionex51\n",
    ":class: dropdown\n",
    "````\n",
    "```{code-block} c++\n",
    "#include <iostream>\n",
    "int incrementFunction(int number) {\n",
    "\treturn ++number;\n",
    "}\n",
    "int main () {\n",
    "  int number;\n",
    "  std::cout << \"Please type in a number.. \\n\";\n",
    "  std::cin >> number;\n",
    "  std::cout << \" Your number was: \" << number << \" and one more is: \" << numberincrementFunction(number) << '\\n';\n",
    "  return 0;\n",
    "}\n",
    "```\n",
    "````{solution-end}\n",
    "````\n",
    "\n",
    "````{exercise-start} \n",
    ":label: exerciseex52\n",
    ":class: dropdown\n",
    "````\n",
    "Write a function that takes two integer values and returns a true is their sum is less than 100..\n",
    "Write a program that calls your function and prints a statement telling the user if their sum is less than 100 or not."
   ]
  },
  {
   "cell_type": "code",
   "execution_count": null,
   "id": "0cb2e0f8",
   "metadata": {
    "tags": [
     "remove-output",
     "skip-execution"
    ]
   },
   "outputs": [],
   "source": [
    "Code goes here...."
   ]
  },
  {
   "cell_type": "markdown",
   "id": "bfc034ad",
   "metadata": {},
   "source": [
    "````{exercise-end}\n",
    "````\n",
    "\n",
    "````{solution-start} exerciseex52\n",
    ":label: solutionex52\n",
    ":class: dropdown\n",
    "````\n",
    "```{code-block} c++\n",
    "#include <iostream>\n",
    "bool sumIsLessThan100(int A, int B) {\n",
    "\treturn (A + B < 100) ?  true : false;\n",
    "}\n",
    "int main () {\n",
    "  int A , B;\n",
    "  std::cout << \"Please type in two numbers number, both less than 100.. \\n\";\n",
    "  std::cin >> A >> B;\n",
    "  std::cout << \" It is \" << sumIsLessThan100(A , B) << \" that the sum of \" << A << \" and \" << B << \" is less than 100! <<'\\n';\n",
    "  return 0;\n",
    "}\n",
    "```\n",
    "````{solution-end}\n",
    "````\n",
    "\n",
    "````{exercise-start} \n",
    ":label: exerciseex53\n",
    ":class: dropdown\n",
    "````\n",
    "Write a function that takes two integer values and returns a true is their sum is less than 100..\n",
    "Write a program that calls your function and prints a statement telling the user if their sum is less than 100 or not."
   ]
  },
  {
   "cell_type": "code",
   "execution_count": null,
   "id": "57ca585e",
   "metadata": {
    "tags": [
     "remove-output",
     "skip-execution"
    ]
   },
   "outputs": [],
   "source": [
    "Code goes here...."
   ]
  },
  {
   "cell_type": "markdown",
   "id": "cd8b00d6",
   "metadata": {},
   "source": [
    "````{exercise-end}\n",
    "````\n",
    "\n",
    "````{solution-start} exerciseex53\n",
    ":label: solutionex53\n",
    ":class: dropdown\n",
    "````\n",
    "```{code-block} c++\n",
    "#include <iostream>\n",
    "bool isFactorial(const int& val)\n",
    "{\n",
    "\tint tmp = 1, i = 1;\n",
    "\twhile (tmp < val) tmp*=++i;\n",
    "\treturn tmp == val;\n",
    "}\n",
    "std::vector<int> filterFactorials(std::vector<int> numbers) {\n",
    "\tfor (int i = 0; i < numbers.size(); ++i)\n",
    "\t{\n",
    "\t\tif (!isFactorial(numbers[i]))\n",
    "\t\t\tnumbers.erase(numbers.begin() + i--);\n",
    "\t}\n",
    "\treturn numbers;\n",
    "}\n",
    "int main () {\n",
    "  int A , B;\n",
    "  std::cout << \"Please type in two numbers number, both less than 100.. \\n\";\n",
    "  std::cin >> A >> B;\n",
    "  std::cout << \" It is \" << sumIsLessThan100(A , B) << \" that the sum of \" << A << \" and \" << B << \" is less than 100! <<'\\n';\n",
    "  return 0;\n",
    "}\n",
    "```\n",
    "````{solution-end}\n",
    "````\n",
    "\n",
    "\n",
    "````{exercise-start} \n",
    ":label: exerciseex54\n",
    ":class: dropdown\n",
    "````\n",
    "Write a function that takes two integer values and returns a true is their sum is less than 100..\n",
    "Write a program that calls your function and prints a statement telling the user if their sum is less than 100 or not."
   ]
  },
  {
   "cell_type": "code",
   "execution_count": null,
   "id": "15e235d4",
   "metadata": {
    "tags": [
     "remove-output",
     "skip-execution"
    ]
   },
   "outputs": [],
   "source": [
    "Code goes here...."
   ]
  },
  {
   "cell_type": "markdown",
   "id": "968f11e0",
   "metadata": {},
   "source": [
    "````{exercise-end}\n",
    "````\n",
    "\n",
    "````{solution-start} exerciseex54\n",
    ":label: solutionex54\n",
    ":class: dropdown\n",
    "````\n",
    "```{code-block} c++\n",
    "#include <iostream>\n",
    "bool sumIsLessThan100(int A, int B) {\n",
    "\treturn (A + B < 100) ?  true : false;\n",
    "}\n",
    "int main () {\n",
    "  int A , B;\n",
    "  std::cout << \"Please type in two numbers number, both less than 100.. \\n\";\n",
    "  std::cin >> A >> B;\n",
    "  std::cout << \" It is \" << sumIsLessThan100(A , B) << \" that the sum of \" << A << \" and \" << B << \" is less than 100! <<'\\n';\n",
    "  return 0;\n",
    "}\n",
    "```\n",
    "````{solution-end}\n",
    "````\n",
    "\n",
    "\n",
    "````{exercise-start} \n",
    ":label: exerciseex55\n",
    ":class: dropdown\n",
    "````\n",
    "Write a function that takes two integer values and returns a true is their sum is less than 100..\n",
    "Write a program that calls your function and prints a statement telling the user if their sum is less than 100 or not."
   ]
  },
  {
   "cell_type": "code",
   "execution_count": null,
   "id": "175ed555",
   "metadata": {
    "tags": [
     "remove-output",
     "skip-execution"
    ]
   },
   "outputs": [],
   "source": [
    "Code goes here...."
   ]
  },
  {
   "cell_type": "markdown",
   "id": "84800444",
   "metadata": {},
   "source": [
    "````{exercise-end}\n",
    "````\n",
    "\n",
    "````{solution-start} exerciseex55\n",
    ":label: solutionex55\n",
    ":class: dropdown\n",
    "````\n",
    "```{code-block} c++\n",
    "#include <iostream>\n",
    "bool sumIsLessThan100(int A, int B) {\n",
    "\treturn (A + B < 100) ?  true : false;\n",
    "}\n",
    "int main () {\n",
    "  int A , B;\n",
    "  std::cout << \"Please type in two numbers number, both less than 100.. \\n\";\n",
    "  std::cin >> A >> B;\n",
    "  std::cout << \" It is \" << sumIsLessThan100(A , B) << \" that the sum of \" << A << \" and \" << B << \" is less than 100! <<'\\n';\n",
    "  return 0;\n",
    "}\n",
    "```\n",
    "````{solution-end}\n",
    "````\n",
    "\n",
    "\n",
    "````{exercise-start} \n",
    ":label: exerciseex56\n",
    ":class: dropdown\n",
    "````\n",
    "Write a function that takes two integer values and returns a true is their sum is less than 100..\n",
    "Write a program that calls your function and prints a statement telling the user if their sum is less than 100 or not."
   ]
  },
  {
   "cell_type": "code",
   "execution_count": null,
   "id": "e06ef8f5",
   "metadata": {
    "tags": [
     "remove-output",
     "skip-execution"
    ]
   },
   "outputs": [],
   "source": [
    "Code goes here...."
   ]
  },
  {
   "cell_type": "markdown",
   "id": "7b7ade0f",
   "metadata": {},
   "source": [
    "````{exercise-end}\n",
    "````\n",
    "\n",
    "````{solution-start} exerciseex56\n",
    ":label: solutionex56\n",
    ":class: dropdown\n",
    "````\n",
    "```{code-block} c++\n",
    "#include <iostream>\n",
    "bool sumIsLessThan100(int A, int B) {\n",
    "\treturn (A + B < 100) ?  true : false;\n",
    "}\n",
    "int main () {\n",
    "  int A , B;\n",
    "  std::cout << \"Please type in two numbers number, both less than 100.. \\n\";\n",
    "  std::cin >> A >> B;\n",
    "  std::cout << \" It is \" << sumIsLessThan100(A , B) << \" that the sum of \" << A << \" and \" << B << \" is less than 100! <<'\\n';\n",
    "  return 0;\n",
    "}\n",
    "```\n",
    "````{solution-end}\n",
    "````\n",
    "\n",
    "\n",
    "````{exercise-start} \n",
    ":label: exerciseex57\n",
    ":class: dropdown\n",
    "````\n",
    "Write a function that takes two integer values and returns a true is their sum is less than 100..\n",
    "Write a program that calls your function and prints a statement telling the user if their sum is less than 100 or not."
   ]
  },
  {
   "cell_type": "code",
   "execution_count": null,
   "id": "67d1eca9",
   "metadata": {
    "tags": [
     "remove-output",
     "skip-execution"
    ]
   },
   "outputs": [],
   "source": [
    "Code goes here...."
   ]
  },
  {
   "cell_type": "markdown",
   "id": "033b560e",
   "metadata": {},
   "source": [
    "````{exercise-end}\n",
    "````\n",
    "\n",
    "````{solution-start} exerciseex57\n",
    ":label: solutionex57\n",
    ":class: dropdown\n",
    "````\n",
    "```{code-block} c++\n",
    "#include <iostream>\n",
    "bool sumIsLessThan100(int A, int B) {\n",
    "\treturn (A + B < 100) ?  true : false;\n",
    "}\n",
    "int main () {\n",
    "  int A , B;\n",
    "  std::cout << \"Please type in two numbers number, both less than 100.. \\n\";\n",
    "  std::cin >> A >> B;\n",
    "  std::cout << \" It is \" << sumIsLessThan100(A , B) << \" that the sum of \" << A << \" and \" << B << \" is less than 100! <<'\\n';\n",
    "  return 0;\n",
    "}\n",
    "```\n",
    "````{solution-end}\n",
    "````\n",
    "\n",
    "````{exercise-start} \n",
    ":label: exerciseex58\n",
    ":class: dropdown\n",
    "````\n",
    "Write a function that takes two integer values and returns a true is their sum is less than 100..\n",
    "Write a program that calls your function and prints a statement telling the user if their sum is less than 100 or not."
   ]
  },
  {
   "cell_type": "code",
   "execution_count": null,
   "id": "fce0c943",
   "metadata": {
    "tags": [
     "remove-output",
     "skip-execution"
    ]
   },
   "outputs": [],
   "source": [
    "Code goes here...."
   ]
  },
  {
   "cell_type": "markdown",
   "id": "1cb16a09",
   "metadata": {},
   "source": [
    "````{exercise-end}\n",
    "````\n",
    "\n",
    "````{solution-start} exerciseex58\n",
    ":label: solutionex58\n",
    ":class: dropdown\n",
    "````\n",
    "```{code-block} c++\n",
    "#include <iostream>\n",
    "bool sumIsLessThan100(int A, int B) {\n",
    "\treturn (A + B < 100) ?  true : false;\n",
    "}\n",
    "int main () {\n",
    "  int A , B;\n",
    "  std::cout << \"Please type in two numbers number, both less than 100.. \\n\";\n",
    "  std::cin >> A >> B;\n",
    "  std::cout << \" It is \" << sumIsLessThan100(A , B) << \" that the sum of \" << A << \" and \" << B << \" is less than 100! <<'\\n';\n",
    "  return 0;\n",
    "}\n",
    "```\n",
    "````{solution-end}\n",
    "````\n",
    "\n",
    "````{exercise-start} \n",
    ":label: exerciseex59\n",
    ":class: dropdown\n",
    "````\n",
    "Write a function that takes two integer values and returns a true is their sum is less than 100..\n",
    "Write a program that calls your function and prints a statement telling the user if their sum is less than 100 or not."
   ]
  },
  {
   "cell_type": "code",
   "execution_count": null,
   "id": "d27d4820",
   "metadata": {
    "tags": [
     "remove-output",
     "skip-execution"
    ]
   },
   "outputs": [],
   "source": [
    "Code goes here...."
   ]
  },
  {
   "cell_type": "markdown",
   "id": "d485c77c",
   "metadata": {},
   "source": [
    "````{exercise-end}\n",
    "````\n",
    "\n",
    "````{solution-start} exerciseex59\n",
    ":label: solutionex59\n",
    ":class: dropdown\n",
    "````\n",
    "```{code-block} c++\n",
    "#include <iostream>\n",
    "bool sumIsLessThan100(int A, int B) {\n",
    "\treturn (A + B < 100) ?  true : false;\n",
    "}\n",
    "int main () {\n",
    "  int A , B;\n",
    "  std::cout << \"Please type in two numbers number, both less than 100.. \\n\";\n",
    "  std::cin >> A >> B;\n",
    "  std::cout << \" It is \" << sumIsLessThan100(A , B) << \" that the sum of \" << A << \" and \" << B << \" is less than 100! <<'\\n';\n",
    "  return 0;\n",
    "}\n",
    "```\n",
    "````{solution-end}\n",
    "````\n",
    "\n",
    "````{exercise-start} \n",
    ":label: exerciseex510\n",
    ":class: dropdown\n",
    "````\n",
    "Write a function that takes two integer values and returns a true is their sum is less than 100..\n",
    "Write a program that calls your function and prints a statement telling the user if their sum is less than 100 or not."
   ]
  },
  {
   "cell_type": "code",
   "execution_count": null,
   "id": "80419e13",
   "metadata": {
    "tags": [
     "remove-output",
     "skip-execution"
    ]
   },
   "outputs": [],
   "source": [
    "Code goes here...."
   ]
  },
  {
   "cell_type": "markdown",
   "id": "f9c0c045",
   "metadata": {},
   "source": [
    "````{exercise-end}\n",
    "````\n",
    "\n",
    "````{solution-start} exerciseex510\n",
    ":label: solutionex510\n",
    ":class: dropdown\n",
    "````\n",
    "```{code-block} c++\n",
    "#include <iostream>\n",
    "bool sumIsLessThan100(int A, int B) {\n",
    "\treturn (A + B < 100) ?  true : false;\n",
    "}\n",
    "int main () {\n",
    "  int A , B;\n",
    "  std::cout << \"Please type in two numbers number, both less than 100.. \\n\";\n",
    "  std::cin >> A >> B;\n",
    "  std::cout << \" It is \" << sumIsLessThan100(A , B) << \" that the sum of \" << A << \" and \" << B << \" is less than 100! <<'\\n';\n",
    "  return 0;\n",
    "}\n",
    "```\n",
    "````{solution-end}\n",
    "````"
   ]
  }
 ],
 "metadata": {
  "jupytext": {
   "formats": "md:myst",
   "text_representation": {
    "extension": ".md",
    "format_name": "myst"
   }
  },
  "kernelspec": {
   "display_name": "C++ 20",
   "language": "c++",
   "name": "cpp20"
  },
  "language_info": {
   "file_extension": ".cpp",
   "mimetype": "text/markdown",
   "name": "C++",
   "version": "1.0.0a9"
  },
  "source_map": [
   11,
   22,
   25,
   55,
   58,
   88,
   91,
   133,
   136,
   167,
   170,
   201,
   204,
   235,
   238,
   268,
   271,
   301,
   304,
   334,
   337
  ]
 },
 "nbformat": 4,
 "nbformat_minor": 5
}