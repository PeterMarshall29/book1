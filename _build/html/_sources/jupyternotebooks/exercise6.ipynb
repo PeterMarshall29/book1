{
 "cells": [
  {
   "cell_type": "markdown",
   "id": "937d41f8",
   "metadata": {},
   "source": [
    "# Exercises 6\n",
    "\n",
    "````{exercise-start} \n",
    ":label: exerciseex61\n",
    ":class: dropdown\n",
    "````"
   ]
  },
  {
   "cell_type": "code",
   "execution_count": null,
   "id": "1cfbb4dc",
   "metadata": {
    "tags": [
     "remove-output",
     "skip-execution"
    ]
   },
   "outputs": [],
   "source": [
    "Code goes here...."
   ]
  },
  {
   "cell_type": "markdown",
   "id": "67930cad",
   "metadata": {},
   "source": [
    "````{exercise-end}\n",
    "````\n",
    "\n",
    "````{solution-start} exerciseex61\n",
    ":label: solutionex61\n",
    ":class: dropdown\n",
    "````\n",
    "```{code-block} c++\n",
    "\n",
    "```\n",
    "````{solution-end}\n",
    "````\n",
    "\n",
    "````{exercise-start} \n",
    ":label: exerciseex62\n",
    ":class: dropdown\n",
    "````"
   ]
  },
  {
   "cell_type": "code",
   "execution_count": null,
   "id": "6abf75d1",
   "metadata": {
    "tags": [
     "remove-output",
     "skip-execution"
    ]
   },
   "outputs": [],
   "source": [
    "Code goes here...."
   ]
  },
  {
   "cell_type": "markdown",
   "id": "f2ceabd3",
   "metadata": {},
   "source": [
    "````{exercise-end}\n",
    "````\n",
    "\n",
    "````{solution-start} exerciseex62\n",
    ":label: solutionex62\n",
    ":class: dropdown\n",
    "````\n",
    "```{code-block} c++\n",
    "\n",
    "```\n",
    "````{solution-end}\n",
    "````\n",
    "\n",
    "````{exercise-start} \n",
    ":label: exerciseex63\n",
    ":class: dropdown\n",
    "````"
   ]
  },
  {
   "cell_type": "code",
   "execution_count": null,
   "id": "6f47cef2",
   "metadata": {
    "tags": [
     "remove-output",
     "skip-execution"
    ]
   },
   "outputs": [],
   "source": [
    "Code goes here...."
   ]
  },
  {
   "cell_type": "markdown",
   "id": "de6b1b23",
   "metadata": {},
   "source": [
    "````{exercise-end}\n",
    "````\n",
    "\n",
    "````{solution-start} exerciseex63\n",
    ":label: solutionex63\n",
    ":class: dropdown\n",
    "````\n",
    "```{code-block} c++\n",
    "\n",
    "```\n",
    "````{solution-end}\n",
    "````\n",
    "\n",
    "\n",
    "````{exercise-start} \n",
    ":label: exerciseex64\n",
    ":class: dropdown\n",
    "````"
   ]
  },
  {
   "cell_type": "code",
   "execution_count": null,
   "id": "6d2cf1f1",
   "metadata": {
    "tags": [
     "remove-output",
     "skip-execution"
    ]
   },
   "outputs": [],
   "source": [
    "Code goes here...."
   ]
  },
  {
   "cell_type": "markdown",
   "id": "3dbc41d7",
   "metadata": {},
   "source": [
    "````{exercise-end}\n",
    "````\n",
    "\n",
    "````{solution-start} exerciseex64\n",
    ":label: solutionex64\n",
    ":class: dropdown\n",
    "````\n",
    "```{code-block} c++\n",
    "#include <iostream>\n",
    "\n",
    "```\n",
    "````{solution-end}\n",
    "````\n",
    "\n",
    "\n",
    "````{exercise-start} \n",
    ":label: exerciseex65\n",
    ":class: dropdown\n",
    "````"
   ]
  },
  {
   "cell_type": "code",
   "execution_count": null,
   "id": "a1b2f8eb",
   "metadata": {
    "tags": [
     "remove-output",
     "skip-execution"
    ]
   },
   "outputs": [],
   "source": [
    "Code goes here...."
   ]
  },
  {
   "cell_type": "markdown",
   "id": "c43e774f",
   "metadata": {},
   "source": [
    "````{exercise-end}\n",
    "````\n",
    "\n",
    "````{solution-start} exerciseex65\n",
    ":label: solutionex65\n",
    ":class: dropdown\n",
    "````\n",
    "```{code-block} c++\n",
    "\n",
    "```\n",
    "````{solution-end}\n",
    "````\n",
    "\n",
    "\n",
    "````{exercise-start} \n",
    ":label: exerciseex66\n",
    ":class: dropdown\n",
    "````"
   ]
  },
  {
   "cell_type": "code",
   "execution_count": null,
   "id": "c87493b7",
   "metadata": {
    "tags": [
     "remove-output",
     "skip-execution"
    ]
   },
   "outputs": [],
   "source": [
    "Code goes here...."
   ]
  },
  {
   "cell_type": "markdown",
   "id": "3fc3c071",
   "metadata": {},
   "source": [
    "````{exercise-end}\n",
    "````\n",
    "\n",
    "````{solution-start} exerciseex66\n",
    ":label: solutionex66\n",
    ":class: dropdown\n",
    "````\n",
    "```{code-block} c++\n",
    "\n",
    "```\n",
    "````{solution-end}\n",
    "````\n",
    "\n",
    "\n",
    "````{exercise-start} \n",
    ":label: exerciseex67\n",
    ":class: dropdown\n",
    "````"
   ]
  },
  {
   "cell_type": "code",
   "execution_count": null,
   "id": "bd924c1d",
   "metadata": {
    "tags": [
     "remove-output",
     "skip-execution"
    ]
   },
   "outputs": [],
   "source": [
    "Code goes here...."
   ]
  },
  {
   "cell_type": "markdown",
   "id": "9bf4f1e7",
   "metadata": {},
   "source": [
    "````{exercise-end}\n",
    "````\n",
    "\n",
    "````{solution-start} exerciseex67\n",
    ":label: solutionex67\n",
    ":class: dropdown\n",
    "````\n",
    "```{code-block} c++\n",
    "\n",
    "```\n",
    "````{solution-end}\n",
    "````\n",
    "\n",
    "````{exercise-start} \n",
    ":label: exerciseex68\n",
    ":class: dropdown\n",
    "````"
   ]
  },
  {
   "cell_type": "code",
   "execution_count": null,
   "id": "18500b4b",
   "metadata": {
    "tags": [
     "remove-output",
     "skip-execution"
    ]
   },
   "outputs": [],
   "source": [
    "Code goes here...."
   ]
  },
  {
   "cell_type": "markdown",
   "id": "3bd6635d",
   "metadata": {},
   "source": [
    "````{exercise-end}\n",
    "````\n",
    "\n",
    "````{solution-start} exerciseex68\n",
    ":label: solutionex68\n",
    ":class: dropdown\n",
    "````\n",
    "```{code-block} c++\n",
    "\n",
    "```\n",
    "````{solution-end}\n",
    "````\n",
    "\n",
    "````{exercise-start} \n",
    ":label: exerciseex69\n",
    ":class: dropdown\n",
    "````"
   ]
  },
  {
   "cell_type": "code",
   "execution_count": null,
   "id": "e1bc1d32",
   "metadata": {
    "tags": [
     "remove-output",
     "skip-execution"
    ]
   },
   "outputs": [],
   "source": [
    "Code goes here...."
   ]
  },
  {
   "cell_type": "markdown",
   "id": "bf38aa23",
   "metadata": {},
   "source": [
    "````{exercise-end}\n",
    "````\n",
    "\n",
    "````{solution-start} exerciseex69\n",
    ":label: solutionex69\n",
    ":class: dropdown\n",
    "````\n",
    "```{code-block} c++\n",
    "\n",
    "```\n",
    "````{solution-end}\n",
    "````\n",
    "\n",
    "````{exercise-start} \n",
    ":label: exerciseex610\n",
    ":class: dropdown\n",
    "````"
   ]
  },
  {
   "cell_type": "code",
   "execution_count": null,
   "id": "c6ec9000",
   "metadata": {
    "tags": [
     "remove-output",
     "skip-execution"
    ]
   },
   "outputs": [],
   "source": [
    "Code goes here...."
   ]
  },
  {
   "cell_type": "markdown",
   "id": "cb16bc8d",
   "metadata": {},
   "source": [
    "````{exercise-end}\n",
    "````\n",
    "\n",
    "````{solution-start} exerciseex610\n",
    ":label: solutionex610\n",
    ":class: dropdown\n",
    "````\n",
    "```{code-block} c++\n",
    "\n",
    "```\n",
    "````{solution-end}\n",
    "````"
   ]
  }
 ],
 "metadata": {
  "jupytext": {
   "formats": "md:myst",
   "text_representation": {
    "extension": ".md",
    "format_name": "myst"
   }
  },
  "kernelspec": {
   "display_name": "C++ 20",
   "language": "c++",
   "name": "cpp20"
  },
  "language_info": {
   "file_extension": ".cpp",
   "mimetype": "text/markdown",
   "name": "C++",
   "version": "1.0.0a9"
  },
  "source_map": [
   11,
   20,
   23,
   42,
   45,
   64,
   67,
   87,
   90,
   111,
   114,
   134,
   137,
   157,
   160,
   179,
   182,
   201,
   204,
   223,
   226
  ]
 },
 "nbformat": 4,
 "nbformat_minor": 5
}