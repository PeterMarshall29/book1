{
 "cells": [
  {
   "cell_type": "markdown",
   "id": "00e06bdb-d6e7-4ad7-a5a4-d9df7b121e05",
   "metadata": {},
   "source": [
    "````{exercise} \n",
    ":class: dropdown\n",
    ":label: Exercisea1\n",
    "Try making the following changes to the above code - note what happens.\n",
    "\n",
    "1. Remove `std::` from line 3.\n",
    "2. Replace the angle brackets `<>` in the first line with speechmarks `\"\"`.\n",
    "2. Change the returned value from 0 to 1.\n",
    "3. Remove the return line.\n",
    "\n",
    "Add or remove spaces anywhere in your code and run the code again. \\\n",
    "Or try somthing else\\\n",
    "or something other\n",
    "\n",
    "```{solution} Exercisea1 \n",
    ":class: hint dropdown\n",
    ":label: Solutiona1\n",
    "\n",
    "1. `cout` is not part of the c++ core language and comes instead from the **Standard Library**. `std::` denotes the namespace that `cout` belongs to (similar to a folder designation, provided you have included it). \n",
    "2. To include components of the standard library angle brackets `<>` are used, but we can also include additional code written by the programmer in header files, which are named in speechmarks `\"\"`.\n",
    "3. \n",
    "4. \n",
    "```\n",
    "````"
   ]
  },
  {
   "cell_type": "markdown",
   "id": "a28c7d7a-cc3c-4af6-870a-16fa1a1f39d3",
   "metadata": {},
   "source": []
  },
  {
   "cell_type": "code",
   "execution_count": null,
   "id": "898d8e87-ad5d-4222-bc7e-5d37cf7a3e77",
   "metadata": {},
   "outputs": [],
   "source": []
  }
 ],
 "metadata": {
  "kernelspec": {
   "display_name": "C++ 20",
   "language": "c++",
   "name": "cpp20"
  },
  "language_info": {
   "file_extension": ".cpp",
   "mimetype": "text/x-c++src",
   "name": "C++",
   "version": "1.0.0a9"
  }
 },
 "nbformat": 4,
 "nbformat_minor": 5
}
