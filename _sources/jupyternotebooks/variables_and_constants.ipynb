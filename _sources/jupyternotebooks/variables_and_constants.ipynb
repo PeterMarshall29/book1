{
 "cells": [
  {
   "cell_type": "markdown",
   "id": "cb6d31e6",
   "metadata": {},
   "source": [
    "# User defined names\n",
    "\n",
    "\n",
    "\n",
    "There are a list of reserved [keywords](https://en.cppreference.com/w/cpp/keyword.html).\n",
    "\n",
    "The reserved keywords may not be used as object names.\n",
    "\n",
    "\n",
    "\n",
    "# Variables and Constants\n",
    "\n",
    "\n",
    "We can do nothing of interest with a computer without storing data (information). The places in which data is stored are called “objects”.\n",
    "The ‘type’ of an object determines what it can store, but also what operations are available to work with that type of data.\n",
    "The data stored in an object is called the “value” – not just numbers.\n",
    "The statement that declares a variable and its first value is called a ‘definition’, and assigning the first value at whatever point is called initialisation.\n",
    "Variable are often given an initial value with the definition\n",
    "Giving a variable a value at any time is called assignment. \n",
    "\n",
    "The compiler will not allow you to put the wrong values into a type.\n",
    "\n",
    "\n",
    "## Constants\n",
    "\n",
    "To create a constant, called a ‘symbolic constant’ – i.e. a name representing a constant, we can use either \n",
    "constexpr or const , both of which are modifiers that precede the type.\n",
    "c will not be reassignable/modifiable in both cases, but there is a key difference.\n",
    "constexpr double c = 299792458;\n",
    "Constant expression must be initialised prior to compilation – they cannot be assigned during the runtime.\n",
    "This was not available when I was writing my PhD using C++.\n",
    "The alternative is to use a plane constant variable, whose value might only become known at run-time.\n",
    "const double c = 299792458;\n",
    "These do not have to be initialised prior to compilation, making run-time errors more likely. There is no good reason for using const!\n",
    "They can also be applied to functions creating the same rule for the return."
   ]
  }
 ],
 "metadata": {
  "jupytext": {
   "formats": "md:myst",
   "text_representation": {
    "extension": ".md",
    "format_name": "myst"
   }
  },
  "kernelspec": {
   "display_name": "C++ 20",
   "language": "c++",
   "name": "cpp20"
  },
  "language_info": {
   "file_extension": ".cpp",
   "mimetype": "text/x-c++src",
   "name": "C++",
   "version": "1.0.0a9"
  },
  "source_map": [
   11
  ]
 },
 "nbformat": 4,
 "nbformat_minor": 5
}