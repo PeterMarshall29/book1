{
 "cells": [
  {
   "cell_type": "markdown",
   "id": "0001ae01",
   "metadata": {},
   "source": [
    "# Exercises Week 3 Pointers\n",
    "\n",
    "````{exercise-start} 5A\n",
    ":label: exerciseex61\n",
    ":class: dropdown\n",
    ":nonumber:\n",
    "````\n",
    "Write a program that asks for two integers, assigns the values to two variables, then creates pointers to those variables and adds the intgers by dereferencing their pointers."
   ]
  },
  {
   "cell_type": "code",
   "execution_count": null,
   "id": "d9993d0a",
   "metadata": {
    "tags": [
     "remove-output",
     "skip-execution"
    ]
   },
   "outputs": [],
   "source": [
    "Code goes here...."
   ]
  },
  {
   "cell_type": "markdown",
   "id": "79bd249a",
   "metadata": {},
   "source": [
    "````{exercise-end}\n",
    "````\n",
    "\n",
    "````{solution-start} exerciseex61\n",
    ":label: solutionex61\n",
    ":class: dropdown\n",
    "````\n",
    "A possible solution - try to improve or modify it.\n",
    "```{code-block} c++\n",
    "#include <iostream>\n",
    "int main() {\n",
    "    int number1, number2, result;\n",
    "    int * pointerToNumber1, * pointerToNumber2;\n",
    "    std::cout << \"Please type in two numbers to be added, space separated \\n\";\n",
    "    std::cin >> number1 >> number2;\n",
    "    pointerToNumber1 = &number1;  \n",
    "    pointerToNumber2 = &number2;  \n",
    "    result = *pointerToNumber1 + *pointerToNumber2;\n",
    "    std::cout << \"The sum of the entered numbers is : \" <<  result;  \n",
    "\n",
    "    return 0;\n",
    "}\n",
    "```\n",
    "````{solution-end}\n",
    "````\n",
    "\n",
    "````{exercise-start} 5B\n",
    ":label: exerciseex62\n",
    ":class: dropdown\n",
    ":nonumber:\n",
    "````\n",
    "Write a program that asks for two floating-point numbers, then calls a function by reference to caluate the first number raised to the power of the second number.\n",
    "\n",
    "Hint: Include `<cmath>` and use `pow()`."
   ]
  },
  {
   "cell_type": "code",
   "execution_count": null,
   "id": "3e73a04e",
   "metadata": {
    "tags": [
     "remove-output",
     "skip-execution"
    ]
   },
   "outputs": [],
   "source": [
    "Code goes here...."
   ]
  },
  {
   "cell_type": "markdown",
   "id": "76f0369d",
   "metadata": {},
   "source": [
    "````{exercise-end}\n",
    "````\n",
    "\n",
    "````{solution-start} exerciseex62\n",
    ":label: solutionex62\n",
    ":class: dropdown\n",
    "````\n",
    "A possible solution - try to improve or modify it.\n",
    "```{code-block} c++\n",
    "#include <iostream>\n",
    "double powerOf(double* number1, double* number2);\n",
    "double powerOf(double* number1, double* number2) {\n",
    "    return pow(*number1, *number2);\n",
    "}\n",
    "int main() {\n",
    "    double number1, number2, result;\n",
    "    std::cout << \"Please type in a number and a power to raise that number to: \\n\";\n",
    "    std::cin >> number1 >> number2;\n",
    "    result = powerOf(&number1, &number2);\n",
    "    std::cout << \"The sum of the entered numbers is : \" <<  result; \n",
    "    return 0;\n",
    "}\n",
    "```\n",
    "````{solution-end}\n",
    "````\n",
    "\n",
    "````{exercise-start} 5C\n",
    ":label: exerciseex63\n",
    ":class: dropdown\n",
    ":nonumber:\n",
    "````\n",
    "Write a program to print all the permutations of the character array \"abcd\".\n",
    "\n",
    "Use functions and pass pointers to the characters."
   ]
  },
  {
   "cell_type": "code",
   "execution_count": null,
   "id": "492f5a56",
   "metadata": {
    "tags": [
     "remove-output",
     "skip-execution"
    ]
   },
   "outputs": [],
   "source": [
    "Code goes here...."
   ]
  },
  {
   "cell_type": "markdown",
   "id": "8b4927d6",
   "metadata": {},
   "source": [
    "````{exercise-end}\n",
    "````\n",
    "\n",
    "````{solution-start} exerciseex63\n",
    ":label: solutionex63\n",
    ":class: dropdown\n",
    "````\n",
    "A possible solution - try to improve or modify it.\n",
    "\n",
    "A char array cannot be passed into a function, but the attempt produces a pointer to its first element, which is what is then used with some pointer arithmetic.\n",
    "```{code-block} c++\n",
    "#include <iostream>\n",
    "\n",
    "void changePosition(char* char1, char* char2){\n",
    "    char tmp;\n",
    "    tmp = *char1;\n",
    "    *char1 = *char2;\n",
    "    *char2 = tmp;\n",
    "}\n",
    "\n",
    "void charPermutations(char* inputCharacterString, int startNumber, int endNumber) {\n",
    "    int i;\n",
    "    if (startNumber == endNumber)\n",
    "        std::cout << inputCharacterString << '\\n';\n",
    "    else\n",
    "    {\n",
    "        for (i = startNumber; i <= endNumber; i++)         {\n",
    "            changePosition((inputCharacterString + startNumber), (inputCharacterString + i)); \n",
    "            charPermutations(inputCharacterString, startNumber + 1, endNumber); \n",
    "            changePosition((inputCharacterString + startNumber), (inputCharacterString + i)); \n",
    "        }\n",
    "    }\n",
    "}\n",
    "\n",
    "int main() {\n",
    "    std::cout << \"Please type in a word \\n\";\n",
    "    char InputCharString[] =\"abce\";\n",
    "    /*for (int i = 0; i < strlen(InputCharString); ++i) {\n",
    "        std::cin >> InputCharString[i];\n",
    "    }*/\n",
    "    int n = strlen(InputCharString);\n",
    "    std::cout << \" The permutations of the string are : \\n\";\n",
    "    charPermutations(InputCharString, 0, n - 1); \n",
    "    std::cout << \"\\n\\n\";\n",
    "    return 0;\n",
    "}\n",
    "```\n",
    "For a std::string a reference to the first character must be passed into the pointer for this code to work.\n",
    "```{code-block} c++\n",
    "#include <string>\n",
    "#include <iostream>\n",
    "\n",
    "void changePosition(char* char1, char* char2){\n",
    "    char tmp;\n",
    "    tmp = *char1;\n",
    "    *char1 = *char2;\n",
    "    *char2 = tmp;\n",
    "}\n",
    "void charPermutations(char* inputCharacterString, int startNumber, int endNumber) {\n",
    "    int i;\n",
    "    if (startNumber == endNumber)\n",
    "        std::cout << inputCharacterString << '\\n';\n",
    "    else\n",
    "    {\n",
    "        for (i = startNumber; i <= endNumber; i++)         {\n",
    "            changePosition((inputCharacterString + startNumber), (inputCharacterString + i)); \n",
    "            charPermutations(inputCharacterString, startNumber + 1, endNumber); \n",
    "            changePosition((inputCharacterString + startNumber), (inputCharacterString + i)); \n",
    "        }\n",
    "    }\n",
    "}\n",
    "int main() {\n",
    "    std::cout << \"Please type in a word \\n\";\n",
    "    std::string inputString;\n",
    "    std::cin >> inputString;\n",
    "    /*for (int i = 0; i < strlen(InputCharString); ++i) {\n",
    "        std::cin >> InputCharString[i];\n",
    "    }*/\n",
    "    int n = size(inputString);\n",
    "    std::cout << \" The permutations of the letters in \" << inputString << \"are: \\n\";\n",
    "    charPermutations(&inputString[0], 0, n - 1);\n",
    "    std::cout << \"\\n\\n\";\n",
    "    return 0;\n",
    "}\n",
    "```\n",
    "````{solution-end}\n",
    "````\n",
    "\n",
    "\n",
    "````{exercise-start} 5D\n",
    ":label: exerciseex64\n",
    ":class: dropdown\n",
    ":nonumber:\n",
    "````"
   ]
  },
  {
   "cell_type": "code",
   "execution_count": null,
   "id": "bd43c7ec",
   "metadata": {
    "tags": [
     "remove-output",
     "skip-execution"
    ]
   },
   "outputs": [],
   "source": [
    "Code goes here...."
   ]
  },
  {
   "cell_type": "markdown",
   "id": "f1477ddf",
   "metadata": {},
   "source": [
    "````{exercise-end}\n",
    "````\n",
    "\n",
    "````{solution-start} exerciseex64\n",
    ":label: solutionex64\n",
    ":class: dropdown\n",
    "````\n",
    "```{code-block} c++\n",
    "#include <iostream>\n",
    "\n",
    "```\n",
    "````{solution-end}\n",
    "````\n",
    "\n",
    "\n",
    "````{exercise-start} 5E\n",
    ":label: exerciseex65\n",
    ":class: dropdown\n",
    ":nonumber:\n",
    "````"
   ]
  },
  {
   "cell_type": "code",
   "execution_count": null,
   "id": "f75fc487",
   "metadata": {
    "tags": [
     "remove-output",
     "skip-execution"
    ]
   },
   "outputs": [],
   "source": [
    "Code goes here...."
   ]
  },
  {
   "cell_type": "markdown",
   "id": "c5a85080",
   "metadata": {},
   "source": [
    "````{exercise-end}\n",
    "````\n",
    "\n",
    "````{solution-start} exerciseex65\n",
    ":label: solutionex65\n",
    ":class: dropdown\n",
    "````\n",
    "```{code-block} c++\n",
    "\n",
    "```\n",
    "````{solution-end}\n",
    "````\n",
    "\n",
    "\n",
    "````{exercise-start} 5F\n",
    ":label: exerciseex66\n",
    ":class: dropdown\n",
    ":nonumber:\n",
    "````"
   ]
  },
  {
   "cell_type": "code",
   "execution_count": null,
   "id": "73f1ad4d",
   "metadata": {
    "tags": [
     "remove-output",
     "skip-execution"
    ]
   },
   "outputs": [],
   "source": [
    "Code goes here...."
   ]
  },
  {
   "cell_type": "markdown",
   "id": "ada6c62d",
   "metadata": {},
   "source": [
    "````{exercise-end}\n",
    "````\n",
    "\n",
    "````{solution-start} exerciseex66\n",
    ":label: solutionex66\n",
    ":class: dropdown\n",
    "````\n",
    "```{code-block} c++\n",
    "\n",
    "```\n",
    "````{solution-end}\n",
    "````\n",
    "\n",
    "\n",
    "````{exercise-start} 5G\n",
    ":label: exerciseex67\n",
    ":class: dropdown\n",
    ":nonumber:\n",
    "````"
   ]
  },
  {
   "cell_type": "code",
   "execution_count": null,
   "id": "f57c840a",
   "metadata": {
    "tags": [
     "remove-output",
     "skip-execution"
    ]
   },
   "outputs": [],
   "source": [
    "Code goes here...."
   ]
  },
  {
   "cell_type": "markdown",
   "id": "2fdd1b06",
   "metadata": {},
   "source": [
    "````{exercise-end}\n",
    "````\n",
    "\n",
    "````{solution-start} exerciseex67\n",
    ":label: solutionex67\n",
    ":class: dropdown\n",
    "````\n",
    "```{code-block} c++\n",
    "\n",
    "```\n",
    "````{solution-end}\n",
    "````\n",
    "\n",
    "````{exercise-start} 5H\n",
    ":label: exerciseex68\n",
    ":class: dropdown\n",
    ":nonumber:\n",
    "````"
   ]
  },
  {
   "cell_type": "code",
   "execution_count": null,
   "id": "459ccdea",
   "metadata": {
    "tags": [
     "remove-output",
     "skip-execution"
    ]
   },
   "outputs": [],
   "source": [
    "Code goes here...."
   ]
  },
  {
   "cell_type": "markdown",
   "id": "7fbbe530",
   "metadata": {},
   "source": [
    "````{exercise-end}\n",
    "````\n",
    "\n",
    "````{solution-start} exerciseex68\n",
    ":label: solutionex68\n",
    ":class: dropdown\n",
    "````\n",
    "```{code-block} c++\n",
    "\n",
    "```\n",
    "````{solution-end}\n",
    "````\n",
    "\n",
    "````{exercise-start} 5I\n",
    ":label: exerciseex69\n",
    ":class: dropdown\n",
    ":nonumber:\n",
    "````"
   ]
  },
  {
   "cell_type": "code",
   "execution_count": null,
   "id": "eac02ef6",
   "metadata": {
    "tags": [
     "remove-output",
     "skip-execution"
    ]
   },
   "outputs": [],
   "source": [
    "Code goes here...."
   ]
  },
  {
   "cell_type": "markdown",
   "id": "09c98254",
   "metadata": {},
   "source": [
    "````{exercise-end}\n",
    "````\n",
    "\n",
    "````{solution-start} exerciseex69\n",
    ":label: solutionex69\n",
    ":class: dropdown\n",
    "````\n",
    "```{code-block} c++\n",
    "\n",
    "```\n",
    "````{solution-end}\n",
    "````\n",
    "\n",
    "````{exercise-start} 5J\n",
    ":label: exerciseex610\n",
    ":class: dropdown\n",
    ":nonumber:\n",
    "````"
   ]
  },
  {
   "cell_type": "code",
   "execution_count": null,
   "id": "5dcfd2f2",
   "metadata": {
    "tags": [
     "remove-output",
     "skip-execution"
    ]
   },
   "outputs": [],
   "source": [
    "Code goes here...."
   ]
  },
  {
   "cell_type": "markdown",
   "id": "427e0112",
   "metadata": {},
   "source": [
    "````{exercise-end}\n",
    "````\n",
    "\n",
    "````{solution-start} exerciseex610\n",
    ":label: solutionex610\n",
    ":class: dropdown\n",
    "````\n",
    "```{code-block} c++\n",
    "\n",
    "```\n",
    "````{solution-end}\n",
    "````"
   ]
  }
 ],
 "metadata": {
  "jupytext": {
   "formats": "md:myst",
   "text_representation": {
    "extension": ".md",
    "format_name": "myst"
   }
  },
  "kernelspec": {
   "display_name": "C++ 20",
   "language": "c++",
   "name": "cpp20"
  },
  "language_info": {
   "file_extension": ".cpp",
   "mimetype": "text/markdown",
   "name": "C++",
   "version": "1.0.0a9"
  },
  "source_map": [
   11,
   21,
   24,
   59,
   62,
   97,
   100,
   196,
   199,
   221,
   224,
   245,
   248,
   269,
   272,
   292,
   295,
   315,
   318,
   338,
   341
  ]
 },
 "nbformat": 4,
 "nbformat_minor": 5
}