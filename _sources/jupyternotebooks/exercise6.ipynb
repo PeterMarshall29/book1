{
 "cells": [
  {
   "cell_type": "markdown",
   "id": "55fb0011",
   "metadata": {},
   "source": [
    "# Exercises 6\n",
    "\n",
    "````{exercise-start} \n",
    ":label: exerciseex61\n",
    ":class: dropdown\n",
    "````"
   ]
  },
  {
   "cell_type": "code",
   "execution_count": null,
   "id": "b84fedf3",
   "metadata": {
    "tags": [
     "remove-output",
     "skip-execution"
    ]
   },
   "outputs": [],
   "source": [
    "Code goes here...."
   ]
  },
  {
   "cell_type": "markdown",
   "id": "9fc57432",
   "metadata": {},
   "source": [
    "````{exercise-end}\n",
    "````\n",
    "\n",
    "````{solution-start} exerciseex61\n",
    ":label: solutionex61\n",
    ":class: dropdown\n",
    "````\n",
    "```{code-block} c++\n",
    "\n",
    "```\n",
    "````{solution-end}\n",
    "````\n",
    "\n",
    "````{exercise-start} \n",
    ":label: exerciseex62\n",
    ":class: dropdown\n",
    "````"
   ]
  },
  {
   "cell_type": "code",
   "execution_count": null,
   "id": "4c2f0cd1",
   "metadata": {
    "tags": [
     "remove-output",
     "skip-execution"
    ]
   },
   "outputs": [],
   "source": [
    "Code goes here...."
   ]
  },
  {
   "cell_type": "markdown",
   "id": "c6bbf762",
   "metadata": {},
   "source": [
    "````{exercise-end}\n",
    "````\n",
    "\n",
    "````{solution-start} exerciseex62\n",
    ":label: solutionex62\n",
    ":class: dropdown\n",
    "````\n",
    "```{code-block} c++\n",
    "\n",
    "```\n",
    "````{solution-end}\n",
    "````\n",
    "\n",
    "````{exercise-start} \n",
    ":label: exerciseex63\n",
    ":class: dropdown\n",
    "````"
   ]
  },
  {
   "cell_type": "code",
   "execution_count": null,
   "id": "be15c5a9",
   "metadata": {
    "tags": [
     "remove-output",
     "skip-execution"
    ]
   },
   "outputs": [],
   "source": [
    "Code goes here...."
   ]
  },
  {
   "cell_type": "markdown",
   "id": "ba9bb8c5",
   "metadata": {},
   "source": [
    "````{exercise-end}\n",
    "````\n",
    "\n",
    "````{solution-start} exerciseex63\n",
    ":label: solutionex63\n",
    ":class: dropdown\n",
    "````\n",
    "```{code-block} c++\n",
    "\n",
    "```\n",
    "````{solution-end}\n",
    "````\n",
    "\n",
    "\n",
    "````{exercise-start} \n",
    ":label: exerciseex64\n",
    ":class: dropdown\n",
    "````"
   ]
  },
  {
   "cell_type": "code",
   "execution_count": null,
   "id": "aa89f351",
   "metadata": {
    "tags": [
     "remove-output",
     "skip-execution"
    ]
   },
   "outputs": [],
   "source": [
    "Code goes here...."
   ]
  },
  {
   "cell_type": "markdown",
   "id": "5ec897d1",
   "metadata": {},
   "source": [
    "````{exercise-end}\n",
    "````\n",
    "\n",
    "````{solution-start} exerciseex64\n",
    ":label: solutionex64\n",
    ":class: dropdown\n",
    "````\n",
    "```{code-block} c++\n",
    "#include <iostream>\n",
    "\n",
    "```\n",
    "````{solution-end}\n",
    "````\n",
    "\n",
    "\n",
    "````{exercise-start} \n",
    ":label: exerciseex65\n",
    ":class: dropdown\n",
    "````"
   ]
  },
  {
   "cell_type": "code",
   "execution_count": null,
   "id": "ed2d087d",
   "metadata": {
    "tags": [
     "remove-output",
     "skip-execution"
    ]
   },
   "outputs": [],
   "source": [
    "Code goes here...."
   ]
  },
  {
   "cell_type": "markdown",
   "id": "81498837",
   "metadata": {},
   "source": [
    "````{exercise-end}\n",
    "````\n",
    "\n",
    "````{solution-start} exerciseex65\n",
    ":label: solutionex65\n",
    ":class: dropdown\n",
    "````\n",
    "```{code-block} c++\n",
    "\n",
    "```\n",
    "````{solution-end}\n",
    "````\n",
    "\n",
    "\n",
    "````{exercise-start} \n",
    ":label: exerciseex66\n",
    ":class: dropdown\n",
    "````"
   ]
  },
  {
   "cell_type": "code",
   "execution_count": null,
   "id": "339d091a",
   "metadata": {
    "tags": [
     "remove-output",
     "skip-execution"
    ]
   },
   "outputs": [],
   "source": [
    "Code goes here...."
   ]
  },
  {
   "cell_type": "markdown",
   "id": "a521bb5b",
   "metadata": {},
   "source": [
    "````{exercise-end}\n",
    "````\n",
    "\n",
    "````{solution-start} exerciseex66\n",
    ":label: solutionex66\n",
    ":class: dropdown\n",
    "````\n",
    "```{code-block} c++\n",
    "\n",
    "```\n",
    "````{solution-end}\n",
    "````\n",
    "\n",
    "\n",
    "````{exercise-start} \n",
    ":label: exerciseex67\n",
    ":class: dropdown\n",
    "````"
   ]
  },
  {
   "cell_type": "code",
   "execution_count": null,
   "id": "21a6b508",
   "metadata": {
    "tags": [
     "remove-output",
     "skip-execution"
    ]
   },
   "outputs": [],
   "source": [
    "Code goes here...."
   ]
  },
  {
   "cell_type": "markdown",
   "id": "1c2e1c05",
   "metadata": {},
   "source": [
    "````{exercise-end}\n",
    "````\n",
    "\n",
    "````{solution-start} exerciseex67\n",
    ":label: solutionex67\n",
    ":class: dropdown\n",
    "````\n",
    "```{code-block} c++\n",
    "\n",
    "```\n",
    "````{solution-end}\n",
    "````\n",
    "\n",
    "````{exercise-start} \n",
    ":label: exerciseex68\n",
    ":class: dropdown\n",
    "````"
   ]
  },
  {
   "cell_type": "code",
   "execution_count": null,
   "id": "ec04926c",
   "metadata": {
    "tags": [
     "remove-output",
     "skip-execution"
    ]
   },
   "outputs": [],
   "source": [
    "Code goes here...."
   ]
  },
  {
   "cell_type": "markdown",
   "id": "150bfe78",
   "metadata": {},
   "source": [
    "````{exercise-end}\n",
    "````\n",
    "\n",
    "````{solution-start} exerciseex68\n",
    ":label: solutionex68\n",
    ":class: dropdown\n",
    "````\n",
    "```{code-block} c++\n",
    "\n",
    "```\n",
    "````{solution-end}\n",
    "````\n",
    "\n",
    "````{exercise-start} \n",
    ":label: exerciseex69\n",
    ":class: dropdown\n",
    "````"
   ]
  },
  {
   "cell_type": "code",
   "execution_count": null,
   "id": "1f6a433f",
   "metadata": {
    "tags": [
     "remove-output",
     "skip-execution"
    ]
   },
   "outputs": [],
   "source": [
    "Code goes here...."
   ]
  },
  {
   "cell_type": "markdown",
   "id": "00d7a67e",
   "metadata": {},
   "source": [
    "````{exercise-end}\n",
    "````\n",
    "\n",
    "````{solution-start} exerciseex69\n",
    ":label: solutionex69\n",
    ":class: dropdown\n",
    "````\n",
    "```{code-block} c++\n",
    "\n",
    "```\n",
    "````{solution-end}\n",
    "````\n",
    "\n",
    "````{exercise-start} \n",
    ":label: exerciseex610\n",
    ":class: dropdown\n",
    "````"
   ]
  },
  {
   "cell_type": "code",
   "execution_count": null,
   "id": "d55de302",
   "metadata": {
    "tags": [
     "remove-output",
     "skip-execution"
    ]
   },
   "outputs": [],
   "source": [
    "Code goes here...."
   ]
  },
  {
   "cell_type": "markdown",
   "id": "a26e6a11",
   "metadata": {},
   "source": [
    "````{exercise-end}\n",
    "````\n",
    "\n",
    "````{solution-start} exerciseex610\n",
    ":label: solutionex610\n",
    ":class: dropdown\n",
    "````\n",
    "```{code-block} c++\n",
    "\n",
    "```\n",
    "````{solution-end}\n",
    "````"
   ]
  }
 ],
 "metadata": {
  "jupytext": {
   "formats": "md:myst",
   "text_representation": {
    "extension": ".md",
    "format_name": "myst"
   }
  },
  "kernelspec": {
   "display_name": "C++ 20",
   "language": "c++",
   "name": "cpp20"
  },
  "language_info": {
   "file_extension": ".cpp",
   "mimetype": "text/markdown",
   "name": "C++",
   "version": "1.0.0a9"
  },
  "source_map": [
   11,
   20,
   23,
   42,
   45,
   64,
   67,
   87,
   90,
   111,
   114,
   134,
   137,
   157,
   160,
   179,
   182,
   201,
   204,
   223,
   226
  ]
 },
 "nbformat": 4,
 "nbformat_minor": 5
}