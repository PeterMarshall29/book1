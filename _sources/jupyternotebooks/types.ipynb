{
 "cells": [
  {
   "cell_type": "markdown",
   "id": "98f00437",
   "metadata": {},
   "source": [
    "# Types in C++\n",
    "\n",
    "The **type** of a variable defines its properties, the rules it must obey, and the set of operators and functions availabe to members of the type.\n",
    "\n",
    "For example, `+` behaves differently when used an {term}`infix operator` between two integers compared to two strings.\n",
    "\n",
    "It would also not make much sence to be able to add string-type to double-type variables, so the type system helps by preventing this.\n",
    "\n",
    "\n",
    "\n",
    "\n",
    "\n",
    "\n",
    "\n",
    "\n",
    "C++ is a **strongly-typed language**. \n",
    "\n",
    "Once a variable type is set, for example when a number is cast as a **double**, the type cannot be changed, and the numeric value cannot be converted to an integer which means that when you say a variable is an integer, it stays an integer. This is unlike weakly-typed languages like Javascript/ECMAScript, where variables can change types.\n",
    "\n",
    "\n",
    "#include <iostream>, <string>\n",
    "#include <fstream> \n",
    "\n",
    "\n",
    "\n",
    "int main() {\n",
    "\tstd::cout << \"Please type your first name followed by your age..\\n\";\n",
    "\tstd::string firstName;\n",
    "\tint age;\n",
    "\tstd::cin >> firstName >> age; //input before space to first variable and input after space to second variable \n",
    "\tstd::cout << \"Hello, \" << firstName  << \", you are \" << age << \" years old!\\n\";\n",
    "\treturn 0;\n",
    "}\n",
    "\n",
    "Try changing the output line to print a single value:\n",
    "- firstName + age\n",
    "- firstname * 2\n",
    "\n",
    "\n",
    "\n",
    "\n",
    "\n",
    "\n",
    "The two reasons for this are efficiency and safety. If you allow variable’s types to change, you must keep track of what type a variable currently is, which has a cost. Keeping types fixed eliminates that cost. As for safety, consider this: in Javascript, if variable a equals 1 and variable b equals 2, and both are integers, then “a + b” gives 3... if both are text strings, “a + b” gives 12... but what do you get if one is an integer and one is a string? You could make up rules to answer the question, but that just makes things more complicated. It is safer to require programmers to explicitly say whether they want to add two integers or two strings. Type safety is a very important feature of C++, that makes your code efficient and easy to predict how it will behave.\n",
    "\n",
    "There are several fundamental types in C++ – the exact number depends on the version. Here are some of the more basic ones:\n",
    "end of copied\n",
    "\n",
    "\n",
    "## Type System\n",
    "\n",
    "The C++ type system keeps track of the size of the memory block, and how to interpret the value in it. The binary code in a memory block could represent the integer value 33 or be the ASCII code for '!' - the type tells the computer which was intended.\n",
    "\n",
    "\n",
    "## Casting to Type\n",
    "\n",
    "Although the type of a variable cannot be changed.\n",
    "\n",
    "The value of a variable can be copy assigned to another variable that has a differnt type  - not all permutations are permitted.\n",
    "\n",
    "Casting to type, means conversion from the original type to the type of the variable that the value is being assigned.\n",
    "\n",
    "This is often useful, even necessary when working with numeric types.\n",
    "\n",
    "\n",
    "When a new entity is declared it is given its type - called 'casting to type'\n",
    "\n",
    "C++ is a **strongly-typed language**. Once a type is set, it cannot be changed.\n",
    "\n",
    " variable type is set, for example when a number is cast as a **double**, the type cannot be changed, and the numeric value cannot be converted to an integer which means that when you say a variable is an integer, it stays an integer. This is unlike weakly-typed languages like Javascript/ECMAScript, where variables can change types.\n",
    "\n",
    "The two reasons for this are efficiency and safety. If you allow variable’s types to change, you must keep track of what type a variable currently is, which has a cost. Keeping types fixed eliminates that cost. As for safety, consider this: in Javascript, if variable a equals 1 and variable b equals 2, and both are integers, then “a + b” gives 3... if both are text strings, “a + b” gives 12... but what do you get if one is an integer and one is a string? You could make up rules to answer the question, but that just makes things more complicated. It is safer to require programmers to explicitly say whether they want to add two integers or two strings. Type safety is a very important feature of C++, that makes your code efficient and easy to predict how it will behave.\n",
    "\n",
    "There are several fundamental types in C++ – the exact number depends on the version. Here are some of the more basic ones:\n",
    "end of copied\n",
    "\n",
    "\n",
    "## Determining the Type of a Variable\n",
    "\n",
    "It is tremendously useful to be able to check the type of a variable."
   ]
  },
  {
   "cell_type": "code",
   "execution_count": 1,
   "id": "21525031",
   "metadata": {
    "tags": [
     "remove-output"
    ]
   },
   "outputs": [
    {
     "data": {
      "text/markdown": [
       "i\tb\td\tc\tNSt7__cxx1112basic_stringIcSt11char_traitsIcESaIcEEE\r\n",
       "\r\n"
      ]
     },
     "metadata": {},
     "output_type": "display_data"
    }
   ],
   "source": [
    "#include <iostream>\n",
    "#include <string>\n",
    "#include <typeinfo>\n",
    "\n",
    "int main() {\n",
    "    int myInt = 99;\n",
    "    char myChar = 'P';\n",
    "    double myDouble = 3.14;\n",
    "    std::string myString = \"when's lunch?\";\n",
    "    bool myBool = true;\n",
    "    std::cout << typeid(myInt).name()  << '\\t' << typeid(myBool).name() << '\\t' << typeid(myDouble).name() << '\\t' << typeid(myChar).name() << '\\t' << typeid(myString).name() << '\\n';\n",
    "    return 0;\n",
    "}"
   ]
  },
  {
   "cell_type": "markdown",
   "id": "a12254a6",
   "metadata": {},
   "source": [
    "This produces more easily understood values for the primitive types. \n",
    "\n",
    "\n",
    "````{exercise}\n",
    "Use typid on a function.\n",
    "```{hint}\n",
    "Only use the functions name - no parentheses!\n",
    "```\n",
    "```{admonition} Code Explanation\n",
    "On a function such as: \n",
    "```{code-block} cpp\n",
    "int myFunction(int x, double y) {\n",
    "    return 2;\n",
    "}\n",
    "```\n",
    "`typeid(square).name()` returns `int --cdecl(int, double)`.\n",
    "\n",
    "The function type is `int (int, double)`.\n",
    "\n",
    "`__cdecl` refers to the calling convention of a function, different compilers may handle this differently - not important now.\n",
    "```\n",
    "````"
   ]
  }
 ],
 "metadata": {
  "jupytext": {
   "formats": "md:myst",
   "text_representation": {
    "extension": ".md",
    "format_name": "myst"
   }
  },
  "kernelspec": {
   "display_name": "C++ 20",
   "language": "c++",
   "name": "cpp20"
  },
  "language_info": {
   "file_extension": ".cpp",
   "mimetype": "text/markdown",
   "name": "C++",
   "version": "1.0.0a9"
  },
  "source_map": [
   11,
   95,
   111
  ]
 },
 "nbformat": 4,
 "nbformat_minor": 5
}