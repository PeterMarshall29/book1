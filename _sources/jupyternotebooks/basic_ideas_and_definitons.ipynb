{
 "cells": [
  {
   "cell_type": "markdown",
   "id": "b2218e20",
   "metadata": {},
   "source": [
    "# Learing the Basics\n",
    "\n",
    "Once you have learned a few more basic parts of the C++ language, understanding the language becomes much easier, because you will be able to write simple programmes to try out the new concepts.\n",
    "\n",
    "This page leads you through some basic exercies, much of the explanation is left until later chapters, this page is not intended to present fully decriptions and definitions.\n",
    "\n",
    "In the Compuational Physics module, we are mainly concerned with writing code that will take user inputs, perform calculations, and then return 'answers' to the user. This requires us to learn only a subset of the C++ langugage and programming concepts.\n",
    "\n",
    "\n",
    "## Basic Arithmetic Operations\n",
    "\n",
    "All programmeming languages carry out basic arithmetic operationrs. Normally we do not use a computer as a simple calculator, but most programmes carry out some arithmetic operations as part of their execution.\n",
    "\n",
    "`cout` can be used demonstrate the basic arithmetic operations. \n",
    "\n",
    "Type in the following and try the exercise.\n",
    "\n",
    "```{code-block} cpp\n",
    ":linenos: \n",
    "#include <isotream>\n",
    "int main() {\n",
    "    std::cout << 4 + 7;\n",
    "    return 0;\n",
    "}\n",
    "```"
   ]
  },
  {
   "cell_type": "code",
   "execution_count": 1,
   "id": "fe37e01c",
   "metadata": {
    "tags": [
     "remove-output"
    ]
   },
   "outputs": [
    {
     "name": "stderr",
     "output_type": "stream",
     "text": [
      "C:\\Users\\Peter\\AppData\\Local\\Temp\\tmpaih7dblb.cpp: In function 'int main()':\n",
      "C:\\Users\\Peter\\AppData\\Local\\Temp\\tmpaih7dblb.cpp:4:1: error: 'Type' was not declared in this scope; did you mean 'wctype'?\n",
      "    4 | Type code here!\n",
      "      | ^~~~\n",
      "      | wctype\n"
     ]
    },
    {
     "name": "stderr",
     "output_type": "stream",
     "text": [
      "\n",
      "[C++ kernel] Error: Unable to compile the source code. Return error: 0x1."
     ]
    }
   ],
   "source": [
    "Type code here!"
   ]
  },
  {
   "cell_type": "markdown",
   "id": "72cacf29",
   "metadata": {},
   "source": [
    "The programme evaluates the expression `4 + 7` before sending the result to the character output stream (the screen).\n",
    "\n",
    "```{exercise}\n",
    ":class: dropdown\n",
    "Try the operators -,*,/ and %. What does the % operator do? Why might that be useful?\n",
    "\n",
    "The {term}`Modulo operator` may be new to you. See Wiki for more information: [Modulo](https://en.wikipedia.org/wiki/Modulo)\n",
    "\n",
    "The try using `-` as a prefix on a number, what effect does that have?\n",
    "```\n",
    "\n",
    "## Variables\n",
    "\n",
    "A computer programme that can only perform arithmetic on the values written into the original programme code would not be very useful.\n",
    "\n",
    "Instead programmes must be able ask for the numberic values that are to be used in the calculations. \n",
    "\n",
    "This requires the computer to store the number, and to be able to identify and manipulate it later.\n",
    "\n",
    "Computers use variables for this purpose. In simplest terms, like in maths, the variable is a name (single character or string of characters) that represent an unspecified value that can be used in some way.\n",
    "\n",
    "To get started we will look at creating two types of variable.\n",
    "\n",
    "To create a variable named 'a' that holds the integer value of 5, we can used the statement : `int a = 5;`\n",
    "\n",
    "After this statement in the programme, the variable `a` may be used anywhere that we want to use it's value of `5`\n",
    "\n",
    "Type in the following code.\n",
    "\n",
    "```{code-block} cpp\n",
    ":linenos: \n",
    "#include <isotream>\n",
    "int main() {\n",
    "    int a = 5;\n",
    "    std::cout << a;\n",
    "    return 0;\n",
    "}\n",
    "```"
   ]
  },
  {
   "cell_type": "code",
   "execution_count": 2,
   "id": "4e7f7c3d",
   "metadata": {
    "tags": [
     "remove-output"
    ]
   },
   "outputs": [
    {
     "name": "stderr",
     "output_type": "stream",
     "text": [
      "C:\\Users\\Peter\\AppData\\Local\\Temp\\tmpd141jj9v.cpp: In function 'int main()':\n",
      "C:\\Users\\Peter\\AppData\\Local\\Temp\\tmpd141jj9v.cpp:4:1: error: 'Type' was not declared in this scope; did you mean 'wctype'?\n",
      "    4 | Type code here!\n",
      "      | ^~~~\n",
      "      | wctype\n"
     ]
    },
    {
     "name": "stderr",
     "output_type": "stream",
     "text": [
      "\n",
      "[C++ kernel] Error: Unable to compile the source code. Return error: 0x1."
     ]
    }
   ],
   "source": [
    "Type code here!"
   ]
  },
  {
   "cell_type": "markdown",
   "id": "31da985b",
   "metadata": {},
   "source": [
    "When the programme gets to `a` following the `<<` operator it sends the value of `a` to the screen, not the letter 'a'.\n",
    "\n",
    "````{exercise}\n",
    ":label: exercised0\n",
    ":class: dropdown\n",
    "What would happen if you now declaring a second variable `b` and intstruct the program to print out `a + b`?\n",
    "\n",
    "Try it in the code space above.\n",
    "```{solution} exercised0\n",
    ":label: solutiond0\n",
    ":class: dropdown\n",
    "Now the program has evaluated the arithmetic sum of the values contained in `a` and `b` - and sent that single value to the character output stream.\n",
    "```\n",
    "````\n",
    "## Strings\n",
    "Another useful type of variable is the `string` type. A {term}`string` is a series of individual characters. \n",
    "\n",
    "To use string-type variables we need an additional component of the standard library, `<string>` to be included.\n",
    "\n",
    "The string literal must be enclosed in `\"\"`. \n",
    "\n",
    "`````{exercise-start}\n",
    ":label: exerciseb1\n",
    ":class: dropdown\n",
    "`````\n",
    "````{code-block} cpp\n",
    ":linenos: \n",
    "#include <isotream>\n",
    "**!! Insert code to add string library here !!**\n",
    "int main() {\n",
    "    std::string a = \"Fish\";\n",
    "    std::cout << a;\n",
    "    return 0;\n",
    "}\n",
    "````"
   ]
  },
  {
   "cell_type": "code",
   "execution_count": null,
   "id": "5de1900a",
   "metadata": {
    "tags": [
     "remove-output",
     "skip-execution"
    ]
   },
   "outputs": [],
   "source": [
    "Type code here!"
   ]
  },
  {
   "cell_type": "markdown",
   "id": "ca919034",
   "metadata": {},
   "source": [
    "`````{exercise-end}\n",
    "`````\n",
    "\n",
    "\n",
    "\n",
    "`````{exercise-start}\n",
    ":label: exerciseb2\n",
    ":class: dropdown\n",
    "`````\n",
    "Try adding a second variable, b, with a value of \"-fingers\", and then try printing out the value of `a + b` again."
   ]
  },
  {
   "cell_type": "code",
   "execution_count": 3,
   "id": "904e91e8",
   "metadata": {
    "tags": [
     "remove-output"
    ]
   },
   "outputs": [
    {
     "name": "stderr",
     "output_type": "stream",
     "text": [
      "C:\\Users\\Peter\\AppData\\Local\\Temp\\tmpocchytto.cpp: In function 'int main()':\n",
      "C:\\Users\\Peter\\AppData\\Local\\Temp\\tmpocchytto.cpp:4:1: error: 'Type' was not declared in this scope; did you mean 'wctype'?\n",
      "    4 | Type code here!\n",
      "      | ^~~~\n",
      "      | wctype\n"
     ]
    },
    {
     "name": "stderr",
     "output_type": "stream",
     "text": [
      "\n",
      "[C++ kernel] Error: Unable to compile the source code. Return error: 0x1."
     ]
    }
   ],
   "source": [
    "Type code here!"
   ]
  },
  {
   "cell_type": "markdown",
   "id": "f0d15200",
   "metadata": {},
   "source": [
    "````{admonition} Code Explanation\n",
    ":class: dropdown\n",
    "If done correctly, you will have demonstrated that `+` operator behaves differently when used with differnt data types. \n",
    "\n",
    "For a {term}`numeric data type` it performs 'addition', but for the {term}`string data type` it performs {term}`concatenation`.\n",
    "````\n",
    "`````{exercise-end}\n",
    "`````\n",
    "\n",
    "## More Data Types\n",
    "\n",
    "In addition to strings, and integers, we need variable from the {term}`floating-point number types` and {term}`char type`.\n",
    "\n",
    "Correct the following code and add a line to print out all the named variables, separated by tabs."
   ]
  },
  {
   "cell_type": "code",
   "execution_count": null,
   "id": "9db2a30e",
   "metadata": {
    "tags": [
     "remove-output",
     "skip-execution"
    ]
   },
   "outputs": [],
   "source": [
    "int main(){\n",
    "int age = 58;\n",
    "std::string firstName = \"Peter\";\n",
    "float shoeSize = 10.5;\n",
    "double c = 3.0e-8;\n",
    "char middleInitial = 'J';\n",
    "return 0;\n",
    "}"
   ]
  },
  {
   "cell_type": "markdown",
   "id": "1f5ada22",
   "metadata": {},
   "source": [
    "```{admonition} Code Explanation\n",
    ":class: note dropdown\n",
    "\n",
    "Single quotes denote a {term}`char type`. \n",
    "\n",
    "`Float` and `double` are both used for {term}`floating-point numbers` - \"double\" denoting double precision (twice as many bits equired for their reprentation in binary).\n",
    "\n",
    "Scientific notation is formated using a lower or upper case `e` between the significant and the index WITHOUT ANY SPACES!!   \n",
    "\n",
    "`int` is the keyword for the {term}`integer type`. \n",
    "\n",
    "`int` may be preceded by one or two modifiers - `signed`, `unsigned`, `short`, `long, `long long`. The modifiers may be used on their own, and `int` is implied; but `signed` and `unsigned` may also precede `char, and `long` may precede `double`.\n",
    "\n",
    "```\n",
    "\n",
    "\n",
    "\n",
    "`````{exercise-start}\n",
    ":label: exerciseb3\n",
    ":class: dropdown\n",
    "`````\n",
    "Try to fix this code:"
   ]
  },
  {
   "cell_type": "code",
   "execution_count": 4,
   "id": "ea1f5d94",
   "metadata": {
    "linenos": null,
    "tags": [
     "remove-output"
    ]
   },
   "outputs": [
    {
     "name": "stderr",
     "output_type": "stream",
     "text": [
      "C:\\Users\\Peter\\AppData\\Local\\Temp\\tmpmqo_x2ca.cpp: In function 'int main()':\n",
      "C:\\Users\\Peter\\AppData\\Local\\Temp\\tmpmqo_x2ca.cpp:5:6: error: expected unqualified-id before 'int'\n",
      "    5 | std::int age = 52;\n",
      "      |      ^~~\n"
     ]
    },
    {
     "name": "stderr",
     "output_type": "stream",
     "text": [
      "C:\\Users\\Peter\\AppData\\Local\\Temp\\tmpmqo_x2ca.cpp:6:1: error: 'string' was not declared in this scope\n",
      "    6 | string firstName = 12.0;\n",
      "      | ^~~~~~\n",
      "C:\\Users\\Peter\\AppData\\Local\\Temp\\tmpmqo_x2ca.cpp:6:1: note: suggested alternatives:\n"
     ]
    },
    {
     "name": "stderr",
     "output_type": "stream",
     "text": [
      "In file included from C:/mingw64/include/c++/15.1.0/iosfwd:43,\n",
      "                 from C:/mingw64/include/c++/15.1.0/ios:42,\n",
      "                 from C:/mingw64/include/c++/15.1.0/bits/ostream.h:43,\n",
      "                 from C:/mingw64/include/c++/15.1.0/ostream:42,\n",
      "                 from C:/mingw64/include/c++/15.1.0/iostream:43,\n",
      "                 from C:\\Users\\Peter\\miniconda3\\share\\cpp_header\\check_cpp.hpp:23,\n",
      "                 from C:\\Users\\Peter\\AppData\\Local\\Temp\\tmpmqo_x2ca.cpp:1:\n",
      "C:/mingw64/include/c++/15.1.0/bits/stringfwd.h:79:33: note:   'std::string'\n",
      "   79 |   typedef basic_string<char>    string;\n",
      "      |                                 ^~~~~~\n"
     ]
    },
    {
     "name": "stderr",
     "output_type": "stream",
     "text": [
      "In file included from C:/mingw64/include/c++/15.1.0/bits/locale_classes.h:42,\n",
      "                 from C:/mingw64/include/c++/15.1.0/bits/ios_base.h:43,\n",
      "                 from C:/mingw64/include/c++/15.1.0/ios:46:\n",
      "C:/mingw64/include/c++/15.1.0/string:80:11: note:   'std::pmr::string'\n",
      "   80 |     using string    = basic_string<char>;\n",
      "      |           ^~~~~~\n",
      "C:\\Users\\Peter\\AppData\\Local\\Temp\\tmpmqo_x2ca.cpp:7:6: error: expected unqualified-id before 'float'\n",
      "    7 | std::float = 12.5;\n",
      "      |      ^~~~~\n"
     ]
    },
    {
     "name": "stderr",
     "output_type": "stream",
     "text": [
      "\n",
      "[C++ kernel] Error: Unable to compile the source code. Return error: 0x1."
     ]
    }
   ],
   "source": [
    "#include <iostream>\n",
    "int main(){\n",
    "std::int age = 52;\n",
    "string firstName = 12.0;\n",
    "std::float = 12.5;\n",
    "return 0;\n",
    "}"
   ]
  },
  {
   "cell_type": "markdown",
   "id": "417a041a",
   "metadata": {},
   "source": [
    "````{solution} exerciseb3\n",
    ":class: note dropdown\n",
    ":label: solutionb3\n",
    "```{code-block} cpp\n",
    "#include <iostream>\n",
    "#include <string>\n",
    "int main(){\n",
    "    int age = 52;\n",
    "    std::string firstName = 12.0;\n",
    "    float = 12.5;\n",
    "return 0;\n",
    "}\n",
    "```\n",
    "`string` type variables are part of the standard library, and must be referenced by prefixing with `std::`.\n",
    "\n",
    "`int`, `float`, `double`, and `char` are all part of the {term}`core language`, and should not have `std::` attached.\n",
    "````\n",
    "`````{exercise-end}\n",
    "`````\n",
    "\n",
    "## Escape Characters\n",
    "\n",
    "{term}`Escape sequences`, or 'escape characters', are used to represent special characters within a string or character literal.\n",
    "\n",
    "Each escape character is identifed to the program by prefixing `\\` to the character.\n",
    "\n",
    "These are mostly used in formating output. A full list of escape characters in c++ can be found [here](https://en.cppreference.com/w/cpp/language/escape.html).\n",
    "\n",
    "```{list-table}\n",
    ":header-rows: 1\n",
    ":name: Escape Sequence\n",
    "* - Character\n",
    "  - Name\n",
    "  - Effect/Description\n",
    "* - `\\n`\n",
    "  - Newline. \n",
    "  - Instructs the computer to print any following outputs on the next line.\n",
    "* - `\\t`\n",
    "  - Tab (Horizontal). \n",
    "  - Instructs the computer to put a horizontal tab before any further output to the screen or file. \n",
    "* - `\\v`\n",
    "  - Vertical Tab. \n",
    "  - Instructs the computer to put a vertical tab before any further output to the screen or file. \n",
    "* - `\\\\`\n",
    "  - Backslash\n",
    "  - Indentifies intention of a literal backslash\n",
    "* - `'`, `\"`\n",
    "  - Single and double quote marks\n",
    "  - Indentifies intention of a literal quote marks\n",
    "```"
   ]
  }
 ],
 "metadata": {
  "jupytext": {
   "formats": "md:myst",
   "text_representation": {
    "extension": ".md",
    "format_name": "myst"
   }
  },
  "kernelspec": {
   "display_name": "C++ 20",
   "language": "c++",
   "name": "cpp20"
  },
  "language_info": {
   "file_extension": ".cpp",
   "mimetype": "text/markdown",
   "name": "C++",
   "version": "1.0.0a9"
  },
  "source_map": [
   11,
   39,
   42,
   82,
   85,
   122,
   125,
   137,
   140,
   156,
   166,
   190,
   200
  ]
 },
 "nbformat": 4,
 "nbformat_minor": 5
}