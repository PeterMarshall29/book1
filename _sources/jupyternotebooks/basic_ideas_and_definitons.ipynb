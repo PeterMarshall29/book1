{
 "cells": [
  {
   "cell_type": "markdown",
   "id": "78f718e1",
   "metadata": {},
   "source": [
    "# Basic Ideas and Definitions\n",
    "\n",
    "To continue learning C++ it is helpful to learn a few more basic concepts before delving into what they mean, so we can used these basic ideas to demonstrate them later\n",
    "\n",
    "All of the concepts we now introduce will be expanded on in future chapters - this page is not intended to present fully decriptions and definitions. \n",
    "\n",
    "Basic arithmetic.\n",
    "\n",
    "We can use `cout` and some basic arithmetic operators to write a simple programs for calculation.\n",
    "\n",
    "```{code-block} cpp\n",
    ":linenos: \n",
    "#include <isotream>\n",
    "int main() {\n",
    "    std::cout << 4 + 7;\n",
    "    return 0;\n",
    "}\n",
    "```"
   ]
  },
  {
   "cell_type": "code",
   "execution_count": 1,
   "id": "3c56a41e",
   "metadata": {
    "tags": [
     "remove-output"
    ]
   },
   "outputs": [
    {
     "name": "stderr",
     "output_type": "stream",
     "text": [
      "C:\\Users\\Peter\\AppData\\Local\\Temp\\tmp3klefots.cpp: In function 'int main()':\n",
      "C:\\Users\\Peter\\AppData\\Local\\Temp\\tmp3klefots.cpp:4:1: error: 'Type' was not declared in this scope; did you mean 'wctype'?\n",
      "    4 | Type code here!\n",
      "      | ^~~~\n",
      "      | wctype\n"
     ]
    },
    {
     "name": "stderr",
     "output_type": "stream",
     "text": [
      "\n",
      "[C++ kernel] Error: Unable to compile the source code. Return error: 0x1."
     ]
    }
   ],
   "source": [
    "Type code here!"
   ]
  },
  {
   "cell_type": "markdown",
   "id": "6e674009",
   "metadata": {},
   "source": [
    "The program evaluates the expressions `4 + 7` before sending the result to the output stream\n",
    "\n",
    "Try the operators -,*,/ and %. What does the % operator do? Why might that be useful?\n",
    "\n",
    "The try using `-` as a prefix on a number, what effect does that have?\n",
    "\n",
    "\n",
    "Variables\n",
    "\n",
    "A computer program that can only perform arithmetic on the values written into the original program code would not be much use.\n",
    "\n",
    "Instead programs must be able ask for the numbers to be used in the calculations. \n",
    "\n",
    "This requires the computer to store the number, and be able to identify and manipulate it later.\n",
    "\n",
    "Computers use variables for this purpose. In simplest terms, like in maths, the variable is a name (single character or string of characters) that represent an unspecified value that can be used some way.\n",
    "\n",
    "To get started we will look at creating two types of variable.\n",
    "\n",
    "To create a variable called 'a' that holds an integer value 5, we can used the statement : `int a = 5;`\n",
    "\n",
    "Then we can use `a` anywhere we want to use its value.\n",
    "\n",
    "Type in the following code.\n",
    "\n",
    "```{code-block} cpp\n",
    ":linenos: \n",
    "#include <isotream>\n",
    "int main() {\n",
    "    int a = 5;\n",
    "    std::cout << a;\n",
    "    return 0;\n",
    "}\n",
    "```"
   ]
  },
  {
   "cell_type": "code",
   "execution_count": 2,
   "id": "a78a6b63",
   "metadata": {
    "tags": [
     "remove-output"
    ]
   },
   "outputs": [
    {
     "name": "stderr",
     "output_type": "stream",
     "text": [
      "C:\\Users\\Peter\\AppData\\Local\\Temp\\tmp8ana2llh.cpp: In function 'int main()':\n",
      "C:\\Users\\Peter\\AppData\\Local\\Temp\\tmp8ana2llh.cpp:4:1: error: 'Type' was not declared in this scope; did you mean 'wctype'?\n",
      "    4 | Type code here!\n",
      "      | ^~~~\n",
      "      | wctype\n"
     ]
    },
    {
     "name": "stderr",
     "output_type": "stream",
     "text": [
      "\n",
      "[C++ kernel] Error: Unable to compile the source code. Return error: 0x1."
     ]
    }
   ],
   "source": [
    "Type code here!"
   ]
  },
  {
   "cell_type": "markdown",
   "id": "982c4c91",
   "metadata": {},
   "source": [
    "When the program gets to `a` following the `<<` operator it sends the value of a to the screen, not the letter a.\n",
    "\n",
    "Try declaring a second variable `b` and printing out the value of `a + b`.\n",
    "\n",
    "\n",
    "Another useful type of variable is the `string` type. A string is a series of characters. \n",
    "\n",
    "To use string-type variables we need an additional component of the standard library, `<string>` to be included.\n",
    "\n",
    "The string literal must be enclosed in `\"\"`. \n",
    "\n",
    "Try \n",
    "\n",
    "```{code-block} cpp\n",
    ":linenos: \n",
    "#include <isotream>\n",
    "#include <string>\n",
    "int main() {\n",
    "    std::string a = \"Fish\";\n",
    "    std::cout << a;\n",
    "    return 0;\n",
    "}\n",
    "```"
   ]
  },
  {
   "cell_type": "code",
   "execution_count": 3,
   "id": "dfb57744",
   "metadata": {
    "tags": [
     "remove-output"
    ]
   },
   "outputs": [
    {
     "name": "stderr",
     "output_type": "stream",
     "text": [
      "C:\\Users\\Peter\\AppData\\Local\\Temp\\tmpmrt6mses.cpp: In function 'int main()':\n",
      "C:\\Users\\Peter\\AppData\\Local\\Temp\\tmpmrt6mses.cpp:4:1: error: 'Type' was not declared in this scope; did you mean 'wctype'?\n",
      "    4 | Type code here!\n",
      "      | ^~~~\n",
      "      | wctype\n"
     ]
    },
    {
     "name": "stderr",
     "output_type": "stream",
     "text": [
      "\n",
      "[C++ kernel] Error: Unable to compile the source code. Return error: 0x1."
     ]
    }
   ],
   "source": [
    "Type code here!"
   ]
  },
  {
   "cell_type": "markdown",
   "id": "754795af",
   "metadata": {},
   "source": [
    "`````{exercise-start}\n",
    ":label: exercised2\n",
    ":class: dropdown\n",
    "`````\n",
    "Try adding a second variable b, with a value of \"-fingers\" and printing out the value of `a + b` again.\n",
    "\n",
    "Demonstrating that the `+` operator behaves differently when used with differnt data types. For numeric types it performs 'addition', but for string types it performs 'concatenation'.\n",
    "````{solution} exercised2\n",
    ":class: dropdown\n",
    ":label: note solutiond2\n",
    "```{code} c++\n",
    "\n",
    "Type code here!\n",
    "```\n",
    "````\n",
    "`````{exercise-end}\n",
    "`````\n",
    "\n",
    "`````{exercise-start}\n",
    ":label: exercised1\n",
    ":class: dropdown\n",
    "`````\n",
    "Try to fix this code:"
   ]
  },
  {
   "cell_type": "code",
   "execution_count": 4,
   "id": "a4a7ce83",
   "metadata": {
    "linenos": null,
    "tags": [
     "remove-output"
    ]
   },
   "outputs": [
    {
     "name": "stderr",
     "output_type": "stream",
     "text": [
      "C:\\Users\\Peter\\AppData\\Local\\Temp\\tmp2iz7bstv.cpp: In function 'int main()':\n",
      "C:\\Users\\Peter\\AppData\\Local\\Temp\\tmp2iz7bstv.cpp:5:6: error: expected unqualified-id before 'int'\n",
      "    5 | std::int age = 52;\n",
      "      |      ^~~\n"
     ]
    },
    {
     "name": "stderr",
     "output_type": "stream",
     "text": [
      "C:\\Users\\Peter\\AppData\\Local\\Temp\\tmp2iz7bstv.cpp:6:1: error: 'string' was not declared in this scope\n",
      "    6 | string firstName = 12.0;\n",
      "      | ^~~~~~\n",
      "C:\\Users\\Peter\\AppData\\Local\\Temp\\tmp2iz7bstv.cpp:6:1: note: suggested alternatives:\n"
     ]
    },
    {
     "name": "stderr",
     "output_type": "stream",
     "text": [
      "In file included from C:/mingw64/include/c++/15.1.0/iosfwd:43,\n",
      "                 from C:/mingw64/include/c++/15.1.0/ios:42,\n",
      "                 from C:/mingw64/include/c++/15.1.0/bits/ostream.h:43,\n",
      "                 from C:/mingw64/include/c++/15.1.0/ostream:42,\n",
      "                 from C:/mingw64/include/c++/15.1.0/iostream:43,\n",
      "                 from C:\\Users\\Peter\\miniconda3\\share\\cpp_header\\check_cpp.hpp:23,\n",
      "                 from C:\\Users\\Peter\\AppData\\Local\\Temp\\tmp2iz7bstv.cpp:1:\n",
      "C:/mingw64/include/c++/15.1.0/bits/stringfwd.h:79:33: note:   'std::string'\n",
      "   79 |   typedef basic_string<char>    string;\n",
      "      |                                 ^~~~~~\n"
     ]
    },
    {
     "name": "stderr",
     "output_type": "stream",
     "text": [
      "In file included from C:/mingw64/include/c++/15.1.0/bits/locale_classes.h:42,\n",
      "                 from C:/mingw64/include/c++/15.1.0/bits/ios_base.h:43,\n",
      "                 from C:/mingw64/include/c++/15.1.0/ios:46:\n",
      "C:/mingw64/include/c++/15.1.0/string:80:11: note:   'std::pmr::string'\n",
      "   80 |     using string    = basic_string<char>;\n",
      "      |           ^~~~~~\n",
      "C:\\Users\\Peter\\AppData\\Local\\Temp\\tmp2iz7bstv.cpp:7:6: error: expected unqualified-id before 'float'\n",
      "    7 | std::float = 12.5;\n",
      "      |      ^~~~~\n"
     ]
    },
    {
     "name": "stderr",
     "output_type": "stream",
     "text": [
      "\n",
      "[C++ kernel] Error: Unable to compile the source code. Return error: 0x1."
     ]
    }
   ],
   "source": [
    "#include <iostream>\n",
    "int main(){\n",
    "std::int age = 52;\n",
    "string firstName = 12.0;\n",
    "std::float = 12.5;\n",
    "return 0;\n",
    "}"
   ]
  },
  {
   "cell_type": "markdown",
   "id": "ab191398",
   "metadata": {},
   "source": [
    "````{solution} exercised1\n",
    ":class: note dropdown\n",
    ":label: solutiond1\n",
    "Strings are part of the standard library, and must be referenced by prefixing `std::` .\n",
    "`int`, `float`, `double`, and `char` are all part of the {term}`core language`, and should not have `std::` attached.\n",
    "```{code} c++\n",
    "\n",
    "Type code here!\n",
    "```\n",
    "````\n",
    "`````{exercise-end}\n",
    "`````"
   ]
  }
 ],
 "metadata": {
  "jupytext": {
   "formats": "md:myst",
   "text_representation": {
    "extension": ".md",
    "format_name": "myst"
   }
  },
  "kernelspec": {
   "display_name": "C++ 20",
   "language": "c++",
   "name": "cpp20"
  },
  "language_info": {
   "file_extension": ".cpp",
   "mimetype": "text/markdown",
   "name": "C++",
   "version": "1.0.0a9"
  },
  "source_map": [
   11,
   32,
   35,
   71,
   74,
   100,
   103,
   128,
   138
  ]
 },
 "nbformat": 4,
 "nbformat_minor": 5
}