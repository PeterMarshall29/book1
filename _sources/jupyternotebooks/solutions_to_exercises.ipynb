{
 "cells": [
  {
   "cell_type": "markdown",
   "id": "107d4ca5",
   "metadata": {},
   "source": [
    "# Solutions to Exercises\n",
    "\n",
    "````{solution} exercisex1\n",
    ":class: hint dropdown\n",
    ":label: solutionx2\n",
    "```{code} cpp\n",
    "#include <iostream>\n",
    "int main()\n",
    "{\n",
    "\tstd :: cout << \"Hello, World!\\n\";\n",
    "\treturn 0;\n",
    "}\n",
    "```\n",
    "````\n",
    "\n",
    "`````{solution-start} exerciseex21\n",
    ":label: solutionex21\n",
    ":class: dropdown\n",
    "`````\n",
    "#include <iostream> \n",
    "#include <cmath> \n",
    "int main() {\n",
    "    constexpr double SPEED_OF_LIGHT = 2.9979e8;\n",
    "    double mass;\n",
    "    std::cout << \"Please input a mass (in kilograms): \\n\";\n",
    "    std::cin >> mass;\n",
    "    double energy = mass * pow(SPEED_OF_LIGHT, 2);\n",
    "    std::cout << mass << \" Kilograms of matter are eqivalent to \" << energy << \" joules of energy. \\n\";\n",
    "    return 0;\n",
    "}\n",
    "`````{solution-end}\n",
    "`````"
   ]
  }
 ],
 "metadata": {
  "jupytext": {
   "formats": "md:myst",
   "text_representation": {
    "extension": ".md",
    "format_name": "myst"
   }
  },
  "kernelspec": {
   "display_name": "C++ 20",
   "language": "c++",
   "name": "cpp20"
  },
  "language_info": {
   "file_extension": ".cpp",
   "mimetype": "text/markdown",
   "name": "C++",
   "version": "1.0.0a9"
  },
  "source_map": [
   11
  ]
 },
 "nbformat": 4,
 "nbformat_minor": 5
}