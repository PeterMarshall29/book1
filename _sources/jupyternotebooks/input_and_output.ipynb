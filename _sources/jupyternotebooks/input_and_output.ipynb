{
 "cells": [
  {
   "cell_type": "markdown",
   "id": "2b81b846",
   "metadata": {},
   "source": [
    "# Input and Output\n",
    "\n",
    "The `<iostream>` component of the {term}`standard library` provides the tools used to interact with programmes, using the keyboard and computer display for input and output.\n",
    "\n",
    "These basic functions are vital to learning programming because they enable the programmer to follow the progress of a program's execution - without some output to the display you will have little insight into what the program is doing.\n",
    "```{danger}\n",
    ":class: margin\n",
    "{attribution=\"Programmer Humour...?\"}\n",
    "> Knock, knock.\n",
    " Race condition!\n",
    " Who's there?\n",
    "```\n",
    "```{tip}\n",
    ":class: margin\n",
    "Don't forget to include `<iostream>` and `<string>` and to construct the `main()` function correctly.\n",
    "```\n",
    "`````{code_example-start} Basic IOStream Statements\n",
    ":label: examplec1\n",
    ":class: dropdown\n",
    ":nonumber:\n",
    "`````\n",
    "Type the following code into the empty code window below, add the missing program statements, and run the completed code.\n",
    "````{code-block} c++\n",
    ":linenos: \n",
    "std::cout<<\"Please type your surname!\\n\";\n",
    "std::string surname;\n",
    "std::cin >> surname;\n",
    "std::cout << \"Hello, \" << surname << \"!\\n\";\n",
    "return 0;\n",
    "````"
   ]
  },
  {
   "cell_type": "code",
   "execution_count": 1,
   "id": "7d2c8900",
   "metadata": {
    "tags": [
     "remove-output"
    ]
   },
   "outputs": [
    {
     "name": "stderr",
     "output_type": "stream",
     "text": [
      "C:\\Users\\peter\\AppData\\Local\\Temp\\tmp7je_v8te.cpp: In function 'int main()':\n",
      "C:\\Users\\peter\\AppData\\Local\\Temp\\tmp7je_v8te.cpp:4:1: error: 'Type' was not declared in this scope; did you mean 'wctype'?\n",
      "    4 | Type code here!\n",
      "      | ^~~~\n",
      "      | wctype\n"
     ]
    },
    {
     "name": "stderr",
     "output_type": "stream",
     "text": [
      "\n",
      "[C++ kernel] Error: Unable to compile the source code. Return error: 0x1."
     ]
    }
   ],
   "source": [
    "Type code here!"
   ]
  },
  {
   "cell_type": "markdown",
   "id": "96a92672",
   "metadata": {},
   "source": [
    "````{code_explanation} examplec1\n",
    ":class: dropdown\n",
    "`cin` is the character input stream, pronounced 'see - in'; used to read input from the keyboard.\n",
    "\n",
    "The input stream records all the characters entered until the user hits the {kbd}`return` key in a part of the computer memory called the buffer.\n",
    "\n",
    "`>>` is called the \"extraction\" operator - used with `std::cin`, it tells the computer what to do with the input - usually to store the value in a variable. \n",
    "```{code-block} c++\n",
    ":linenos:\n",
    "#include <iostream>\n",
    "#include <string>\n",
    "int main() {\n",
    "  std::string surname;    //Declares a variable of type string.\n",
    "  std::cout<<\"Please type your surname!\\n\"; //This is a 'prompt'; a message to the user with instructions.\n",
    "  std::cin >> surname;    //Character input stream, takes input from console until 'return' (aka 'newline') is pressed. \n",
    "  std::cout << \"Hello, \" << surname << \"!\\n\";\n",
    "  return 0;\n",
    "}\n",
    "```\n",
    "`\"Hello, \"` is a string-literal. `Surname` is a variable of type `string`.\n",
    "````\n",
    "`````{code_example-end}\n",
    "`````\n",
    "\n",
    "````{code_example-start} Practice with Standard Input\n",
    ":class: dropdown\n",
    ":label: exercisec1\n",
    ":nonumber:\n",
    "````\n",
    "Try the following code. Use the above code box.\n",
    "```{code-block} c++\n",
    ":linenos:\n",
    "std::string fullName;\n",
    "std::cout << \"Please type in your full name!\\n\"; \n",
    "std::cin >> fullName;\n",
    "std::cout << \"Hello, \" << fullName << \"!\\n\";\n",
    "```\n",
    "```{admonition} Code Explanation\n",
    ":class: dropdown\n",
    "Assuming you did put a space between your first name and your family name, then only your first name will have been printed.\n",
    "\n",
    "`std::cin` records all the characters you entered before hitting {kbd}`return` and stores then in a {term}`buffer`.\n",
    "\n",
    "Extraction stops at the first whitespace following any character (initial whitespace is ignored) i.e. if a sentence were entered, only the first word would be extracted.\n",
    "\n",
    "Any whitespace character terminates the extraction including 'space', 'tab', or 'newline' (i.e. `\\t`, `\\n`).\n",
    "\n",
    "```\n",
    "Unsurprisingly we do sometimes need to be able to type in several words at the same time, separated by a {kbd}`space`. There are several methods open to us - depending on whether we want each word recorded as a separate string, or just a long string with many spaces.\n",
    "\n",
    "Try the following code...\n",
    "```{code-block} c++\n",
    ":linenos:\n",
    "std::string firstName;\n",
    "std::string surname;\n",
    "std::cout << \"Please type your first name followed by your surname!\\n\"; \n",
    "std::cin >> firstName >> surname;\n",
    "std::cout << \"Hello, \" << firstName << \" \" << surname << \"!\\n\";\n",
    "```\n",
    "```{admonition} Code Explanation\n",
    ":class: dropdown\n",
    "The extraction operator sends any characters in the input stream buffer before a trailing-whitespace to the first variable - removing those characters from the buffer.\n",
    "\n",
    "Each subsequent instance of the extraction operator `>>` sends the next (remaining) sequence of characters to the next variable.\n",
    "\n",
    "The program expects two inputs, so if the {kbd}`return` key is used after only a single string is entered the program will wait for a second input (Visual Studio) or open a new input box (Live Code).\n",
    "\n",
    "There are several methods available to clean up some issues caused by potential variations in what is typed by a user, which need to be used if your program is going to be used commercially.\n",
    "```\n",
    "````{code_example-end}\n",
    "````\n",
    "\n",
    "`````{code_example-start} Practice with IOStream\n",
    ":class: dropdown\n",
    ":label: examplec22\n",
    ":nonumber:\n",
    "`````\n",
    "Enter the following into the Live Code editor - which should work.\n",
    "````{code-block} c++\n",
    ":linenos:\n",
    "    int age = 58;\n",
    "    std::string honorific = \"Dr\";\n",
    "    std::string surname;\n",
    "    std::cout << \"Please type your surname!\\n\";\n",
    "    std::cin >> surname;  \n",
    "    std::cout << \"Hello, \" << honorific << \" \" << surname << \", you are \" << age << \" years old!\\n\";\n",
    "````"
   ]
  },
  {
   "cell_type": "code",
   "execution_count": 2,
   "id": "d0808363",
   "metadata": {
    "tags": [
     "remove-output"
    ]
   },
   "outputs": [
    {
     "name": "stderr",
     "output_type": "stream",
     "text": [
      "C:\\Users\\peter\\AppData\\Local\\Temp\\tmpwaashd83.cpp: In function 'int main()':\n",
      "C:\\Users\\peter\\AppData\\Local\\Temp\\tmpwaashd83.cpp:4:1: error: 'Type' was not declared in this scope; did you mean 'wctype'?\n",
      "    4 | Type code here!\n",
      "      | ^~~~\n",
      "      | wctype\n"
     ]
    },
    {
     "name": "stderr",
     "output_type": "stream",
     "text": [
      "\n",
      "[C++ kernel] Error: Unable to compile the source code. Return error: 0x1."
     ]
    }
   ],
   "source": [
    "Type code here!"
   ]
  },
  {
   "cell_type": "markdown",
   "id": "bb7c977d",
   "metadata": {},
   "source": [
    "```{exercise}\n",
    ":class: dropdown\n",
    ":nonumber:\n",
    "- Change the code to ask the user to input their honorific, followed by their first name, followed by their surname, followed by their age.\n",
    "- Find out what happens if you respond with 4 words, rather than 3 words and a number.\n",
    "- Change the existing output line to print `surname * 2` and then try `surname + age`.\n",
    "```\n",
    "````{code_explanation} examplec22\n",
    ":class: dropdown\n",
    "The program, with the altered and added code lines, should be similar to this…\n",
    "```{code-block} c++\n",
    "std::string firstName;\n",
    "std::cout << \"Please type your honorific, followed by your first name, followed by your surname, followed by your age\\n\";\n",
    "std::cin >> honorific >> firstName >> surname >> age;\n",
    "std::cout << \"Hello, \" << honorific << \" \" << firstName << \" \" << surname << \", you are \" << age << \" years old!\\n\";\n",
    "```\n",
    "Attempting to add or multiply a string and integer is not permitted by the {term}`type system`.\n",
    "\n",
    "If a fourth string is input, when the program expects an integer, a null value is recorded, which unfortunately overwrote the existing value, if there was one, and is why the program printed '0'. \n",
    "\n",
    "A professional program would need to be able to catch this type of input error. Older C++ version might give a random value such as ‘-96738’. \n",
    "````\n",
    "`````{code_example-end}\n",
    "`````\n",
    "`````{syntax-start} std::cin Summary\n",
    ":label: syntaxc1\n",
    ":class: dropdown\n",
    ":nonumber: \n",
    "`````\n",
    "`std::cin` is the character input stream, pronounced 'see - in'; used to read input from the keyboard. The input stream collects all the entered characters in sequence into an input buffer (temporary storage) until the user hits the {kbd}`return` key. The data (characters) stored in the buffer are held until extracted.  \n",
    "\n",
    "`>>` is the {term}`extraction operator`, also called the iostream input operator. `>>` extracts the sequence of input characters from the input buffer before the next trailing whitespace character and transfers them to the indicated variable. Leading whitespace characters, including '\\n' and '\\t' are discarded from the input buffer.\n",
    "\n",
    "{term}`Extraction` succeeds if at least one character is extracted from the input buffer. Any unextracted input is left in the input buffer for a possible future extraction. \n",
    "\n",
    "Unwanted characters may be present in the input buffer and old data already in the input buffer may also be extracted. \n",
    "\n",
    "````{code_example-start} Extraction Failure\n",
    ":label: examplec2\n",
    ":class: dropdown\n",
    ":nonumber:\n",
    "````\n",
    "Run this code which will work."
   ]
  },
  {
   "cell_type": "code",
   "execution_count": null,
   "id": "664e50e7",
   "metadata": {
    "class": "dropdown",
    "tags": [
     "remove-ouput",
     "skip-execution"
    ]
   },
   "outputs": [],
   "source": [
    "int main()\n",
    "{\n",
    "    std::string word = \"Peter\";\n",
    "    int number = 1;\n",
    "    char myChar = 'a';\n",
    "    std::cout << \"Please enter a word followed by a number ..\\n\";\n",
    "    std::cin >> word;\n",
    "    std::cin >> number;\n",
    "    std::cout << word << std::endl;\n",
    "    std::cout << number << std::endl;\n",
    "    return 0;\n",
    "}"
   ]
  },
  {
   "cell_type": "markdown",
   "id": "d9ec782f",
   "metadata": {},
   "source": [
    "- Find out what happens if you enter number followed by a word.\n",
    "```{code_explanation} examplec2\n",
    ":class: dropdown\n",
    "Extraction fails if the input data does not match the type of the variable being extracted.\n",
    "\n",
    "If you entered an integer literal - `word` takes the number as a string - no problem. \n",
    "\n",
    "`number` is reset to zero - overwriting any previous value because the extraction failed - only numeric characters can be extracted to an `int`.\n",
    "\n",
    "- Reverse the order of `std::cin >> word;` and `std::cin >> number;` - then enter a word followed by a number.\n",
    "\n",
    "Now entering a string literal causes the extraction to fail and `number` is reset to the value 0. \n",
    "\n",
    "But `word` is unchanged with its original value, because when a previous extraction has failed, further extractions do not happen.\n",
    "```\n",
    "````{code_example-end}\n",
    "````\n",
    "\n",
    "Extraction fails if the input data does not match the type of the variable to which it is being extracted.\n",
    "\n",
    "If a previous extraction has failed, `std::cin` will not be able to function until it is cleared using `std::cin.clear()` - this removes an error flag that prevents `std::cin` continuing. \n",
    "\n",
    "* If there is no input because the extraction has previously failed and `std::cin` cannot function the indicated variables are left unmodified.\n",
    "\n",
    "* However, a failed extraction due to invalid input will leave the variable indicated reset to null.\n",
    "````{code_example} std::cin.fail()\n",
    ":class: dropdown\n",
    ":nonumber:\n",
    "``std::cin.fail()` checks for previous failed extractions - the following code before ` std::cin >> word;` \n",
    "\n",
    "```{code-block} c++\n",
    "if ( std::cin.fail() ) std::cin.clear();   \n",
    "```\n",
    "````\n",
    "Sometimes, unwanted characters remain in the input buffer, causing issues with subsequent input operations.\n",
    "\n",
    "Use `std::cin.ignore()` to clear the buffer.\n",
    "`````{syntax-end}\n",
    "`````\n",
    "\n",
    "## Newline - `std::endl` vs `'\\n'`\n",
    "`std::endl` inserts a newline character into the output sequence and is therefore almost the same as `'\\n'`.\n",
    "\n",
    "It is better to use `'\\n'` to output a newline. Using `std::endl` is often inefficient because `endl` additionally flushes the output stream - it forces the output to appear in real time (advanced concept).\n",
    "\n",
    "It is seldom necessary for a program to include additional commands for flushing the input buffer, which may not be needed or useful and slow down the execution of the program - buffer flushing is a slow process, that can end up being repeated many times.\n",
    "## Formatting Numeric Output\n",
    "\n",
    "The default output for a floating-point number is 6 digits. The number is rounded to give the best approximation that can be printed with 6 digits, but this may not be sufficient to enable you to spot rounding or truncation errors. The value stored by the computer will have more digits, so comparisons may fail. \n",
    "\n",
    "`````{code_example-start} Formatting Numeric Output\n",
    ":label: Examplec4\n",
    ":class: dropdown\n",
    ":nonumber:\n",
    "`````\n",
    "The format that is printed to the screen can be formatted as follows."
   ]
  },
  {
   "cell_type": "code",
   "execution_count": 3,
   "id": "9c5226bf",
   "metadata": {
    "linenos": null,
    "tags": [
     "remove-output"
    ]
   },
   "outputs": [
    {
     "data": {
      "text/markdown": [
       "1234.57\r\n",
       "\r\n",
       "1.234579e+14\r\n",
       "\r\n",
       "1234.567899\r\n",
       "\r\n",
       "1234.57\r\n",
       "\r\n",
       "1.234599e+25\r\n",
       "\r\n"
      ]
     },
     "metadata": {},
     "output_type": "display_data"
    }
   ],
   "source": [
    "#include <iostream>\n",
    "int main(){\n",
    "  std::cout << 1234.56789 << '\\n';\n",
    "  std::cout << std::scientific << 1234.5789e11 << '\\n';\n",
    "  std::cout << std::fixed << 1234.567898765 << '\\n';\n",
    "  std::cout <<  std::defaultfloat << 1234.567898765 << '\\n';\n",
    "  std::cout << std::scientific << 12345.9876543e21 << '\\n';\n",
    "  return 0;\n",
    "}"
   ]
  },
  {
   "cell_type": "markdown",
   "id": "168f39aa",
   "metadata": {},
   "source": [
    "`std::scientific` formats a number is scientific notation to have 6 digits after the decimal point.\n",
    "\n",
    "`std::fixed` sets the number of digits after the decimal point to 6.\n",
    "`std::defaultfloat` is what would happen if nothing was set - only needed when you want the program to return to the default setting.\n",
    "\n",
    "***\n",
    "\n",
    "The precision used for these options may also be set.\n",
    "\n",
    "After including the `<iomanip>` component of the Standard Library,  `<< std::setprecision()` controls the precision of what follows - maximum value is 19."
   ]
  },
  {
   "cell_type": "code",
   "execution_count": 4,
   "id": "aeb5b4eb",
   "metadata": {
    "linenos": null,
    "tags": [
     "remove-output"
    ]
   },
   "outputs": [
    {
     "data": {
      "text/markdown": [
       "0.707106781186547462"
      ]
     },
     "metadata": {},
     "output_type": "display_data"
    },
    {
     "data": {
      "text/markdown": [
       "  0.707106781186547462  0.707106781186547573\r\n",
       "\r\n"
      ]
     },
     "metadata": {},
     "output_type": "display_data"
    }
   ],
   "source": [
    "#include <iostream>\n",
    "#include <iomanip>\n",
    "int main(){\n",
    "std::cout << std::setprecision(18) << sin(acos(-1) / 4) << \"  \" << sin(std::numbers::pi/4)<< \"  \" << sqrt(2) / 2 << '\\n';\n",
    "return 0;\n",
    "}"
   ]
  },
  {
   "cell_type": "markdown",
   "id": "aff62402",
   "metadata": {},
   "source": [
    "Notice that the three values are not the same - comparing different pairs would be problematic.\n",
    "\n",
    "- Add the output from the first code cell to this one - note the final digits - something to keep in mind.\n",
    "- Does `std::default` override `std::setprecions()`?\n",
    "`````{code_example-end}\n",
    "`````\n",
    "\n",
    "## The `getline()` function\n",
    "\n",
    "An alternative to `std::cin` is to use `getline()`, which will collect every character before {kbd}`return` into a single string i.e. including any whitespace.\n",
    "\n",
    "The downside is that you may need to split up the string later. See [sstream](https://en.cppreference.com/w/cpp/io/basic_stringstream.html) for further information on how to separate a string.\n",
    "`````{code_example-start} getline() Function\n",
    ":label: Examplec3\n",
    ":class: dropdown\n",
    ":nonumber:\n",
    "`````"
   ]
  },
  {
   "cell_type": "code",
   "execution_count": null,
   "id": "d83a1d20",
   "metadata": {
    "linenos": null,
    "tags": [
     "remove-output",
     "raises-exception",
     "skip-execution"
    ]
   },
   "outputs": [],
   "source": [
    "#include <iostream>\n",
    "#include <string>\n",
    "int main() {\n",
    "    std::string sentence;\n",
    "    std::cout << \"Please type in a sentence... \\n\";\n",
    "    std::getline(std::cin, sentence);\n",
    "    std::cout << sentence << std::endl;\n",
    "    return 0;\n",
    "}"
   ]
  },
  {
   "cell_type": "markdown",
   "id": "dc51478d",
   "metadata": {},
   "source": [
    "The `getline()` function takes two arguments - The name of the input stream and the name of the string to write to, i.e. `getline(stream, variable);`. \n",
    "`````{code_example-end}\n",
    "`````\n",
    "\n",
    "## Using std::cout with std::vector\n",
    "\n",
    "If indexing into a vector is inconvenient, another option is to overload the insertion operator `<<` using a template to accommodate the variety of types accepted by `vector`.\n",
    "\n",
    "This is most likely beyond the scope of this module, but to demonstrate the possibility....\n",
    "\n",
    "`````{code_example-start} Using std::cout with std::vector\n",
    ":label: examplec6\n",
    ":class: dropdown\n",
    ":nonumber:\n",
    "`````\n",
    "Templates can be used to create new features in the language - we will not look at templates until semester 2, but there are a couple of useful examples that can simply be used without understanding the details of their implementation."
   ]
  },
  {
   "cell_type": "code",
   "execution_count": null,
   "id": "10088845",
   "metadata": {
    "tags": [
     "remove-output",
     "skip-execution"
    ]
   },
   "outputs": [],
   "source": [
    "#include <iostream>\n",
    "#include <vector>\n",
    "template<typename T>\n",
    "std::ostream& operator<<(std::ostream& ostreamValue, const std::vector<T>& myVector) {\n",
    "    for (const auto& elements : myVector)\n",
    "        ostreamValue << elements << ' ';\n",
    "    return ostreamValue;\n",
    "}\n",
    "int main() {\n",
    "    std::vector<int> myVector = {1,2,3,4,5,6};\n",
    "    std::cout << myVector << '\\n';\n",
    "    return 0;\n",
    "}"
   ]
  },
  {
   "cell_type": "markdown",
   "id": "345b7749",
   "metadata": {},
   "source": [
    "Putting the template into a source file or header file makes it easier to print the values of a vector.\n",
    "`````{code_example-end}\n",
    "`````\n",
    "\n",
    "## Print debugging\n",
    "\n",
    "A good reason that `std::cout` is taught before other IO methods is its simplicity - no, really! `std::cout` automatically formats the printed text based on the variable's type, and allows a quick and simple output immediately, when we just want to get started or for {term}`print debugging`, by obviating any additional issues formatting different stings. \n",
    "\n",
    "\n",
    "## printf()\n",
    "\n",
    "`printf()` is used to print formatted output - this section can safely be left until later. `printf()` requires `<cstdio>`.\n",
    "\n",
    "`````{code_example-start} printf()\n",
    ":label: examplec5a\n",
    ":class: dropdown\n",
    ":nonumber:\n",
    "`````\n",
    "Try these examples..."
   ]
  },
  {
   "cell_type": "code",
   "execution_count": null,
   "id": "71d24f84",
   "metadata": {
    "tags": [
     "remove-output",
     "skip-execution"
    ]
   },
   "outputs": [],
   "source": [
    "#include <cstdio>\n",
    "int main() {\n",
    "char ch = 'A';\n",
    "int num = 100;\n",
    "float pi = 3.14159;\n",
    "printf(\"Character: %c\\n\", ch);\n",
    "printf(\"Decimal: %d\\n\", num);\n",
    "printf(\"Hexadecimal: %x\\n\", num);\n",
    "printf(\"Floating point: %.2f\\n\", pi);\n",
    "printf (\"Preceding with zeros: %010d \\n\", 1977);\n",
    "printf (\"floats: %4.2f %+.0e %E \\n\", 3.1416, 3.1416, 3.1416);\n",
    "printf (\"%s \\n\", \"A string\");\n",
    "return 0;\n",
    "}"
   ]
  },
  {
   "cell_type": "markdown",
   "id": "49cf25d5",
   "metadata": {},
   "source": [
    "Every instance of a format specifier in the string is replaced with one of the variables or literals listed after the string in the order they appear.\n",
    "\n",
    "````{syntax-start} Format Specifiers\n",
    ":class: dropdown\n",
    ":nonumber:\n",
    "````\n",
    "The format specifier is a sequence starting with `%` and ending with the 'specifier' character shown in the table below.\n",
    "\n",
    "The full sequence is :\n",
    "\n",
    "```{code-block} c++\n",
    "%[flags][width][.precision][length]specifier_character\n",
    "```\n",
    "```{list-table}\n",
    ":header-rows: 1\n",
    ":name: <cmath>\n",
    "* - Specifier\n",
    "  - Description\n",
    "* - \\%d \n",
    "  - Integer (decimal)\n",
    "* - \\%f \n",
    "  - Floating-point number\n",
    "* - \\%s \n",
    "  - String\n",
    "* - \\%c \n",
    "  - Character\n",
    "* - \\%x, \\%X \n",
    "  - Hexadecimal lower/upper\n",
    "* - \\%e \n",
    "  - Scientific Notation\n",
    "* - \\%g \n",
    "  - Shortest representation %e/%f\n",
    "```\n",
    "````{syntax-end}\n",
    "````\n",
    "\n",
    "`````{code_example-end}\n",
    "`````\n",
    "## New Print() - only in  C++23\n",
    "\n",
    "There are several alternatives to `std::cout` in C++. In C++23 a new `print()` was introduced.\n",
    "\n",
    "Note: we are using C++20.\n",
    "\n",
    "`````{code_example-start} print()\n",
    ":label: examplec5\n",
    ":class: dropdown\n",
    ":nonumber:\n",
    "`````\n",
    "Try this code in Visual Studio - the Live Code editor does not have C++23.\n",
    "````{code-block} c++\n",
    "#include <print>\n",
    "int main() {\n",
    "    std::print(\"{2} {1}{0}!\\n\", 23, \"C++\", \"Hello\");  \n",
    "    return 0;\n",
    "}\n",
    "````\n",
    "````{code_explanation} examplec5\n",
    ":label: explanationc5\n",
    ":class: dropdown\n",
    "\n",
    "The first argument is the string to be printed.\n",
    "\n",
    "The numbers in the curly braces `{}` refer to the position of the subeseqent arguments in order, starting with the first argument after the string, which has index '0'.\n",
    "\n",
    "The printed string will have those arguments inserted in the indicated corresponding position; e.g. {1} is replaced by the second argument following the string.\n",
    "\n",
    "Arguments can be used repeatedly and in any order.\n",
    "\n",
    "````\n",
    "Prints, `Hello C++23!`\n",
    "`````{code_example-end}\n",
    "`````"
   ]
  }
 ],
 "metadata": {
  "jupytext": {
   "formats": "md:myst",
   "text_representation": {
    "extension": ".md",
    "format_name": "myst"
   }
  },
  "kernelspec": {
   "display_name": "C++ 20",
   "language": "c++",
   "name": "cpp23"
  },
  "language_info": {
   "file_extension": ".cpp",
   "mimetype": "text/markdown",
   "name": "C++",
   "version": "1.0.0a9"
  },
  "source_map": [
   11,
   43,
   46,
   134,
   137,
   182,
   197,
   254,
   266,
   278,
   287,
   305,
   317,
   334,
   349,
   369,
   385
  ]
 },
 "nbformat": 4,
 "nbformat_minor": 5
}