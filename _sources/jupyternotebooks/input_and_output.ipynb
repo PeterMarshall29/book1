{
 "cells": [
  {
   "cell_type": "markdown",
   "id": "ad500cc8",
   "metadata": {},
   "source": [
    "# Input and Output\n",
    "\n",
    "An ‘object’ is a region of memory with a ‘type’ that specifies what kind of information can be placed in it.\n",
    "A ‘named object’ is called a variable.\n",
    "A variable is declared by stating its ‘type’ followed by its ‘name’ followed by ‘;’.\n",
    "Try this code\n",
    "int main()\n",
    "{\n",
    "\tstd::cout<<\"Please type your surname!\\n\";\n",
    "\tstd::string surname;\n",
    "\tstd::cin >> surname;\n",
    "\tstd::cout << \"Hello, \" << surname << \"!\\n\";\n",
    "\treturn 0;\n",
    "}\n",
    "\n",
    ">> “Get from” or “read from” operator, directs where the input goes to, a variable name usually.\n",
    "cin for character input stream.\n",
    "\"Hello, \" is a string literal. Surname is a string, an object of type string.\n",
    "\n",
    "int main()\n",
    "{\n",
    "\tstd::cout<<\"Please type your surname!\\n\"; // This is a 'prompt'; a message to the user with instructions.\n",
    "\tstd::string surname;       //This declares a variable of type string.\n",
    "\tstd::cin >> surname;\t\t//character input stream, takes input from console when 'return' (aka ‘newline’) is pressed. \n",
    "\tstd::cout << \"Hello, \" << surname << \"!\\n\";\n",
    "\treturn 0;\n",
    "}\n",
    "\n",
    "TRY putting a space at the end of the user input to cin. Only part before space is taken up.\n",
    "TRY putting a space in the beginning of the user input to cin."
   ]
  }
 ],
 "metadata": {
  "jupytext": {
   "formats": "md:myst",
   "text_representation": {
    "extension": ".md",
    "format_name": "myst"
   }
  },
  "kernelspec": {
   "display_name": "C++ 20",
   "language": "c++",
   "name": "cpp20"
  },
  "language_info": {
   "file_extension": ".cpp",
   "mimetype": "text/x-c++src",
   "name": "C++",
   "version": "1.0.0a9"
  },
  "source_map": [
   11
  ]
 },
 "nbformat": 4,
 "nbformat_minor": 5
}