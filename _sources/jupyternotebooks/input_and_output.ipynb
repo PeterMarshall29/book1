{
 "cells": [
  {
   "cell_type": "markdown",
   "id": "f05289e7",
   "metadata": {},
   "source": [
    "# Input and Output\n",
    "\n",
    "The basic facilities for a user to interact with a program are provided by the `<iostream>` component of the {term}`standard library`.\n",
    "\n",
    "`<iostream>` contains the additional functions needed to program the computer to print values to the computer montior/screen and to accept input from the user via the keyboard.\n",
    "\n",
    "Until we can program these interactions, it is difficult to make any progress learning a computing language, because \n",
    "\n",
    "Type the following code into the empty code window below.\n",
    "\n",
    "```{tip}\n",
    ":class: margin\n",
    "Don't forget to include <iostream> and <string> and to format the main() function correctly.\n",
    "```\n",
    "\n",
    "```{code-block} cpp\n",
    ":linenos: \n",
    "std::cout<<\"Please type your surname!\\n\";\n",
    "std::string surname;\n",
    "//std::cin >> surname;\n",
    "//std::cout << \"Hello, \" << surname << \"!\\n\";\n",
    "return 0;\n",
    "```"
   ]
  },
  {
   "cell_type": "code",
   "execution_count": 1,
   "id": "f20f7587",
   "metadata": {
    "tags": [
     "remove-output"
    ]
   },
   "outputs": [
    {
     "name": "stderr",
     "output_type": "stream",
     "text": [
      "C:\\Users\\Peter\\AppData\\Local\\Temp\\tmpk0fbx4h1.cpp: In function 'int main()':\n",
      "C:\\Users\\Peter\\AppData\\Local\\Temp\\tmpk0fbx4h1.cpp:4:1: error: 'Type' was not declared in this scope; did you mean 'wctype'?\n",
      "    4 | Type code here!\n",
      "      | ^~~~\n",
      "      | wctype\n"
     ]
    },
    {
     "name": "stderr",
     "output_type": "stream",
     "text": [
      "\n",
      "[C++ kernel] Error: Unable to compile the source code. Return error: 0x1."
     ]
    }
   ],
   "source": [
    "Type code here!"
   ]
  },
  {
   "cell_type": "markdown",
   "id": "4d4cb7a8",
   "metadata": {},
   "source": [
    "````{admonition} Code Explanation\n",
    ":class: dropdown\n",
    "\n",
    "`cin` is the character input stream, pronounced 'see - in'. Used to read input from the keyboard.\n",
    "\n",
    "`>>` is the input stream operator, also called the \"get from\" or \"extraction\" operator - directs where the input goes to, a variable name usually.\n",
    "\n",
    "```{code-block} c++\n",
    "int main()\n",
    "{\n",
    "\tstd::cout<<\"Please type your surname!\\n\"; // This is a 'prompt'; a message to the user with instructions.\n",
    "\tstd::string surname;       //This declares a variable of type string.\n",
    "\t//std::cin >> surname;\t\t//character input stream, takes input from console when 'return' (aka 'newline') is pressed. \n",
    "\t//std::cout << \"Hello, \" << surname << \"!\\n\";\n",
    "\treturn 0;\n",
    "}\n",
    "```\n",
    "\n",
    "```{code-block} cpp\n",
    "\n",
    "```\n",
    "`\"Hello, \"` is a string-literal. Surname is a named object of type string.\n",
    "\n",
    "````\n",
    "````{exercise}\n",
    ":class: dropdown\n",
    "TRY putting a space at the end of the user input to cin. Only part before space is taken up.\n",
    "TRY putting a space in the beginning of the user input to cin.\n",
    "\n",
    "````\n",
    "\n",
    "\n",
    "\n",
    "\n",
    "\n",
    "\n",
    "Now try:"
   ]
  },
  {
   "cell_type": "code",
   "execution_count": 2,
   "id": "bdfe3b8e",
   "metadata": {
    "tags": [
     "remove-output"
    ]
   },
   "outputs": [],
   "source": [
    "#include <iostream>\n",
    "int main(){\n",
    "int age = 58;\n",
    "std::string firstName = \"Peter\";\n",
    "float shoeSize = 10.5;\n",
    "double c = 3.0e-8;\n",
    "char example = 'p';\n",
    "return 0;\n",
    "}"
   ]
  },
  {
   "cell_type": "markdown",
   "id": "c11b1136",
   "metadata": {},
   "source": [
    "Notice the single quotes for a char type, and one option for scientific notation.\n",
    "Float is smaller than double - depends on bits of system - double precision floating point number.\n",
    "Int has many qualifiers - Int can be dropped and the qualifier used on its own.\n",
    "\n",
    "Variable Names cannot start with a number, contain a whitespace or special symbols - only letters, numbers and underscore are permitted.\n",
    "Names are case sensitive - keep leading capitals for classes.\n",
    "Never start with an underscore - it will work, but that pattern is reserved for implementation and system entities, so you risk clashing with something with the same name you did not expect.\n",
    "Lastly keywords are protected and cannot be reused."
   ]
  },
  {
   "cell_type": "code",
   "execution_count": 3,
   "id": "06500f00",
   "metadata": {
    "tags": [
     "remove-output"
    ]
   },
   "outputs": [
    {
     "data": {
      "text/markdown": [
       "Please type your first name followed by your surname!\r\n",
       "\r\n"
      ]
     },
     "metadata": {},
     "output_type": "display_data"
    }
   ],
   "source": [
    "#include <iostream>\n",
    "int main(){\n",
    "\n",
    "std::cout << \"Please type your first name followed by your surname!\\n\"; \n",
    "std::string surname; \n",
    "//std::cin >> surname;\n",
    "//std::cout << \"Hello, \" << surname << \"!\\n\";\n",
    "\n",
    "return 0;\n",
    "}"
   ]
  },
  {
   "cell_type": "markdown",
   "id": "30e9a532",
   "metadata": {},
   "source": [
    "The string input ends when a white space is detected, so TRY\n",
    "\n",
    "The convention is that the reading of strings is terminated by any whitespace i.e. space, tab, or newline '\\t', '\\n'."
   ]
  },
  {
   "cell_type": "code",
   "execution_count": 4,
   "id": "1f43614b",
   "metadata": {
    "tags": [
     "remove-output"
    ]
   },
   "outputs": [
    {
     "data": {
      "text/markdown": [
       "Please type your first name followed by your surname!\r\n",
       "\r\n"
      ]
     },
     "metadata": {},
     "output_type": "display_data"
    }
   ],
   "source": [
    "#include <iostream>\n",
    "int main(){\n",
    "int age = 58;\n",
    "std::cout << \"Please type your first name followed by your surname!\\n\"; \n",
    "std::string firstName = \"Peter\";\n",
    "std::string surname;       \n",
    "//std::cin >> firstName >> surname; //input before space to first variable and input after space to second variable \n",
    "//std::cout << \"Hello, \" << firstName << \" \" << surname << \", you are \" << age << \" years old!\\n\";\n",
    "return 0;\n",
    "}"
   ]
  },
  {
   "cell_type": "markdown",
   "id": "845d5a62",
   "metadata": {},
   "source": [
    "Now change to ask for an name followed by an age."
   ]
  },
  {
   "cell_type": "code",
   "execution_count": 5,
   "id": "8fb0f897",
   "metadata": {
    "tags": [
     "remove-output",
     "raises-exception"
    ]
   },
   "outputs": [
    {
     "data": {
      "text/markdown": [
       "Please type your first name followed by your age!\r\n",
       "\r\n"
      ]
     },
     "metadata": {},
     "output_type": "display_data"
    }
   ],
   "source": [
    "#include <iostream>\n",
    "int main(){\n",
    "int age = 58;\n",
    "std::string firstName = \"Peter\";\n",
    "std::cout << \"Please type your first name followed by your age!\\n\"; \n",
    "std::string surname; \n",
    "//std::cin >> firstName >> age; \n",
    "//std::cout << \"Hello, \" << firstName << \" \" << surname << \", you are \" << age << \" years old!\\n\";\n",
    "return 0;\n",
    "}"
   ]
  },
  {
   "cell_type": "markdown",
   "id": "1c2a7673",
   "metadata": {},
   "source": [
    "Respond with a name \"whitespace\" age. Then try again but type in two names.\n",
    "\n",
    "A string is not an integer, so is recorded as integral value 0. \n",
    "\n",
    "Older C++ version might give a random value such as -96738 . Unfortunately this overwrites an initial value if you have used one.\n",
    "\n",
    "Handling input format errors is a separate lesson.\n",
    "\n",
    "4 Ways to convert an integer to a string: 3 more to discuss later.\n",
    "Add this to header file.\n",
    "\n",
    "```{code-block} c++\n",
    "template<class T> std::string to_string(const T& t)\n",
    "{\n",
    "std::ostringstream os;\n",
    "os << t;\n",
    "return os.str();\n",
    "}\n",
    "```\n",
    "This code creates a generic template for conversion to a string - we will circle back to how it works.\n",
    "\n",
    "Then replace cout line in the previous code with:\n",
    "\n",
    "```{code-block} c++\n",
    "std::cout << \"Study \" + to_string(c2) + \" times harder \" + motivator + \"!\\n\";\n",
    "Try typing two names in a row again. Why does the code fail?\n",
    "```\n",
    "\n",
    "\n",
    "Char type is created using single quotes.\n",
    "Try the following code."
   ]
  },
  {
   "cell_type": "code",
   "execution_count": 6,
   "id": "e8712980",
   "metadata": {},
   "outputs": [
    {
     "data": {
      "text/markdown": [
       "xy"
      ]
     },
     "metadata": {},
     "output_type": "display_data"
    },
    {
     "data": {
      "text/markdown": [
       "241"
      ]
     },
     "metadata": {},
     "output_type": "display_data"
    }
   ],
   "source": [
    "char a = 'x';\n",
    "char b = 'y';\n",
    "int c = a + b;\n",
    "std::cout << a << b << c;\n",
    "return 0;"
   ]
  },
  {
   "cell_type": "code",
   "execution_count": 7,
   "id": "d01708b9",
   "metadata": {
    "tags": [
     "remove-output"
    ]
   },
   "outputs": [
    {
     "name": "stderr",
     "output_type": "stream",
     "text": [
      "C:\\Users\\Peter\\AppData\\Local\\Temp\\tmpecqpw435.cpp: In function 'int main()':\n",
      "C:\\Users\\Peter\\AppData\\Local\\Temp\\tmpecqpw435.cpp:4:1: error: 'Type' was not declared in this scope; did you mean 'wctype'?\n",
      "    4 | Type code here!\n",
      "      | ^~~~\n",
      "      | wctype\n"
     ]
    },
    {
     "name": "stderr",
     "output_type": "stream",
     "text": [
      "\n",
      "[C++ kernel] Error: Unable to compile the source code. Return error: 0x1."
     ]
    }
   ],
   "source": [
    "Type code here!"
   ]
  },
  {
   "cell_type": "markdown",
   "id": "7331d209",
   "metadata": {},
   "source": [
    "Change the letter to try to make senses of the output.\n",
    "Try numbers instead - what is the sum of 1 and 1 anyway?\n",
    "But a least its half as much as 2 and 2 still, right?\n",
    "\n",
    "Try this code"
   ]
  },
  {
   "cell_type": "code",
   "execution_count": 8,
   "id": "02fff1b5",
   "metadata": {
    "tags": [
     "remove-output"
    ]
   },
   "outputs": [
    {
     "data": {
      "text/markdown": [
       "3"
      ]
     },
     "metadata": {},
     "output_type": "display_data"
    }
   ],
   "source": [
    "#include <iostream>\n",
    "int main(){\n",
    "int x = 5;\n",
    "int y;\n",
    "if (x == 5);\n",
    "{ y = 3; }\n",
    "std::cout << y;\n",
    "return 0;\n",
    "}"
   ]
  },
  {
   "cell_type": "markdown",
   "id": "fd1c8107",
   "metadata": {},
   "source": [
    "`{...code here...}` identifies a code block, or an in initialiser.\n",
    "Prints 3 - now change `x` to '4'. The semicolon after the if is a mistake, its like putting {} instead. \n",
    "`{}` is called the empty block - sometimes used into code to register that nothing should be done, like when it's the else loop that is really wanted - instead of using `NOT` logic.\n",
    "The second `{}` does nothing special."
   ]
  }
 ],
 "metadata": {
  "jupytext": {
   "formats": "md:myst",
   "text_representation": {
    "extension": ".md",
    "format_name": "myst"
   }
  },
  "kernelspec": {
   "display_name": "C++ 20",
   "language": "c++",
   "name": "cpp20"
  },
  "language_info": {
   "file_extension": ".cpp",
   "mimetype": "text/markdown",
   "name": "C++",
   "version": "1.0.0a9"
  },
  "source_map": [
   11,
   37,
   40,
   82,
   93,
   105,
   117,
   123,
   135,
   139,
   151,
   185,
   192,
   195,
   202,
   213
  ]
 },
 "nbformat": 4,
 "nbformat_minor": 5
}