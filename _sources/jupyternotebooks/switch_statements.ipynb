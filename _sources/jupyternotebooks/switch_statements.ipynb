{
 "cells": [
  {
   "cell_type": "markdown",
   "id": "4b9c7700",
   "metadata": {},
   "source": [
    "# `switch` Statements\n",
    "\n",
    "Commonly used alternative to if. Easier to follow than nested if statements.\n",
    "Here the while loop is just to keep it running – only interested in the switch loop.\n",
    "constexpr double cm_per_inch = 2.54;\n",
    "double length = 1;\n",
    "while (true) {\n",
    "\tchar unit = 'a’;\n",
    "\tstd::cout << \"Please type in a length followed by a unit c or i: \\n\";\n",
    "\tstd::cin >> length >> unit;\n",
    "\tswitch (unit) {\n",
    "\t\tcase 'i’:\n",
    "\t\tstd::cout << length << \"in==\" << cm_per_inch * length << \"cm.\\n\";\n",
    "\t\tbreak;\n",
    "\t\tcase 'c’:\n",
    "\t\tstd::cout << length << \"cm==\" << length / cm_per_inch << \"in.\\n\";\n",
    "\t\tbreak;\n",
    "\t\tdefault:\n",
    "\t\tstd::cout << \"Sorry, I do not know what that unit is....\\n\";\n",
    "\t\tbreak;\n",
    "\t\t}\n",
    "}\n",
    "The value in parentheses after the switch keyword is compared to the case values. A match to a case causes its code block to execute The syntax requires each case to be terminated by a break. If no case is true, then the default code block is executed. \n",
    "\n",
    "\n",
    "You can switch on a string value – only int,  char, or enumeration type. \n",
    "Selection based on a string requires an ‘if’ statement or a ‘map’.\n",
    "\n",
    "Switch variable must be a constant expression i.e. must be literal value typed at the case line.\n",
    "\n",
    "A single case can be executed for several case labels. But case labels cannot be used for two cases.\n",
    "\n",
    "Most compilers do not warn if you forget break – it is required – try it.\n",
    "Without the breaks -  all the code blocks below the first detected case will also be executed.\n",
    "Pretty sure the last one does not need a break??\n",
    "\n",
    "To use multiple labels for the same case.\n",
    "case '0': case '2': case '4': case '6': case '8':\n",
    "\n",
    "\n",
    "std::cout << \"please enter an expression to be evaluated (only +,-,*,/ for now, ADD an x to show the end of your expression):\";\n",
    "int lhs = 0;\n",
    "int rhs = 0;\n",
    "int result;\n",
    "std::cin >> lhs;\n",
    "if (!std::cin) throw std::runtime_error(\"no first operand\");\n",
    "\tfor (char operation; std::cin >> operation;) { //keeps reading cin until it gets an operator\n",
    "\t\tif (operation != 'x') std::cin >> rhs;\n",
    "\t\tif (!std::cin) throw std::runtime_error(\"no second operand\");\n",
    " \n",
    "\t\tswitch (operation) {\n",
    "\t\tcase '+':\n",
    "\t\t\tresult = lhs + rhs;\n",
    "\t\t\tbreak;\n",
    "\t\tcase '-':\n",
    "\t\t\tresult = lhs - rhs;\n",
    "\t\t\tbreak;\n",
    "\t\tcase '*':\n",
    "\t\t\tresult = lhs * rhs;\n",
    "\t\t\tbreak;\n",
    "\t\tcase '/':\n",
    "\t\t\tresult = lhs / rhs;\n",
    "\t\t\tbreak;\n",
    "\t\tdefault:\n",
    "\t\t\tstd::cout << result << '\\n';\n",
    "\t\t\treturn 0;\n",
    "\t\t}\n",
    "\t\tlhs = result;\n",
    "\t}\n",
    "\t\t\n",
    "\tthrow std::runtime_error(\"bad expression\");"
   ]
  }
 ],
 "metadata": {
  "jupytext": {
   "formats": "md:myst",
   "text_representation": {
    "extension": ".md",
    "format_name": "myst"
   }
  },
  "kernelspec": {
   "display_name": "C++ 20",
   "language": "c++",
   "name": "cpp20"
  },
  "language_info": {
   "file_extension": ".cpp",
   "mimetype": "text/x-c++src",
   "name": "C++",
   "version": "1.0.0a9"
  },
  "source_map": [
   11
  ]
 },
 "nbformat": 4,
 "nbformat_minor": 5
}