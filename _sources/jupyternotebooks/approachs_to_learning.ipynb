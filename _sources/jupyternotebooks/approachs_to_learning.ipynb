{
 "cells": [
  {
   "cell_type": "markdown",
   "id": "c88d06e8",
   "metadata": {},
   "source": [
    "# How to Learn C++\n",
    "\n",
    "There is no big secret to learning C++.\n",
    "\n",
    "Computer languages are just complicated sets of instructions. It can be difficult at first to work out what the cppreference website or textbooks are telling you because of the large amount of new vocabulary.\n",
    "\n",
    "As your experience of programming builds you will find that these resources do start to appear a lot simpler to understand than your initial impressions might lead you to believe. \n",
    "\n",
    "Only time and perseverence can improve your ability to learn new programming languages and concepts.\n",
    "\n",
    "\n",
    "## The Secret to Becoming Really Good at C++ Programming\n",
    "\n",
    "````{admonition} TOP SECRET INFORMATION\n",
    ":class: dropdown warning\n",
    "\n",
    "The only way to develop strong programming skills.............. \n",
    "\n",
    "Practice, practice, and yep....., more PRACTICE!\n",
    "\n",
    "Not a secret!\n",
    "\n",
    "```{admonition} DONT LOOK AT THIS!\n",
    ":class: dropdown danger```{admonition} DONT LOOK AT THIS!\n",
    ":class: dropdown danger\n",
    "\n",
    "A computer would not have clicked the button! \n",
    "\n",
    "Computers can only follow instuctions. \n",
    "\n",
    "If a program will not compile your program - your instructions are not in the correct form. \n",
    "\n",
    "If a program does 'run', but does not work correctly - the computer is doing exactly what you told it to do!\n",
    "\n",
    "Remeber **GIGO** - Garbage in, Garbage out!\n",
    "```\n",
    "````\n",
    "```{note}\n",
    ":class: margin\n",
    "{attribution=\"Bjarne Stroustrup - Inventor of C++\" }\n",
    "> \"If you never fail, your aren't trying hard enough\"\n",
    "```\n",
    "\n",
    "## Growth Mindsets\n",
    "\n",
    "Pschologist Carol Dweck developed the theory of the growth and fixed mindsets. People with a growth mindset believe that their abilities, intelligence, and talents can be developed through effort, learning, and persistence. They understand that their brain is akin to a muscled that is strengthened by practice and struggling with new ideas and acivities.\n",
    "\n",
    "A fixed mindset believes that you are either good at something or not - this is usually wrong and always self defeating. \n",
    "\n",
    "Most students will not just know more when they leave university - they will be smarter - as a result of the work they have done. **WORK** is the important part of the sentence - if you coast through your studies you will not improve."
   ]
  }
 ],
 "metadata": {
  "jupytext": {
   "formats": "md:myst",
   "text_representation": {
    "extension": ".md",
    "format_name": "myst"
   }
  },
  "kernelspec": {
   "display_name": "C++ 20",
   "language": "c++",
   "name": "cpp20"
  },
  "language_info": {
   "file_extension": ".cpp",
   "mimetype": "text/markdown",
   "name": "C++",
   "version": "1.0.0a9"
  },
  "source_map": [
   11
  ]
 },
 "nbformat": 4,
 "nbformat_minor": 5
}