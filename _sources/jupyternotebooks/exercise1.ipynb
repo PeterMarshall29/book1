{
 "cells": [
  {
   "cell_type": "markdown",
   "id": "2a5bbed8",
   "metadata": {},
   "source": [
    "# Exercise 1\n",
    "\n",
    "Add practice using comments\n",
    "\n",
    "\n",
    "`````{exercise-start}\n",
    ":label: exercisex1\n",
    "`````\n",
    "This code is incorrect. Alter the code so that it runs without error and prints your name."
   ]
  },
  {
   "cell_type": "code",
   "execution_count": 1,
   "id": "8f32f0ac",
   "metadata": {
    "tags": [
     "remove-output"
    ]
   },
   "outputs": [
    {
     "name": "stderr",
     "output_type": "stream",
     "text": [
      "C:\\Users\\Peter\\AppData\\Local\\Temp\\tmptxvkz3m7.cpp:3:1: error: 'include' does not name a type\n",
      "    3 | include \"iostreams\"\n",
      "      | ^~~~~~~\n"
     ]
    },
    {
     "name": "stderr",
     "output_type": "stream",
     "text": [
      "\n",
      "[C++ kernel] Error: Unable to compile the source code. Return error: 0x1."
     ]
    }
   ],
   "source": [
    "include \"iostreams\"\n",
    "main(){\n",
    "cout << \"my name is, \\n\"\n",
    "return \"Peter\";\n",
    "}"
   ]
  },
  {
   "cell_type": "markdown",
   "id": "54dbf05e",
   "metadata": {},
   "source": [
    "`````{exercise-end}\n",
    "`````"
   ]
  }
 ],
 "metadata": {
  "jupytext": {
   "formats": "md:myst",
   "text_representation": {
    "extension": ".md",
    "format_name": "myst"
   }
  },
  "kernelspec": {
   "display_name": "C++ 20",
   "language": "c++",
   "name": "cpp20"
  },
  "language_info": {
   "file_extension": ".cpp",
   "mimetype": "text/markdown",
   "name": "C++",
   "version": "1.0.0a9"
  },
  "source_map": [
   11,
   22,
   29
  ]
 },
 "nbformat": 4,
 "nbformat_minor": 5
}