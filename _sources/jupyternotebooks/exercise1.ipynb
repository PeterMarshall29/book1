{
 "cells": [
  {
   "cell_type": "markdown",
   "id": "c88116db",
   "metadata": {},
   "source": [
    "# Exercises Week 1\n",
    "\n",
    "`````{exercise-start} 1A\n",
    ":label: exerciseex11\n",
    ":class: dropdown\n",
    ":nonumber:\n",
    "`````\n",
    "Write a program to print the following message in the terminal.\n",
    "\n",
    "Welcome to Loughborough!                            \n",
    "//----------------------------------------------                         \n",
    "This is Computational Physics - Part A."
   ]
  },
  {
   "cell_type": "code",
   "execution_count": 1,
   "id": "61d7425d",
   "metadata": {
    "tags": [
     "remove-output"
    ]
   },
   "outputs": [
    {
     "name": "stderr",
     "output_type": "stream",
     "text": [
      "C:\\Users\\Peter\\AppData\\Local\\Temp\\tmp7w48zii4.cpp: In function 'int main()':\n",
      "C:\\Users\\Peter\\AppData\\Local\\Temp\\tmp7w48zii4.cpp:4:1: error: 'Code' was not declared in this scope\n",
      "    4 | Code goes here...\n",
      "      | ^~~~\n"
     ]
    },
    {
     "name": "stderr",
     "output_type": "stream",
     "text": [
      "\n",
      "[C++ kernel] Error: Unable to compile the source code. Return error: 0x1."
     ]
    }
   ],
   "source": [
    "Code goes here..."
   ]
  },
  {
   "cell_type": "markdown",
   "id": "c7962447",
   "metadata": {},
   "source": [
    "`````{exercise-end}\n",
    "`````\n",
    "`````{solution-start} exerciseex11\n",
    ":label: solutionex11\n",
    ":class: dropdown\n",
    "`````\n",
    "This is one possible solution - try to improve on it.\n",
    "````{code-block}\n",
    "#include <iostream>\n",
    "int main() {\n",
    "  std::cout << \"\\nWelcome to Loughborough!\\n\";\n",
    "  std::cout << \"----------------------------------------------\\n\"; \n",
    "  std::cout << \"This is Compuational Physics - Part A. \"<< std::endl; \n",
    "  return 0;\n",
    "} \n",
    "````\n",
    "`````{solution-end}\n",
    "`````\n",
    "\n",
    "````{exercise-start} 1B\n",
    ":label: exerciseex12\n",
    ":class: dropdown\n",
    ":nonumber:\n",
    "````\n",
    "Write a program that ask for 4 double precision floating point numbers and returns their total and average."
   ]
  },
  {
   "cell_type": "code",
   "execution_count": null,
   "id": "f1f80fcd",
   "metadata": {
    "tags": [
     "remove-output",
     "skip-execution"
    ]
   },
   "outputs": [],
   "source": [
    "Code goes here...."
   ]
  },
  {
   "cell_type": "markdown",
   "id": "0b837269",
   "metadata": {},
   "source": [
    "````{exercise-end}\n",
    "````\n",
    "\n",
    "````{solution-start} exerciseex12\n",
    ":label: solutionex12\n",
    ":class: dropdown\n",
    "````\n",
    "Try changing this code to calculate the average using:\n",
    "\n",
    "`average = firstNumber + secondNumber + thirdNumber + fourthNumber / 4;`\n",
    "```{code-block} c++\n",
    "#include <iostream> \n",
    "int main() {\n",
    "    double firstNumber, secondNumber, thirdNumber, fourthNumber, total, average; \n",
    "    std::cout << \"Please enter four numbers...\\n\"; \n",
    "    std::cin >> firstNumber >> secondNumber >> thirdNumber >> fourthNumber; \n",
    "    total = firstNumber + secondNumber + thirdNumber + fourthNumber; \n",
    "    average = total / 4; \n",
    "    std::cout << \"The total of your four numbers is \" << total << \" and their average is \" << average << '\\n'; \n",
    "    return 0; \n",
    "} \n",
    "```\n",
    "````{solution-end}\n",
    "````\n",
    "\n",
    "````{exercise-start} 1C\n",
    ":label: exerciseex13\n",
    ":class: dropdown\n",
    ":nonumber:\n",
    "````\n",
    "Write a program to demonstrate the effect of combining integer and double type numbers in a single arithmetic expression.\n",
    "Try all 5 arithmetic operators and include negative values.\n",
    "Use `<iomanip>` to control the precision of the outputs to 3 decimal places."
   ]
  },
  {
   "cell_type": "code",
   "execution_count": null,
   "id": "c553b1bd",
   "metadata": {
    "tags": [
     "remove-output",
     "skip-execution"
    ]
   },
   "outputs": [],
   "source": [
    "Code goes here...."
   ]
  },
  {
   "cell_type": "markdown",
   "id": "d1eeb5a4",
   "metadata": {},
   "source": [
    "````{exercise-end}\n",
    "````\n",
    "\n",
    "````{solution-start} exerciseex13\n",
    ":label: solutionex13\n",
    ":class: dropdown\n",
    "````\n",
    "This is one possible solution - how can it be improved?\n",
    "```{code-block} c++\n",
    "#include <iostream>\n",
    "#include <iomanip>  \n",
    "int main() {\n",
    "    int myFirstInt = 4, mySecondInt = 7; \n",
    "    double myFirstDouble = 2.5, mySecondDouble = 9.99;\n",
    "    std::cout << std::fixed << std::setprecision(3); \n",
    "    std::cout << \" \" << myFirstInt << \" + \" << mySecondInt << \" = \" << myFirstInt + mySecondInt << '\\n';\n",
    "    std::cout << \" \" << myFirstDouble << \" + \" << mySecondDouble << \" = \" << myFirstDouble + mySecondDouble << '\\n';\n",
    "    std::cout << \" \" << myFirstInt << \" + \" << myFirstDouble << \" = \" << myFirstInt + myFirstDouble << '\\n';\n",
    "    // and all the others .......\n",
    "    return 0; \n",
    "} \n",
    "```\n",
    "````{solution-end}\n",
    "````\n",
    "\n",
    "````{exercise-start} 1D\n",
    ":label: exerciseex14\n",
    ":class: dropdown\n",
    ":nonumber:\n",
    "````\n",
    "A common computing task is to swap the values of two variables.\n",
    "Write a program that asks the user for two variables and then swaps their values.\n",
    "Print out the variables' values, before and after the swap, in the same order to show the changed values. \n",
    "DO NOT just print the variable in reverse order - misses the learning point of this exercise."
   ]
  },
  {
   "cell_type": "code",
   "execution_count": null,
   "id": "721b3158",
   "metadata": {
    "tags": [
     "remove-output",
     "skip-execution"
    ]
   },
   "outputs": [],
   "source": [
    "Code goes here...."
   ]
  },
  {
   "cell_type": "markdown",
   "id": "19a57071",
   "metadata": {},
   "source": [
    "````{exercise-end}\n",
    "````\n",
    "\n",
    "````{solution-start} exerciseex14\n",
    ":label: solutionex14\n",
    ":class: dropdown\n",
    "````\n",
    "This is one possible solution - how can it be improved?\n",
    "```{code-block} c++\n",
    "#include <iostream>\n",
    "int main() {\n",
    "    int myFirstInt, mySecondInt;\n",
    "    std::cout << \"Please type in two integer values... \\n\";\n",
    "    std::cin >> myFirstInt >> mySecondInt;\n",
    "    std::cout << \"Your two values were \" << myFirstInt << \" and \" << mySecondInt << \". \\n\";\n",
    "    int temp = myFirstInt;\n",
    "    myFirstInt = mySecondInt;\n",
    "    mySecondInt = temp;\n",
    "    std::cout << \"Your swapped values are \" << myFirstInt << \" and \" << mySecondInt << \". \\n\";\n",
    "    return 0; \n",
    "} \n",
    "```\n",
    "````{solution-end}\n",
    "````\n",
    "\n",
    "````{exercise-start} 1E\n",
    ":label: exerciseex15\n",
    ":class: dropdown\n",
    ":nonumber:\n",
    "````\n",
    "Write a program that asks the user for the lengths of the sides of a triangle and returns the area.\n",
    "\n",
    "Hint: Use Heron's Formula. Check your answer with a right-angled triangle. Include `<cmath>`."
   ]
  },
  {
   "cell_type": "code",
   "execution_count": null,
   "id": "cd0acc22",
   "metadata": {
    "tags": [
     "remove-output",
     "skip-execution"
    ]
   },
   "outputs": [],
   "source": [
    "Code goes here...."
   ]
  },
  {
   "cell_type": "markdown",
   "id": "98268d29",
   "metadata": {},
   "source": [
    "````{exercise-end}\n",
    "````\n",
    "\n",
    "````{solution-start} exerciseex15\n",
    ":label: solutionex15\n",
    ":class: dropdown\n",
    "````\n",
    "This is one possible solution - how can it be improved?\n",
    "```{code-block} c++\n",
    "#include <iostream>\n",
    "#include <cmath>\n",
    "int main() {\n",
    "    double firstSide, secondSide, thirdSide, area, semiPerimeter; \n",
    "    std::cout << \"Please type in the lengths of the sides of the triangle. \\n\"; \n",
    "    std::cin >> firstSide >> secondSide >> thirdSide; \n",
    "    semiPerimeter = (firstSide + secondSide + thirdSide) / 2; \n",
    "    area = sqrt(semiPerimeter * (semiPerimeter - firstSide) * (semiPerimeter - secondSide) * (semiPerimeter - thirdSide)); \n",
    "    std::cout << \"The area of the triangle equals \" << area << '\\n';\n",
    "    return 0; \n",
    "} \n",
    "```\n",
    "````{solution-end}\n",
    "````\n",
    "\n",
    "````{exercise-start} 1F\n",
    ":label: exerciseex16\n",
    ":class: dropdown\n",
    ":nonumber:\n",
    "````\n",
    "Write a program that asks for two characters to be input by the user and returns their ASCII code value and the character with the ASCII code that is the sum of the two characters."
   ]
  },
  {
   "cell_type": "code",
   "execution_count": null,
   "id": "d5ad0b08",
   "metadata": {
    "tags": [
     "remove-output",
     "skip-execution"
    ]
   },
   "outputs": [],
   "source": [
    "Code goes here...."
   ]
  },
  {
   "cell_type": "markdown",
   "id": "5f1f18fd",
   "metadata": {},
   "source": [
    "````{exercise-end}\n",
    "````\n",
    "\n",
    "````{solution-start} exerciseex16\n",
    ":label: solutionex16\n",
    ":class: dropdown\n",
    "````\n",
    "These are possible solutions - how can the be improved?\n",
    "```{code-block} c++\n",
    "#include <iostream>\n",
    "int main()\n",
    "{\n",
    "    char firstChar;\n",
    "    char secondChar;\n",
    "    std::cout << \"Enter two characters, space separated. \\n\";\n",
    "    std::cin >> firstChar >> secondChar;\n",
    "    std::cout << \"The ASCII values of \" << firstChar << \" and \" << secondChar << \" are: \" << int(firstChar) << \" and \" << int(secondChar) << '\\n';\n",
    "    std::cout << \"The character with the ASCII value of \" << (firstChar+secondChar) << \" is \" << char(firstChar+secondChar) << '\\n';\n",
    "    return 0;\n",
    "}\n",
    "```\n",
    "or\n",
    "```{code-block} c++\n",
    "#include <iostream>\n",
    "int main()\n",
    "{\n",
    "    char firstChar;\n",
    "    char secondChar;\n",
    "    std::cout << \"Enter two characters, space separated. \\n\";\n",
    "    std::cin >> firstChar >> secondChar;\n",
    "    std::cout << \"The ASCII values of \" << firstChar << \" and \" << secondChar << \" are: \" << +firstChar << \" and \" << +secondChar << '\\n';\n",
    "    std::cout << \"The character with the ASCII value of \" << (firstChar + secondChar) << \" is \" << char(firstChar+secondChar) << '\\n';\n",
    "    return 0;\n",
    "}\n",
    "```\n",
    "````{solution-end}\n",
    "````\n",
    "````{exercise-start} 1G - Difficult\n",
    ":label: exerciseex17\n",
    ":class: dropdown\n",
    ":nonumber:\n",
    "````\n",
    "Write a program to extract and use the first and last digit of an integer number (needs to have at least 2 digits).\n",
    "\n",
    "There is more than one way to do this.\n",
    "\n",
    "Hint: think about the effect of the modulo operation using 10 as the divisor. This can help you get to both the first and last digit.\n",
    "\n",
    "For the first digit you will also need to think about the order of the number. Use the int(), and you will need to include <cmath> to use pow(), and log10() functions."
   ]
  },
  {
   "cell_type": "code",
   "execution_count": null,
   "id": "d0e13fd4",
   "metadata": {
    "tags": [
     "remove-output",
     "skip-execution"
    ]
   },
   "outputs": [],
   "source": [
    "Code goes here...."
   ]
  },
  {
   "cell_type": "markdown",
   "id": "6a8088ae",
   "metadata": {},
   "source": [
    "````{exercise-end}\n",
    "````\n",
    "\n",
    "````{solution-start} exerciseex17\n",
    ":label: solutionex17\n",
    ":class: dropdown\n",
    "````\n",
    "This is one possible solution - how can it be improved?\n",
    "````{code-block} c++\n",
    "#include <iostream> \n",
    "#include <cmath>  \n",
    "int main() { \n",
    "    int userNumber, firstDigit, lastDigit,  numberOfDigits, swappedDigitsNumber, temp1, temp2;\n",
    "    std::cout << \"Please enter an integer with at least 3 digits. \\n\";   \n",
    "    std::cin >> userNumber; \n",
    "    lastDigit = userNumber % 10;\n",
    "    numberOfDigits = int(log10(userNumber)); \n",
    "    firstDigit = userNumber / pow(10, numberOfDigits); \n",
    "    // Swap digits and rebuilt number\n",
    "    temp1 = firstDigit * (pow(10, numberOfDigits)); \n",
    "    temp2 = userNumber % temp1; \n",
    "    userNumber = temp2 / 10;    \n",
    "    swappedDigitsNumber = lastDigit * (pow(10, numberOfDigits)) + (userNumber * 10 + firstDigit); \n",
    "\n",
    "    std::cout << \"The first digit is \" << firstDigit << \" and the last digit is \" << lastDigit << '\\n';\n",
    "    std::cout << \"The number with the first and last digts swapped is \" << swappedDigitsNumber;\n",
    "    return 0;\n",
    "}\n",
    "````\n",
    "````{solution-end}\n",
    "````\n",
    "\n",
    "````{exercise-start} 1H - Advanced\n",
    ":label: exerciseex18\n",
    ":class: dropdown\n",
    ":nonumber:\n",
    "````\n",
    "Write a program to display the current time on the terminal.\n",
    "\n",
    "You will need to include <ctime>, which will not be covered in this module - see https://en.cppreference.com/w/cpp/chrono/c/ctime for details."
   ]
  },
  {
   "cell_type": "code",
   "execution_count": null,
   "id": "ee977a7c",
   "metadata": {
    "tags": [
     "remove-output",
     "skip-execution"
    ]
   },
   "outputs": [],
   "source": [
    "Code goes here...."
   ]
  },
  {
   "cell_type": "markdown",
   "id": "7e7fb76b",
   "metadata": {},
   "source": [
    "````{exercise-end}\n",
    "````\n",
    "\n",
    "````{solution-start} exerciseex18\n",
    ":label: solutionex18\n",
    ":class: dropdown\n",
    "````\n",
    "This one requires an addition directive to run in Visual Studio.\n",
    "```{code-block} c++\n",
    "#define _CRT_SECURE_NO_WARNINGS\n",
    "#include <cassert>\n",
    "#include <cstring>\n",
    "#include <ctime>\n",
    "#include <iostream>\n",
    "\n",
    "int main()\n",
    "{\n",
    "    std::time_t result = std::time(nullptr);\n",
    "    std::cout << std::ctime(&result);\n",
    "    /* also try\n",
    "    char buffer[32];\n",
    "    std::strncpy(buffer, std::ctime(&result), 26);\n",
    "    assert('\\n' == buffer[std::strlen(buffer) - 1]);\n",
    "    std::cout << buffer;\n",
    "    */\n",
    "}\n",
    "```\n",
    "````{solution-end}\n",
    "````\n",
    "\n",
    "````{exercise-start} 1I\n",
    ":label: exerciseex19\n",
    ":class: dropdown\n",
    ":nonumber:\n",
    "````\n",
    "Write a program demonstrating the use of the erase(), insert(), and replace() member functions on a string supplied by the user.\n",
    "\n",
    "Information on these functions can be found, under the section 'modifiers', at https://en.cppreference.com/w/cpp/string/basic_string.html"
   ]
  },
  {
   "cell_type": "code",
   "execution_count": null,
   "id": "9a23da3d",
   "metadata": {
    "tags": [
     "remove-output",
     "skip-execution"
    ]
   },
   "outputs": [],
   "source": [
    "Code goes here...."
   ]
  },
  {
   "cell_type": "markdown",
   "id": "084f4259",
   "metadata": {},
   "source": [
    "````{exercise-end}\n",
    "````\n",
    "\n",
    "````{solution-start} exerciseex19\n",
    ":label: solutionex19\n",
    ":class: dropdown\n",
    "````\n",
    "This is one possible solution, which uses `.erase()`\n",
    "```{code-block} c++\n",
    "#include <iostream>\n",
    "#include <iostream>\n",
    "int main() {\n",
    "    std::string userString;\n",
    "    std::cout << \"Enter a word .. \\n\";  \n",
    "    std::cin >> userString;\n",
    "    userString.erase(1,2);\n",
    "    std::cout << userString;    \n",
    "    return 0;   \n",
    "}\n",
    "```\n",
    "````{solution-end}\n",
    "````\n",
    "\n",
    "````{exercise-start} 1J\n",
    ":label: exerciseex110\n",
    ":class: dropdown\n",
    ":nonumber:\n",
    "````\n",
    "The `std::max()` function returns the largest of the two values it is given. i.e. if `a` and `b` are arithmetic variables then `max(a,b)` equals `a` if `a>b`.\n",
    "\n",
    "Write the shortest possible program that prints the highest of 4 user chosen double precision floating point numbers."
   ]
  },
  {
   "cell_type": "code",
   "execution_count": null,
   "id": "45007586",
   "metadata": {
    "tags": [
     "remove-output",
     "skip-execution"
    ]
   },
   "outputs": [],
   "source": [
    "Code goes here...."
   ]
  },
  {
   "cell_type": "markdown",
   "id": "f886524c",
   "metadata": {},
   "source": [
    "````{exercise-end}\n",
    "````\n",
    "\n",
    "````{solution-start} exerciseex110\n",
    ":label: solutionex110\n",
    ":class: dropdown\n",
    "````\n",
    "This is one possible solution - how can it be improved?\n",
    "```{code-block} c++\n",
    "\n",
    "#include <iostream>\n",
    "int main() {\n",
    "    double one, two, three, four;\n",
    "    std::cout << \"Enter 4 doubles please. \\n\";  \n",
    "    std::cin >> one >> two >> three >> four;\n",
    "    std:: cout << \"The maximum value entered was \" << std::max(std::max(one,two),std::max(three,four));\n",
    "    return 0;   \n",
    "}\n",
    "```\n",
    "Was my choice of variable names helpful?\n",
    "\n",
    "Does `max()` work for integers?\n",
    "````{solution-end}\n",
    "````"
   ]
  }
 ],
 "metadata": {
  "jupytext": {
   "formats": "md:myst",
   "text_representation": {
    "extension": ".md",
    "format_name": "myst"
   }
  },
  "kernelspec": {
   "display_name": "C++ 20",
   "language": "c++",
   "name": "cpp20"
  },
  "language_info": {
   "file_extension": ".cpp",
   "mimetype": "text/markdown",
   "name": "C++",
   "version": "1.0.0a9"
  },
  "source_map": [
   11,
   25,
   28,
   54,
   57,
   91,
   94,
   129,
   132,
   166,
   169,
   200,
   203,
   253,
   256,
   298,
   301,
   341,
   344,
   376,
   379
  ]
 },
 "nbformat": 4,
 "nbformat_minor": 5
}