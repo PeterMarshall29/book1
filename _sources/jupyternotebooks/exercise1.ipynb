{
 "cells": [
  {
   "cell_type": "markdown",
   "id": "fbd22e98",
   "metadata": {},
   "source": [
    "# Exercises 1\n",
    "\n",
    "`````{exercise-start} \n",
    ":label: Exerciseaa1\n",
    "`````\n",
    "This code is incorrect. Alter the code so that it runs without error and prints your name.\n",
    "`````{code-block} cpp\n",
    ":tags: [remove-output]\n",
    "include \"iostreams\"\n",
    "main(){\n",
    "cout << \"my name is, \\n\"\n",
    "return \"Peter\";\n",
    "}\n",
    "`````\n",
    "````{solution} Exerciseaa1 \n",
    ":class: hint \n",
    ":label: Solutionaa1\n",
    "```{code} cpp\n",
    "#include <iostream>\n",
    "int main()\n",
    "{\n",
    "\tstd :: cout << \"Hello, World!\\n\";\n",
    "\treturn 0;\n",
    "}\n",
    "```\n",
    "````\n",
    "`````{exercise-end}\n",
    "`````"
   ]
  }
 ],
 "metadata": {
  "jupytext": {
   "formats": "md:myst",
   "text_representation": {
    "extension": ".md",
    "format_name": "myst"
   }
  },
  "kernelspec": {
   "display_name": "C++ 20",
   "language": "c++",
   "name": "cpp20"
  },
  "language_info": {
   "file_extension": ".cpp",
   "mimetype": "text/x-c++src",
   "name": "C++",
   "version": "1.0.0a9"
  },
  "source_map": [
   11
  ]
 },
 "nbformat": 4,
 "nbformat_minor": 5
}