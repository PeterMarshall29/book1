{
 "cells": [
  {
   "cell_type": "markdown",
   "id": "723553dc",
   "metadata": {},
   "source": [
    "# Exercises Week 3 Functions\n",
    "\n",
    "````{exercise-start} 4A\n",
    ":label: exerciseex51\n",
    ":class: dropdown\n",
    ":nonumber:\n",
    "````\n",
    "Correct the following function and add the rest of a program needed to demonstrate a call to the function. \n",
    "\n",
    "The function should return the squared value of two integers."
   ]
  },
  {
   "cell_type": "code",
   "execution_count": null,
   "id": "568a6a4a",
   "metadata": {
    "tags": [
     "remove-output",
     "skip-execution"
    ]
   },
   "outputs": [],
   "source": [
    "int squed(inta) {\n",
    "\ta * a;\n",
    "}"
   ]
  },
  {
   "cell_type": "markdown",
   "id": "a0955a73",
   "metadata": {},
   "source": [
    "````{exercise-end}\n",
    "````\n",
    "\n",
    "````{solution-start} exerciseex51\n",
    ":label: solutionex51\n",
    ":class: dropdown\n",
    "````\n",
    "Possible solution - can you make it more useful or more efficient?\n",
    "```{code-block} c++\n",
    "#include <iostream>\n",
    "int squaredValueOf(int a) {\n",
    "    return a * a;\n",
    "}\n",
    "int main() {\n",
    "    int userInt;\n",
    "    std::cout << \"Please type in an integer value ..\\n\";\n",
    "    std::cin >> userInt;\n",
    "    std::cout << \"The square of \" << userInt << \" is \" << squaredValueOf(userInt)<< \"!\";\n",
    "    return 0;\n",
    "}\n",
    "```\n",
    "````{solution-end}\n",
    "````\n",
    "\n",
    "````{exercise-start} 4B\n",
    ":label: exerciseex52\n",
    ":class: dropdown\n",
    ":nonumber:\n",
    "````\n",
    "Write a function that takes an integer value and returns one more than that value.\n",
    "Write a program that calls your function and prints both values to the display."
   ]
  },
  {
   "cell_type": "code",
   "execution_count": null,
   "id": "bae0d936",
   "metadata": {
    "tags": [
     "remove-output",
     "skip-execution"
    ]
   },
   "outputs": [],
   "source": [
    "Code goes here...."
   ]
  },
  {
   "cell_type": "markdown",
   "id": "fac662ed",
   "metadata": {},
   "source": [
    "````{exercise-end}\n",
    "````\n",
    "\n",
    "````{solution-start} exerciseex52\n",
    ":label: solutionex52\n",
    ":class: dropdown\n",
    "````\n",
    "Possible solution - can you make it more useful or more efficient?\n",
    "```{code-block} c++\n",
    "#include <iostream>\n",
    "int incrementFunction(int number) {\n",
    "\treturn ++number;\n",
    "}\n",
    "int main () {\n",
    "  int number;\n",
    "  std::cout << \"Please type in a number.. \\n\";\n",
    "  std::cin >> number;\n",
    "  std::cout << \" Your number was: \" << number << \" and one more is: \" << numberincrementFunction(number) << '\\n';\n",
    "  return 0;\n",
    "}\n",
    "```\n",
    "````{solution-end}\n",
    "````\n",
    "\n",
    "````{exercise-start} 4C\n",
    ":label: exerciseex53\n",
    ":class: dropdown\n",
    ":nonumber:\n",
    "````\n",
    "Write a function that takes two integer values and returns `true` if their sum is less than 100. Then use the function to write a program that request the integers and prints a statement telling the user if their sum is less than 100 or not."
   ]
  },
  {
   "cell_type": "code",
   "execution_count": null,
   "id": "59cf9723",
   "metadata": {
    "tags": [
     "remove-output",
     "skip-execution"
    ]
   },
   "outputs": [],
   "source": [
    "Code goes here...."
   ]
  },
  {
   "cell_type": "markdown",
   "id": "72bcaeee",
   "metadata": {},
   "source": [
    "````{exercise-end}\n",
    "````\n",
    "\n",
    "````{solution-start} exerciseex53\n",
    ":label: solutionex53\n",
    ":class: dropdown\n",
    "````\n",
    "Possible solution - can you make it more useful or more efficient?\n",
    "```{code-block} c++\n",
    "#include <iostream>\n",
    "bool sumIsLessThan100(int A, int B) {\n",
    "\treturn (A + B < 100) ?  true : false;\n",
    "}\n",
    "int main () {\n",
    "  int A , B;\n",
    "  std::cout << \"Please type in two numbers number, both less than 100.. \\n\";\n",
    "  std::cin >> A >> B;\n",
    "  std::cout << \" It is \" << sumIsLessThan100(A , B) << \" that the sum of \" << A << \" and \" << B << \" is less than 100! <<'\\n';\n",
    "  return 0;\n",
    "}\n",
    "```\n",
    "````{solution-end}\n",
    "````\n",
    "\n",
    "````{exercise-start} 4D\n",
    ":label: exerciseex54\n",
    ":class: dropdown\n",
    ":nonumber:\n",
    "````\n",
    "Write a function that takes in two integers, hours and minutes, and then converts them to a total number of seconds.\n",
    "Complete the program needed to do this, and include a loop, so that the user can repeat the conversion without restarting the program."
   ]
  },
  {
   "cell_type": "code",
   "execution_count": null,
   "id": "739cf371",
   "metadata": {
    "tags": [
     "remove-output",
     "skip-execution"
    ]
   },
   "outputs": [],
   "source": [
    "int convertToSeconds(int hours, int minutes) {\n",
    "\tfunction_body Code goes here....\n",
    "}"
   ]
  },
  {
   "cell_type": "markdown",
   "id": "0db8ae43",
   "metadata": {},
   "source": [
    "````{exercise-end}\n",
    "````\n",
    "\n",
    "````{solution-start} exerciseex54\n",
    ":label: solutionex54\n",
    ":class: dropdown\n",
    "````\n",
    "Possible solution - can you make it more useful or more efficient?\n",
    "```{code-block} c++\n",
    "#include <iostream>\n",
    "int convertToSeconds(int hours, int minutes) {\n",
    "    return 3600 * hours + 60 * minutes;\n",
    "}\n",
    "int main() {\n",
    "    int hoursInt;\n",
    "    int minutesInt;\n",
    "    for (;;) {\n",
    "        std::cout << \"Please type in a time as a number of hours followed by a number of minutes, or type x to exit.\\n\";\n",
    "        if (std::cin >> hoursInt >> minutesInt) {\n",
    "            std::cout << \"The number of seconds in \" << hoursInt << \" hours and \" << minutesInt << \" minutes is \" << convertToSeconds(hoursInt, minutesInt) << \" seconds!\";\n",
    "        }\n",
    "        else {\n",
    "            break;\n",
    "        }\n",
    "    }\n",
    "    return 0;\n",
    "}\n",
    "```\n",
    "````{solution-end}\n",
    "````\n",
    "\n",
    "\n",
    "````{exercise-start} 4E\n",
    ":label: exerciseex55\n",
    ":class: dropdown\n",
    ":nonumber:\n",
    "````\n",
    "Write functions for the following:\n",
    "a.\tCalculation of a factorial using recursion.\n",
    "b.\tEstimation of pi using the Wallis product.\n",
    "c.  Generate the Fibonacci sequence to a given number of terms."
   ]
  },
  {
   "cell_type": "code",
   "execution_count": null,
   "id": "a2b9b5db",
   "metadata": {
    "tags": [
     "remove-output",
     "skip-execution"
    ]
   },
   "outputs": [],
   "source": [
    "Code goes here...."
   ]
  },
  {
   "cell_type": "markdown",
   "id": "6897a5b3",
   "metadata": {},
   "source": [
    "````{exercise-end}\n",
    "````\n",
    "\n",
    "````{solution-start} exerciseex55\n",
    ":label: solutionex55\n",
    ":class: dropdown\n",
    "````\n",
    "Possible solutions - can you make them more useful or more efficient?\n",
    "```{code-block} c++\n",
    "\n",
    "//factorial\n",
    "int factorial(int number) {\n",
    "  if (number == 0 || number == 1) return 1; //the termination condition\n",
    "  return number * factorial(number - 1);    // recursive step\n",
    "}\n",
    "```\n",
    "\n",
    "\n",
    "// wallis product\n",
    "#include <iostream>\n",
    "#include<string>\n",
    "#include <cmath>\n",
    "#include <iomanip> \n",
    "\n",
    "double wallisProductPi(int terms) {\n",
    "    double wallisProduct = 1.0;\n",
    "    for (int i = 1; i <= terms; ++i) {\n",
    "        double currentTerm = (4.0 * i * i) / (4.0 * i * i - 1);\n",
    "        wallisProduct *= currentTerm;\n",
    "    }\n",
    "    return wallisProduct * 2;\n",
    "}\n",
    "int main() {\n",
    "    int steps;\n",
    "    std::cout << \"Please enter the number of terms in the Wallis Product estimation: \";\n",
    "    std::cin >> steps;\n",
    "    double pi = wallisProductPi(steps);\n",
    "    std::cout << std::fixed << std::setprecision(30);\n",
    "    std::cout << \"Estimated value of π using \" << steps << \" terms: \" << pi << '\\n';\n",
    "    return 0;\n",
    "}\n",
    "\n",
    "\n",
    "\n",
    "//Fibonacci\n",
    "```{code-block} c++\n",
    "#include <iostream>\n",
    "int main() {\n",
    "    int numberOfTerms, firstTerm = 0, secondTerm = 1, nextTerm = 0;\n",
    "    std::cout << \"Please enter the number of terms to print the Fibonacci sequence: \\n\";\n",
    "    std::cin >> numberOfTerms;\n",
    "    std::cout << \"The Fibonacci Sequence to \" << numberOfTerms << \" is : [\" << firstTerm << \"\\t \" << secondTerm;\n",
    "\n",
    "    for (int i = 1; i <= numberOfTerms - 2; ++i) {\n",
    "        nextTerm = firstTerm + secondTerm;\n",
    "        std::cout << '\\t' << nextTerm;\n",
    "        firstTerm = secondTerm;\n",
    "        secondTerm = nextTerm;\n",
    "    }\n",
    "    std::cout << \" ]\";\n",
    "    return 0;\n",
    "}\n",
    "```\n",
    "Extension - rewrite the Fibonacci function to use recursion.\n",
    "\n",
    "````{solution-end}\n",
    "````\n",
    "````{exercise-start} 4F\n",
    ":label: exerciseex56\n",
    ":class: dropdown\n",
    ":nonumber:\n",
    "````\n",
    "Write a program and function to calculate the sum of only the even values in a matrix."
   ]
  },
  {
   "cell_type": "code",
   "execution_count": null,
   "id": "f654ea29",
   "metadata": {
    "tags": [
     "remove-output",
     "skip-execution"
    ]
   },
   "outputs": [],
   "source": [
    "//Suggestion...\n",
    "int sumOfEvenValuesInMatrix(std::vector<std::vector<int>> matrix);"
   ]
  },
  {
   "cell_type": "markdown",
   "id": "56caa500",
   "metadata": {},
   "source": [
    "````{exercise-end}\n",
    "````\n",
    "\n",
    "````{solution-start} exerciseex56\n",
    ":label: solutionex56\n",
    ":class: dropdown\n",
    "````\n",
    "The `.size()` member function returns the number of vectors in a 2D vector and the number of elements when used on a single subscripted 2D vector.\n",
    "```{code-block} c++\n",
    "#include <iostream>\n",
    "int sumOfEvenValuesInMatrix(std::vector<std::vector<int>> matrix) {\n",
    "    int sumOfEvenValues = 0;\n",
    "    for (int i = 0; i < matrix.size(); ++i) {\n",
    "        for (int j = 0; j < matrix[i].size(); ++j) { \n",
    "            if (matrix[i][j] % 2 == 0) sumOfEvenValues += matrix[i][j];\n",
    "        }\n",
    "    }\n",
    "    return sumOfEvenValues;\n",
    "}\n",
    "int main() {\n",
    "    std::vector<std::vector<int>> matrix = {{0,0,0},{0,0,0},{0,0,0}};\n",
    "    std::cout << \"Please input 9 values for a 3x3 matrix, starting from top left value, working left to right for each row, top row down. \\n\";\n",
    "    for (int i = 0; i < 3; ++i) {\n",
    "        for (int j = 0; j < 3; ++j) {\n",
    "            std::cin >> matrix[i][j];\n",
    "        }\n",
    "    }\n",
    "    std::cout << \"\\nThe sum of the even values is \" << sumOfEvenValuesInMatrix(matrix) << \"!\";\n",
    "    return 0;\n",
    "}\n",
    "```\n",
    "````{solution-end}\n",
    "````\n",
    "\n",
    "\n",
    "\n",
    "````{exercise-start} 4G\n",
    ":label: exerciseex57\n",
    ":class: dropdown\n",
    ":nonumber:\n",
    "````\n",
    "Write a program that takes an integer, the radius of a circle, and calls a function that returns the difference in area between two squares. The larger square being the smallest square that can contain the circle, and the smaller square being the largest square that will fit inside the circle."
   ]
  },
  {
   "cell_type": "code",
   "execution_count": null,
   "id": "c277006e",
   "metadata": {
    "tags": [
     "remove-output",
     "skip-execution"
    ]
   },
   "outputs": [],
   "source": [
    "Code goes here...."
   ]
  },
  {
   "cell_type": "markdown",
   "id": "82a69dda",
   "metadata": {},
   "source": [
    "````{exercise-end}\n",
    "````\n",
    "\n",
    "````{solution-start} exerciseex57\n",
    ":label: solutionex57\n",
    ":class: dropdown\n",
    "````\n",
    "Possible solution - can you make it more useful or more efficient?\n",
    "```{code-block} c++\n",
    "#include <iostream>\n",
    "int differenceInAreaOfSquaresAroundCircle(int radius) {\n",
    "    int innerArea, outerArea, difference;\n",
    "    innerArea = 2 * radius * radius;\n",
    "    outerArea = 4 * radius * radius;\n",
    "    difference = outerArea - innerArea;\n",
    "    return difference;\n",
    "}\n",
    "int main() {\n",
    "    int radius;\n",
    "    std::cout << \"Please enter the radius of the circle: \\n\";\n",
    "    std::cin >> radius;\n",
    "    std::cout << \"The difference between the squares that just touch the circle inside and outside is \" << differenceInAreaOfSquaresAroundCircle(radius);\n",
    "    return 0;\n",
    "}\n",
    "```\n",
    "````{solution-end}\n",
    "````\n",
    "\n",
    "````{exercise-start} 4H\n",
    ":label: exerciseex58\n",
    ":class: dropdown\n",
    ":nonumber:\n",
    "````\n",
    "Write a program that uses a function call to the type of triangle given the lengths of its sides i.e. Scalene, Isosceles, Equilateral, or 'Not a triangle'."
   ]
  },
  {
   "cell_type": "code",
   "execution_count": null,
   "id": "80799052",
   "metadata": {
    "tags": [
     "remove-output",
     "skip-execution"
    ]
   },
   "outputs": [],
   "source": [
    "Code goes here...."
   ]
  },
  {
   "cell_type": "markdown",
   "id": "e4b33536",
   "metadata": {},
   "source": [
    "````{exercise-end}\n",
    "````\n",
    "\n",
    "````{solution-start} exerciseex58\n",
    ":label: solutionex58\n",
    ":class: dropdown\n",
    "````\n",
    "Possible solution - can you make it more useful or more efficient?\n",
    "```{code-block} c++\n",
    "#include <iostream>\n",
    "#include <vector>\n",
    "std::string identifyTypeOfTriangle(std::vector<int> myVector) {\n",
    "\tif (myVector.size() == 3)\n",
    "\t{\n",
    "\t\tif (myVector[0] == myVector[1] && myVector[1] == myVector[2]) return \"Equilateral\";\n",
    "\t\telse if (myVector[0] != myVector[1] && myVector[0] != myVector[2] && myVector[1] != myVector[2]) return \"Scalene\";\n",
    "\t\telse return \"Isosceles\";\n",
    "\t}\n",
    "\treturn \"Not a triangle!\";\n",
    "}\n",
    "int main() {\n",
    "\tstd::vector<int> myVector;\n",
    "\tint temp;\n",
    "    std::cout << \"Please enter the lengths of the sides of your triangle followed by a letter to end the input: \\n\";\n",
    "    while (std::cin >> temp) myVector.push_back(temp);\n",
    "    std::cout << \"You have entered lengths that correspond to: \" << identifyTypeOfTriangle(myVector);\n",
    "    return 0;\n",
    "}\n",
    "```\n",
    "````{solution-end}\n",
    "````\n",
    "\n",
    "````{exercise-start} 4I\n",
    ":label: exerciseex59\n",
    ":class: dropdown\n",
    ":nonumber:\n",
    "````\n",
    "Write a program that calls a function to calculate the arctangent of an appropriately sized number using a Taylor series expansion."
   ]
  },
  {
   "cell_type": "code",
   "execution_count": null,
   "id": "1c2e33be",
   "metadata": {
    "tags": [
     "remove-output",
     "skip-execution"
    ]
   },
   "outputs": [],
   "source": [
    "Code goes here...."
   ]
  },
  {
   "cell_type": "markdown",
   "id": "5c9e8504",
   "metadata": {},
   "source": [
    "````{exercise-end}\n",
    "````\n",
    "\n",
    "````{solution-start} exerciseex59\n",
    ":label: solutionex59\n",
    ":class: dropdown\n",
    "````\n",
    "Possible solution - can you make it more useful or more efficient?\n",
    "```{code-block} c++\n",
    "// arctan\n",
    "#include <iostream>\n",
    "#include<string>\n",
    "#include <cmath>\n",
    "double arctan(double number, int steps) {\n",
    "    double result = 0.0;\n",
    "    double term = number; \n",
    "    for (int i = 0; i < steps; ++i) {\n",
    "        if (i % 2 == 0) {\n",
    "            result += term;\n",
    "        }\n",
    "        else {\n",
    "            result -= term;\n",
    "        }\n",
    "        term *= (number * number * (2 * number + 1)) / (2 * number + 3);\n",
    "    }\n",
    "    return result;\n",
    "}\n",
    "\n",
    "int main() {\n",
    "    double number;\n",
    "    int steps;\n",
    "    std::cout << \"Please enter a number in the range [-1...1]. \";\n",
    "    std::cin >> number;\n",
    "    if (number < -1 || number > 1) {\n",
    "        std::cerr << \"Number must be in the range [-1, 1] for convergence.\\n\";\n",
    "        return 1;\n",
    "    }\n",
    "\n",
    "    std::cout << \"Enter the number of terms in the Taylor series: \";\n",
    "    std::cin >> steps;\n",
    "\n",
    "    double result = arctan(number, steps);\n",
    "    std::cout << \"Arctan (\" << number << \") ~ \" << result << \", including \" << steps << \" terms.\\n\";\n",
    "\n",
    "    return 0;\n",
    "}\n",
    "```\n",
    "````{solution-end}\n",
    "````\n",
    "\n",
    "````{exercise-start} 4J\n",
    ":label: exerciseex510\n",
    ":class: dropdown\n",
    ":nonumber:\n",
    "````\n",
    "`<regex>``std::regex` is a library in C++ that provides useful tools for working with {term}`regular expressions`. \n",
    "`std::regex` represents a regular expression.\n",
    "You can find information about `<regex>` here.\n",
    "Write a program that calls a function that uses `std::regex_match` and `std::regex` to check that an input string is a valid colour 'Hex Code'.\n",
    "Colour Hex Codes are a string composed of `#` followed by a 6-digit hexadecimal number that represent an individual colour."
   ]
  },
  {
   "cell_type": "code",
   "execution_count": null,
   "id": "43cec445",
   "metadata": {
    "tags": [
     "remove-output",
     "skip-execution"
    ]
   },
   "outputs": [],
   "source": [
    "Code goes here...."
   ]
  },
  {
   "cell_type": "markdown",
   "id": "2e56a476",
   "metadata": {},
   "source": [
    "````{exercise-end}\n",
    "````\n",
    "\n",
    "````{solution-start} exerciseex510\n",
    ":label: solutionex510\n",
    ":class: dropdown\n",
    "````\n",
    "Possible solution - can you make it more useful or more efficient?\n",
    "```{code-block} c++\n",
    "#include <iostream>\n",
    "#include <regex>\n",
    "bool checkIsAValidHexCode(std::string myString) {\n",
    "\tstd::regex myRegularExpression(\"#[0-9a-fA-F]{6}\");\n",
    "\treturn std::regex_match(myString, myRegularExpression);\n",
    "}\n",
    "int main() {\n",
    "\tstd::string myString;\n",
    "\tbool checkIsValid;\n",
    "\tfor (;;) {\n",
    "\t\tstd::cout << \"Please input a string and I will tell you if it is a valid Hex-Code: \\n \";\n",
    "\t\tstd::cin >> myString;\n",
    "\t\tif (myString.size() == 7) {\n",
    "\t\t\tif (checkIsAValidHexCode(myString)) std::cout << \"You entered a valid Hex-Code! \\n\";\n",
    "\t\t\telse std::cout << \"That was not a valid Hex-Code! \\n\";\n",
    "\t\t}\n",
    "\t\telse std::cout << \"A Hex Code for a colour must have 6 digits - please try again. \\n\";\n",
    "\t}\n",
    "    return 0;\n",
    "}\n",
    "```\n",
    "````{solution-end}\n",
    "````"
   ]
  }
 ],
 "metadata": {
  "jupytext": {
   "formats": "md:myst",
   "text_representation": {
    "extension": ".md",
    "format_name": "myst"
   }
  },
  "kernelspec": {
   "display_name": "C++ 20",
   "language": "c++",
   "name": "cpp20"
  },
  "language_info": {
   "file_extension": ".cpp",
   "mimetype": "text/markdown",
   "name": "C++",
   "version": "1.0.0a9"
  },
  "source_map": [
   11,
   23,
   28,
   60,
   63,
   94,
   97,
   129,
   134,
   177,
   180,
   254,
   258,
   301,
   304,
   339,
   342,
   381,
   384,
   445,
   448
  ]
 },
 "nbformat": 4,
 "nbformat_minor": 5
}