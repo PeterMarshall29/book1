{
 "cells": [
  {
   "cell_type": "markdown",
   "id": "0f590ebc",
   "metadata": {},
   "source": [
    "# Exercises Week 2 Part 2\n",
    "\n",
    "Using arrays and vectors.\n",
    "\n",
    "````{exercise-start} 3A\n",
    ":label: exerciseex41\n",
    ":class: dropdown\n",
    ":nonumber:\n",
    "````\n",
    "Write a program that demonstrates the use of a range for loop to print the elements of a vector.\n",
    "\n",
    "Use `i` as the loop variable, and compare printing `i` to printing `yourVector[i]` in each iteration."
   ]
  },
  {
   "cell_type": "code",
   "execution_count": null,
   "id": "485e4f79",
   "metadata": {
    "tags": [
     "remove-output",
     "skip-execution"
    ]
   },
   "outputs": [],
   "source": [
    "Code goes here...."
   ]
  },
  {
   "cell_type": "markdown",
   "id": "71a4dc06",
   "metadata": {},
   "source": [
    "````{exercise-end}\n",
    "````\n",
    "\n",
    "````{solution-start} exerciseex41\n",
    ":label: solutionex41\n",
    ":class: dropdown\n",
    "````\n",
    "Possible solution - can you make it more useful or more efficient?\n",
    "```{code-block} c++\n",
    "#include <iostream>\n",
    "int main() {\n",
    "    std::vector<int> myVector{ 5, 7, 4, 2, 8, 6, 1, 9, 0, 3 };\n",
    "    for (int i : myVector) {\n",
    "        std::cout << i << '\\t' << myVector[i] << '\\n';\n",
    "    }\n",
    "    return 0;\n",
    "}\n",
    "```\n",
    "````{solution-end}\n",
    "````\n",
    "\n",
    "````{exercise-start} 3B\n",
    ":label: exerciseex42\n",
    ":class: dropdown\n",
    ":nonumber:\n",
    "````\n",
    "Write a program that ask the user for 5 integers, initialises a 5-element array with those values and then prints out the value."
   ]
  },
  {
   "cell_type": "code",
   "execution_count": null,
   "id": "7ce32709",
   "metadata": {
    "tags": [
     "remove-output",
     "skip-execution"
    ]
   },
   "outputs": [],
   "source": [
    "Code goes here...."
   ]
  },
  {
   "cell_type": "markdown",
   "id": "a94d1f99",
   "metadata": {},
   "source": [
    "````{exercise-end}\n",
    "````\n",
    "\n",
    "````{solution-start} exerciseex42\n",
    ":label: solutionex42\n",
    ":class: dropdown\n",
    "````\n",
    "Possible solution - can you make it more useful or more efficient?\n",
    "```{code-block} c++\n",
    "#include <iostream>\n",
    "int main() {\n",
    "    int myArray[5];\n",
    "    std::cout << \"Please enter 5 integer values for your array. \\n\";\n",
    "    std::cin >> myArray[0] >> myArray[1] >> myArray[2] >> myArray[3] >> myArray[4];\n",
    "    std::cout << \"Your array is { \" << myArray[0]  << \" , \" << myArray[1] << \" , \" << myArray[2] << \" , \" << myArray[3] << \" , \" << myArray[4] << \" }.\";\n",
    "    return 0;\n",
    "}\n",
    "```\n",
    "This code works, but it would be very annoying for a larger number of elements. It is also inflexible; ideally, we would want the user to define the number of elements.\n",
    "\n",
    "The following code requires the use of for-loops - come back to it later.\n",
    "\n",
    "```{code-block} c++\n",
    "\n",
    "#include<iostream>\n",
    "int main() {\n",
    "    int myArray[50], numberOfElements;\n",
    "    std::cout << \"How many integers would you like to store in your array?\\n\";\n",
    "    std::cin >> numberOfElements;\n",
    "    std::cout << \"Please enter \" << numberOfElements << \" elements for your Array... \\n\";\n",
    "    for (int i = 0; i < numberOfElements; i++) std::cin >> myArray[i];\n",
    "    std::cout << \"The Elements of your Array are: { \"<< myArray[0];\n",
    "    for (int i = 1; i < numberOfElements; i++) std::cout << \" , \" << myArray[i];\n",
    "    std::cout << \" }.\";\n",
    "    return 0;\n",
    "}\n",
    "```\n",
    "There is no way to make the actual number of elements of an array variable - they must be initialised with a constant expression. But using a larger mostly empty array is occasionally acceptable.\n",
    "````{solution-end}\n",
    "````\n",
    "````{exercise-start} 3C\n",
    ":label: exerciseex43\n",
    ":class: dropdown\n",
    ":nonumber:\n",
    "````\n",
    "Write a program to merge two 5 element arrays into a single 10 element array and neatly print out the answer."
   ]
  },
  {
   "cell_type": "code",
   "execution_count": null,
   "id": "18326995",
   "metadata": {
    "tags": [
     "remove-output",
     "skip-execution"
    ]
   },
   "outputs": [],
   "source": [
    "Code goes here.."
   ]
  },
  {
   "cell_type": "markdown",
   "id": "2ffcdf24",
   "metadata": {},
   "source": [
    "````{exercise-end}\n",
    "````\n",
    "\n",
    "````{solution-start} exerciseex43\n",
    ":label: solutionex43\n",
    ":class: dropdown\n",
    "````\n",
    "Possible solution - can you make it more useful or more efficient?\n",
    "```{code-block} c++\n",
    "#include <iostream>\n",
    "int main() {\n",
    "int myFirstArray[5] = { 1, 2, 3, 4, 5};\n",
    "int mySecondArray[5] = { 6, 7, 8, 9, 10 };\n",
    "int myMergedArray[10];\n",
    "for (int i = 0; i < 5; i++) myMergedArray[i] = myFirstArray[i];\n",
    "for (int i = 5; i < 10; i++) myMergedArray[i] = mySecondArray[i-5];\n",
    "std::cout << \"{ \";\n",
    "for (int i = 0; i < 10; i++) {\n",
    "    std::cout << myMergedArray[i] << \" \";\n",
    "}\n",
    "std::cout << \"} \";\n",
    "return 0;\n",
    "}\n",
    "```\n",
    "````{solution-end}\n",
    "````\n",
    "\n",
    "````{exercise-start} 3D\n",
    ":label: exerciseex44\n",
    ":class: dropdown\n",
    ":nonumber:\n",
    "````\n",
    "Write a program that asks the user for the number of elements in their array, then the input of those elements.\n",
    "And then searches that array for a specific number of the users choosing and, if the number is found, reports its position in the array etc."
   ]
  },
  {
   "cell_type": "code",
   "execution_count": null,
   "id": "fd791818",
   "metadata": {
    "tags": [
     "remove-output",
     "skip-execution"
    ]
   },
   "outputs": [],
   "source": [
    "Code goes here...."
   ]
  },
  {
   "cell_type": "markdown",
   "id": "8c83e736",
   "metadata": {},
   "source": [
    "````{exercise-end}\n",
    "````\n",
    "\n",
    "````{solution-start} exerciseex44\n",
    ":label: solutionex44\n",
    ":class: dropdown\n",
    "````\n",
    "Possible solution - can you make it more useful or more efficient?\n",
    "```{code-block} c++\n",
    "#include<iostream>\n",
    "int main() {\n",
    "    int userArray[10], numberOfElements, searchNumber, searchCounter = 0;\n",
    "    std::cout << \"Please enter the number of elements in your array - maximum is 10: \\n\";\n",
    "    std::cin >> numberOfElements;\n",
    "    std::cout << \"Please enter the elements of your array: \\n\";\n",
    "    for (int i = 0; i < numberOfElements; i++)  std::cin >> userArray[i];\n",
    "    std::cout << \"Which number for you want to search your array for? \\n\";\n",
    "    std::cin >> searchNumber;\n",
    "    for (int i = 0; i < numberOfElements; i++) {\n",
    "        if (userArray[i] == searchNumber) {\n",
    "            std::cout << \"The number \" << searchNumber << \" is element \" << i << \" of your array. \\n\";\n",
    "            searchCounter += 1;\n",
    "        }\n",
    "    }\n",
    "        if (searchCounter == 0) std::cout << \"The number \" << searchNumber << \" was not in your array!\\n\";\n",
    "    return 0;\n",
    "}\n",
    "```\n",
    "````{solution-end}\n",
    "````\n",
    "\n",
    "\n",
    "\n",
    "````{exercise-start} 3E\n",
    ":label: exerciseex45\n",
    ":class: dropdown\n",
    ":nonumber:\n",
    "````\n",
    "Write a program that creates an array of integer elements that are either ones or zeros and then rearranges the array so that all the zeroes come first."
   ]
  },
  {
   "cell_type": "code",
   "execution_count": null,
   "id": "3f89db4f",
   "metadata": {
    "tags": [
     "remove-output",
     "skip-execution"
    ]
   },
   "outputs": [],
   "source": [
    "Code goes here...."
   ]
  },
  {
   "cell_type": "markdown",
   "id": "9b66a69e",
   "metadata": {},
   "source": [
    "````{exercise-end}\n",
    "````\n",
    "\n",
    "````{solution-start} exerciseex45\n",
    ":label: solutionex45\n",
    ":class: dropdown\n",
    "````\n",
    "Possible solution - can you make it more useful or more efficient?\n",
    "```{code-block} c++\n",
    "#include <iostream>\n",
    "int main() {\n",
    "    int myArray[] = { 0, 1, 1, 0 , 0, 1, 0, 1, 1, 0 }; \n",
    "    int numberOfElements = sizeof(myArray) / sizeof(myArray[0]); // Method to determine number of elements by comparing the byte size of the array to the byte size of the type.\n",
    "    std::cout << \"The array is: \";\n",
    "    for (int i = 0; i < numberOfElements; i++) std::cout << myArray[i] << \" \"; \n",
    "    int numberOfZeros = 0; \n",
    "    for (int i = 0; i < numberOfElements; i++) {\n",
    "        if (myArray[i] == 0)   ++numberOfZeros;\n",
    "    }\n",
    "    for (int i = 0; i < numberOfZeros; i++) myArray[i] = 0;\n",
    "    for (int i = numberOfZeros; i < numberOfElements; i++) myArray[i] = 1;\n",
    "    std::cout << \"\\nThe rearranged array is: \";\n",
    "    for (int i = 0; i < numberOfElements; i++) std::cout << myArray[i] << \" \";\n",
    "    return 0;\n",
    "}\n",
    "```\n",
    "````{solution-end}\n",
    "````\n",
    "\n",
    "\n",
    "````{exercise-start} 3F\n",
    ":label: exerciseex46\n",
    ":class: dropdown\n",
    ":nonumber:\n",
    "````\n",
    "Write a program that:\n",
    "* Asks the user to input a series of integer values to be inserted into a new vector\n",
    "* Stops accepting input when a letter is typed\n",
    "* Tells the user which values have been repeated an odd number of times."
   ]
  },
  {
   "cell_type": "code",
   "execution_count": null,
   "id": "e529cd17",
   "metadata": {
    "tags": [
     "remove-output",
     "skip-execution"
    ]
   },
   "outputs": [],
   "source": [
    "Code goes here...."
   ]
  },
  {
   "cell_type": "markdown",
   "id": "4bc155a1",
   "metadata": {},
   "source": [
    "````{exercise-end}\n",
    "````\n",
    "\n",
    "````{solution-start} exerciseex46\n",
    ":label: solutionex46\n",
    ":class: dropdown\n",
    "````\n",
    "Try to improve the solution... perhaps identifying even occurrences and telling the user if there are no duplicates etc.\n",
    "```{code-block} c++\n",
    "#include <iostream>\n",
    "#include <vector>\n",
    "int main() {\n",
    "    std::vector<int> myVector;\n",
    "    std::vector<int> myTracker{0};\n",
    "    bool checkAlreadyPrinted = false;\n",
    "    std::cout << \"Please enter a sequence of integer values, ensuring that some numbers are duplicated an even or an odd number of times followed by a letter then you are finished. \\n\";\n",
    "    int temp;\n",
    "    while (std::cin >> temp) {\n",
    "        myVector.push_back(temp);\n",
    "    }\n",
    "    std::cout << \"Your vector is : \";\n",
    "    for (int i = 0; i < myVector.size(); i++) std::cout << myVector[i] << \" \";\n",
    "    for (int i = 0; i < myVector.size(); i++) {\n",
    "        int countDuplicates = 0;\n",
    "        for (int j = 0; j < myVector.size(); j++) {\n",
    "            if (myVector[i] == myVector[j]) countDuplicates++;\n",
    "        }\n",
    "        if (countDuplicates % 2 != 0) {\n",
    "            checkAlreadyPrinted = false;\n",
    "            for (int k = 0; k < myTracker.size(); ++k) {\n",
    "                if (myVector[i] == myTracker[k]) checkAlreadyPrinted = true;\n",
    "            }\n",
    "            if (checkAlreadyPrinted == false) {\n",
    "                std::cout << \"\\nThe mumber \" << myVector[i] << \" occurs an odd number of times \\n\";\n",
    "                myTracker.push_back(myVector[i]);\n",
    "            }\n",
    "        }\n",
    "    }\n",
    "    return 0; \n",
    "}\n",
    "```\n",
    "````{solution-end}\n",
    "````\n",
    "\n",
    "\n",
    "````{exercise-start} 3G\n",
    ":label: exerciseex47\n",
    ":class: dropdown\n",
    ":nonumber:\n",
    "````\n",
    "Write a program that creates a string vector and then removes any strings that contains a numeric digit.\n",
    "\n",
    "Hint: Use the `std::isdigit()` function, which works on `char` type and comes from the `<cctype>` library.\n",
    "\n",
    "Hint: Look into the use of `std::erase` - could this be helpful? Think about what happens to the vector - how can you make it work."
   ]
  },
  {
   "cell_type": "code",
   "execution_count": null,
   "id": "7c3af4c4",
   "metadata": {
    "tags": [
     "remove-output",
     "skip-execution"
    ]
   },
   "outputs": [],
   "source": [
    "Code goes here...."
   ]
  },
  {
   "cell_type": "markdown",
   "id": "596c6411",
   "metadata": {},
   "source": [
    "````{exercise-end}\n",
    "````\n",
    "\n",
    "````{solution-start} exerciseex47\n",
    ":label: solutionex47\n",
    ":class: dropdown\n",
    "````\n",
    "Possible solution - can you make it more useful or more efficient?\n",
    "```{code-block} c++\n",
    "#include <iostream>   \n",
    "#include <vector> \n",
    "#include <string>\n",
    "#include <cctype>\n",
    "bool testForNumeric(std::string userNextString) {\n",
    "    for (int i = 0; i < userNextString.size(); ++i) {\n",
    "        if (std::isdigit(userNextString[i])) return true;\n",
    "        else continue; \n",
    "    }\n",
    "    return false;\n",
    "}\n",
    "int main() {\n",
    "    std::vector<std::string> userStrings;\n",
    "    std::cout << \"Please type in a series of strings, some that contain numbers, space separated and then a '0' to signal the end of your input. \\n\";\n",
    "    std::string temp;\n",
    "    while (std::cin >> temp && temp != \"0\") userStrings.push_back(temp);\n",
    "\n",
    "    for (int i = userStrings.size()-1; i >= 0; --i) {\n",
    "       if (testForNumeric(userStrings[i])) userStrings[i].erase() ;\n",
    "    }\n",
    "    std::cout << \"The non numeric strings are: \\n\";\n",
    "    for (int i = 0; i < userStrings.size(); ++i) std::cout << userStrings[i]<< '\\n';\n",
    "    return 0;\n",
    "}\n",
    "```\n",
    "````{solution-end}\n",
    "````\n",
    "\n",
    "````{exercise-start} 3H\n",
    ":label: exerciseex410\n",
    ":class: dropdown\n",
    ":nonumber:\n",
    "````\n",
    "The algorithms library provides functions for a variety of purposes.\n",
    "\n",
    "https://en.cppreference.com/w/cpp/algorithm.html\n",
    "\n",
    "Investigate the 'sort' function `std::sort()` and write a program that will sort the elements of a vector into order of increasing or decreasing size.\n",
    "\n",
    "Hint: The `begin()` and `end()` functions from `std::vector` might be useful."
   ]
  },
  {
   "cell_type": "code",
   "execution_count": null,
   "id": "9c6593db",
   "metadata": {
    "tags": [
     "remove-output",
     "skip-execution"
    ]
   },
   "outputs": [],
   "source": [
    "Code goes here...."
   ]
  },
  {
   "cell_type": "markdown",
   "id": "1f1269f1",
   "metadata": {},
   "source": [
    "````{exercise-end}\n",
    "````\n",
    "\n",
    "````{solution-start} exerciseex410\n",
    ":label: solutionex410\n",
    ":class: dropdown\n",
    "````\n",
    "Possible solution - can you make it more useful or more efficient?\n",
    "```{code-block} c++\n",
    "#include <algorithm>    \n",
    "#include <iostream>     \n",
    "#include <vector> \n",
    "int main() {\n",
    "    std::vector<int> myVector{ 5, 7, 4, 2, 8, 6, 1, 9, 0, 3 };\n",
    "    for (int i : myVector) {\n",
    "        std::cout << i << '\\t';\n",
    "    }\n",
    "    std::cout << '\\n';\n",
    "    std::sort(myVector.begin(), myVector.end());\n",
    "    for (int i : myVector) {\n",
    "        std::cout << i << '\\t';\n",
    "    }\n",
    "    std::cout << '\\n';\n",
    "    myVector = { 5, 7, 4, 2, 8, 6, 1, 9, 0, 3 };\n",
    "    std::sort(myVector.begin(), myVector.end(), std::greater<int>());\n",
    "    for (int i : myVector) {\n",
    "        std::cout << i << '\\t';\n",
    "    }\n",
    "    std::cout << '\\n';\n",
    "    myVector = { 5, 7, 4, 2, 8, 6, 1, 9, 0, 3 };\n",
    "    std::sort(myVector.begin(), myVector.end(), [](int a, int b)\n",
    "        {\n",
    "            return a > b;\n",
    "        });\n",
    "    for (int i : myVector) {\n",
    "        std::cout << i << '\\t';\n",
    "    }\n",
    "    return 0;\n",
    "}\n",
    "```\n",
    "````{solution-end}\n",
    "````"
   ]
  }
 ],
 "metadata": {
  "jupytext": {
   "formats": "md:myst",
   "text_representation": {
    "extension": ".md",
    "format_name": "myst"
   }
  },
  "kernelspec": {
   "display_name": "C++ 20",
   "language": "c++",
   "name": "cpp20"
  },
  "language_info": {
   "file_extension": ".cpp",
   "mimetype": "text/markdown",
   "name": "C++",
   "version": "1.0.0a9"
  },
  "source_map": [
   11,
   25,
   28,
   56,
   59,
   106,
   109,
   144,
   147,
   187,
   190,
   230,
   233,
   290,
   293,
   344,
   347
  ]
 },
 "nbformat": 4,
 "nbformat_minor": 5
}