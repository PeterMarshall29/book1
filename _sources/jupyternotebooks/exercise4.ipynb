{
 "cells": [
  {
   "cell_type": "markdown",
   "id": "f6429678",
   "metadata": {},
   "source": [
    "# Exercises 4\n",
    "\n",
    "Arrays and Vectors - there is little you can do with either of these without using loops.\n",
    "\n",
    "\n",
    "`````{exercise-start}\n",
    ":label: exerciseex41a\n",
    ":class: dropdown\n",
    "`````\n",
    "Write a program that asks user for a mass, and replies with the energy equivalent of that amount.\n",
    "\n",
    "`````{exercise-end}\n",
    "`````\n",
    "````{exercise-start} \n",
    ":label: exerciseex41\n",
    ":class: dropdown\n",
    "````\n",
    "Write a program that demonstrates the use of a range for loop to print the elements of a vector.\n",
    "\n",
    "Use `i` as the loop variable, and compare printing `i` to printing `yourVector[i]` in each iteration."
   ]
  },
  {
   "cell_type": "code",
   "execution_count": null,
   "id": "4b12642a",
   "metadata": {
    "tags": [
     "remove-output",
     "skip-execution"
    ]
   },
   "outputs": [],
   "source": [
    "Code goes here...."
   ]
  },
  {
   "cell_type": "markdown",
   "id": "c6346f56",
   "metadata": {},
   "source": [
    "````{exercise-end}\n",
    "````\n",
    "\n",
    "````{solution-start} exerciseex41\n",
    ":label: solutionex41\n",
    ":class: dropdown\n",
    "````\n",
    "```{code-block} c++\n",
    "#include <iostream>\n",
    "int main() {\n",
    "    std::vector<int> myVector{ 5, 7, 4, 2, 8, 6, 1, 9, 0, 3 };\n",
    "    for (int i : myVector) {\n",
    "        std::cout << i << '\\t' << myVector[i] << '\\n';\n",
    "    }\n",
    "    return 0;\n",
    "}\n",
    "```\n",
    "````{solution-end}\n",
    "````\n",
    "\n",
    "````{exercise-start} \n",
    ":label: exerciseex42\n",
    ":class: dropdown\n",
    "````\n",
    "Write a program that ask the user for 5 integers, initialises a 5 element array with those values and then prints out the value."
   ]
  },
  {
   "cell_type": "code",
   "execution_count": null,
   "id": "d49a6ad9",
   "metadata": {
    "tags": [
     "remove-output",
     "skip-execution"
    ]
   },
   "outputs": [],
   "source": [
    "Code goes here...."
   ]
  },
  {
   "cell_type": "markdown",
   "id": "646db0a9",
   "metadata": {},
   "source": [
    "````{exercise-end}\n",
    "````\n",
    "\n",
    "````{solution-start} exerciseex42\n",
    ":label: solutionex42\n",
    ":class: dropdown\n",
    "````\n",
    "Simple Solution\n",
    "```{code-block} c++\n",
    "#include <iostream>\n",
    "int main() {\n",
    "    int myArray[5];\n",
    "    std::cout << \"Please enter 5 integer values for your array. \\n\";\n",
    "    std::cin >> myArray[0] >> myArray[1] >> myArray[2] >> myArray[3] >> myArray[4];\n",
    "    std::cout << \"Your array is { \" << myArray[0]  << \" , \" << myArray[1] << \" , \" << myArray[2] << \" , \" << myArray[3] << \" , \" << myArray[4] << \" }.\";\n",
    "    return 0;\n",
    "}\n",
    "```\n",
    "This code works, but it would be very annoying for a larger number of elements. It is also inflexible, ideally we would want the user to define the number of elements.\n",
    "\n",
    "The following code requires the use of for-loops - come back to it later.\n",
    "\n",
    "```{code-block} c++\n",
    "\n",
    "#include<iostream>\n",
    "int main() {\n",
    "    int myArray[50], numberOfElements;\n",
    "    std::cout << \"How many integers would you like to store in your array?\\n\";\n",
    "    std::cin >> numberOfElements;\n",
    "    std::cout << \"Please enter \" << numberOfElements << \" elements for your Array... \\n\";\n",
    "    for (int i = 0; i < numberOfElements; i++) std::cin >> myArray[i];\n",
    "    std::cout << \"The Elements of your Array are: { \"<< myArray[0];\n",
    "    for (int i = 1; i < numberOfElements; i++) std::cout << \" , \" << myArray[i];\n",
    "    std::cout << \" }.\";\n",
    "    return 0;\n",
    "}\n",
    "```\n",
    "There is no way to make the actual number of elements of an array variable - they must be initialised with a constant expression. But using a larger mostly empty array is occasionally acceptable.\n",
    "````{solution-end}\n",
    "````\n",
    "````{exercise-start} \n",
    ":label: exerciseex43\n",
    ":class: dropdown\n",
    "````\n",
    "Write a program and function to calculate the sum of only the even values in a matrix."
   ]
  },
  {
   "cell_type": "code",
   "execution_count": null,
   "id": "07c03435",
   "metadata": {
    "tags": [
     "remove-output",
     "skip-execution"
    ]
   },
   "outputs": [],
   "source": [
    "int sumOfEvenValuesInMatrix(std::vector<std::vector<int>> matrix) {\n",
    "}"
   ]
  },
  {
   "cell_type": "markdown",
   "id": "706d1cc3",
   "metadata": {},
   "source": [
    "````{exercise-end}\n",
    "````\n",
    "\n",
    "````{solution-start} exerciseex43\n",
    ":label: solutionex43\n",
    ":class: dropdown\n",
    "````\n",
    "The `.size()` member function returns the number of vectors in a 2D vector and the number of elements when used on a single subscripted 2D vector.\n",
    "```{code-block} c++\n",
    "#include <iostream>\n",
    "int sumOfEvenValuesInMatrix(std::vector<std::vector<int>> matrix) {\n",
    "    int sumOfEvenValues = 0;\n",
    "    for (int i = 0; i < matrix.size(); ++i) {\n",
    "        for (int j = 0; j < matrix[i].size(); ++j) { \n",
    "            if (matrix[i][j] % 2 == 0) sumOfEvenValues += matrix[i][j];\n",
    "        }\n",
    "    }\n",
    "    return sumOfEvenValues;\n",
    "}\n",
    "int main() {\n",
    "    std::vector<std::vector<int>> matrix = {{0,0,0},{0,0,0},{0,0,0}};\n",
    "    std::cout << \"Please input 9 values for a 3x3 matrix, starting from top left value, working left to right for each row, top row down. \\n\";\n",
    "    for (int i = 0; i < 3; ++i) {\n",
    "        for (int j = 0; j < 3; ++j) {\n",
    "            std::cin >> matrix[i][j];\n",
    "        }\n",
    "    }\n",
    "    std::cout << \"\\nThe sum of the even values is \" << sumOfEvenValuesInMatrix(matrix) << \"!\";\n",
    "    return 0;\n",
    "}\n",
    "```\n",
    "````{solution-end}\n",
    "````\n",
    "````{exercise-start} \n",
    ":label: exerciseex44\n",
    ":class: dropdown\n",
    "````\n",
    "Write a program that creates an array of integer elements that are either ones or zeros and then rearranges the array so that all the zeroes come first."
   ]
  },
  {
   "cell_type": "code",
   "execution_count": null,
   "id": "ae173a6e",
   "metadata": {
    "tags": [
     "remove-output",
     "skip-execution"
    ]
   },
   "outputs": [],
   "source": [
    "Code goes here...."
   ]
  },
  {
   "cell_type": "markdown",
   "id": "e2579a8f",
   "metadata": {},
   "source": [
    "````{exercise-end}\n",
    "````\n",
    "\n",
    "````{solution-start} exerciseex44\n",
    ":label: solutionex44\n",
    ":class: dropdown\n",
    "````\n",
    "```{code-block} c++\n",
    "#include <iostream>\n",
    "int main() {\n",
    "    int myArray[] = { 0, 1, 1, 0 , 0, 1, 0, 1, 1, 0 }; \n",
    "    int numberOfElements = sizeof(myArray) / sizeof(myArray[0]); // Method to determine number of elements using byte size of array comparaed to byte size of type.\n",
    "    std::cout << \"The array is: \";\n",
    "    for (int i = 0; i < numberOfElements; i++) std::cout << myArray[i] << \" \"; \n",
    "    int numberOfZeros = 0; \n",
    "    for (int i = 0; i < numberOfElements; i++) {\n",
    "        if (myArray[i] == 0)   ++numberOfZeros;\n",
    "    }\n",
    "    for (int i = 0; i < numberOfZeros; i++) myArray[i] = 0;\n",
    "    for (int i = numberOfZeros; i < numberOfElements; i++) myArray[i] = 1;\n",
    "    std::cout << \"\\nThe rearranged array is: \";\n",
    "    for (int i = 0; i < numberOfElements; i++) std::cout << myArray[i] << \" \";\n",
    "    return 0;\n",
    "}\n",
    "```\n",
    "````{solution-end}\n",
    "````\n",
    "\n",
    "\n",
    "````{exercise-start} \n",
    ":label: exerciseex45\n",
    ":class: dropdown\n",
    "````\n",
    "Write a program that:\n",
    "* Asks the user to input a series of integer values to be inserted into a new vector\n",
    "* Stops accepting input when a letter is typed\n",
    "* Tells the user which values have been repeated an odd number of times."
   ]
  },
  {
   "cell_type": "code",
   "execution_count": null,
   "id": "e0a584e6",
   "metadata": {
    "tags": [
     "remove-output",
     "skip-execution"
    ]
   },
   "outputs": [],
   "source": [
    "Code goes here...."
   ]
  },
  {
   "cell_type": "markdown",
   "id": "d441c954",
   "metadata": {},
   "source": [
    "````{exercise-end}\n",
    "````\n",
    "\n",
    "````{solution-start} exerciseex45\n",
    ":label: solutionex45\n",
    ":class: dropdown\n",
    "````\n",
    "Try to improve the solution.. perhaps identifying even occurrences and telling the user if there are no duplicates etc.\n",
    "```{code-block} c++\n",
    "#include <iostream>\n",
    "#include <vector>\n",
    "int main() {\n",
    "    std::vector<int> myVector;\n",
    "    std::vector<int> myTracker{0};\n",
    "    bool checkAlreadyPrinted = false;\n",
    "    std::cout << \"Please enter a sequence of integer values, ensuring that some numbers are duplicated an even or an odd number of times followed by a letter then you are finished. \\n\";\n",
    "    int temp;\n",
    "    while (std::cin >> temp) {\n",
    "        myVector.push_back(temp);\n",
    "    }\n",
    "    std::cout << \"Your vector is : \";\n",
    "    for (int i = 0; i < myVector.size(); i++) std::cout << myVector[i] << \" \";\n",
    "    for (int i = 0; i < myVector.size(); i++) {\n",
    "        int countDuplicates = 0;\n",
    "        for (int j = 0; j < myVector.size(); j++) {\n",
    "            if (myVector[i] == myVector[j]) countDuplicates++;\n",
    "        }\n",
    "        if (countDuplicates % 2 != 0) {\n",
    "            checkAlreadyPrinted = false;\n",
    "            for (int k = 0; k < myTracker.size(); ++k) {\n",
    "                if (myVector[i] == myTracker[k]) checkAlreadyPrinted = true;\n",
    "            }\n",
    "            if (checkAlreadyPrinted == false) {\n",
    "                std::cout << \"\\nThe mumber \" << myVector[i] << \" ocurs an odd number of times \\n\";\n",
    "                myTracker.push_back(myVector[i]);\n",
    "            }\n",
    "        }\n",
    "    }\n",
    "    return 0; \n",
    "}\n",
    "```\n",
    "````{solution-end}\n",
    "````\n",
    "\n",
    "\n",
    "````{exercise-start} \n",
    ":label: exerciseex46\n",
    ":class: dropdown\n",
    "````\n",
    "Write a program that creates:\n",
    "* A global array of 100 integers.\n",
    "* A local array"
   ]
  },
  {
   "cell_type": "code",
   "execution_count": null,
   "id": "7709680c",
   "metadata": {
    "tags": [
     "remove-output",
     "skip-execution"
    ]
   },
   "outputs": [],
   "source": [
    "Code goes here...."
   ]
  },
  {
   "cell_type": "markdown",
   "id": "d5327a43",
   "metadata": {},
   "source": [
    "````{exercise-end}\n",
    "````\n",
    "\n",
    "````{solution-start} exerciseex46\n",
    ":label: solutionex46\n",
    ":class: dropdown\n",
    "````\n",
    "```{code-block} c++\n",
    "\n",
    "```\n",
    "````{solution-end}\n",
    "````\n",
    "\n",
    "\n",
    "````{exercise-start} \n",
    ":label: exerciseex47\n",
    ":class: dropdown\n",
    "````"
   ]
  },
  {
   "cell_type": "code",
   "execution_count": null,
   "id": "70285a99",
   "metadata": {
    "tags": [
     "remove-output",
     "skip-execution"
    ]
   },
   "outputs": [],
   "source": [
    "Code goes here...."
   ]
  },
  {
   "cell_type": "markdown",
   "id": "d6b152eb",
   "metadata": {},
   "source": [
    "````{exercise-end}\n",
    "````\n",
    "\n",
    "````{solution-start} exerciseex47\n",
    ":label: solutionex47\n",
    ":class: dropdown\n",
    "````\n",
    "```{code-block} c++\n",
    "\n",
    "```\n",
    "````{solution-end}\n",
    "````\n",
    "\n",
    "\n",
    "````{exercise-start} \n",
    ":label: exerciseex48\n",
    ":class: dropdown\n",
    "````"
   ]
  },
  {
   "cell_type": "code",
   "execution_count": null,
   "id": "9624c315",
   "metadata": {
    "tags": [
     "remove-output",
     "skip-execution"
    ]
   },
   "outputs": [],
   "source": [
    "Code goes here...."
   ]
  },
  {
   "cell_type": "markdown",
   "id": "29695cf1",
   "metadata": {},
   "source": [
    "````{exercise-end}\n",
    "````\n",
    "\n",
    "````{solution-start} exerciseex48\n",
    ":label: solutionex48\n",
    ":class: dropdown\n",
    "````\n",
    "```{code-block} c++\n",
    "\n",
    "```\n",
    "````{solution-end}\n",
    "````\n",
    "\n",
    "````{exercise-start} \n",
    ":label: exerciseex49\n",
    ":class: dropdown\n",
    "````"
   ]
  },
  {
   "cell_type": "code",
   "execution_count": null,
   "id": "fc14115e",
   "metadata": {
    "tags": [
     "remove-output",
     "skip-execution"
    ]
   },
   "outputs": [],
   "source": [
    "Code goes here...."
   ]
  },
  {
   "cell_type": "markdown",
   "id": "190f7edc",
   "metadata": {},
   "source": [
    "````{exercise-end}\n",
    "````\n",
    "\n",
    "````{solution-start} exerciseex49\n",
    ":label: solutionex49\n",
    ":class: dropdown\n",
    "````\n",
    "```{code-block} c++\n",
    "\n",
    "```\n",
    "````{solution-end}\n",
    "````\n",
    "\n",
    "\n",
    "````{exercise-start} \n",
    ":label: exerciseex410\n",
    ":class: dropdown\n",
    "````\n",
    "The algorithms library provides functions for a variety of purposes.\n",
    "\n",
    "https://en.cppreference.com/w/cpp/algorithm.html\n",
    "\n",
    "Investigate the 'sort' function `std::sort()` and write a program that will sort the elements of a vector into order of increasing or decreasing size.\n",
    "\n",
    "Hint: The `begin()` and `end()` functions from `std::vector` might be useful."
   ]
  },
  {
   "cell_type": "code",
   "execution_count": null,
   "id": "c92698bc",
   "metadata": {
    "tags": [
     "remove-output",
     "skip-execution"
    ]
   },
   "outputs": [],
   "source": [
    "Code goes here...."
   ]
  },
  {
   "cell_type": "markdown",
   "id": "286d8b3d",
   "metadata": {},
   "source": [
    "````{exercise-end}\n",
    "````\n",
    "\n",
    "````{solution-start} exerciseex410\n",
    ":label: solutionex410\n",
    ":class: dropdown\n",
    "````\n",
    "```{code-block} c++\n",
    "#include <algorithm>    \n",
    "#include <iostream>     \n",
    "#include <vector> \n",
    "int main() {\n",
    "    std::vector<int> myVector{ 5, 7, 4, 2, 8, 6, 1, 9, 0, 3 };\n",
    "    for (int i : myVector) {\n",
    "        std::cout << i << '\\t';\n",
    "    }\n",
    "    std::cout << '\\n';\n",
    "    std::sort(myVector.begin(), myVector.end());\n",
    "    for (int i : myVector) {\n",
    "        std::cout << i << '\\t';\n",
    "    }\n",
    "    std::cout << '\\n';\n",
    "    myVector = { 5, 7, 4, 2, 8, 6, 1, 9, 0, 3 };\n",
    "    std::sort(myVector.begin(), myVector.end(), std::greater<int>());\n",
    "    for (int i : myVector) {\n",
    "        std::cout << i << '\\t';\n",
    "    }\n",
    "    std::cout << '\\n';\n",
    "    myVector = { 5, 7, 4, 2, 8, 6, 1, 9, 0, 3 };\n",
    "    std::sort(myVector.begin(), myVector.end(), [](int a, int b)\n",
    "        {\n",
    "            return a > b;\n",
    "        });\n",
    "    for (int i : myVector) {\n",
    "        std::cout << i << '\\t';\n",
    "    }\n",
    "    return 0;\n",
    "}\n",
    "```\n",
    "````{solution-end}\n",
    "````"
   ]
  }
 ],
 "metadata": {
  "jupytext": {
   "formats": "md:myst",
   "text_representation": {
    "extension": ".md",
    "format_name": "myst"
   }
  },
  "kernelspec": {
   "display_name": "C++ 20",
   "language": "c++",
   "name": "cpp20"
  },
  "language_info": {
   "file_extension": ".cpp",
   "mimetype": "text/markdown",
   "name": "C++",
   "version": "1.0.0a9"
  },
  "source_map": [
   11,
   33,
   36,
   62,
   65,
   111,
   115,
   154,
   157,
   195,
   198,
   251,
   254,
   274,
   277,
   297,
   300,
   319,
   322,
   349,
   352
  ]
 },
 "nbformat": 4,
 "nbformat_minor": 5
}