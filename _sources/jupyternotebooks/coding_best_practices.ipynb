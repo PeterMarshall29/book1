{
 "cells": [
  {
   "cell_type": "markdown",
   "id": "33866c0f",
   "metadata": {},
   "source": [
    "# Best Practices in Coding\n",
    "\n",
    "The aim of any programmer should be to write programs with code that is easy to maintain and easy for other programmers to reuse.\n",
    "\n",
    "Badly written code is:\n",
    "* Difficult for others to understand\n",
    "* Unlikely to be reusable\n",
    "* Expensive to maintain\n",
    "\n",
    "\n",
    "```{note}\n",
    ":class: margin\n",
    "{attribution=\"Clean Code, Rob Martin\"}\n",
    "> It is not enough for code to work\n",
    "```\n",
    "\n",
    "## Expressive Code\n",
    "\n",
    "```{note}\n",
    ":class: margin\n",
    "{attribution=\"Clean Code, Rob Martin\"}\n",
    "> You should name a variable using the same care with which you name a first-born child.\n",
    "> A long descriptive name is better than a short enigmatic name.\n",
    "```\n",
    "It is tempting to create identifiers using short, even single letter, names - this is a mistake.\n",
    "Using longer identifiers which make the purpose of identified entity clear to anyone reading your code\n",
    "Modern editors will autocomplete long identifer names - you will not need to keep retying your chosen expressive name.\n",
    "\n",
    "\n",
    "\n",
    "## Commenting\n",
    "\n",
    "```{note}\n",
    ":class: margin\n",
    "{attribution=\"Clean Code, Rob Martin\"}\n",
    "> Every time you write a comment, you should grimace and feel the failure of your ability of expression.\n",
    "> A long descriptive name is better than a long descriptive comment.\n",
    "> Redundant comments are just places to collect lies and misinformation.\n",
    "```\n",
    "\n",
    "```{note}\n",
    ":class: margin\n",
    "{attribution=\"Norm Schryer\"}\n",
    "> If the comment and code disagree, both are probably wrong.\n",
    "```\n",
    "\n",
    "Article on [coding best practices.](https://en.wikipedia.org/wiki/Coding_best_practices)\n",
    "\n",
    "\n",
    "\n",
    "## Testing\n",
    "```{note}\n",
    ":class: margin\n",
    "{attribution=\"Bjarne Stroustrup - Creator of C++\"}\n",
    "> Test early and often.\n",
    "```"
   ]
  }
 ],
 "metadata": {
  "jupytext": {
   "formats": "md:myst",
   "text_representation": {
    "extension": ".md",
    "format_name": "myst"
   }
  },
  "kernelspec": {
   "display_name": "C++ 20",
   "language": "c++",
   "name": "cpp20"
  },
  "language_info": {
   "file_extension": ".cpp",
   "mimetype": "text/markdown",
   "name": "C++",
   "version": "1.0.0a9"
  },
  "source_map": [
   11
  ]
 },
 "nbformat": 4,
 "nbformat_minor": 5
}