{
 "cells": [
  {
   "cell_type": "markdown",
   "id": "aec2b419",
   "metadata": {},
   "source": [
    "# Exercises 2\n",
    "\n",
    "`````{exercise-start}\n",
    ":label: exerciseex2_1\n",
    ":class: dropdown\n",
    "`````\n",
    "Write a program that asks user for a mass, and replies with the energy equivalent of that amount.\n",
    "\n",
    "`````{exercise-end}\n",
    "`````\n",
    "````{exercise-start} \n",
    ":label: exerciseex21\n",
    ":class: dropdown\n",
    "````"
   ]
  },
  {
   "cell_type": "code",
   "execution_count": null,
   "id": "dc6c1e31",
   "metadata": {
    "tags": [
     "remove-output",
     "skip-execution"
    ]
   },
   "outputs": [],
   "source": [
    "Code goes here...."
   ]
  },
  {
   "cell_type": "markdown",
   "id": "624988b9",
   "metadata": {},
   "source": [
    "````{exercise-end}\n",
    "````\n",
    "\n",
    "````{solution-start} exerciseex21\n",
    ":label: solutionex21\n",
    ":class: dropdown\n",
    "````\n",
    "```{code-block} c++\n",
    "\n",
    "```\n",
    "````{solution-end}\n",
    "````\n",
    "\n",
    "````{exercise-start} \n",
    ":label: exerciseex22\n",
    ":class: dropdown\n",
    "````"
   ]
  },
  {
   "cell_type": "code",
   "execution_count": null,
   "id": "38a896a0",
   "metadata": {
    "tags": [
     "remove-output",
     "skip-execution"
    ]
   },
   "outputs": [],
   "source": [
    "Code goes here...."
   ]
  },
  {
   "cell_type": "markdown",
   "id": "7435ed87",
   "metadata": {},
   "source": [
    "````{exercise-end}\n",
    "````\n",
    "\n",
    "````{solution-start} exerciseex22\n",
    ":label: solutionex22\n",
    ":class: dropdown\n",
    "````\n",
    "```{code-block} c++\n",
    "\n",
    "```\n",
    "````{solution-end}\n",
    "````\n",
    "\n",
    "````{exercise-start} \n",
    ":label: exerciseex23\n",
    ":class: dropdown\n",
    "````"
   ]
  },
  {
   "cell_type": "code",
   "execution_count": null,
   "id": "be9af388",
   "metadata": {
    "tags": [
     "remove-output",
     "skip-execution"
    ]
   },
   "outputs": [],
   "source": [
    "Code goes here...."
   ]
  },
  {
   "cell_type": "markdown",
   "id": "510d6e4d",
   "metadata": {},
   "source": [
    "````{exercise-end}\n",
    "````\n",
    "\n",
    "````{solution-start} exerciseex23\n",
    ":label: solutionex23\n",
    ":class: dropdown\n",
    "````\n",
    "```{code-block} c++\n",
    "\n",
    "```\n",
    "````{solution-end}\n",
    "````\n",
    "\n",
    "\n",
    "````{exercise-start} \n",
    ":label: exerciseex24\n",
    ":class: dropdown\n",
    "````"
   ]
  },
  {
   "cell_type": "code",
   "execution_count": null,
   "id": "6fe8c896",
   "metadata": {
    "tags": [
     "remove-output",
     "skip-execution"
    ]
   },
   "outputs": [],
   "source": [
    "Code goes here...."
   ]
  },
  {
   "cell_type": "markdown",
   "id": "256f3c17",
   "metadata": {},
   "source": [
    "````{exercise-end}\n",
    "````\n",
    "\n",
    "````{solution-start} exerciseex24\n",
    ":label: solutionex24\n",
    ":class: dropdown\n",
    "````\n",
    "```{code-block} c++\n",
    "#include <iostream>\n",
    "\n",
    "```\n",
    "````{solution-end}\n",
    "````\n",
    "\n",
    "\n",
    "````{exercise-start} \n",
    ":label: exerciseex25\n",
    ":class: dropdown\n",
    "````"
   ]
  },
  {
   "cell_type": "code",
   "execution_count": null,
   "id": "87e59141",
   "metadata": {
    "tags": [
     "remove-output",
     "skip-execution"
    ]
   },
   "outputs": [],
   "source": [
    "Code goes here...."
   ]
  },
  {
   "cell_type": "markdown",
   "id": "cdc59217",
   "metadata": {},
   "source": [
    "````{exercise-end}\n",
    "````\n",
    "\n",
    "````{solution-start} exerciseex25\n",
    ":label: solutionex25\n",
    ":class: dropdown\n",
    "````\n",
    "```{code-block} c++\n",
    "\n",
    "```\n",
    "````{solution-end}\n",
    "````\n",
    "\n",
    "\n",
    "````{exercise-start} \n",
    ":label: exerciseex26\n",
    ":class: dropdown\n",
    "````"
   ]
  },
  {
   "cell_type": "code",
   "execution_count": null,
   "id": "0c869473",
   "metadata": {
    "tags": [
     "remove-output",
     "skip-execution"
    ]
   },
   "outputs": [],
   "source": [
    "Code goes here...."
   ]
  },
  {
   "cell_type": "markdown",
   "id": "04bd1e77",
   "metadata": {},
   "source": [
    "````{exercise-end}\n",
    "````\n",
    "\n",
    "````{solution-start} exerciseex26\n",
    ":label: solutionex26\n",
    ":class: dropdown\n",
    "````\n",
    "```{code-block} c++\n",
    "\n",
    "```\n",
    "````{solution-end}\n",
    "````\n",
    "\n",
    "\n",
    "````{exercise-start} \n",
    ":label: exerciseex27\n",
    ":class: dropdown\n",
    "````"
   ]
  },
  {
   "cell_type": "code",
   "execution_count": null,
   "id": "6dd4c760",
   "metadata": {
    "tags": [
     "remove-output",
     "skip-execution"
    ]
   },
   "outputs": [],
   "source": [
    "Code goes here...."
   ]
  },
  {
   "cell_type": "markdown",
   "id": "b6006a07",
   "metadata": {},
   "source": [
    "````{exercise-end}\n",
    "````\n",
    "\n",
    "````{solution-start} exerciseex27\n",
    ":label: solutionex27\n",
    ":class: dropdown\n",
    "````\n",
    "```{code-block} c++\n",
    "\n",
    "```\n",
    "````{solution-end}\n",
    "````\n",
    "\n",
    "````{exercise-start} \n",
    ":label: exerciseex28\n",
    ":class: dropdown\n",
    "````"
   ]
  },
  {
   "cell_type": "code",
   "execution_count": null,
   "id": "c834a3ee",
   "metadata": {
    "tags": [
     "remove-output",
     "skip-execution"
    ]
   },
   "outputs": [],
   "source": [
    "Code goes here...."
   ]
  },
  {
   "cell_type": "markdown",
   "id": "cbd1217d",
   "metadata": {},
   "source": [
    "````{exercise-end}\n",
    "````\n",
    "\n",
    "````{solution-start} exerciseex28\n",
    ":label: solutionex28\n",
    ":class: dropdown\n",
    "````\n",
    "```{code-block} c++\n",
    "\n",
    "```\n",
    "````{solution-end}\n",
    "````\n",
    "\n",
    "````{exercise-start} \n",
    ":label: exerciseex29\n",
    ":class: dropdown\n",
    "````"
   ]
  },
  {
   "cell_type": "code",
   "execution_count": null,
   "id": "22612aae",
   "metadata": {
    "tags": [
     "remove-output",
     "skip-execution"
    ]
   },
   "outputs": [],
   "source": [
    "Code goes here...."
   ]
  },
  {
   "cell_type": "markdown",
   "id": "4415d555",
   "metadata": {},
   "source": [
    "````{exercise-end}\n",
    "````\n",
    "\n",
    "````{solution-start} exerciseex29\n",
    ":label: solutionex29\n",
    ":class: dropdown\n",
    "````\n",
    "```{code-block} c++\n",
    "\n",
    "```\n",
    "````{solution-end}\n",
    "````\n",
    "\n",
    "````{exercise-start} \n",
    ":label: exerciseex210\n",
    ":class: dropdown\n",
    "````"
   ]
  },
  {
   "cell_type": "code",
   "execution_count": null,
   "id": "3cdb3ebc",
   "metadata": {
    "tags": [
     "remove-output",
     "skip-execution"
    ]
   },
   "outputs": [],
   "source": [
    "Code goes here...."
   ]
  },
  {
   "cell_type": "markdown",
   "id": "df2182b1",
   "metadata": {},
   "source": [
    "````{exercise-end}\n",
    "````\n",
    "\n",
    "````{solution-start} exerciseex210\n",
    ":label: solutionex210\n",
    ":class: dropdown\n",
    "````\n",
    "```{code-block} c++\n",
    "\n",
    "```\n",
    "````{solution-end}\n",
    "````"
   ]
  }
 ],
 "metadata": {
  "jupytext": {
   "formats": "md:myst",
   "text_representation": {
    "extension": ".md",
    "format_name": "myst"
   }
  },
  "kernelspec": {
   "display_name": "C++ 20",
   "language": "c++",
   "name": "cpp20"
  },
  "language_info": {
   "file_extension": ".cpp",
   "mimetype": "text/markdown",
   "name": "C++",
   "version": "1.0.0a9"
  },
  "source_map": [
   11,
   28,
   31,
   50,
   53,
   72,
   75,
   95,
   98,
   119,
   122,
   142,
   145,
   165,
   168,
   187,
   190,
   209,
   212,
   231,
   234
  ]
 },
 "nbformat": 4,
 "nbformat_minor": 5
}